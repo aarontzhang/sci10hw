{
  "nbformat": 4,
  "nbformat_minor": 0,
  "metadata": {
    "colab": {
      "provenance": []
    },
    "kernelspec": {
      "name": "python3",
      "display_name": "Python 3"
    },
    "language_info": {
      "name": "python"
    }
  },
  "cells": [
    {
      "cell_type": "markdown",
      "source": [
        "## Lab 2: Data analysis, the `turtle` package, and for loops\n",
        "\n",
        "In this session, we will have our first introduction to how to compute summary statistics and plot data using Python! Then we'll move on to how to use the `turtle` package to create some fun drawings and explore a new construct in Python called _for loops_."
      ],
      "metadata": {
        "id": "HuZEN4X_t1OK"
      }
    },
    {
      "cell_type": "markdown",
      "source": [
        "## Filter drop data analysis\n",
        "\n",
        "**Part 1** Python has several packages available for data analysis. One such package is called `statistics` and it is used for...calculating statistics!\n",
        "\n",
        "Take a look at the code cell below to see how it can be used, for example, to compute the mean (average) and standard deviation of a dataset. Replace the values in the list below with the filter drop data that you collected earlier in lab and run it to get your results. Compare them to the results that you obtained using a spreadsheet."
      ],
      "metadata": {
        "id": "fY8nPTTNqDij"
      }
    },
    {
      "cell_type": "code",
      "source": [
        "import statistics   # This imports the statistics package\n",
        "\n",
        "def myStats():\n",
        "  myData = [1.33, 1.13, 1.32, 1.16, 1.20, 1.20, 1.28, 1.28, 1.28, 1.13]\n",
        "  print(\"The mean is:\", statistics.mean(myData))\n",
        "  print(\"The standard deviation is:\", statistics.stdev(myData))\n",
        "\n",
        "\n",
        "# call the function that we defined above\n",
        "myStats()"
      ],
      "metadata": {
        "id": "p4YlHd9Vqu29",
        "colab": {
          "base_uri": "https://localhost:8080/"
        },
        "outputId": "0802bae7-0f0c-4153-85e0-1bcdd4dc2dd7"
      },
      "execution_count": null,
      "outputs": [
        {
          "output_type": "stream",
          "name": "stdout",
          "text": [
            "The mean is: 1.2309999999999999\n",
            "The standard deviation is: 0.07622335600063809\n"
          ]
        }
      ]
    },
    {
      "cell_type": "markdown",
      "source": [
        "**Part 2** Now we'll extend the `myStats` function to calculate the standard error of the mean. Because of this improvement, we'll call the function `myImprovedStats`!\n",
        "\n",
        "Recall that the standard error of the mean ($SEM$) is simply equal to the standard deviation ($s$) divided by the square root of the number of observations ($\\sqrt{n}$):\n",
        "\n",
        "$$SEM = \\frac{s}{\\sqrt{n}}$$\n",
        "\n",
        "We can determine $n$ by counting how many observations are in our dataset (i.e., how many elements are in the list `myData`). We do this using the `len` function. We can then take the square root of $n$ by using the `sqrt` function that is part of the `math` package.\n",
        "\n",
        "As above, replace the values in the list below with _your_ filter drop data."
      ],
      "metadata": {
        "id": "YxkKFyqsOGeL"
      }
    },
    {
      "cell_type": "code",
      "source": [
        "import statistics  # this imports the statistics package\n",
        "import math  # this imports the math package\n",
        "\n",
        "def myImprovedStats():\n",
        "  myData = [1.33, 1.13, 1.32, 1.16, 1.20, 1.20, 1.28, 1.28, 1.28, 1.13]\n",
        "  sampleMean = statistics.mean(myData)  # calculate mean (and put it in a box)\n",
        "  stDev = statistics.stdev(myData)  # calculate std. dev. (and put it in a box)\n",
        "  numObs = len(myData)  # determine n (and put it in a box)\n",
        "  stdErr = stDev/math.sqrt(numObs)  # calculate the SEM (and put in a box)\n",
        "  # stdErr = statistics.stdev(myData)/math.sqrt(len(myData))  # calculate the SEM in one go!\n",
        "  print(\"The mean is:\", sampleMean)\n",
        "  print(\"The standard error is:\", stdErr)\n",
        "\n",
        "\n",
        "# call the function that we defined above\n",
        "myImprovedStats()"
      ],
      "metadata": {
        "id": "Y05KzlNwOGFr",
        "colab": {
          "base_uri": "https://localhost:8080/"
        },
        "outputId": "b65263ee-b7c0-487e-cbb0-d43f2faac774"
      },
      "execution_count": null,
      "outputs": [
        {
          "output_type": "stream",
          "name": "stdout",
          "text": [
            "The mean is: 1.2309999999999999\n",
            "The standard error is: 0.02410394158638792\n"
          ]
        }
      ]
    },
    {
      "cell_type": "markdown",
      "source": [
        "**Part 3** Python also has several packages for plotting data. In SCI10, we'll use `matplotlib`, but some other well-known packages are `seaborn`, `bokeh`, and `plotly`.\n",
        "\n",
        "The code below creates a **histogram** of a dataset. Replace the values in the list below with your filter drop data and change the axes labels and title of the plot to be more informative (i.e., relevant to what you did in the experiment!)."
      ],
      "metadata": {
        "id": "feD3VpujY9z1"
      }
    },
    {
      "cell_type": "code",
      "source": [
        "import matplotlib.pyplot as plt  # this imports matplotlib and assigns it the short name plt\n",
        "\n",
        "def myHistogram():\n",
        "  myData = [1.33, 1.13, 1.32, 1.16, 1.20, 1.20, 1.28, 1.28, 1.28, 1.13]\n",
        "  plt.hist(myData)\n",
        "  plt.xlabel(\"Drop Time (Seconds)\")  # change the string here!\n",
        "  plt.ylabel(\"Count\")  # *don't* change the string here! (histograms always show counts/frequencies)\n",
        "  plt.title(\"Coffee Filter Drop Time Frequencies\")  # change the string here!\n",
        "\n",
        "\n",
        "# call the function that we defined above\n",
        "myHistogram()"
      ],
      "metadata": {
        "id": "n99QEBJFY-M0",
        "colab": {
          "base_uri": "https://localhost:8080/",
          "height": 472
        },
        "outputId": "ea3d620d-12c5-4e68-d364-b9d0e4ccdfe0"
      },
      "execution_count": null,
      "outputs": [
        {
          "output_type": "display_data",
          "data": {
            "text/plain": [
              "<Figure size 640x480 with 1 Axes>"
            ],
            "image/png": "[encoded data removed]"
          },
          "metadata": {}
        }
      ]
    },
    {
      "cell_type": "markdown",
      "source": [
        "**Part 4** There are other types of plots that can be useful for summarizing numerical data (like filter drop times!). One such plot is called a **point plot with error bars**, and we often use it visualize the mean (as a dot or other marker) and standard error (as error bars centered on that dot) of a dataset.\n",
        "\n",
        "As in the previous part, replace the values in the list below with your filter drop data and change the y-axis label and title of the plot to be more informative (i.e., relevant to what you did in the experiment!). Then run the code!"
      ],
      "metadata": {
        "id": "3CXDnRWyNuMe"
      }
    },
    {
      "cell_type": "code",
      "source": [
        "import statistics\n",
        "import math\n",
        "import matplotlib.pyplot as plt  # this imports matplotlib and assigns it the short name plt\n",
        "\n",
        "def myPointPlotErrorBars():\n",
        "  myData = [1.33, 1.13, 1.32, 1.16, 1.20, 1.20, 1.28, 1.28, 1.28, 1.13]\n",
        "  sampleMean = statistics.mean(myData)  # calculate the mean\n",
        "  stdErr = statistics.stdev(myData)/math.sqrt(len(myData))  # calculate the SEM\n",
        "\n",
        "  plt.errorbar(0, sampleMean, yerr=stdErr, fmt = 'o', color=\"SeaGreen\")\n",
        "  plt.ylabel(\"Drop Time (Seconds)\")\n",
        "  plt.title(\"Average Drop Time (Seconds) & SEM\")\n",
        "  plt.ylim(1, 1.5)  # adjust the y-axis limits of the plot\n",
        "  # the lines of code below turn off the x-axis tick marks (don't modify!)\n",
        "  ax=plt.gca()\n",
        "  ax.set_xticks([])\n",
        "\n",
        "\n",
        "myPointPlotErrorBars()"
      ],
      "metadata": {
        "id": "Pl81OSP-P7j5",
        "colab": {
          "base_uri": "https://localhost:8080/",
          "height": 437
        },
        "outputId": "0f5ebacd-35f9-439c-e6c0-bee07f740378"
      },
      "execution_count": null,
      "outputs": [
        {
          "output_type": "display_data",
          "data": {
            "text/plain": [
              "<Figure size 640x480 with 1 Axes>"
            ],
            "image/png": "[encoded data removed]"
          },
          "metadata": {}
        }
      ]
    },
    {
      "cell_type": "markdown",
      "source": [
        "## Python 🐍 meets Turtle 🐢\n",
        "\n",
        "In the previous code cells, we used several Python **packages** including `statistics` and `math`. One of the reasons that Python has become the most widely-used programming language overall is the number of different packages that are available. Each package has a specific application such as math, biology (we used the Phylogenetic tree package last week), economics, art, games, and much more.\n",
        "\n",
        "Next, we'll use Python's `turtle` package that allows us to control a virtual turtle that draws as it moves.\n",
        "\n",
        "Some packages are so popular (e.g., the `math` and `statistics` packages that we used above) that they come pre-installed. Most other packages need to be installed before they can be used. That's true for `turtle`.\n"
      ],
      "metadata": {
        "id": "_M-z7Lbx-Yhz"
      }
    },
    {
      "cell_type": "markdown",
      "source": [
        "To start, run the code cell below to install the `turtle` package.\n",
        "\n"
      ],
      "metadata": {
        "id": "fEgRcJpHLIr5"
      }
    },
    {
      "cell_type": "code",
      "source": [
        "!pip3 install ColabTurtlePlus\n"
      ],
      "metadata": {
        "id": "cWJ-uz_LL-p-",
        "collapsed": true,
        "colab": {
          "base_uri": "https://localhost:8080/"
        },
        "outputId": "a737d7af-e9c3-4aca-c603-6514ca6eeadf"
      },
      "execution_count": null,
      "outputs": [
        {
          "output_type": "stream",
          "name": "stdout",
          "text": [
            "Collecting ColabTurtlePlus\n",
            "  Downloading ColabTurtlePlus-2.0.1-py3-none-any.whl.metadata (10 kB)\n",
            "Downloading ColabTurtlePlus-2.0.1-py3-none-any.whl (31 kB)\n",
            "Installing collected packages: ColabTurtlePlus\n",
            "Successfully installed ColabTurtlePlus-2.0.1\n"
          ]
        }
      ]
    },
    {
      "cell_type": "markdown",
      "source": [
        "Whether the package was pre-installed (e.g., `math` and `statistics`) or we installed it ourselves (e.g., `turtle`), we _always_ need to tell Python that we'd like to use that package before we actually use it. That's called **import**ing the package. Import the turtle package by running the code cell below."
      ],
      "metadata": {
        "id": "Rbtadiwdn2ph"
      }
    },
    {
      "cell_type": "code",
      "source": [
        "import ColabTurtlePlus.Turtle as turtle"
      ],
      "metadata": {
        "id": "uEvgVM5Wn1mP",
        "collapsed": true,
        "colab": {
          "base_uri": "https://localhost:8080/"
        },
        "outputId": "ccea59f9-f25d-43f6-e37a-26afd73e93eb"
      },
      "execution_count": null,
      "outputs": [
        {
          "output_type": "stream",
          "name": "stdout",
          "text": [
            "Put clearscreen() as the first line in a cell (after the import command) to re-run turtle commands in the cell\n"
          ]
        }
      ]
    },
    {
      "cell_type": "markdown",
      "source": [
        "Now, the turtle is ready to use! 🐢\n",
        "\n",
        "Try it out by running 🏃 the code cell below. This code cell defines a function called `square` that draws a square whose sides have length 100 units. Notice that function tells the turtle to move forward 100 units, then turn right 90 degrees, then move forward 100 units, etc. four times. That traces a square. All of the turtle commands are preceded by `turtle` followed by a dot."
      ],
      "metadata": {
        "id": "SrvdNRo4MTVQ"
      }
    },
    {
      "cell_type": "code",
      "source": [
        "def square():\n",
        "  turtle.forward(100)\n",
        "  turtle.right(90)\n",
        "  turtle.forward(100)\n",
        "  turtle.right(90)\n",
        "  turtle.forward(100)\n",
        "  turtle.right(90)\n",
        "  turtle.forward(100)\n",
        "  turtle.right(90)\n",
        "\n",
        "turtle.clearscreen() # clears the screen before drawing\n",
        "square() # call the square function defined above"
      ],
      "metadata": {
        "id": "N6jOfQmvMsCd",
        "colab": {
          "base_uri": "https://localhost:8080/",
          "height": 621
        },
        "outputId": "51e53bad-7691-444f-c5fc-0a344395de1a"
      },
      "execution_count": null,
      "outputs": [
        {
          "output_type": "display_data",
          "data": {
            "text/plain": [
              "<IPython.core.display.HTML object>"
            ],
            "text/html": [
              "\n",
              "      <svg width=\"800\" height=\"600\">  \n",
              "        <rect width=\"100%\" height=\"100%\" style=\"fill:white;stroke:;stroke-width:1\"/>\n",
              "        \n",
              "        \n",
              "        <line x1=\"400.0\" y1=\"300.0\" x2=\"500.0\" y2=\"300.0\" stroke-linecap=\"round\" style=\"stroke:black;stroke-width:1\" /><line x1=\"500.0\" y1=\"300.0\" x2=\"500.0\" y2=\"400.0\" stroke-linecap=\"round\" style=\"stroke:black;stroke-width:1\" /><line x1=\"500.0\" y1=\"400.0\" x2=\"400.0\" y2=\"400.0\" stroke-linecap=\"round\" style=\"stroke:black;stroke-width:1\" /><line x1=\"400.0\" y1=\"400.0\" x2=\"400.0\" y2=\"300.0\" stroke-linecap=\"round\" style=\"stroke:black;stroke-width:1\" />\n",
              "        \n",
              "        \n",
              "        <g id=\"classic\" visibility=\"visible\" transform=\"rotate(180,400.0,300.0) translate(400.0, 300.0)\">\n",
              "<polygon points=\"-5,-4.5 0,-2.5 5,-4.5 0,4.5\" transform=\"skewX(0) scale(1,1)\" style=\"stroke:black;fill:black;stroke-width:1\" />\n",
              "<animateTransform id = \"one\" attributeName=\"transform\" \n",
              "                      type=\"scale\"\n",
              "                      from=\"1 1\" to=\"1 1\"\n",
              "                      begin=\"0s\" dur=\"0.01s\"\n",
              "                      repeatCount=\"1\"\n",
              "                      additive=\"sum\"\n",
              "                      fill=\"freeze\"\n",
              "                /><animateTransform attributeName=\"transform\"\n",
              "                    type=\"rotate\"\n",
              "                    from=\"0 0 0\" to =\"90 0 0\"\n",
              "                    begin=\"one.end\" dur=\"0.25s\"\n",
              "                    repeatCount=\"1\"\n",
              "                    additive=\"sum\"\n",
              "                    fill=\"freeze\"\n",
              "                /></g>\n",
              "      </svg>\n",
              "    "
            ]
          },
          "metadata": {}
        }
      ]
    },
    {
      "cell_type": "markdown",
      "source": [
        "**Part 5** Now, copy-and-paste the code cell above into a **new code cell that you make yourself below** and then modify the program so that it draws a square in which each side length is 200 rather than 100. (Remember that to create a new code cell, you'll need to hover your mouse below this cell and then click on `+Code`.) Run the code cell that you create to make sure that it works."
      ],
      "metadata": {
        "id": "AEFwf6f1NDop"
      }
    },
    {
      "cell_type": "code",
      "source": [
        "def square():\n",
        "  turtle.forward(200)\n",
        "  turtle.right(90)\n",
        "  turtle.forward(200)\n",
        "  turtle.right(90)\n",
        "  turtle.forward(200)\n",
        "  turtle.right(90)\n",
        "  turtle.forward(200)\n",
        "  turtle.right(90)\n",
        "\n",
        "turtle.clearscreen() # clears the screen before drawing\n",
        "square() # call the square function defined above"
      ],
      "metadata": {
        "colab": {
          "base_uri": "https://localhost:8080/",
          "height": 621
        },
        "id": "tNS76Ik4jtkA",
        "outputId": "4ca9ea4b-65f7-4f37-fe69-6d00800698c1"
      },
      "execution_count": null,
      "outputs": [
        {
          "output_type": "display_data",
          "data": {
            "text/plain": [
              "<IPython.core.display.HTML object>"
            ],
            "text/html": [
              "\n",
              "      <svg width=\"800\" height=\"600\">  \n",
              "        <rect width=\"100%\" height=\"100%\" style=\"fill:white;stroke:;stroke-width:1\"/>\n",
              "        \n",
              "        \n",
              "        <line x1=\"400.0\" y1=\"300.0\" x2=\"600.0\" y2=\"300.0\" stroke-linecap=\"round\" style=\"stroke:black;stroke-width:1\" /><line x1=\"600.0\" y1=\"300.0\" x2=\"600.0\" y2=\"500.0\" stroke-linecap=\"round\" style=\"stroke:black;stroke-width:1\" /><line x1=\"600.0\" y1=\"500.0\" x2=\"400.0\" y2=\"500.0\" stroke-linecap=\"round\" style=\"stroke:black;stroke-width:1\" /><line x1=\"400.0\" y1=\"500.0\" x2=\"400.0\" y2=\"300.0\" stroke-linecap=\"round\" style=\"stroke:black;stroke-width:1\" />\n",
              "        \n",
              "        \n",
              "        <g id=\"classic\" visibility=\"visible\" transform=\"rotate(180,400.0,300.0) translate(400.0, 300.0)\">\n",
              "<polygon points=\"-5,-4.5 0,-2.5 5,-4.5 0,4.5\" transform=\"skewX(0) scale(1,1)\" style=\"stroke:black;fill:black;stroke-width:1\" />\n",
              "<animateTransform id = \"one\" attributeName=\"transform\" \n",
              "                      type=\"scale\"\n",
              "                      from=\"1 1\" to=\"1 1\"\n",
              "                      begin=\"0s\" dur=\"0.01s\"\n",
              "                      repeatCount=\"1\"\n",
              "                      additive=\"sum\"\n",
              "                      fill=\"freeze\"\n",
              "                /><animateTransform attributeName=\"transform\"\n",
              "                    type=\"rotate\"\n",
              "                    from=\"0 0 0\" to =\"90 0 0\"\n",
              "                    begin=\"one.end\" dur=\"0.25s\"\n",
              "                    repeatCount=\"1\"\n",
              "                    additive=\"sum\"\n",
              "                    fill=\"freeze\"\n",
              "                /></g>\n",
              "      </svg>\n",
              "    "
            ]
          },
          "metadata": {}
        }
      ]
    },
    {
      "cell_type": "markdown",
      "source": [
        "We have one program above for drawing a square of size 100 and another one of size 200. It would be **so** nice if we had a program that could draw a square of _any_ size. Check out the code cell below - it does just that! Notice that the `square` function now starts with `def square(sideLength)`. That's telling Python, \"when you call this function to do its thing, you had better put a value into a box that we've named `sideLength`.\"\n",
        "\n",
        "Notice that on line 12, we are calling the function with the value 100. So, 100 goes into the box called `sideLength` in line 1. Then, each time that Python sees the word `sideLength`, it looks into that box and uses its value."
      ],
      "metadata": {
        "id": "_9gWfUWTO03L"
      }
    },
    {
      "cell_type": "code",
      "source": [
        "def square(sideLength):\n",
        "  turtle.forward(sideLength)\n",
        "  turtle.right(90)\n",
        "  turtle.forward(sideLength)\n",
        "  turtle.right(90)\n",
        "  turtle.forward(sideLength)\n",
        "  turtle.right(90)\n",
        "  turtle.forward(sideLength)\n",
        "  turtle.right(90)\n",
        "\n",
        "turtle.clearscreen()\n",
        "square(sideLength = 100)\n",
        "square(sideLength = 50)\n",
        "square(sideLength = 200)\n",
        "square(sideLength = 300)"
      ],
      "metadata": {
        "id": "iTBqJygcPlv7",
        "colab": {
          "base_uri": "https://localhost:8080/",
          "height": 621
        },
        "outputId": "ecec3221-74cf-4954-a9fc-b0ca0c164707"
      },
      "execution_count": null,
      "outputs": [
        {
          "output_type": "display_data",
          "data": {
            "text/plain": [
              "<IPython.core.display.HTML object>"
            ],
            "text/html": [
              "\n",
              "      <svg width=\"800\" height=\"600\">  \n",
              "        <rect width=\"100%\" height=\"100%\" style=\"fill:white;stroke:;stroke-width:1\"/>\n",
              "        \n",
              "        \n",
              "        <line x1=\"400.0\" y1=\"300.0\" x2=\"500.0\" y2=\"300.0\" stroke-linecap=\"round\" style=\"stroke:black;stroke-width:1\" /><line x1=\"500.0\" y1=\"300.0\" x2=\"500.0\" y2=\"400.0\" stroke-linecap=\"round\" style=\"stroke:black;stroke-width:1\" /><line x1=\"500.0\" y1=\"400.0\" x2=\"400.0\" y2=\"400.0\" stroke-linecap=\"round\" style=\"stroke:black;stroke-width:1\" /><line x1=\"400.0\" y1=\"400.0\" x2=\"400.0\" y2=\"300.0\" stroke-linecap=\"round\" style=\"stroke:black;stroke-width:1\" /><line x1=\"400.0\" y1=\"300.0\" x2=\"450.0\" y2=\"300.0\" stroke-linecap=\"round\" style=\"stroke:black;stroke-width:1\" /><line x1=\"450.0\" y1=\"300.0\" x2=\"450.0\" y2=\"350.0\" stroke-linecap=\"round\" style=\"stroke:black;stroke-width:1\" /><line x1=\"450.0\" y1=\"350.0\" x2=\"400.0\" y2=\"350.0\" stroke-linecap=\"round\" style=\"stroke:black;stroke-width:1\" /><line x1=\"400.0\" y1=\"350.0\" x2=\"400.0\" y2=\"300.0\" stroke-linecap=\"round\" style=\"stroke:black;stroke-width:1\" /><line x1=\"400.0\" y1=\"300.0\" x2=\"600.0\" y2=\"300.0\" stroke-linecap=\"round\" style=\"stroke:black;stroke-width:1\" /><line x1=\"600.0\" y1=\"300.0\" x2=\"600.0\" y2=\"500.0\" stroke-linecap=\"round\" style=\"stroke:black;stroke-width:1\" /><line x1=\"600.0\" y1=\"500.0\" x2=\"400.0\" y2=\"500.0\" stroke-linecap=\"round\" style=\"stroke:black;stroke-width:1\" /><line x1=\"400.0\" y1=\"500.0\" x2=\"400.0\" y2=\"300.0\" stroke-linecap=\"round\" style=\"stroke:black;stroke-width:1\" /><line x1=\"400.0\" y1=\"300.0\" x2=\"700.0\" y2=\"300.0\" stroke-linecap=\"round\" style=\"stroke:black;stroke-width:1\" /><line x1=\"700.0\" y1=\"300.0\" x2=\"700.0\" y2=\"600.0\" stroke-linecap=\"round\" style=\"stroke:black;stroke-width:1\" /><line x1=\"700.0\" y1=\"600.0\" x2=\"400.0\" y2=\"600.0\" stroke-linecap=\"round\" style=\"stroke:black;stroke-width:1\" /><line x1=\"400.0\" y1=\"600.0\" x2=\"400.0\" y2=\"300.0\" stroke-linecap=\"round\" style=\"stroke:black;stroke-width:1\" />\n",
              "        \n",
              "        \n",
              "        <g id=\"classic\" visibility=\"visible\" transform=\"rotate(180,400.0,300.0) translate(400.0, 300.0)\">\n",
              "<polygon points=\"-5,-4.5 0,-2.5 5,-4.5 0,4.5\" transform=\"skewX(0) scale(1,1)\" style=\"stroke:black;fill:black;stroke-width:1\" />\n",
              "<animateTransform id = \"one\" attributeName=\"transform\" \n",
              "                      type=\"scale\"\n",
              "                      from=\"1 1\" to=\"1 1\"\n",
              "                      begin=\"0s\" dur=\"0.01s\"\n",
              "                      repeatCount=\"1\"\n",
              "                      additive=\"sum\"\n",
              "                      fill=\"freeze\"\n",
              "                /><animateTransform attributeName=\"transform\"\n",
              "                    type=\"rotate\"\n",
              "                    from=\"0 0 0\" to =\"90 0 0\"\n",
              "                    begin=\"one.end\" dur=\"0.25s\"\n",
              "                    repeatCount=\"1\"\n",
              "                    additive=\"sum\"\n",
              "                    fill=\"freeze\"\n",
              "                /></g>\n",
              "      </svg>\n",
              "    "
            ]
          },
          "metadata": {}
        }
      ]
    },
    {
      "cell_type": "markdown",
      "source": [
        "**Part 6** Now, in the code cell above, add several additional lines after line 12 to draw additional squares of different sizes (e.g., 50, 200, etc.).\n"
      ],
      "metadata": {
        "id": "xlBXoiNzQJ5_"
      }
    },
    {
      "cell_type": "markdown",
      "source": [
        "**Part 7** In the code cell below, fill in the code to draw some shape of your choosing other than a square."
      ],
      "metadata": {
        "id": "m3DzNv9nRDUY"
      }
    },
    {
      "cell_type": "code",
      "source": [
        "def myShape():\n",
        "  # You can use turtle.forward(units), turtle.right(angle), turtle.left(angle)\n",
        "  n = 0\n",
        "  while n < 6:\n",
        "    turtle.forward(100)\n",
        "    turtle.right(60)\n",
        "    n += 1\n",
        "turtle.clearscreen()\n",
        "myShape()"
      ],
      "metadata": {
        "id": "tyWKYrYKRSYx",
        "collapsed": true,
        "colab": {
          "base_uri": "https://localhost:8080/",
          "height": 621
        },
        "outputId": "386b96cb-c444-42ab-8776-596766a21a8e"
      },
      "execution_count": null,
      "outputs": [
        {
          "output_type": "display_data",
          "data": {
            "text/plain": [
              "<IPython.core.display.HTML object>"
            ],
            "text/html": [
              "\n",
              "      <svg width=\"800\" height=\"600\">  \n",
              "        <rect width=\"100%\" height=\"100%\" style=\"fill:white;stroke:;stroke-width:1\"/>\n",
              "        \n",
              "        \n",
              "        <line x1=\"400.0\" y1=\"300.0\" x2=\"500.0\" y2=\"300.0\" stroke-linecap=\"round\" style=\"stroke:black;stroke-width:1\" /><line x1=\"500.0\" y1=\"300.0\" x2=\"550.0\" y2=\"386.603\" stroke-linecap=\"round\" style=\"stroke:black;stroke-width:1\" /><line x1=\"550.0\" y1=\"386.603\" x2=\"500.0\" y2=\"473.206\" stroke-linecap=\"round\" style=\"stroke:black;stroke-width:1\" /><line x1=\"500.0\" y1=\"473.206\" x2=\"400.0\" y2=\"473.206\" stroke-linecap=\"round\" style=\"stroke:black;stroke-width:1\" /><line x1=\"400.0\" y1=\"473.206\" x2=\"350.0\" y2=\"386.603\" stroke-linecap=\"round\" style=\"stroke:black;stroke-width:1\" /><line x1=\"350.0\" y1=\"386.603\" x2=\"400.0\" y2=\"300.0\" stroke-linecap=\"round\" style=\"stroke:black;stroke-width:1\" />\n",
              "        \n",
              "        \n",
              "        <g id=\"classic\" visibility=\"visible\" transform=\"rotate(210,400.0,300.0) translate(400.0, 300.0)\">\n",
              "<polygon points=\"-5,-4.5 0,-2.5 5,-4.5 0,4.5\" transform=\"skewX(0) scale(1,1)\" style=\"stroke:black;fill:black;stroke-width:1\" />\n",
              "<animateTransform id = \"one\" attributeName=\"transform\" \n",
              "                      type=\"scale\"\n",
              "                      from=\"1 1\" to=\"1 1\"\n",
              "                      begin=\"0s\" dur=\"0.01s\"\n",
              "                      repeatCount=\"1\"\n",
              "                      additive=\"sum\"\n",
              "                      fill=\"freeze\"\n",
              "                /><animateTransform attributeName=\"transform\"\n",
              "                    type=\"rotate\"\n",
              "                    from=\"0 0 0\" to =\"60 0 0\"\n",
              "                    begin=\"one.end\" dur=\"0.16666666666666666s\"\n",
              "                    repeatCount=\"1\"\n",
              "                    additive=\"sum\"\n",
              "                    fill=\"freeze\"\n",
              "                /></g>\n",
              "      </svg>\n",
              "    "
            ]
          },
          "metadata": {}
        }
      ]
    },
    {
      "cell_type": "markdown",
      "source": [
        "## Getting loopy!\n",
        "\n",
        "One place where computers excel is in doing something over and over again. For example, imagine that you want to \"decorate\" your name by putting your favorite emoji after every letter. For example, we'd like to turn \"Zeynep\" (_hi Prof. Zeynep!_) into \"Z🚴e🚴y🚴ne🚴p🚴\". But, actually, we'd like to do that for _any_ name that we're given. So, we'd like to have a program that takes a string as input and prints the letters in that string one by one, but with a 🚴 after each letter.\n",
        "\n",
        "We'll do this in a few steps! First, take a look at the function `decorate` in the code cell below. The first line is saying \"we're **def**ining a program whose name is `decorate`\" and that function has a box called `name` where we plan to place a string (someone's name). We could have called that box anything else, but `name` seems like a good choice here.\n",
        "\n",
        "When you run the code cell below (try it) nothing happens because we have only defined the program, we haven't actually run it yet."
      ],
      "metadata": {
        "id": "piDXPJbf2X3c"
      }
    },
    {
      "cell_type": "code",
      "source": [
        "def decorate(name):\n",
        "  for letter in name:\n",
        "    print(letter)"
      ],
      "metadata": {
        "id": "4znRenplDGGv"
      },
      "execution_count": null,
      "outputs": []
    },
    {
      "cell_type": "markdown",
      "source": [
        "Now, let's run (aka \"call\") the function with an actual string. That string will be placed in the box called `name`. Try it by running this code cell."
      ],
      "metadata": {
        "id": "tfqolrNGEC8N"
      }
    },
    {
      "cell_type": "code",
      "source": [
        "decorate(name = \"Aaron\")"
      ],
      "metadata": {
        "id": "_3u-ROuaEboh",
        "collapsed": true,
        "colab": {
          "base_uri": "https://localhost:8080/"
        },
        "outputId": "852882c2-077c-4fad-b1b0-158f4ab9def5"
      },
      "execution_count": null,
      "outputs": [
        {
          "output_type": "stream",
          "name": "stdout",
          "text": [
            "A\n",
            "a\n",
            "r\n",
            "o\n",
            "n\n"
          ]
        }
      ]
    },
    {
      "cell_type": "markdown",
      "source": [
        "**Part 8** Now, try it again, but replace \"Zeynep\" in the code cell above with your own name. Run the cell again to see what it does."
      ],
      "metadata": {
        "id": "j6AcMiETEjNS"
      }
    },
    {
      "cell_type": "markdown",
      "source": [
        "You probably surmised (fancy word!) that line 2 is iterating (aka **loop**ing) over each letter in the string that is in the box called `name`. That line is repeated over-and-over again, once for each letter in the string that is in the box called `name`. Each time, it puts the next symbol into the box called `letter` and then it does the indented stuff below. In this case there's only one line below it.\n",
        "\n",
        "Now, let's print two things! The letter and an emoji!"
      ],
      "metadata": {
        "id": "Xvvb78rtExRC"
      }
    },
    {
      "cell_type": "code",
      "source": [
        "def decorateFancy(name):\n",
        "  for letter in name:\n",
        "    print(letter)\n",
        "    print(\"🚴\")"
      ],
      "metadata": {
        "id": "D9HluYD-LOiR"
      },
      "execution_count": null,
      "outputs": []
    },
    {
      "cell_type": "markdown",
      "source": [
        "Now, let's run it."
      ],
      "metadata": {
        "id": "UIsmi7H0LZdO"
      }
    },
    {
      "cell_type": "code",
      "source": [
        "decorateFancy(name = \"Aaron\")"
      ],
      "metadata": {
        "id": "jqgq14gSLZDZ",
        "collapsed": true,
        "colab": {
          "base_uri": "https://localhost:8080/"
        },
        "outputId": "2c60a8b2-d862-4849-aad0-bf1f2b54c97d"
      },
      "execution_count": null,
      "outputs": [
        {
          "output_type": "stream",
          "name": "stdout",
          "text": [
            "A\n",
            "🚴\n",
            "a\n",
            "🚴\n",
            "r\n",
            "🚴\n",
            "o\n",
            "🚴\n",
            "n\n",
            "🚴\n"
          ]
        }
      ]
    },
    {
      "cell_type": "markdown",
      "source": [
        "**Part 9** Now, modify the code cell above to do it with your own name.\n",
        "\n",
        "If you want all of the symbols to print on the same line, you can modify the `print` statement like this (it's saying, \"end the line with nothing\" - as opposed to \"end the line by starting a new line\" - which is its natural tendency)."
      ],
      "metadata": {
        "id": "-JCnchawLebZ"
      }
    },
    {
      "cell_type": "code",
      "source": [
        "def decorateFancy(name):\n",
        "  for letter in name:\n",
        "    print(letter, end=\"\")\n",
        "    print(\"🧩\", end=\"\")\n",
        "\n",
        "decorateFancy(name = \"Zeynep\")"
      ],
      "metadata": {
        "id": "eFqkXbWIpKDF",
        "colab": {
          "base_uri": "https://localhost:8080/"
        },
        "outputId": "c6e48fe8-0f6b-4bda-e712-1172ee32995f"
      },
      "execution_count": 51,
      "outputs": [
        {
          "output_type": "stream",
          "name": "stdout",
          "text": [
            "Z🧩e🧩y🧩n🧩e🧩p🧩"
          ]
        }
      ]
    },
    {
      "cell_type": "markdown",
      "source": [
        "**Part 10** In the code cell above, change the emoji to one of your own choice.\n",
        "One way to get an emoji is to open a text cell (e.g., double-click on this text cell to open it). In the menu bar is a smiley icon. Click on that. A pull-down menu will drop down. Copy your favorite emoji from that list and paste into your code cell above in lieu of the bicycle."
      ],
      "metadata": {
        "id": "Oaqiqj8HN2PU"
      }
    },
    {
      "cell_type": "markdown",
      "source": [
        "### Looping over lists\n",
        "\n",
        "In the cells above, we looped over the symbols in a string. We can also loop over the elements of a list.\n",
        "\n",
        "**Strings** and **lists** are both kinds of sequences that contain multiple things.\n",
        "\n",
        "  \n",
        "\n",
        "<font color=\"blue\">Strings contain a sequence of symbols</font>.\n",
        "\n",
        "<font color=\"green\">Lists contain a sequence of anything.</font>\n",
        "\n",
        "Strings use quotation marks to indicate their start and end.\n",
        "\n",
        "Lists use a `[` to indicate the start and `]` to indicate the end.\n",
        "\n"
      ],
      "metadata": {
        "id": "qTAMiUAPP4QM"
      }
    },
    {
      "cell_type": "markdown",
      "source": [
        "Here's a function that loops over a list and prints \"I like\" and then the item in the list. Try it out.\n",
        "\n",
        "**Part 11** Now, replace the items in the list in line 2 with several items that you like."
      ],
      "metadata": {
        "id": "5w2UFwtUQvyX"
      }
    },
    {
      "cell_type": "code",
      "source": [
        "def like():\n",
        "  for item in [\"airpods\", \"ice cream\", 177, \"snow\"]:\n",
        "    print(\"I like\", end=\" \")\n",
        "    print(item)\n",
        "\n",
        "# Now let's call that function...\n",
        "like()"
      ],
      "metadata": {
        "id": "IHEv3KO6QZtY",
        "colab": {
          "base_uri": "https://localhost:8080/"
        },
        "outputId": "32df8db5-6d9d-4912-dff0-c9c58308a145"
      },
      "execution_count": null,
      "outputs": [
        {
          "output_type": "stream",
          "name": "stdout",
          "text": [
            "I like airpods\n",
            "I like ice cream\n",
            "I like 177\n",
            "I like snow\n"
          ]
        }
      ]
    },
    {
      "cell_type": "markdown",
      "source": [
        "Here's a fancier function that takes a list as input and puts that input in a box called `myList`. Then, it loops over the contents of that list. Try it out."
      ],
      "metadata": {
        "id": "CA6Ht_04RNlb"
      }
    },
    {
      "cell_type": "code",
      "source": [
        "def fancyLike(myList):\n",
        "  for item in myList:\n",
        "    print(\"I like\", end=\" \")\n",
        "    print(item)\n",
        "\n",
        "# Now let's call that function...\n",
        "fancyLike(myList = [177, \"ice cream\", \"donuts\"])"
      ],
      "metadata": {
        "id": "3MHZp8eiRYqj",
        "collapsed": true,
        "colab": {
          "base_uri": "https://localhost:8080/"
        },
        "outputId": "de78d481-a4a2-4412-858a-ecf5c0b939fc"
      },
      "execution_count": null,
      "outputs": [
        {
          "output_type": "stream",
          "name": "stdout",
          "text": [
            "I like 177\n",
            "I like ice cream\n",
            "I like donuts\n"
          ]
        }
      ]
    },
    {
      "cell_type": "markdown",
      "source": [
        "**Part 12** Now, change the list in line 7 in the code cell above to use a list of your own choosing."
      ],
      "metadata": {
        "id": "EL8k74NkSAMi"
      }
    },
    {
      "cell_type": "markdown",
      "source": [
        "By the way, we can do the printing all in one line. Check this out..."
      ],
      "metadata": {
        "id": "PBMao8TuplYf"
      }
    },
    {
      "cell_type": "code",
      "source": [
        "def fancyLike(myList):\n",
        "  for item in myList:\n",
        "    print(\"I like\", item) # <-- Notice what we did here!\n",
        "\n",
        "\n",
        "# Now let's call that function...\n",
        "fancyLike(myList = [42, \"poptarts\", \"donuts\"])"
      ],
      "metadata": {
        "collapsed": true,
        "id": "gAOja2qLppp4",
        "colab": {
          "base_uri": "https://localhost:8080/"
        },
        "outputId": "468a2adb-b6de-48c4-db43-c6ce21edc82a"
      },
      "execution_count": null,
      "outputs": [
        {
          "output_type": "stream",
          "name": "stdout",
          "text": [
            "I like 42\n",
            "I like poptarts\n",
            "I like donuts\n"
          ]
        }
      ]
    },
    {
      "cell_type": "markdown",
      "source": [
        "## Indentation matters!\n",
        "\n",
        "Python uses indentation in important ways. For example, run the two code cells below to see how they differ."
      ],
      "metadata": {
        "id": "mTq-mciHSHYo"
      }
    },
    {
      "cell_type": "code",
      "source": [
        "def test1(num):\n",
        "  print(\"Hello\")\n",
        "  if num == 42:\n",
        "    print(\"The best number ever\")\n",
        "    print(\"It's also the meaning of life the universe and everything\")\n",
        "  print(\"Goodbye\")\n",
        "\n",
        "test1(num = 42)\n",
        "test1(num = 37)"
      ],
      "metadata": {
        "collapsed": true,
        "id": "JhVAUn8lTvVQ",
        "colab": {
          "base_uri": "https://localhost:8080/"
        },
        "outputId": "ae371092-a69a-49ec-8153-38f54516ac05"
      },
      "execution_count": null,
      "outputs": [
        {
          "output_type": "stream",
          "name": "stdout",
          "text": [
            "Hello\n",
            "The best number ever\n",
            "It's also the meaning of life the universe and everything\n",
            "Goodbye\n",
            "Hello\n",
            "Goodbye\n"
          ]
        }
      ]
    },
    {
      "cell_type": "code",
      "source": [
        "def test2(num):\n",
        "  print(\"Hello\")\n",
        "  if num == 42:\n",
        "    print(\"The best number ever\")\n",
        "  print(\"It's also the meaning of life the universe and everything\")\n",
        "  print(\"Goodbye\")\n",
        "\n",
        "test2(num = 42)\n",
        "test2(num = 37)"
      ],
      "metadata": {
        "id": "FGbHtSmRUXEx",
        "colab": {
          "base_uri": "https://localhost:8080/"
        },
        "outputId": "8d64fb95-d1ea-40e2-bc80-54f75afd8f53"
      },
      "execution_count": null,
      "outputs": [
        {
          "output_type": "stream",
          "name": "stdout",
          "text": [
            "Hello\n",
            "The best number ever\n",
            "It's also the meaning of life the universe and everything\n",
            "Goodbye\n",
            "Hello\n",
            "It's also the meaning of life the universe and everything\n",
            "Goodbye\n"
          ]
        }
      ]
    },
    {
      "cell_type": "markdown",
      "source": [
        "The same things holds for functions that uses `if`, `elif`, `else`. Try it out. Notice that it doesn't always say `Goodbye`.\n",
        "\n",
        "**Part 13** Modify the code so that it _always_ prints `Goodbye`."
      ],
      "metadata": {
        "id": "5fyJsKxPWGDy"
      }
    },
    {
      "cell_type": "code",
      "source": [
        "def bestNumEver(num):\n",
        "  print(\"Hello\")\n",
        "  if num < 42:\n",
        "    print(\"Too small\")\n",
        "    print(\"Better luck next time\")\n",
        "  elif num == 42:\n",
        "    print(\"Amazing!\")\n",
        "    print(\"That's the best number ever!\")\n",
        "  elif num == 43:\n",
        "    print(\"So close\")\n",
        "    print(\"Better luck next time\")\n",
        "  else:\n",
        "    print(\"Too large\")\n",
        "    print(\"Truly a shame\")\n",
        "  print(\"Goodbye\")\n",
        "\n",
        "bestNumEver(num = 42)\n",
        "print() # Blank line\n",
        "bestNumEver(num = 43)\n",
        "print() # Blank line\n",
        "bestNumEver(num = 47)\n"
      ],
      "metadata": {
        "id": "SBNkweisW9MV",
        "colab": {
          "base_uri": "https://localhost:8080/"
        },
        "outputId": "53064406-81cc-429c-d487-9178f0dbac37"
      },
      "execution_count": null,
      "outputs": [
        {
          "output_type": "stream",
          "name": "stdout",
          "text": [
            "Hello\n",
            "Amazing!\n",
            "That's the best number ever!\n",
            "Goodbye\n",
            "\n",
            "Hello\n",
            "So close\n",
            "Better luck next time\n",
            "Goodbye\n",
            "\n",
            "Hello\n",
            "Too large\n",
            "Truly a shame\n",
            "Goodbye\n"
          ]
        }
      ]
    },
    {
      "cell_type": "markdown",
      "source": [
        "## Indentation matters in for loops too\n",
        "\n",
        "Indentation matters in for loops too! First read, then run, these three examples..."
      ],
      "metadata": {
        "id": "ut-ZZxd2Ygkd"
      }
    },
    {
      "cell_type": "code",
      "source": [
        "def test3(name):\n",
        "  print(\"Hello\")\n",
        "  for letter in name:\n",
        "    print(letter)\n",
        "  print(\"*\")\n",
        "  print(\"Goodbye\")\n",
        "\n",
        "test3(name = \"Jason\")"
      ],
      "metadata": {
        "id": "Y8q3jWriYqeB",
        "colab": {
          "base_uri": "https://localhost:8080/"
        },
        "outputId": "81992d00-ee9c-4568-8034-0ea981913de6"
      },
      "execution_count": null,
      "outputs": [
        {
          "output_type": "stream",
          "name": "stdout",
          "text": [
            "Hello\n",
            "J\n",
            "a\n",
            "s\n",
            "o\n",
            "n\n",
            "*\n",
            "Goodbye\n"
          ]
        }
      ]
    },
    {
      "cell_type": "code",
      "source": [
        "def test4(name):\n",
        "  print(\"Hello\")\n",
        "  for letter in name:\n",
        "    print(letter)\n",
        "    print(\"*\")\n",
        "    print(\"Goodbye\")\n",
        "\n",
        "test4(name = \"Jason\")"
      ],
      "metadata": {
        "id": "kxYvjYkhY8WU",
        "colab": {
          "base_uri": "https://localhost:8080/"
        },
        "outputId": "3149038b-5a79-4ac9-ecc1-abeabec51572"
      },
      "execution_count": null,
      "outputs": [
        {
          "output_type": "stream",
          "name": "stdout",
          "text": [
            "Hello\n",
            "J\n",
            "*\n",
            "Goodbye\n",
            "a\n",
            "*\n",
            "Goodbye\n",
            "s\n",
            "*\n",
            "Goodbye\n",
            "o\n",
            "*\n",
            "Goodbye\n",
            "n\n",
            "*\n",
            "Goodbye\n"
          ]
        }
      ]
    },
    {
      "cell_type": "code",
      "source": [
        "def test5(name):\n",
        "  print(\"Hello\")\n",
        "  for letter in name:\n",
        "    print(letter)\n",
        "    print(\"*\")\n",
        "  print(\"Goodbye\")\n",
        "\n",
        "test5(name = \"Jason\")"
      ],
      "metadata": {
        "id": "yxoDXY2DZPwR",
        "colab": {
          "base_uri": "https://localhost:8080/"
        },
        "outputId": "67dbc84e-60f9-4f2d-f1e7-c8a285cec11c"
      },
      "execution_count": null,
      "outputs": [
        {
          "output_type": "stream",
          "name": "stdout",
          "text": [
            "Hello\n",
            "J\n",
            "*\n",
            "a\n",
            "*\n",
            "s\n",
            "*\n",
            "o\n",
            "*\n",
            "n\n",
            "*\n",
            "Goodbye\n"
          ]
        }
      ]
    },
    {
      "cell_type": "markdown",
      "source": [
        "Take a look at this program that Prof. Ran wrote. It's not working as intended... (That often happens, even to experienced programmers! Learning to fix - aka \"debug\" - our programs is a skill that we'll acquire with practice.)"
      ],
      "metadata": {
        "id": "p3AkbkPFZ9UY"
      }
    },
    {
      "cell_type": "code",
      "source": [
        "def bestest(myList):\n",
        "  for thing in myList:\n",
        "    print(\"I like\", thing)\n",
        "  print(\"It's amazing\")\n",
        "  print(\"It's the best thing ever\")\n",
        "  print() # New line\n",
        "\n",
        "bestest(myList = [42, \"mountain bikes\", \"donuts\", [1, 2, 3]])"
      ],
      "metadata": {
        "id": "0j55waevaLne",
        "collapsed": true,
        "colab": {
          "base_uri": "https://localhost:8080/"
        },
        "outputId": "06a3c988-41fa-4fa7-9f67-a564c178a45f"
      },
      "execution_count": null,
      "outputs": [
        {
          "output_type": "stream",
          "name": "stdout",
          "text": [
            "I like 42\n",
            "I like mountain bikes\n",
            "I like donuts\n",
            "I like [1, 2, 3]\n",
            "It's amazing\n",
            "It's the best thing ever\n",
            "\n"
          ]
        }
      ]
    },
    {
      "cell_type": "markdown",
      "source": [
        "What this _should_ have printed is:\n",
        "<pre>\n",
        "I like 42\n",
        "It's amazing\n",
        "It's the best thing ever\n",
        "\n",
        "I like mountain bikes\n",
        "It's amazing\n",
        "It's the best thing ever\n",
        "\n",
        "I like donuts\n",
        "It's amazing\n",
        "It's the best thing ever\n",
        "\n",
        "I like [1, 2, 3]\n",
        "It's amazing\n",
        "It's the best thing ever\n",
        "</pre>"
      ],
      "metadata": {
        "id": "llGBgK3tazlA"
      }
    },
    {
      "cell_type": "markdown",
      "source": [
        "**Part 14** Make a **new** code cell below. Copy-and-paste the code from the cell above into that cell and then modify the code so that it works as intended."
      ],
      "metadata": {
        "id": "GegotAJ-bEoZ"
      }
    },
    {
      "cell_type": "code",
      "source": [
        "def bestest(myList):\n",
        "  for thing in myList:\n",
        "    print(\"I like\", thing)\n",
        "    print(\"It's amazing\")\n",
        "    print(\"It's the best thing ever\")\n",
        "    print() # New line\n",
        "\n",
        "bestest(myList = [42, \"mountain bikes\", \"donuts\", [1, 2, 3]])"
      ],
      "metadata": {
        "colab": {
          "base_uri": "https://localhost:8080/"
        },
        "id": "BhkXTYozmsV2",
        "outputId": "08c6e683-498a-4ba7-d33e-672d8b58cda8"
      },
      "execution_count": null,
      "outputs": [
        {
          "output_type": "stream",
          "name": "stdout",
          "text": [
            "I like 42\n",
            "It's amazing\n",
            "It's the best thing ever\n",
            "\n",
            "I like mountain bikes\n",
            "It's amazing\n",
            "It's the best thing ever\n",
            "\n",
            "I like donuts\n",
            "It's amazing\n",
            "It's the best thing ever\n",
            "\n",
            "I like [1, 2, 3]\n",
            "It's amazing\n",
            "It's the best thing ever\n",
            "\n"
          ]
        }
      ]
    },
    {
      "cell_type": "markdown",
      "source": [
        "## All done! Time to submit this lab notebook.\n",
        "\n",
        "Congratulations! You're done. Here's how to submit this notebook on Canvas.\n",
        "\n",
        "   * Go to the File menu at the upper-left of this notebook and choose \"Download\". From the pull-down menu that appears there, choose \"Download .ipynb\" That extension stands for interactive Python notebook.\n",
        "   * Now, you'll find that notebook in your Downloads folder.\n",
        "   * Login to your Canvas account and find the Assignments menu in the left margin of the page. Click on that and you'll see Assignments and Labs. <font color=\"Red\">Choose Labs and click on Lab 2. From there, you can upload your Lab2.ipynb notebook.</font>"
      ],
      "metadata": {
        "id": "SLRJKv4XBXQR"
      }
    }
  ]
}