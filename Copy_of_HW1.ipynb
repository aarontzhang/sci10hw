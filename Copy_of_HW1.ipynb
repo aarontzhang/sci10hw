{
  "nbformat": 4,
  "nbformat_minor": 0,
  "metadata": {
    "colab": {
      "provenance": []
    },
    "kernelspec": {
      "name": "python3",
      "display_name": "Python 3"
    },
    "language_info": {
      "name": "python"
    }
  },
  "cells": [
    {
      "cell_type": "markdown",
      "source": [
        "## SCI 10L, Codes of Life, Homework 1\n"
      ],
      "metadata": {
        "id": "wPug2f_q1rgz"
      }
    },
    {
      "cell_type": "markdown",
      "source": [
        "![Alien.png](data:image/png;base64,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)"
      ],
      "metadata": {
        "id": "wcGYKQo7hl-3"
      }
    },
    {
      "cell_type": "markdown",
      "source": [
        "### More Fun with Python!\n",
        "\n",
        "The learning objectives of this first homework are largely to _play_ with Python. You'll see a lot of Python things here that we'll cover in much more detail in the weeks to come.\n",
        "\n",
        "Your goal is here is to read code and interact with it to get a first sense of what Python programs look like. You are not expected to become proficient with all of these ideas this week - you'll develop proficiency with these concepts over the next several weeks of the course."
      ],
      "metadata": {
        "id": "zXmxQuIB1ys1"
      }
    },
    {
      "cell_type": "markdown",
      "source": [
        "### Reading 🐶\n",
        "\n",
        "The reading this week is Chapter 1 of the [SCI 10 Computing Companion](https://colab.research.google.com/drive/1c3sITv23jNgKkFSi8trRbgjvRJJRhB6q?usp=drive_link)."
      ],
      "metadata": {
        "id": "3EEQmr9ohFmF"
      }
    },
    {
      "cell_type": "markdown",
      "source": [
        "### Set up your Colab environment!\n",
        "\n",
        "If you didn't do this yet in lab, please pause and do the following...\n",
        "\n",
        "  * Go to the `Tools` menu in the menu bar\n",
        "  * Select `Settings`\n",
        "  * In the menu that pops up, scroll down and click on the `Editor` option on the left side of the menu. On the buttons at the bottom, make sure that the two check boxes: `Show line numbers` and `Show indentation guides` are ON.\n",
        "  * Next in `Tools`, choose `Settings` again, and choose `AI Assistance`. On the buttons at the bottom make sure that the first two buttons `Show AI-powered inline completions` and `Consented to use generative AI features` are OFF and that `Hide Generative AI features` is ON."
      ],
      "metadata": {
        "id": "6JNpv0aM3CNs"
      }
    },
    {
      "cell_type": "markdown",
      "source": [
        "**Part 0**\n",
        "\n",
        "This is a thinly-veiled ruse to get you to take a look at the SCI 10 Computing Companion! You'll see that the chapters are short and provide a self-contained discussion of the computing topics that we cover in class and lab.\n",
        "\n",
        "How many emojis are there in Chapter 1? (Some emojis appear multiple times - keep those in your total count.)"
      ],
      "metadata": {
        "id": "L5uWmJEsf0BX"
      }
    },
    {
      "cell_type": "markdown",
      "source": [
        " <font color=\"darkorchid\">**Your answer here to the question: How many emojis in total are found in Chapter 1?**</font>"
      ],
      "metadata": {
        "id": "tSsLs343gZmG"
      }
    },
    {
      "cell_type": "markdown",
      "source": [
        "### Moving on...\n",
        "\n",
        "Take a look at the function that we've defined in the code cell below.\n",
        "\n",
        "We've named it `repeatIt`. Notice that the line...\n",
        "<pre>\n",
        "def repeatIt(word):\n",
        "</pre>\n",
        "... is saying:\n",
        "  * We're `def`ining a function;\n",
        "  * It's name is `repeatIt`;\n",
        "  * and this function takes an input that we've named `word`.\n",
        "\n",
        "That input, which we've named `word`, is like a box! 🗃\n",
        "When we use this function, we will put something in that box. Our plan is to put a string in that box.\n",
        "\n",
        "**Note how we call this function in lines 6 and 7.**\n",
        "   * In line 6, we are calling the `repeatIt` function and telling it that the value of the `word` is the string `\"spam\"`. That is, `\"spam\"` is going into the `word` box.\n",
        "   * In line 7, we are calling the `repeatIt` function and telling it that the value of the `word` input is the string `\"Codes of Life!\"`. That is, `\"Codes of Life\"` is going into the `word` box.\n",
        "\n",
        "One interesting thing here is that the function `repeatIt` is multiplying a string by the number 3! How does that make any sense at all? Strings aren't numbers, after all. Run it and you'll see how Python interprets multiplying a string by a number. *Very interesting!*"
      ],
      "metadata": {
        "id": "M3-9esFQ3efS"
      }
    },
    {
      "cell_type": "code",
      "source": [
        "# Here we're defining the function.\n",
        "def repeatIt(word):   # <-- NOTICE that this function expects us to give it something in the box that we've called word\n",
        "  print(\"Here's your word three times: \", word * 3)\n",
        "\n",
        "# Here we're using that function.\n",
        "repeatIt(word = \"spam\") # Here, we're calling the function and giving it the string \"spam\"\n",
        "repeatIt(word = \"Codes Of Life!\") # Here, we're calling the function again and giving it a different string"
      ],
      "metadata": {
        "id": "-RD998Vb2b8k",
        "colab": {
          "base_uri": "https://localhost:8080/"
        },
        "outputId": "277008ba-ece4-49ea-d753-a3d0c4c545f1"
      },
      "execution_count": 1,
      "outputs": [
        {
          "output_type": "stream",
          "name": "stdout",
          "text": [
            "Here's your word three times:  spamspamspam\n",
            "Here's your word three times:  Codes Of Life!Codes Of Life!Codes Of Life!\n"
          ]
        }
      ]
    },
    {
      "cell_type": "markdown",
      "source": [
        "How does the `repeatIt` function know that the input (which we called `word`) is a string and not a number or something else? _It doesn't!_ We _intended_ for it to be string but Python doesn't know that. Run the code cell below to see what happens when we use a number as input. Take a moment to think about why this happened."
      ],
      "metadata": {
        "id": "5YP4uhil5A6U"
      }
    },
    {
      "cell_type": "code",
      "source": [
        "# Here we're defining the function.\n",
        "def repeatIt(word):\n",
        "  print(\"Here's your word three times: \", word * 3)\n",
        "\n",
        "# Here we're using that function.\n",
        "repeatIt(word = 14)"
      ],
      "metadata": {
        "id": "Ckm8OKZ75fl8",
        "colab": {
          "base_uri": "https://localhost:8080/"
        },
        "outputId": "0caf70e2-9e00-4861-d7af-e93247f0fe7b"
      },
      "execution_count": 3,
      "outputs": [
        {
          "output_type": "stream",
          "name": "stdout",
          "text": [
            "Here's your word three times:  42\n"
          ]
        }
      ]
    },
    {
      "cell_type": "markdown",
      "source": [
        "**Part 1**\n",
        "\n",
        "The name of the function -`repeatIt` in this example - isn't special. Neither is the name of the input box which we've called `word`. Copy and paste the code above into the code cell below. Change the name of the input from `word` to something else. (You'll also need to change it in another place in this code!) Run your code in the code cell below to make sure it works."
      ],
      "metadata": {
        "id": "rke_51AV35Bl"
      }
    },
    {
      "cell_type": "code",
      "source": [
        "# Here we're defining the function.\n",
        "def repeatIt(number):\n",
        "  print(\"Here's your word three times: \", number * 3)\n",
        "\n",
        "# Here we're using that function.\n",
        "repeatIt(number = 14)"
      ],
      "metadata": {
        "id": "TkEWW8sy4XG5",
        "colab": {
          "base_uri": "https://localhost:8080/"
        },
        "outputId": "c2002e1f-32ca-4650-af59-8779e21f33dd"
      },
      "execution_count": 4,
      "outputs": [
        {
          "output_type": "stream",
          "name": "stdout",
          "text": [
            "Here's your word three times:  42\n"
          ]
        }
      ]
    },
    {
      "cell_type": "markdown",
      "source": [
        "**Part 2**\n",
        "\n",
        "In Part 1, we provided a pre-made code cell for you. Now, make your own code cell below. Recall that to do that, you should hover your mouse below this cell and then click on `+Code` to create a new code cell.\n",
        "\n",
        "Then, in that code cell, copy-and-paste your code from Part 1 and modify it so that it prints _four_ copies of the input string. For example, if the input string is `hi` it should print `hihihihi`. If the input string is `spam` it should print `spamspamspamspam`. (Don't forget to modify the text of your print statement, too!) Test your code to make sure it works!"
      ],
      "metadata": {
        "id": "2U7KGZuP2FdT"
      }
    },
    {
      "cell_type": "code",
      "source": [
        "# Here we're defining the function.\n",
        "def repeatIt(word):\n",
        "  print(\"Here's your word three times: \", word * 4)\n",
        "\n",
        "# Here we're using that function.\n",
        "repeatIt(word = \"Aaron\")"
      ],
      "metadata": {
        "colab": {
          "base_uri": "https://localhost:8080/"
        },
        "id": "zFJmE8PU22U2",
        "outputId": "25167224-37fa-4e4d-c02d-baf0e4508a66"
      },
      "execution_count": 6,
      "outputs": [
        {
          "output_type": "stream",
          "name": "stdout",
          "text": [
            "Here's your word three times:  AaronAaronAaronAaron\n"
          ]
        }
      ]
    },
    {
      "cell_type": "markdown",
      "source": [
        "Now, we'd like to have a function that prints a string _any number of times_. Here's such a function. Run the code cell below and you'll see that the first three uses of the function print things but the last causes Python to print a rather strange error message."
      ],
      "metadata": {
        "id": "DW99mFIt6Rg0"
      }
    },
    {
      "cell_type": "code",
      "source": [
        "def repeatManyTimes(word, times):\n",
        "  print(word * times)\n",
        "\n",
        "repeatManyTimes(word = \"hi\", times = 2)\n",
        "repeatManyTimes(word = \"spam\", times = 3)\n",
        "repeatManyTimes(word = 5, times = 4)\n",
        "repeatManyTimes(word = \"hi\", times = \"there\")"
      ],
      "metadata": {
        "id": "oBCvcr4E6pJ4",
        "colab": {
          "base_uri": "https://localhost:8080/",
          "height": 358
        },
        "outputId": "dee32a37-56e4-4fda-b24c-61a771096c3e"
      },
      "execution_count": 7,
      "outputs": [
        {
          "output_type": "stream",
          "name": "stdout",
          "text": [
            "hihi\n",
            "spamspamspam\n",
            "20\n"
          ]
        },
        {
          "output_type": "error",
          "ename": "TypeError",
          "evalue": "can't multiply sequence by non-int of type 'str'",
          "traceback": [
            "\u001b[0;31m---------------------------------------------------------------------------\u001b[0m",
            "\u001b[0;31mTypeError\u001b[0m                                 Traceback (most recent call last)",
            "\u001b[0;32m/tmp/ipython-input-1399760494.py\u001b[0m in \u001b[0;36m<cell line: 0>\u001b[0;34m()\u001b[0m\n\u001b[1;32m      5\u001b[0m \u001b[0mrepeatManyTimes\u001b[0m\u001b[0;34m(\u001b[0m\u001b[0mword\u001b[0m \u001b[0;34m=\u001b[0m \u001b[0;34m\"spam\"\u001b[0m\u001b[0;34m,\u001b[0m \u001b[0mtimes\u001b[0m \u001b[0;34m=\u001b[0m \u001b[0;36m3\u001b[0m\u001b[0;34m)\u001b[0m\u001b[0;34m\u001b[0m\u001b[0;34m\u001b[0m\u001b[0m\n\u001b[1;32m      6\u001b[0m \u001b[0mrepeatManyTimes\u001b[0m\u001b[0;34m(\u001b[0m\u001b[0mword\u001b[0m \u001b[0;34m=\u001b[0m \u001b[0;36m5\u001b[0m\u001b[0;34m,\u001b[0m \u001b[0mtimes\u001b[0m \u001b[0;34m=\u001b[0m \u001b[0;36m4\u001b[0m\u001b[0;34m)\u001b[0m\u001b[0;34m\u001b[0m\u001b[0;34m\u001b[0m\u001b[0m\n\u001b[0;32m----> 7\u001b[0;31m \u001b[0mrepeatManyTimes\u001b[0m\u001b[0;34m(\u001b[0m\u001b[0mword\u001b[0m \u001b[0;34m=\u001b[0m \u001b[0;34m\"hi\"\u001b[0m\u001b[0;34m,\u001b[0m \u001b[0mtimes\u001b[0m \u001b[0;34m=\u001b[0m \u001b[0;34m\"there\"\u001b[0m\u001b[0;34m)\u001b[0m\u001b[0;34m\u001b[0m\u001b[0;34m\u001b[0m\u001b[0m\n\u001b[0m",
            "\u001b[0;32m/tmp/ipython-input-1399760494.py\u001b[0m in \u001b[0;36mrepeatManyTimes\u001b[0;34m(word, times)\u001b[0m\n\u001b[1;32m      1\u001b[0m \u001b[0;32mdef\u001b[0m \u001b[0mrepeatManyTimes\u001b[0m\u001b[0;34m(\u001b[0m\u001b[0mword\u001b[0m\u001b[0;34m,\u001b[0m \u001b[0mtimes\u001b[0m\u001b[0;34m)\u001b[0m\u001b[0;34m:\u001b[0m\u001b[0;34m\u001b[0m\u001b[0;34m\u001b[0m\u001b[0m\n\u001b[0;32m----> 2\u001b[0;31m   \u001b[0mprint\u001b[0m\u001b[0;34m(\u001b[0m\u001b[0mword\u001b[0m \u001b[0;34m*\u001b[0m \u001b[0mtimes\u001b[0m\u001b[0;34m)\u001b[0m\u001b[0;34m\u001b[0m\u001b[0;34m\u001b[0m\u001b[0m\n\u001b[0m\u001b[1;32m      3\u001b[0m \u001b[0;34m\u001b[0m\u001b[0m\n\u001b[1;32m      4\u001b[0m \u001b[0mrepeatManyTimes\u001b[0m\u001b[0;34m(\u001b[0m\u001b[0mword\u001b[0m \u001b[0;34m=\u001b[0m \u001b[0;34m\"hi\"\u001b[0m\u001b[0;34m,\u001b[0m \u001b[0mtimes\u001b[0m \u001b[0;34m=\u001b[0m \u001b[0;36m2\u001b[0m\u001b[0;34m)\u001b[0m\u001b[0;34m\u001b[0m\u001b[0;34m\u001b[0m\u001b[0m\n\u001b[1;32m      5\u001b[0m \u001b[0mrepeatManyTimes\u001b[0m\u001b[0;34m(\u001b[0m\u001b[0mword\u001b[0m \u001b[0;34m=\u001b[0m \u001b[0;34m\"spam\"\u001b[0m\u001b[0;34m,\u001b[0m \u001b[0mtimes\u001b[0m \u001b[0;34m=\u001b[0m \u001b[0;36m3\u001b[0m\u001b[0;34m)\u001b[0m\u001b[0;34m\u001b[0m\u001b[0;34m\u001b[0m\u001b[0m\n",
            "\u001b[0;31mTypeError\u001b[0m: can't multiply sequence by non-int of type 'str'"
          ]
        }
      ]
    },
    {
      "cell_type": "markdown",
      "source": [
        "**Part 3**\n",
        "\n",
        "Explain why you think Python has trouble making sense of our fourth attempt to use the function on line 7. One or two sentences should suffice. <font color=\"darkorchid\">**You can't multiply two strings together.**</font>"
      ],
      "metadata": {
        "id": "BRxHKan47d_G"
      }
    },
    {
      "cell_type": "markdown",
      "source": [
        "### Conditional statements: if, elif, else"
      ],
      "metadata": {
        "id": "_5KPoA6UWbSy"
      }
    },
    {
      "cell_type": "markdown",
      "source": [
        "Next, take a look at the code cell below. The function in that code cell is called `testIt` and it takes an input that we've called `myInput`. In lines 7, 8, and 9 we're running this function on three different inputs. Run it to see what happens."
      ],
      "metadata": {
        "id": "fmX28oAG9g3Y"
      }
    },
    {
      "cell_type": "code",
      "source": [
        "def testIt(myInput):\n",
        "  if myInput == 42:\n",
        "    print(\"Yay!\")\n",
        "  else:\n",
        "    print(\"I don't know about that one!\")\n",
        "\n",
        "testIt(myInput = 42)\n",
        "testIt(myInput = 50)\n",
        "testIt(myInput = \"nutella\")"
      ],
      "metadata": {
        "id": "q7FCFYvM80r9",
        "colab": {
          "base_uri": "https://localhost:8080/"
        },
        "outputId": "b6c97cca-2bce-42c0-c336-f48a0351b429"
      },
      "execution_count": 8,
      "outputs": [
        {
          "output_type": "stream",
          "name": "stdout",
          "text": [
            "Yay!\n",
            "I don't know about that one!\n",
            "I don't know about that one!\n"
          ]
        }
      ]
    },
    {
      "cell_type": "markdown",
      "source": [
        "If we want to add additional cases, we can use `elif` statements between the `if` and the final `else`. These conditional statements always start with `if`, have some number of `elifs` (zero or more), and then one final `else`. (The `else` is optional too, but if we have one, it must come at the very end since it's a catch-all case for all options not detected by the if and elif's.)\n",
        "\n",
        "Note also that testing if two things are the same (equal) is done with **two** equal signs (pronounced \"double equals\") with no space between them `==`. Python has a different understanding of a single equal sign `=` which we used earlier to put a value into a box. We'll see more of that shortly.\n",
        "\n",
        "Run the code cell below to see it in action."
      ],
      "metadata": {
        "id": "oz5Xq4es97Eh"
      }
    },
    {
      "cell_type": "code",
      "source": [
        "# Testing input for 42!\n",
        "\n",
        "def testIt(myInput):\n",
        "  if myInput == 42:   # The == is testing if the contents of the myInput box are equal to 42\n",
        "    print(\"Yay!\")\n",
        "  elif myInput < 42:\n",
        "    print(\"Too small\")\n",
        "  else:\n",
        "    print(\"Too large\")\n",
        "\n",
        "# Here we're using (a.k.a. \"calling\") the function three times.\n",
        "testIt(myInput = 42) # The = puts the value 42 into the box myInput\n",
        "testIt(myInput = -5) # The = puts the value 5 into the box myInput\n",
        "testIt(myInput = 50) # The = puts the value 50 into the box myInput"
      ],
      "metadata": {
        "id": "WL9cPXcG-dY5",
        "colab": {
          "base_uri": "https://localhost:8080/"
        },
        "outputId": "2f8cc6d7-4aef-444f-8e3d-63d809ecf241"
      },
      "execution_count": 9,
      "outputs": [
        {
          "output_type": "stream",
          "name": "stdout",
          "text": [
            "Yay!\n",
            "Too small\n",
            "Too large\n"
          ]
        }
      ]
    },
    {
      "cell_type": "markdown",
      "source": [
        "**Part 4**\n",
        "\n",
        "Make your own code cell below. Remember, that to do that, you will need to hover your mouse below this cell, and click on `+Code` to make a new code cell.\n",
        "\n",
        "Once you've made that cell, copy the code from the cell above to your new code cell and modify it as follows:\n",
        "   * Change the name of the function from `testIt` to a different name of your own choosing.\n",
        "   * Change the name of the input variable from `myInput` to a different name of your choosing.\n",
        "   * Change the values in the code so that this function now reports if the number is positive, negative, or zero.\n",
        "\n",
        "For example, if we were to name the new function `evaluate` (please choose a different name!), then:\n",
        "* running `evaluate(10)` would print `positive`\n",
        "* running `evaluate(-3)` would print `negative`\n",
        "* running `evaluate(0)` would print `zero`\n",
        "\n",
        "Change lines 12, 13, and 14 as well to use your function three times: once with a postive input, once with a negative input, and once with an input of 0."
      ],
      "metadata": {
        "id": "JsxmSyn8L2L3"
      }
    },
    {
      "cell_type": "code",
      "source": [
        "# Testing input for 42!\n",
        "\n",
        "def isPos(num):\n",
        "  if num == 0:   # The == is testing if the contents of the myInput box are equal to 42\n",
        "    print(\"Your number is zero\")\n",
        "  elif num < 0:\n",
        "    print(\"Your number is negative\")\n",
        "  else:\n",
        "    print(\"Your number is positive\")\n",
        "\n",
        "# Here we're using (a.k.a. \"calling\") the function three times.\n",
        "isPos(num = 0) # The = puts the value 42 into the box myInput\n",
        "isPos(num = -5) # The = puts the value 5 into the box myInput\n",
        "isPos(num = 50) # The = puts the value 50 into the box myInput"
      ],
      "metadata": {
        "colab": {
          "base_uri": "https://localhost:8080/"
        },
        "id": "WVdT7CHo3qBB",
        "outputId": "fdb0eee6-ebd4-4486-c305-c174721b3192"
      },
      "execution_count": 14,
      "outputs": [
        {
          "output_type": "stream",
          "name": "stdout",
          "text": [
            "Your number is zero\n",
            "Your number is negative\n",
            "Your number is positive\n"
          ]
        }
      ]
    },
    {
      "cell_type": "markdown",
      "source": [
        "### Variables (aka Boxes) 🗃\n",
        "\n",
        "Take a look at the code below and run it.\n"
      ],
      "metadata": {
        "id": "VWkbFnuBQ5ZJ"
      }
    },
    {
      "cell_type": "code",
      "source": [
        "def checkThisOut():\n",
        "  x = 42\n",
        "  print(x)\n",
        "  x = 100\n",
        "  print(x)\n",
        "\n",
        "checkThisOut()"
      ],
      "metadata": {
        "id": "q2nt-q3GRKKp",
        "colab": {
          "base_uri": "https://localhost:8080/"
        },
        "outputId": "c633e2f3-aae5-45ad-b440-5e3decaba785"
      },
      "execution_count": 15,
      "outputs": [
        {
          "output_type": "stream",
          "name": "stdout",
          "text": [
            "42\n",
            "100\n"
          ]
        }
      ]
    },
    {
      "cell_type": "markdown",
      "source": [
        "In that code, we have a \"variable\" called `x`. A variable is just a name that we made up. You can think of it as the name of a \"box\". Line 2 of the code above puts the value `42` into the box that we've named `x`. Then, we say `print(x)` in line 3, it looks into the box called `x`, sees that the value is `42`, and prints that value. In line 4, we're putting the value `100` into the box which replaces the original value that was in that box. Below is the same program, just with a different name for the variable (aka \"box\")..."
      ],
      "metadata": {
        "id": "ssonnA_YRSIr"
      }
    },
    {
      "cell_type": "code",
      "source": [
        "def checkThisOut2():\n",
        "  numberBox = 42\n",
        "  print(numberBox)\n",
        "  numberBox = 100\n",
        "  print(numberBox)\n",
        "\n",
        "checkThisOut2()"
      ],
      "metadata": {
        "id": "HGbjvSjWR2z6",
        "colab": {
          "base_uri": "https://localhost:8080/"
        },
        "outputId": "0acad702-12ec-4753-d3ec-c2d7c297012b"
      },
      "execution_count": 16,
      "outputs": [
        {
          "output_type": "stream",
          "name": "stdout",
          "text": [
            "42\n",
            "100\n"
          ]
        }
      ]
    },
    {
      "cell_type": "markdown",
      "source": [
        "<font color=\"goldenrod\">**Notice**</font> that at lines 2 and 4 in the code cell above, we are using the single equals (`=`) rather than the double equals (`==`). A single equals is used to put a value into a \"box\" (variable). In contrast `==` is used in conditional statements (`if`, `elif`, `else`) to test if two things are equal. _A very common programming error is to mix up `=` and `==`._ It happens to all of us!"
      ],
      "metadata": {
        "id": "0J4ULlxeWYXx"
      }
    },
    {
      "cell_type": "markdown",
      "source": [
        "### Recapping what we've seen so far\n",
        "\n",
        "Here's an overview of what we've learned so far about Python...\n",
        "   * We've seen three kinds of data:\n",
        "     * Numbers, e.g., `3` or `3.14159`.\n",
        "     * Strings, e.g., `\"I love nutella!\"` (they start and end with quotation marks)\n",
        "     * Lists, e.g., `[1, 2, 3]` (they start and end with brackets and they contain items separated by commas)\n",
        "   * A function (aka \"program\" or \"recipe\") definition begins with the special word `def` followed by the name of the function (our choice!) and, in parentheses, the names (again, our choices!) of all of the inputs (aka \"boxes\") that it expects. Finally, there's a colon at the end of that line.\n",
        "   * Everything inside that function (aka \"program\" or \"recipe\") needs to be indented by one tab (click of the tab key).\n",
        "   * Conditional statements are of the form `if`, `elif` (as many `elif` as we want!), followed by a final `else` that takes care of all of the remaining cases. At the end of each line with an `if` or `elif` or `else` we <font color='goldenrod'>**must**</font> have a colon. Everything that is indented (by another tab) after an `if` is what happens if that condition applies. Similarly, everything that is indented after an `elif` is what happens if that condition applies. And, everything indented after the `else` is what happens if that condition applies.\n",
        "   * Finally, we've seen that `==`  is what is used for checking if two things are equal."
      ],
      "metadata": {
        "id": "n2vqLgwgXMrn"
      }
    },
    {
      "cell_type": "markdown",
      "source": [
        "**Part 5**\n",
        "\n",
        "The code below is intended to take two numbers as input and print one of three messages:\n",
        "* `The first number is greater than the second number`\n",
        "* `The first number is smaller than the second number`\n",
        "* `The two numbers are equal`\n",
        "\n",
        "Unfortunately, the code doesn't work due to a number of syntax errors. Try running it to see what happens, and then **fix the code so that it works correctly. Also, <font color=\"darkorchid\"> indicate the corrections you made using #comments in the code. </font>**"
      ],
      "metadata": {
        "id": "qzSoR3hVY4i5"
      }
    },
    {
      "cell_type": "code",
      "source": [
        "def compare(num1, num2): # added colon\n",
        "  if num1 > num2:\n",
        "    print(\"The first number is greater than the second number\") # added quotes\n",
        "  elif num1 < num2: # added colon\n",
        "    print(\"The first number is smaller than the second number\")\n",
        "  else: #fixed indentation\n",
        "    print(\"The two numbers are equal\")\n",
        "\n",
        "# Three test cases for the function\n",
        "compare(num1 = 42, num2 = 3)\n",
        "compare(num1 = 3, num2 = 17)\n",
        "compare(num1 = 5, num2 = 5)"
      ],
      "metadata": {
        "id": "1JJz0G3i_vvz",
        "colab": {
          "base_uri": "https://localhost:8080/"
        },
        "outputId": "0c678264-0003-468c-cdc6-edfbd7d26e1d"
      },
      "execution_count": 18,
      "outputs": [
        {
          "output_type": "stream",
          "name": "stdout",
          "text": [
            "The first number is greater than the second number\n",
            "The first number is smaller than the second number\n",
            "The two numbers are equal\n"
          ]
        }
      ]
    },
    {
      "cell_type": "markdown",
      "source": [
        "**Part 6**\n",
        "\n",
        "The `review` function takes two strings as input, one that we call `food` and one that we call `beverage`. The `review` function then prints a slightly snarky review of your breakfast choice of food and beverage.\n",
        "\n",
        "Run the function to see it in action."
      ],
      "metadata": {
        "id": "OamfqXIhZTeW"
      }
    },
    {
      "cell_type": "code",
      "source": [
        "def review(food, beverage):\n",
        "  print(\"Food first...\")\n",
        "  if food == \"bagel\":\n",
        "    print(\"I hope it's not a cinnammon bagel!\")\n",
        "  elif food == \"donut\":\n",
        "    print(\"Seriously? A donut for breakfast?\")\n",
        "  elif food == \"crossiant\":\n",
        "    print(\"Getting fancy!\")\n",
        "  else:\n",
        "    print(\"Whatever!\")\n",
        "\n",
        "  print(\"Beverage next...\")\n",
        "  if beverage == \"coffee\":\n",
        "    print(\"Ok, but PLEASE not a caramel macchiato!\")\n",
        "  elif beverage == \"horchata latte\":\n",
        "    print(\"That's awesome!\")\n",
        "  elif beverage == \"tea\":\n",
        "    print(\"I hope it is masala chai!\")\n",
        "  else:\n",
        "    print(\"Whatever!!\")\n",
        "\n",
        "# Now, we're calling the breakfast function\n",
        "review(food = \"bagel\", beverage = \"coffee\")\n",
        "review(food = \"donut\", beverage = \"pepsi\")\n",
        "review(food = \"scone\", beverage = \"tea\")\n",
        "# Add another line of code below to call the review function with food equal to scone and beverage equal to tea\n"
      ],
      "metadata": {
        "id": "DXpak_HWZv2q",
        "collapsed": true,
        "colab": {
          "base_uri": "https://localhost:8080/"
        },
        "outputId": "f5bc8268-763e-4d78-9550-b431471ba829"
      },
      "execution_count": 20,
      "outputs": [
        {
          "output_type": "stream",
          "name": "stdout",
          "text": [
            "Food first...\n",
            "I hope it's not a cinnammon bagel!\n",
            "Beverage next...\n",
            "Ok, but PLEASE not a caramel macchiato!\n",
            "Food first...\n",
            "Seriously? A donut for breakfast?\n",
            "Beverage next...\n",
            "Whatever!!\n",
            "Food first...\n",
            "Whatever!\n",
            "Beverage next...\n",
            "I hope it is masala chai!\n"
          ]
        }
      ]
    },
    {
      "cell_type": "markdown",
      "source": [
        "Now,\n",
        "   * Insert some code in the `review` function above so that if the beverage is \"tea\" it  prints `\"I hope it is masala chai!\"`\n",
        "   * Add an additional line of code at the bottom of the code cell that calls the `review` function with the food being `\"scone\"` and the beverage being `\"tea\"`. The review that you should see for that will be:\n",
        "<pre>\n",
        "Food first...\n",
        "I hope it's not a cinnammon bagel!\n",
        "Beverage next...\n",
        "Ok, but PLEASE not a caramel macchiato!\n",
        "Food first...\n",
        "Seriously? A donut for breakfast?\n",
        "Beverage next...\n",
        "Whatever!!\n",
        "Food first...\n",
        "Whatever!\n",
        "Beverage next...\n",
        "I hope it is masala chai!\n",
        "</pre>"
      ],
      "metadata": {
        "id": "3uCE4XBGfEFF"
      }
    },
    {
      "cell_type": "markdown",
      "source": [
        "### Phylogenetic trees"
      ],
      "metadata": {
        "id": "CPFRB0B8l9Oj"
      }
    },
    {
      "cell_type": "markdown",
      "source": [
        "**Part 7**\n",
        "\n",
        "Let's also work a bit more on phylogenetic trees to become more familiar with reading these diagrams. We will install the `Biopython` package and then call the phylogenetic and string-parsing parts."
      ],
      "metadata": {
        "id": "7rS-9blhcHEI"
      }
    },
    {
      "cell_type": "code",
      "source": [
        "# Install the Biopython package\n",
        "!pip install Biopython"
      ],
      "metadata": {
        "id": "z1TgYkvOM_Fw",
        "colab": {
          "base_uri": "https://localhost:8080/"
        },
        "outputId": "8e10f060-95de-468f-8aab-e847763d2e7b"
      },
      "execution_count": 21,
      "outputs": [
        {
          "output_type": "stream",
          "name": "stdout",
          "text": [
            "Collecting Biopython\n",
            "  Downloading biopython-1.85-cp312-cp312-manylinux_2_17_x86_64.manylinux2014_x86_64.whl.metadata (13 kB)\n",
            "Requirement already satisfied: numpy in /usr/local/lib/python3.12/dist-packages (from Biopython) (2.0.2)\n",
            "Downloading biopython-1.85-cp312-cp312-manylinux_2_17_x86_64.manylinux2014_x86_64.whl (3.3 MB)\n",
            "\u001b[2K   \u001b[90m━━━━━━━━━━━━━━━━━━━━━━━━━━━━━━━━━━━━━━━━\u001b[0m \u001b[32m3.3/3.3 MB\u001b[0m \u001b[31m44.9 MB/s\u001b[0m eta \u001b[36m0:00:00\u001b[0m\n",
            "\u001b[?25hInstalling collected packages: Biopython\n",
            "Successfully installed Biopython-1.85\n"
          ]
        }
      ]
    },
    {
      "cell_type": "code",
      "source": [
        "# Call specific libraries\n",
        "from Bio import Phylo\n",
        "from io import StringIO\n",
        "import matplotlib.pyplot as plt"
      ],
      "metadata": {
        "id": "bSvV-ab8yDba"
      },
      "execution_count": 22,
      "outputs": []
    },
    {
      "cell_type": "markdown",
      "source": [
        "We are going to make a tree for 3 taxa. We were really creative and named these taxa A, B, and C. Python can understand how these taxa are related to another if we group taxa in a so-called bracket notation, just as you saw in Lab 1 for the pathogen tree.\n",
        "\n",
        "The brackets group taxa by relationships. For example, if B is most closely related to C, then B and C are grouped as (B, C)."
      ],
      "metadata": {
        "id": "KUrTldnwyH3B"
      }
    },
    {
      "cell_type": "code",
      "source": [
        "# Define phylogenetic tree in bracket notation\n",
        "treedata = \"(A:3, (B:1, C:1):2);\"\n",
        "handle = StringIO(treedata)\n",
        "tree = Phylo.read(handle, \"newick\")\n",
        "\n",
        "print(tree)"
      ],
      "metadata": {
        "id": "83U2nj0qyNFz",
        "colab": {
          "base_uri": "https://localhost:8080/"
        },
        "outputId": "7a6517c0-645f-4a2d-b016-dcf4ca2b36cd"
      },
      "execution_count": 23,
      "outputs": [
        {
          "output_type": "stream",
          "name": "stdout",
          "text": [
            "Tree(rooted=False, weight=1.0)\n",
            "    Clade()\n",
            "        Clade(branch_length=3.0, name='A')\n",
            "        Clade(branch_length=2.0)\n",
            "            Clade(branch_length=1.0, name='B')\n",
            "            Clade(branch_length=1.0, name='C')\n"
          ]
        }
      ]
    },
    {
      "cell_type": "code",
      "source": [
        "# Let's plot this tree\n",
        "fig = plt.figure(figsize=(6, 5), dpi=100)\n",
        "axes = fig.add_subplot(1, 1, 1)\n",
        "axes.get_yaxis().set_visible(False)\n",
        "Phylo.draw(tree,axes=axes,do_show=False)"
      ],
      "metadata": {
        "id": "YkswEcdOySsB",
        "colab": {
          "base_uri": "https://localhost:8080/",
          "height": 465
        },
        "outputId": "ed0612b1-f8dc-4def-834d-40b135c05fc4"
      },
      "execution_count": 24,
      "outputs": [
        {
          "output_type": "display_data",
          "data": {
            "text/plain": [
              "<Figure size 600x500 with 1 Axes>"
            ],
            "image/png": "[encoded data removed]"
          },
          "metadata": {}
        }
      ]
    },
    {
      "cell_type": "markdown",
      "source": [
        "On the basis of the phylogenetic tree above, how can you tell that B is more closely related to C than to A? (Remember, it's all about the MRCA - Most Recent Common Ancestor)\n",
        "\n",
        "<font color=\"darkorchid\">**The MCRA of B & C is at 2.0, while the MCRA of B & A is at 0.0, meaning B & C are more closely related.**</font>\n"
      ],
      "metadata": {
        "id": "m8oAryLFinnn"
      }
    },
    {
      "cell_type": "markdown",
      "source": [
        "Let's look at another example, this time with 4 species.\n"
      ],
      "metadata": {
        "id": "IAepP_uxjIkH"
      }
    },
    {
      "cell_type": "code",
      "source": [
        "# Define phylogenetic tree in bracket notation\n",
        "treedata = \"(D:4, (B:3, ((A:1, C:1):1):1):1);\"\n",
        "handle = StringIO(treedata)\n",
        "tree = Phylo.read(handle, \"newick\")\n",
        "fig = plt.figure(figsize=(6, 5), dpi=100)\n",
        "axes = fig.add_subplot(1, 1, 1)\n",
        "axes.get_yaxis().set_visible(False)\n",
        "Phylo.draw(tree,axes=axes,do_show=False)"
      ],
      "metadata": {
        "id": "F2lHTiGljOGa",
        "colab": {
          "base_uri": "https://localhost:8080/",
          "height": 465
        },
        "outputId": "be60fb28-1745-4060-e610-4b99d8e94ae6"
      },
      "execution_count": 25,
      "outputs": [
        {
          "output_type": "display_data",
          "data": {
            "text/plain": [
              "<Figure size 600x500 with 1 Axes>"
            ],
            "image/png": "[encoded data removed]"
          },
          "metadata": {}
        }
      ]
    },
    {
      "cell_type": "markdown",
      "source": [
        "On the basis of the phylogenetic tree above, how can you tell that D is equally related to B *and* C?\n",
        "\n",
        "<font color=\"darkorchid\">**The MRCA between D & B and between D & C are both at 0, meaning they are equally related.**</font>\n"
      ],
      "metadata": {
        "id": "7Jn3DbDFkf13"
      }
    },
    {
      "cell_type": "markdown",
      "source": [
        "Suppose that the most recent common ancestor of A and C existed 1 million years ago (mya). Assuming that the branch lengths in the above tree are proportional to time (in mya), how long ago did the most recent common ancestor of B and D exist?\n",
        "\n",
        "<font color=\"darkorchid\">**4 million years ago (4 - 0 = 4)**</font>\n"
      ],
      "metadata": {
        "id": "hKGBmrQNbDQt"
      }
    },
    {
      "cell_type": "markdown",
      "source": [
        "## Feedback and self-assessment\n",
        "\n",
        "Please take a few minutes to answer the questions below.\n",
        "\n",
        "  * Based on what you learned in the first week of this course, what are some questions that you have that you're curious to learn more about? It can be about biology, computing, societal impact, or anything else. <font color=\"darkorchid\">**I'm interested in learning more about Biology. I am pretty familar with the Python covered in this class, but I'd love to be able to apply it to something.**</font>\n",
        "\n",
        "  * What topics in class, lab, or homework did you find to be confusing or difficult to comprehend? What strategies did you use to clarify those issues (talk with the professors, attend student office hours, find resources online, etc.)? <font color=\"darkorchid\">**So far it has been fine, but if I run into issues I'd definitely look to work with peers or go to office hours.**</font>\n",
        "\n",
        "  \n"
      ],
      "metadata": {
        "id": "xc-ssFVzbDfi"
      }
    },
    {
      "cell_type": "markdown",
      "source": [
        "## Submit\n",
        "\n",
        "Congratulations! Here's how to submit this notebook on Canvas.\n",
        "\n",
        "   * Go to the File menu at the upper-left of this notebook and choose \"Download\". From the pull-down menu that appears there, choose \"Download .ipynb\" That extension stands for interactive Python notebook.\n",
        "   * Now, you'll find that notebook in your Downloads folder.\n",
        "   * Login to your Canvas account and find the Assignments menu in the left margin of the page. Click on that and you'll see Homework Assignments among the list of possible assignments. Choose that and click on HW 1. From there, you can upload your HW1.ipynb notebook."
      ],
      "metadata": {
        "id": "bzvVlHvD30zc"
      }
    },
    {
      "cell_type": "code",
      "source": [
        "print(\"hello\")\n",
        "print(\"Aaron\")"
      ],
      "metadata": {
        "colab": {
          "base_uri": "https://localhost:8080/"
        },
        "id": "Bok54e2k4Ny8",
        "outputId": "fddebd16-125b-4ef9-e242-185bfd68f8de"
      },
      "execution_count": 27,
      "outputs": [
        {
          "output_type": "stream",
          "name": "stdout",
          "text": [
            "hello\n",
            "Aaron\n"
          ]
        }
      ]
    }
  ]
}