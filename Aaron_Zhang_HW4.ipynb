{
  "nbformat": 4,
  "nbformat_minor": 0,
  "metadata": {
    "colab": {
      "provenance": []
    },
    "kernelspec": {
      "name": "python3",
      "display_name": "Python 3"
    },
    "language_info": {
      "name": "python"
    }
  },
  "cells": [
    {
      "cell_type": "markdown",
      "source": [
        "# Homework 4: Selection and Choose Your Own Python Adventure!\n",
        "\n",
        "Welcome back!\n",
        "\n",
        "### Reading 🐶\n",
        "\n",
        "This week's new computation material is covered in Section 2.3, Chapter 6, and Section 7.1 of the SCI 10 Computing Companion. Please read those sections carefully; it doesn't take long and it will save you a lot of time in doing the homework and preparing for the upcoming midterm.\n",
        "\n",
        "### A Word on AI...\n",
        "\n",
        "AI is powerful but it isn't perfect, and that includes our _Python Coach for SCI 10_ which is built on Chat-GPT. While the _Python Coach_ has been \"trained\" to use only concepts from SCI 10, it might suggest things that we haven't done and don't want you to use in this course.\n",
        "\n",
        "If you get advice from this generative AI tool to use things that aren't familiar to you from SCI 10, ask it to avoid using those things - or come to office hours to chat with us. One of the challenges for _any_ use of generative AI is evaluating the answers that it gives you and deciding when and how to use them. Said another way, in all of your uses of generative AI, in any application, it's critical that you can reason about what the system is telling you and evaluate that critically. In this course, that means looking at the _Python Coach_'s advice and making sure that it's consistent with what we're teaching. Usually it will be, but you'll need to assess that because we only give credit for code with syntax that we've taught in class and in the readings.\n",
        "\n",
        "### What's in this homework...\n",
        "\n",
        "This notebook contains material that practices the concepts and skills that we've seen so far in order to help you prepare for the midterm.\n",
        "\n",
        "In addition to the concepts that we review here, the homework has two sections:\n",
        "\n",
        "1. A section on natural selection that builds on the inheritance and genetic drift ideas we talked about in class this week. That is worth a total of **35 points**.\n",
        "\n",
        "2. A choose-your-own-adventure section of Python review problems  in which you need to submit **40 points** worth of work. **You will need to do all the problems of Set 1 (10 points)**, and then you can choose any number of problems from Sets 2 and 3 to earn the remaining 30 points. <font color='Goldenrod'>The problems that you don't submit for this assignment are still useful to do as extra practice for Midterm #1! 🙂</font>\n",
        "\n",
        "    * Set 1 provides practice with reading code and fixing bugs. _Required, and great review for the exam._\n",
        "    * Set 2 provides practice with writing short functions using ideas that we've seen in class and in the reading so far. Most of these problems are 5-7 lines of code. _Great review problems for the exam._\n",
        "    * Set 3 involves slightly more involved problems, also using ideas that we've seen in class and in the reading, but with a bit of a deeper dive into the ideas. _These are a bit more challenging than what you'll see on the exam; but practicing on more challenging problems can be good!_\n"
      ],
      "metadata": {
        "id": "Q3b4AwvIUoBb"
      }
    },
    {
      "cell_type": "markdown",
      "source": [
        "## Contracts 🖊\n",
        "\n",
        "In class and Section 3.4 in last week's reading, we've noted that it's important to include a contract in every function so that other readers understand what that function does. Recall that this can be done by including one or more lines of comments (lines that start with `#`) before each function. In this course, we call those comments **contracts**. A contract should specify, at a minimum:\n",
        "\n",
        "  * What the function takes as input. That is, what each of the input boxes represents and what type of data (e.g., number, string, list) is expected to go into that input box.\n",
        "  * If the function returns an output, what that output value represents and what type of data it will be (e.g., number, string list).\n",
        "  * If the function prints, plots, or does something other than (or in addition to) returning a value, that should be described too.\n",
        "\n",
        "A contract should **not** specify how the function _works_ - it's all about what it takes as input and what it does or returns. If you want to explain how the function works (and sometimes that can be useful), you should add comments _inside_ the function itself.\n",
        "\n",
        "<font color = \"green\">Notice that we've included contracts for all of the functions that we've provided to give you a sense of what they should look like. Be sure to always provide a contract for each function that **you** write too - **these are required for full points**.</font>\n"
      ],
      "metadata": {
        "id": "hnR31blC6bep"
      }
    },
    {
      "cell_type": "markdown",
      "source": [
        "## The Accumulator Paradigm\n",
        "\n",
        "This is a review of concepts that we've used in class and is discussed in this week's reading (Section 7.1), but please read it carefully. You'll use this in this homework, the upcoming midterm, and throughout the course.\n",
        "\n",
        "There is a common pattern that many of our programs use. We call it the _Accumulator Paradigm_, or the _Accumulator Sandwich_ 🥪!\n",
        "\n",
        "The **first** version of this is accumulating a number. Typically, this is used to count the number of occurrences of something. **Notice the contract comment in green just before the function definition.** 😸\n",
        "\n",
        "```python\n",
        "# Takes a string as input and returns the number of z's in\n",
        "# that string.\n",
        "def zCount(inputString):\n",
        "  counter = 0  # initialize the counter\n",
        "  for symbol in inputString:\n",
        "    if symbol == “z”:\n",
        "      counter = counter + 1  # increment the counter by 1 for each z we find\n",
        "  return counter\n",
        "\n",
        "num = zCount(inputString = \"zanzibar\") # example use of zCount\n",
        "```\n",
        "\n",
        "Notice that:\n",
        "  * We used `return` rather than `print` here because this function returns a value.\n",
        "  * We `return` OUTSIDE of the for loop - otherwise the function ends very quickly. Remember, \"return rhymes with GAME OVER!\"\n",
        "\n",
        "Notice also that this code looks like a sandwich 🥪. The **first** line (the top of the 🥪) sets the `counter` to 0. The **last** line (the bottom of the 🥪) `returns` that counter. The stuff in between the top and bottom uses a loop to iterate through something (a string or list) and changes the value of the `counter` as it goes. The accumulator, which we've called `counter`, gets returned at the end. We've also seen this same idea in accumulating a sum of numbers (e.g., all numbers in a list until the first 0). It's the same idea!\n",
        "\n",
        "The **second** version of this is accumulating a list.\n",
        "In this case, we start with an empty list, add desired items to that list by storing them into output, and then return that list at the end.\n",
        "\n",
        "```python\n",
        "# Takes a list of strings as input and returns a new list of\n",
        "# only those strings that contain a z.\n",
        "def findZ(inputList):\n",
        "  output = []  # initialize an empty list\n",
        "  for string in inputList:\n",
        "    if \"z\" in string:\n",
        "      output = output + [string] # add the string (as an item in a list) to the output list\n",
        "  return output # return the counter\n",
        "\n",
        "answer = findZ(inputList = [\"zip\", \"nutella\", \"zowie!\"]) # example use of findZ\n",
        "```\n",
        "\n",
        "Again, notice that the thing that we are accumulating (in this case a list called `output`) is initialized at the top of the 🥪 and returned at the bottom of the 🥪. In between, we use a loop to iterate through one list and add things to a different accumulator list.\n",
        "\n",
        "The **third** version is accumulating a string. In this case, we start with an empty string at the top of the 🥪, add things to that string inside a loop, and then return the accumulated string at the end, the bottom of the 🥪.\n",
        "\n",
        "```python\n",
        "# Takes a string as input and returns a copy of that string # # with all z's removed\n",
        "def removeZ(inputString):\n",
        "  output = \"\" # initialize an empty string\n",
        "  for symbol in inputString:\n",
        "    if symbol != \"z\": # != means \"not equals\"\n",
        "      output = output + symbol # there is no need for an else!\n",
        "  return output\n",
        "```\n",
        "\n",
        "Notice that the structure of these functions is the same: Initialize an accumulator of the desired type (number, string, or list), use a loop to iterate through the input and update the accumulator as needed, and finally return the accumulator. It's a fantastic 🥪!"
      ],
      "metadata": {
        "id": "kL3A0In1b8mD"
      }
    },
    {
      "cell_type": "markdown",
      "source": [
        "## Drift Revisited\n",
        "\n",
        "Next, let's review our discussion from class on simulating a population of organisms. We concentrated on just one gene and considered just two alleles for that gene. We called those alleles A and B.\n",
        "\n",
        "Notice that we made several simplifying assumptions in this model:\n",
        "   * There are only two alleles for the gene under consideration;\n",
        "   * We assume that there are no mutations from one generation to the next that create new alleles;\n",
        "   * The size of the population (call it `popSize`) remains the same at each generation (e.g., at carrying capacity);\n",
        "   * To construct the next generation, we randomly select `popSize` elements from the current generation _with replacement_. That means that we may select the same item from the list multiple times or not at all. This allows an organism (say with allele A) to be potentially selected multiple times to pass its allele to the next generation. It also allows for an organism to never be selected and thus _not_ pass its allele to the next generation. (This is done using the `random` package's `choices` function.)\n",
        "\n",
        "### Why selection with replacement?\n",
        "\n",
        "In the last several weeks, we've looked at how mutational processes can change the makeup of a population. We saw that substitutions, insertions, and deletions can occur randomly due to errors in DNA replication. We also saw that whole genes can be acquired through horizontal gene transfer.\n",
        "\n",
        "Now we're looking at population effects. We're asking questions like: When a mutation arises, how likely is it to remain over the course of multiple generations? Will it propagate and become a new allele or will it disappear?\n",
        "\n",
        "To address these kinds of questions, we need to simulate a sequence of successive generations over time. In particular, we need to model the important fact that not every organism in a population will reproduce, even if it reaches reproductive maturity. Some organisms in the population may not have sufficient food or other resources to reproduce, some may get eaten (even by one another), etc.\n",
        "\n",
        "So, here, our models will capture this randomness in reproduction by choosing organisms to reproduce - that is, generate an offspring with the same genetic material. To capture the fact that some organisms in a given generation will have multiple offspring and some will have none, we use _sampling with replacement_ in our model. It's not perfect, because it allows, in theory, for some organisms to reproduce many, many times, but it's a pretty reasonable approximation to reality, and that's what _models_ seek to do. Python's `random.choices` implements sampling with replacement.\n",
        "\n",
        "Why don't we also allow mutations to arise? We _could_ do that, but this would complicate the model and would not necessarily shed light on the BIGGER question that we're trying to address - namely how does randomness in who reproduces impact the diversity of alleles in the population.\n",
        "It's important to remember that models are never perfect, but we try to build the **simplest possible model** that allows us to study the issue of interest to us.\n",
        "\n",
        "\n",
        "\n"
      ],
      "metadata": {
        "id": "xrGo9LlEDerM"
      }
    },
    {
      "cell_type": "markdown",
      "source": [
        "Here's the genetic drift code that we developed in class. You'll see the concepts that we've discussed above are implemented here. Please stop and read this carefully. The rest of this assignment will be _much_ easier if you feel confident with what's happening here."
      ],
      "metadata": {
        "id": "XdeEBon9hdji"
      }
    },
    {
      "cell_type": "code",
      "source": [
        "import random\n",
        "\n",
        "# Takes as input three positive integers:\n",
        "# (1) numA and (2) numB are the numbers of organisms with A and B alleles.\n",
        "# (3) numGens is the number of generations for the simulation.\n",
        "# This function prints the numbers of As and Bs in the population in each\n",
        "# of numGens generations. This function does **not** return anything.\n",
        "def printGens(numA, numB, numGens):\n",
        "  popSize = numA + numB  # size of population\n",
        "  currentGen = numA*[\"A\"] + numB*[\"B\"]  # construct initial population\n",
        "  print(\"First generation: \", currentGen)\n",
        "  for t in list(range(numGens)):\n",
        "    nextGen = random.choices(population = currentGen, k = popSize) # This also works with random.choices(currentGen, k = popSize)\n",
        "    print(\"Next generation:  \", nextGen)\n",
        "    currentGen = nextGen\n",
        "\n",
        "print(\"Test run 1 with numA = 3, numB = 3, numGens = 20\")\n",
        "printGens(numA = 3, numB = 3, numGens = 20)  # Test run 1"
      ],
      "metadata": {
        "id": "Dnh5g39yGiWa",
        "colab": {
          "base_uri": "https://localhost:8080/"
        },
        "outputId": "557bdbad-e667-49f7-a9a3-ed019888827a"
      },
      "execution_count": 1,
      "outputs": [
        {
          "output_type": "stream",
          "name": "stdout",
          "text": [
            "Test run 1 with numA = 3, numB = 3, numGens = 20\n",
            "First generation:  ['A', 'A', 'A', 'B', 'B', 'B']\n",
            "Next generation:   ['B', 'B', 'B', 'B', 'B', 'B']\n",
            "Next generation:   ['B', 'B', 'B', 'B', 'B', 'B']\n",
            "Next generation:   ['B', 'B', 'B', 'B', 'B', 'B']\n",
            "Next generation:   ['B', 'B', 'B', 'B', 'B', 'B']\n",
            "Next generation:   ['B', 'B', 'B', 'B', 'B', 'B']\n",
            "Next generation:   ['B', 'B', 'B', 'B', 'B', 'B']\n",
            "Next generation:   ['B', 'B', 'B', 'B', 'B', 'B']\n",
            "Next generation:   ['B', 'B', 'B', 'B', 'B', 'B']\n",
            "Next generation:   ['B', 'B', 'B', 'B', 'B', 'B']\n",
            "Next generation:   ['B', 'B', 'B', 'B', 'B', 'B']\n",
            "Next generation:   ['B', 'B', 'B', 'B', 'B', 'B']\n",
            "Next generation:   ['B', 'B', 'B', 'B', 'B', 'B']\n",
            "Next generation:   ['B', 'B', 'B', 'B', 'B', 'B']\n",
            "Next generation:   ['B', 'B', 'B', 'B', 'B', 'B']\n",
            "Next generation:   ['B', 'B', 'B', 'B', 'B', 'B']\n",
            "Next generation:   ['B', 'B', 'B', 'B', 'B', 'B']\n",
            "Next generation:   ['B', 'B', 'B', 'B', 'B', 'B']\n",
            "Next generation:   ['B', 'B', 'B', 'B', 'B', 'B']\n",
            "Next generation:   ['B', 'B', 'B', 'B', 'B', 'B']\n",
            "Next generation:   ['B', 'B', 'B', 'B', 'B', 'B']\n"
          ]
        }
      ]
    },
    {
      "cell_type": "markdown",
      "source": [
        "Pause here and explain to yourself (or a classmate) how this function works. Recall that `random.choices(population = currentGen, k = popSize)` returns a new list of `popSize` elements where those elements are randomly selected *with replacement* from the list `currentGen`."
      ],
      "metadata": {
        "id": "7ccJVDXpHtX-"
      }
    },
    {
      "cell_type": "markdown",
      "source": [
        "**Part 1** (5 points)\n",
        "\n",
        "In your own words, clearly explain why line 15...\n",
        "`currentGen = nextGen` is necessary.\n",
        "\n",
        "<font color = \"SlateBlue\">**Your answer: We are looping through, and we want to update the \"current generation\" we are on by setting it equal to the \"next generation\" after one iteration is complete.**</font>\n"
      ],
      "metadata": {
        "id": "Ggl9HZhlIrHs"
      }
    },
    {
      "cell_type": "markdown",
      "source": [
        "### Plotting the data\n",
        "\n",
        "In order to visualize what's happening , it's convenient to plot the fraction of `A` alleles for each generation. (We could plot the fraction that are `B` instead. But, we don't need to do both, because whatever is not one allele is the other).  \n",
        "\n",
        "**Try running this several times** to see what happens to the A allele. It generally fixes or disappears (in which case allele B fixes)."
      ],
      "metadata": {
        "id": "UYyUQ8B4R3I1"
      }
    },
    {
      "cell_type": "code",
      "source": [
        "import random\n",
        "import matplotlib.pyplot as plt\n",
        "\n",
        "# Takes as input three positive integers:\n",
        "# (1) numA and (2) numB are the numbers of organisms with A and B alleles.\n",
        "# (3) numGens is the number of generations for the simulation.\n",
        "# This function prints the numbers of As and Bs in the population in each\n",
        "# of numGens generations. This function does **not** return anything.\n",
        "def plotGens(numA, numB, numGens):\n",
        "  popSize = numA + numB  # size of population\n",
        "  currentGen = numA*[\"A\"] + numB*[\"B\"]  # construct initial population\n",
        "  fracAs = [] # This is a list that will keep track of the fraction of A's in each generation\n",
        "  for t in range(numGens):\n",
        "    currentFracAs = currentGen.count(\"A\")/popSize # count the number of A's to compute the fraction\n",
        "    fracAs = fracAs + [currentFracAs] # add that fraction to the fracAs list\n",
        "    nextGen = random.choices(population = currentGen, k = popSize)\n",
        "    currentGen = nextGen\n",
        "\n",
        "  # Code for plotting provided below!\n",
        "  plt.plot(fracAs)\n",
        "  plt.ylim(0, 1)\n",
        "  plt.xlabel(\"Generation number\")\n",
        "  plt.ylabel(\"Population fraction with A allele\")\n",
        "  plt.title(\"Genetic Drift Simulation Results\")\n",
        "  plt.show()\n",
        "\n",
        "print(\"Test run 1 with numA = 3, numB = 3, numGens = 20\")\n",
        "plotGens(numA = 10, numB = 1, numGens = 20)  # Test run 1"
      ],
      "metadata": {
        "id": "rLlM2l1UTS4E",
        "colab": {
          "base_uri": "https://localhost:8080/",
          "height": 489
        },
        "outputId": "19592140-01eb-49be-fc48-80e11f222e63"
      },
      "execution_count": 49,
      "outputs": [
        {
          "output_type": "stream",
          "name": "stdout",
          "text": [
            "Test run 1 with numA = 3, numB = 3, numGens = 20\n"
          ]
        },
        {
          "output_type": "display_data",
          "data": {
            "text/plain": [
              "<Figure size 640x480 with 1 Axes>"
            ],
            "image/png": "[encoded data removed]"
          },
          "metadata": {}
        }
      ]
    },
    {
      "cell_type": "markdown",
      "source": [
        "### Can a new gene variant (i.e., a new allele) become fixed in the population?\n",
        "\n",
        "Imagine that we have a population of $N$ organisms, all with allele A and one new allele B that arises due to a mutation from the previous generation or a horizontal gene transfer from another species.\n",
        "\n",
        "Is it possible that the new B allele will eventually fix in the population?\n",
        "\n",
        "**Part 2** (10 points)\n",
        "\n",
        "Explore this question as follows:\n",
        "   * In the code cell above, run the `plotGens` function with a population of **3** As and **1** B. Run it for **20** generations. _Run that cell 10 times to perform 10 random trials of this computational experiment_. (Because there's randomness here, you should get different results each time.)\n",
        "   \n",
        "   Count the number of times that the B allele fixed (that is, the A allele count goes down to 0). *What **fraction** of those 10 random trials resulted in fixation to the new B allele?*\n",
        "   \n",
        "   <font color = \"SlateBlue\">**Your answer: 1/10**</font>\n",
        "\n",
        "   * Now, do the same thing over again but with **10** As and **1** B. *What **fraction** of those 10 random trials resulted in fixation to the new B allele?*\n",
        "\n",
        "   <font color = \"SlateBlue\">**Your answer: 1/10**</font>\n",
        "\n",
        "   * Do a few other computational experiments with different numbers of As (but a single B) and larger numbers of generations. Based on these computational experiments, answer the following questions:\n",
        "      * Is it possible that a new (B) allele will eventually fix in the population?\n",
        "      \n",
        "      <font color = \"SlateBlue\">**Your answer:Yes, as long as B is present, it's possible that it is repeatedly chosen. But, this can be rare (as we have seen) because the ratio is skewed towards As (with our current data).**</font>\n",
        "      \n",
        "      * If so, how does that seem to depend on the population of As in the initial population? (If not, you can leave this question blank.)\n",
        "      \n",
        "      <font color = \"SlateBlue\">**Your answer:This depends on the population of A's because the more A's there are, the higher the chance the population will fix to A.**</font>"
      ],
      "metadata": {
        "id": "9oSa38Cx4inV"
      }
    },
    {
      "cell_type": "markdown",
      "source": [
        "### Selection\n",
        "\n",
        "The Genetic Drift simulation assumed that, in an organism (for example, [_Helicobacter pylori_](https://en.wikipedia.org/wiki/Helicobacter_pylori)), the two alleles A and B of the gene that we're studying are equally beneficial to the organism. There is no fitness advantage (or fitness disadvantage) to having one over the other.\n",
        "\n",
        "But **now** suppose that the B allele confers _H. pylori_ with some resistance to the antibiotic clarithromycin, whereas the A allele does not provide resistance to this antibiotic. As a result, in an environment with the antibiotic, an organism with the B allele has a higher probability of surviving to reproduce than one with the A allele. Specifically, we'll use $p$ to represent the probability that an organism with the `A` allele survives to reproduce and let $q$ denote the probability that an organism with the `B` allele survives to reproduce.\n",
        "\n",
        "A value of 1 for either $p$ or $q$ means that 100% of the organisms with the A or B allele, respectively, survive to reproduce."
      ],
      "metadata": {
        "id": "wguFssvSSZId"
      }
    },
    {
      "cell_type": "markdown",
      "source": [
        "The `surviveToReproduce` function takes a list of As and Bs (`population`) and two probabilities, `p` and `q`, as input. The order of the A's and B's in the list doesn't matter.\n",
        "\n",
        "It then generates a new output list as follows:\n",
        "\n",
        "* For each A in the input list, that A has probability `p` of surviving to reproduce and being added to the output list.\n",
        "* For each B in the input list, that B has probability `q` of surviving to reproduce and being added to the output list.\n",
        "\n",
        "<font color=\"DeepPink\">Try running the code below several times.</font> Notice that the subpopulation that survives to reproduce is generally smaller than the original population because, in this test, each A had a probability of 0.3 (30% chance) of living to reproductive age, and each B had a probability of 0.9 (90% chance) of living to reproductive age. <font color = \"DeepPink\">Experiment with changing the values of `p` and `q` to see what happens.</font>"
      ],
      "metadata": {
        "id": "rxjNZL0CTXgD"
      }
    },
    {
      "cell_type": "code",
      "source": [
        "import random\n",
        "\n",
        "# Takes as input: a list of As and Bs and the probabilities\n",
        "# p and q. Returns a new output list generated by keeping\n",
        "# each A with probability p and each B with probabilty q.\n",
        "def surviveToReproduce(population, p, q):\n",
        "  output = [] # <-- This is the list that we will build up and ultimately return. It starts empty.\n",
        "  for allele in population:\n",
        "    if allele == \"A\":\n",
        "      if random.uniform(0,1) < p:\n",
        "        output = output + [allele] # <-- Adds allele to the end of the list called output\n",
        "    else:  # allele is \"B\"\n",
        "      if random.uniform(0,1) < q:\n",
        "        output= output + [allele]\n",
        "  return output\n",
        "\n",
        "# example of using surviveToReproduce with a population of\n",
        "# 5 As and 5 Bs and probabilities p = 0.3 and q = 0.9\n",
        "currentGeneration = 5*[\"A\"] + 5*[\"B\"]   # a list of 5 As and 5 Bs\n",
        "print(\"The initial population is:\", currentGeneration)\n",
        "survivorsList = surviveToReproduce(population = currentGeneration, p = 0.3, q = 0.9)\n",
        "print(\"The subpopulation surviving to reproduce is:\", survivorsList)"
      ],
      "metadata": {
        "id": "rbqNQF48Ta1E",
        "colab": {
          "base_uri": "https://localhost:8080/"
        },
        "outputId": "d2dbff30-3a66-4135-9634-a42a32f8f531"
      },
      "execution_count": 54,
      "outputs": [
        {
          "output_type": "stream",
          "name": "stdout",
          "text": [
            "The initial population is: ['A', 'A', 'A', 'A', 'A', 'B', 'B', 'B', 'B', 'B']\n",
            "The subpopulation surviving to reproduce is: ['A', 'B', 'B', 'B']\n"
          ]
        }
      ]
    },
    {
      "cell_type": "markdown",
      "source": [
        "**Part 3** (10 points)\n",
        "\n",
        "Now, we'll implement a population genetics simulation for _H. pylori_ with selection.\n",
        "\n",
        "**You will need to write about 6 lines of code here.** And, some of that code can be borrowed from the Genetic Drift simulation code above. Make sure that you've taken the time to read through that simulation and understand how it works. That will save you a lot of time here!\n",
        "\n",
        "Our main function, `plotGensSelection`, takes the following inputs:\n",
        "   * `numA` and `numB`: the number of A and B alleles in the initial population, respectively;\n",
        "   * `p` and `q`: the **fitness** of each organism. `p` is the probability that an organism with the A allele survives to reproduce and `q` is the probability that an organism with the B allele survives to reproduce. Each of these **fitness** numbers is a probability and is therefore in the range from 0 to 1.\n",
        "   * `numGens`: the number of generations to simulate.\n",
        "\n",
        "Then, the function needs to do the following.\n",
        "\n",
        "1.  Set `popSize = numA + numB`. That's the size of the population at each generation. (_We've provided that line of code._)\n",
        "\n",
        "2.  Start with a current generation `currentGen` (a list) of `numA` As and `numB` Bs. (_We've provided this line of code as well._)\n",
        "\n",
        "3.  Record the fraction of As in the population in another list, let's call it `fracAs`. As usual, this starts off as an empty list. There's no need to record the fraction of Bs in the population. (_We've provided that line of code too!_)\n",
        "\n",
        "4.  For each of the `numGens` generations:\n",
        "\n",
        "  a. Calculate the fraction of A alleles in the current generation and add this value to `fracAs`.\n",
        "  \n",
        "  b.  Call the `surviveToReproduce` function with our population and `p` and `q` values, resulting in some of the As and Bs not surviving to reproduce. Let's put the list that is returned by the `surviveToReproduce` function into a variable (box) called `survivorsList`. That's the list of alleles that will now have an opportunity to reproduce.\n",
        "     \n",
        "  c. Next, construct a next generation *of the same size* as the current generation by choosing `popSize` elements at random from the `survivorsList`. (Note that you're choosing now from the `survivorsList` and *not* from the current generation list.) Use `random.choices` to do this. Again, use the code in the drift simulation as a model.\n",
        "     \n",
        "  d. Finally, set the current generation equal to the next generation so that we can repeat this process!\n",
        "\n",
        "5. Last, but not least, when we're done with the loop, we plot the `fracAs` list using matplotlib. Don't forget to label the axes and include a title!"
      ],
      "metadata": {
        "id": "AxxSA4xCTdHu"
      }
    },
    {
      "cell_type": "code",
      "source": [
        "import matplotlib.pyplot as plt  # This imports the tools that we need for plotting\n",
        "import random\n",
        "\n",
        "# Takes as input: a list of As and Bs and the probabilities\n",
        "# p and q. Returns a new output list generated by keeping\n",
        "# each A with probability p and each B with probabilty q.\n",
        "def surviveToReproduce(population, p, q):\n",
        "  output = []\n",
        "  for allele in population:\n",
        "    if allele == \"A\":\n",
        "      if random.uniform(0,1) < p:\n",
        "        output = output + [allele]\n",
        "    else:  # allele is \"B\"\n",
        "      if random.uniform(0,1) < q:\n",
        "        output = output + [allele]\n",
        "  return output\n",
        "\n",
        "# Takes as input: the number of A alleles and the number of B alleles in the\n",
        "# initial population as well as probability p that an organism with the A\n",
        "# allele survives to reproduce, probability q that an organism with the B\n",
        "# allele survives to reproduce, and the number of generations in the simulation.\n",
        "def plotGensSelection(numA, numB, p, q, numGens):\n",
        "  popSize = numA + numB # Total size of the population at each generation\n",
        "  currentGen = numA*[\"A\"] + numB*[\"B\"]  # construct initial population\n",
        "  fracAs = [] # This is a list that will keep track of the fraction of A's in each generation\n",
        "  # You will write around SIX lines of code below\n",
        "  # The first line will be the for loop that iterates for numGens iterations!\n",
        "  for t in range(numGens):\n",
        "    currentFracAs = currentGen.count(\"A\")/popSize\n",
        "    fracAs = fracAs + [currentFracAs]\n",
        "    survivorsList = surviveToReproduce(currentGen, p, q)\n",
        "    nextGen = random.choices(population=survivorsList, k=popSize)\n",
        "    currentGen = nextGen\n",
        "\n",
        "  # Add appropriate descriptive labels and a title for the plot\n",
        "  plt.plot(fracAs)\n",
        "  plt.ylim(0, 1)\n",
        "  plt.xlabel(\"Generation number\")\n",
        "  plt.ylabel(\"Population fraction with A allele\")\n",
        "  plt.title(\"H. pylori Selection Simulation Results\")\n",
        "  plt.show()\n",
        "\n",
        "# run the simulation and generate a plot\n",
        "plotGensSelection(numA = 100, numB = 1, p = 0.2, q = 0.8, numGens = 100)\n"
      ],
      "metadata": {
        "id": "6yzbsD6cTch8",
        "colab": {
          "base_uri": "https://localhost:8080/",
          "height": 472
        },
        "outputId": "60dcffe0-eae6-4b1a-dfe8-34fb60f7311c"
      },
      "execution_count": 167,
      "outputs": [
        {
          "output_type": "display_data",
          "data": {
            "text/plain": [
              "<Figure size 640x480 with 1 Axes>"
            ],
            "image/png": "[encoded data removed]"
          },
          "metadata": {}
        }
      ]
    },
    {
      "cell_type": "markdown",
      "source": [
        "**Part 4** (10 points)\n",
        "\n",
        "Finally, let's revisit the question that we posed in Part 2 above, but this time with selection.\n",
        "\n",
        "Imagine that we have a population of $N$ _H. pylori_ organisms with allele A and _one_ organism with the new allele B that arises due to a mutation from the previous generation or a horizontal transfer from another species.\n",
        "\n",
        "What happens if the B allele is advantageous? For example, the A allele may have offered little defense in the presence of the antibiotic clarithromycin, but the B allele increases the probability that the organism will survive to reproduce in the presence of that antibiotic.\n",
        "\n",
        "Explore this question as follows:\n",
        "   * In the code cell above, run the `plotGensSelection` function with an initial population of **50** As and **1** B, the probability that an organism with the A allele survives set to **0.2**, the probability that an organism with the B allele survives set to **0.8**, and a simulation length of **20** generations.  _Run that cell 10 times to perform 10 random trials of this computational experiment_.\n",
        "\n",
        "   \n",
        "    \n",
        "   (**Note:** There is a small probability that your code will give an error on some runs. This can occur, for example, if all of the organisms at a given generation die; that is, no organism survives to reproduce! It's unlikely, but if it happens, just run it again.)\n",
        "\n",
        "   * Conduct additional experiments with this code to provide insights into the extent to which fixing to the new B allele depends on the size of the population of A alleles and the survival rates for organisms with the A and B alleles. This question is _deliberately_ open-ended to encourage you to select additional computational experiments to gain new insights.\n",
        "      * What additional computational experiments did you conduct? That is, what other values of the inputs to the `plotGensSelection` function did you try?\n",
        "\n",
        "      <font color = \"SlateBlue\">**Your experiments: I tried increasing the starting number of A's, and increasing the number of generations.**</font>\n",
        "\n",
        "      * What are your observations based on your experiments?\n",
        "\n",
        "      <font color = \"SlateBlue\">**Your answer: I found that the number of generations (at least above 20) is not super impactful - in times B does not fix, it usually loses very quickly. However, when it does survive the beginning stages, due to its survival filter being much higher compared to that of A's, B's would usually win in the end. In this case, despite B's having a significantly lower starting ratio, its survival advantage is more impactful.**</font>\n",
        "\n",
        "Let's end this section with a question about natural selection and <i>survival of the fittest</i>. Some people might misunderstand <i>survival of the fittest</i> as survival of the <i>\"strongest\"</i> or <i>\"healthiest\"</i>. However, in evolution jargon, <i>\"fitness\"</i> has a very different meaning than the every-day meaning of the term. On the basis of what you have learned in class and through your simulations above, what is a simple way to define **evolutionary fitness**?\n",
        "   \n",
        "   <font color = \"SlateBlue\">**Your answer: Fitness measures the likeliness a trait or gene is to be passed along to the next generation.**</font>"
      ],
      "metadata": {
        "id": "moDtgFY9-Kzf"
      }
    },
    {
      "cell_type": "markdown",
      "source": [
        "## Choose Your Adventure, Python style!\n",
        "\n",
        "**A few important things about working on these programs:**\n",
        "  * <font color=\"Green\">First, for each function, put a \"contract\" comment right before the function to explain to yourself and the reader _what this function takes as input_ and _what it returns as output_. </font> (Comments are lines of code that start with `#`. Those lines are ignored by Python but useful to human readers.)\n",
        "  * To practice for the midterm, where you'll write code on paper rather than on your computer, we recommend writing your code on paper or a whiteboard first. Don't worry about syntax issues at this point -- you're just trying to get the logic of the program correct. Doing this with a classmate is strongly encouraged!\n",
        "  * Read your code first to see if you feel comfortable with how it's working.\n",
        "  * Next, write your code on the computer.\n",
        "  * Test your code.\n",
        "  * If the code has syntax errors, use Python's highlighting and error messages to help guide you to the error.\n",
        "  * If the code is running, but not correctly, use `print` statements to have your program print intermediate values (what's in the \"boxes\" that it's using) to help you see what it's doing at each step.  You can alwasy #comment these out once the code is working.\n",
        "  * If you seek help from outside, please be careful not to use Python features and commands that we haven't used yet in class. While there are often multiple ways to write the same program, we want you to use the methods that we've been teaching so far because that will best prepare you for (a) Midterm #1 and (b) the rest of the course.\n",
        "  * Stop by office hours.  Seriously, we'd love to see you there!\n"
      ],
      "metadata": {
        "id": "jXlGYDSNGrM7"
      }
    },
    {
      "cell_type": "markdown",
      "source": [
        "### Set 1: Fix The Bugs (2.5 points each) -- complete **all** of these problems!\n",
        "\n",
        "There are four problems here, each worth 2.5 points, for a total of up to **10 points** that can be earned here.\n",
        "\n",
        "For these problems, we suggest that you first **try to find all the errors in the code yourself before running the code on the computer.** On the midterm, you'll be asked to identify problems with provided code, so this is good practice finding the issues without the assistance of the computer."
      ],
      "metadata": {
        "id": "_iiV5YgXNHkM"
      }
    },
    {
      "cell_type": "markdown",
      "source": [
        "**Set 1, Problem 1** The `countZwords(listOfStrings)` function below seeks to take a list of strings as input and returns the number of strings in that list that contain at least one `z`. The program has some errors. Pleez trie to phind them before runing the kode. Then, fix them in the code cell. (Notice that the function contains a contract comment. Please be sure to _always_ do this for every function that you write.)"
      ],
      "metadata": {
        "id": "x5gIgG4xRof9"
      }
    },
    {
      "cell_type": "code",
      "source": [
        "# This function takes a list of strings as input and returns a number\n",
        "# representing the number of strings that contain a \"z\".\n",
        "def countZwords(listOfStrings):\n",
        "  counter = 0\n",
        "  for word in listOfStrings:\n",
        "    if \"z\" in word:\n",
        "      counter = counter + 1\n",
        "  return counter\n",
        "\n",
        "answer = countZwords(listOfStrings = [\"buzz\", \"nutella\", \"zip\"])\n",
        "print(answer) # should be 2"
      ],
      "metadata": {
        "id": "EcUCHnLmbTU4",
        "colab": {
          "base_uri": "https://localhost:8080/"
        },
        "outputId": "8b65e09c-672f-4a89-8f89-e283f3accbd0"
      },
      "execution_count": 174,
      "outputs": [
        {
          "output_type": "stream",
          "name": "stdout",
          "text": [
            "2\n"
          ]
        }
      ]
    },
    {
      "cell_type": "markdown",
      "source": [
        "**Set 1, Problem 2** The `keepZwords(listOfStrings)` function takes a list of strings as input and returns the list of all strings that contain the letter 'z'. Try to find the bugz yourself before running the code. Then, fix them in the code cell."
      ],
      "metadata": {
        "id": "tEitDlK9WlFC"
      }
    },
    {
      "cell_type": "code",
      "source": [
        "# Takes a list of strings as input and returns a list of those words that contain\n",
        "# the letter \"z\".\n",
        "def keepZwords(listOfStrings):\n",
        "    output = []\n",
        "    for word in listOfStrings:\n",
        "        if \"z\" in word:\n",
        "            output.append(word)\n",
        "    return output\n",
        "\n",
        "answer = keepZwords([\"buzz\", \"zapper\", \"nutella\", \"zip\"])\n",
        "print(answer)  # should be ['buzz', 'zapper', 'zip']"
      ],
      "metadata": {
        "id": "q4cSM_XLcom6",
        "colab": {
          "base_uri": "https://localhost:8080/"
        },
        "outputId": "c84e01a2-c1fa-4298-a0af-f669ab5c1176"
      },
      "execution_count": 176,
      "outputs": [
        {
          "output_type": "stream",
          "name": "stdout",
          "text": [
            "['buzz', 'zapper', 'zip']\n"
          ]
        }
      ]
    },
    {
      "cell_type": "markdown",
      "source": [
        "**Set 1, Problem 3** The `removeIt(string)` function takes a string as input and seeks to return an identical string but with every exclamation point (!) removed. Notice that it starts with an empty string in a box called `newString` and seeks to add symbols to the end of that string. That's good! But, the function is still BuGgY!"
      ],
      "metadata": {
        "id": "f3aBYRN_vWZw"
      }
    },
    {
      "cell_type": "code",
      "source": [
        "def removeIt(string):\n",
        "    newString = \"\"\n",
        "    for character in string:\n",
        "        if character != \"!\":\n",
        "            newString = newString + character\n",
        "    return newString\n",
        "\n",
        "cleanString = removeIt(\"wow!!! cool!\")\n",
        "print(cleanString)  # <-- should be: wow cool\n"
      ],
      "metadata": {
        "id": "8ZEuJcQCureL",
        "colab": {
          "base_uri": "https://localhost:8080/"
        },
        "outputId": "d005c9af-ff6c-4558-9066-f2f0c78aa54f"
      },
      "execution_count": 177,
      "outputs": [
        {
          "output_type": "stream",
          "name": "stdout",
          "text": [
            "wow cool\n"
          ]
        }
      ]
    },
    {
      "cell_type": "markdown",
      "source": [
        "**Set 1, Problem 4** Before you dive into the problem, first check out the function below that can be used to determine if a number is even (or odd).\n",
        "\n",
        "This function uses the modulo operator `%` (usually pronounced \"mod\") to carry out its task. How does it do this? Here are two quick examples:\n",
        "\n",
        "The notation `9 % 2` means \"the remainder when 9 is divided by 2\" (using integer division). We know that 9 divided by 2 is 4 with a remainder of 1. Therefore, in Python `9 % 2` returns `1`. <font color='DeepPink'>The remainder of 1 tells us that 9 is odd.</font>\n",
        "\n",
        "On the other hand, we know that 8 divided by 2 is 4 with *no* remainder (i.e., a remainder of 0). Therefore, in Python `8 % 2` returns `0`. <font color='DarkTurquoise'>The remainder of 0 tells us that 8 is even.</font>"
      ],
      "metadata": {
        "id": "ZY8enHnUUSD_"
      }
    },
    {
      "cell_type": "code",
      "source": [
        "# Takes a number n as input and prints a message indicating\n",
        "# whether the number is even or odd.\n",
        "def evenOrOdd(n):\n",
        "  if n % 2 == 0:\n",
        "    print(n, \"is even\")\n",
        "  else:\n",
        "    print(n, \"is odd\")\n",
        "\n",
        "evenOrOdd(n = 8)\n",
        "evenOrOdd(n = 9)\n",
        "evenOrOdd(n = 42)"
      ],
      "metadata": {
        "id": "wqlX20EqVWUx",
        "colab": {
          "base_uri": "https://localhost:8080/"
        },
        "outputId": "75f055bf-be12-4398-eac4-890f5d6decca"
      },
      "execution_count": 178,
      "outputs": [
        {
          "output_type": "stream",
          "name": "stdout",
          "text": [
            "8 is even\n",
            "9 is odd\n",
            "42 is even\n"
          ]
        }
      ]
    },
    {
      "cell_type": "markdown",
      "source": [
        " The code below is trying to take a list of numbers as input and return the list of those numbers that are even. It's not quite working. Please fix it!"
      ],
      "metadata": {
        "id": "5m3r84u_TyJC"
      }
    },
    {
      "cell_type": "code",
      "source": [
        "def returnEvens(listOfNums):\n",
        "    output = []\n",
        "    for n in listOfNums:\n",
        "        if n % 2 == 0:\n",
        "            output.append(n)\n",
        "    return output\n",
        "\n",
        "evensList = returnEvens([42, 6, 5, 7, 10])\n",
        "print(evensList)  # should be [42, 6, 10]\n"
      ],
      "metadata": {
        "id": "bc9u8YdqVxZ1",
        "colab": {
          "base_uri": "https://localhost:8080/"
        },
        "outputId": "1c4a3c24-1f55-4a6d-d654-fa1ecfd691e1"
      },
      "execution_count": 179,
      "outputs": [
        {
          "output_type": "stream",
          "name": "stdout",
          "text": [
            "[42, 6, 10]\n"
          ]
        }
      ]
    },
    {
      "cell_type": "markdown",
      "source": [
        "**IMPORTANT:** From this point forward, you only need to do 30 points more of problems. You can get those 30 points by doing six problems in Set 2, each worth 5 points, or some of these problems and some from Set 3, whose problems are worth 7.5 points each.\n",
        "\n",
        "You're welcome (encouraged) to do all the problems for practice.   We'll just grade the first 30 points worth.\n",
        "\n",
        "\n",
        "### Set 2: Programming Problems (5 points each)\n",
        "\n",
        "The problems here practice loops, counters, and return. Definitely do this week's reading in the _Companion_ first.\n"
      ],
      "metadata": {
        "id": "mzC0Jsi0dkQ1"
      }
    },
    {
      "cell_type": "markdown",
      "source": [
        "**Set 2, Problem 1**\n",
        "\n",
        "An absent-minded professor (deep in thought about a difficult research question) is pacing the corridor of the Robert Day Sciences Center. They start at location 0 (their office). At each step they either go one step to the right (+1) or one step to the left (-1). One _trial_ of this experiment has the professor walking for `numSteps` steps. For example, if `numSteps` is 10, they walk for 10 steps, meaning that they will end up at some location between -10 and 10.\n",
        "\n",
        "Your task is to write a function called `trial(numSteps)` that takes as input a positive number representing the number of steps taken. This function then **returns** (but doesn't print) the ending location after taking that many random steps.\n",
        "\n",
        "To make a random step, you'll need to use the `random.choice` function. Refer to Section 2.3 of the reading this week.\n",
        "\n",
        "We've provided some tests for your code. If all goes according to plan, the output should be:\n",
        "<pre>\n",
        "Experiment with 10 steps\n",
        "In the first trial, the ending location was -6\n",
        "In the second trial, the ending location was -4\n",
        "Experiment with 1000 steps\n",
        "In the first trial, the ending location was 26\n",
        "In the second trial, the ending location was 50\n",
        "</pre>\n",
        "\n"
      ],
      "metadata": {
        "id": "njf-xaALdp7u"
      }
    },
    {
      "cell_type": "code",
      "source": [
        "import random\n",
        "random.seed(42) # What's going on here? See this week's reading!\n",
        "\n",
        "# Simulates numSteps steps of a random walk and returns\n",
        "# the ending location.\n",
        "def trial(numSteps):\n",
        "  location = 0\n",
        "  for _ in range(numSteps):\n",
        "    step = random.choice([-1, 1])\n",
        "    location += step\n",
        "  return location\n",
        "\n",
        "# Testing your code\n",
        "test1 = trial(numSteps = 10)\n",
        "test2 = trial(numSteps = 10)\n",
        "print(\"Experiment with 10 steps\")\n",
        "print(\"In the first trial, the ending location was\", test1)\n",
        "print(\"In the second trial, the ending location was\", test2)\n",
        "test3 = trial(numSteps = 1000)\n",
        "test4 = trial(numSteps = 1000)\n",
        "print(\"Experiment with 1000 steps\")\n",
        "print(\"In the first trial, the ending location was\", test3)\n",
        "print(\"In the second trial, the ending location was\", test4)\n"
      ],
      "metadata": {
        "id": "V6L8ttUDiBqG",
        "colab": {
          "base_uri": "https://localhost:8080/"
        },
        "outputId": "0278f82a-aaf8-4ad0-ede9-90a1f80f0150"
      },
      "execution_count": 181,
      "outputs": [
        {
          "output_type": "stream",
          "name": "stdout",
          "text": [
            "Experiment with 10 steps\n",
            "In the first trial, the ending location was -6\n",
            "In the second trial, the ending location was -4\n",
            "Experiment with 1000 steps\n",
            "In the first trial, the ending location was 26\n",
            "In the second trial, the ending location was 50\n"
          ]
        }
      ]
    },
    {
      "cell_type": "markdown",
      "source": [
        "**Set 2, Problem 2** The function `countGreaterThanTarget(listOfNums, target)` takes a list of numbers, `listOfNums`, and a number, `target` as input and **returns** the number of items in that list that are greater than `target`.  <font color = \"green\"> **Don't forget to add a contract!** </font>"
      ],
      "metadata": {
        "id": "1O6zdpAqlnNa"
      }
    },
    {
      "cell_type": "code",
      "source": [
        "# countGreaterThanTarget: (list of numbers, number) -> int\n",
        "# Returns how many numbers in listOfNums are greater than target.\n",
        "def countGreaterThanTarget(listOfNums, target):\n",
        "  count = 0\n",
        "  for num in listOfNums:\n",
        "    if num > target:\n",
        "      count += 1\n",
        "  return count\n",
        "\n",
        "# This is for testing your code\n",
        "count1 = countGreaterThanTarget(listOfNums = [42, 30, 100, 200], target = 42)\n",
        "print(count1) # should be 2 (since 100 and 200 are the only numbers in this list > 42)\n",
        "count2 = countGreaterThanTarget(listOfNums = [2, -1, 3, 7, -5], target = 0)\n",
        "print(count2) # should be 3 (since 2, 3, and 7 are the only numbers in this list > 0)\n"
      ],
      "metadata": {
        "id": "zWCCJCPHgHZv",
        "colab": {
          "base_uri": "https://localhost:8080/"
        },
        "outputId": "81f10b41-e302-4243-d172-ca4680b0611f"
      },
      "execution_count": 182,
      "outputs": [
        {
          "output_type": "stream",
          "name": "stdout",
          "text": [
            "2\n",
            "3\n"
          ]
        }
      ]
    },
    {
      "cell_type": "markdown",
      "source": [
        "**Set 2, Problem 3** The function `collectGreaterThanTarget(listOfNums, target)` takes a list of numbers and a target number as input and **returns** _a list_ of all of the items in that list that are greater than the target. <font color = \"green\"> **Don't forget to add a contract!** </font>"
      ],
      "metadata": {
        "id": "8TmdauTun27k"
      }
    },
    {
      "cell_type": "code",
      "source": [
        "# collectGreaterThanTarget (list of numbers, number) -> list\n",
        "# input: list of numbers, target number\n",
        "# output: list of all numbers greater than target number\n",
        "def collectGreaterThanTarget(listOfNums, target):\n",
        "  result = []\n",
        "  for num in listOfNums:\n",
        "    if num > target:\n",
        "      result.append(num)\n",
        "  return result\n",
        "\n",
        "\n",
        "# This is for testing your code\n",
        "list1 = collectGreaterThanTarget(listOfNums = [42, 30, 100, 200], target = 42)\n",
        "print(list1) # should be [100, 200]\n",
        "list2 = collectGreaterThanTarget(listOfNums = [2, -1, 3, 7, -5], target = 0)\n",
        "print(list2) # should be [2, 3, 7]"
      ],
      "metadata": {
        "id": "ch8pNFxmbyax",
        "colab": {
          "base_uri": "https://localhost:8080/"
        },
        "outputId": "cb20ada2-e81a-4453-d6b9-3c04b9a874a2"
      },
      "execution_count": 183,
      "outputs": [
        {
          "output_type": "stream",
          "name": "stdout",
          "text": [
            "[100, 200]\n",
            "[2, 3, 7]\n"
          ]
        }
      ]
    },
    {
      "cell_type": "markdown",
      "source": [
        "**Set 2, Problem 4** The function `doubleUpTo42(listOfNums)` takes a list of numbers as input and **returns** a list that doubles each number in the input list, but returns when it sees the first occurrence of 42. For example, if the input is `[2, 5, 1, 42, 17]` the function returns the list `[4, 10, 2]` because it doubled the 2, 5, and 1 and then returns that list because it saw the 42. (Recall that the `return` statement is \"game over\". The moment a `return` statement is reached, the function returns its value and is done.)  <font color = \"green\"> **Seriously, add a contract!** </font>"
      ],
      "metadata": {
        "id": "Mo4DbbiIog-l"
      }
    },
    {
      "cell_type": "code",
      "source": [
        "# doubleUpTo42: list -> list\n",
        "# input: list of numbers\n",
        "# output: new list of doubled numbers, stopping at 42\n",
        "def doubleUpTo42(listOfNums):\n",
        "  result = []\n",
        "  for num in listOfNums:\n",
        "    if num == 42:\n",
        "      break\n",
        "    result.append(num * 2)\n",
        "  return result\n",
        "\n",
        "\n",
        "# This is for testing your code\n",
        "d42List = doubleUpTo42([2, 5, 1, 42, 17])\n",
        "print(d42List) # should be [4, 10, 2]\n"
      ],
      "metadata": {
        "id": "q89JM2ZJgybV",
        "colab": {
          "base_uri": "https://localhost:8080/"
        },
        "outputId": "2ddf9cec-2b4b-4ad5-89d1-435580f5dcf8"
      },
      "execution_count": 184,
      "outputs": [
        {
          "output_type": "stream",
          "name": "stdout",
          "text": [
            "[4, 10, 2]\n"
          ]
        }
      ]
    },
    {
      "cell_type": "markdown",
      "source": [
        "**Set 2, Problem 5** The `addEnding(wordList, ending)` function takes two inputs: A list of strings called `wordList` and a string called `ending`. The function returns a new list of strings that is identical to the strings in `wordList` except that each word has the `pattern` added to the end of it. For example, when calling...\n",
        "```\n",
        "addEnding(wordList = [\"hi\", \"earthlings\"], ending = \"!!!\")\n",
        "```\n",
        "... the function should **return** the list...\n",
        "```\n",
        "[\"hi!!!\", \"earthlings!!!\"]\n",
        "```\n",
        "<font color=\"green\"> **Don't forget the  contract!** </font>"
      ],
      "metadata": {
        "id": "Jpbh3qEVw0A3"
      }
    },
    {
      "cell_type": "code",
      "source": [
        "# addEnding: (list of strings, string) -> list of strings\n",
        "# input: list of words and ending\n",
        "# output: a new list with ending added to each element\n",
        "def addEnding(wordList, ending):\n",
        "  # Write your code here\n",
        "  result = []\n",
        "  for word in wordList:\n",
        "    result.append(word + ending)\n",
        "  return result\n",
        "\n",
        "# This is for testing your code\n",
        "test1 = addEnding(wordList = [\"hi\", \"earthlings\"], ending = \"!!!\")\n",
        "print(test1)  # should be [\"hi!!!\", \"earthlings!!!\"]\n",
        "print()\n",
        "test2 = addEnding(wordList = [\"wow\", \"this\", \"is\", \"cool\"], ending = \"-dude\")\n",
        "print(test2) # should be [\"wow-dude\", \"this-dude\", \"is-dude\", \"cool-dude\"]"
      ],
      "metadata": {
        "id": "WL2XjgqXh5n8",
        "colab": {
          "base_uri": "https://localhost:8080/"
        },
        "outputId": "85462ea8-f08e-4aec-a12d-f2dca2315b8b"
      },
      "execution_count": 188,
      "outputs": [
        {
          "output_type": "stream",
          "name": "stdout",
          "text": [
            "['hi!!!', 'earthlings!!!']\n",
            "\n",
            "['wow-dude', 'this-dude', 'is-dude', 'cool-dude']\n"
          ]
        }
      ]
    },
    {
      "cell_type": "markdown",
      "source": [
        "**Set 2, Problem 6** Imagine that `myString` is a box (variable) containing a string. To get that string backwards (reversed), we can use the funky notation `myString[::-1]`. Check out the code cell below to see that in action."
      ],
      "metadata": {
        "id": "YkxUqXfFyb7J"
      }
    },
    {
      "cell_type": "code",
      "source": [
        "myString = \"nutella\"\n",
        "reversal = myString[::-1]\n",
        "print(reversal)"
      ],
      "metadata": {
        "colab": {
          "base_uri": "https://localhost:8080/"
        },
        "id": "3a7Ivf_9bEID",
        "outputId": "f827bd9d-3cb3-4ddb-bb2d-440be2e60192"
      },
      "execution_count": 187,
      "outputs": [
        {
          "output_type": "stream",
          "name": "stdout",
          "text": [
            "alletun\n"
          ]
        }
      ]
    },
    {
      "cell_type": "markdown",
      "source": [
        "Your task is to write a function called `palindromes(stringList)` that takes a list of strings as input and returns another list of all of the palindromes in `stringList`. For example...\n",
        "```\n",
        "pals = palindromes(stringList = [\"abba\", \"nutella\", \"radar\", \"racecar\"])\n",
        "print(pals)\n",
        "```\n",
        "... will give the result ...\n",
        "```\n",
        "[\"abba\", \"radar\", \"racecar\"]\n",
        "```\n",
        "\n",
        "<font color = \"green\"> **Contract!**</font>"
      ],
      "metadata": {
        "id": "FcHOgP9HbQQX"
      }
    },
    {
      "cell_type": "code",
      "source": [
        "# palindromes: list of strings -> list of strings\n",
        "# input: list of strings\n",
        "# output: new list with only palindromes\n",
        "def palindromes(stringList):\n",
        "  result = []\n",
        "  for word in stringList:\n",
        "    if word == word[::-1]:\n",
        "      result.append(word)\n",
        "  return result\n",
        "\n",
        "# This is for testing your code\n",
        "pals1 = palindromes(stringList = [\"abba\", \"nutella\", \"radar\"])\n",
        "print(pals1)  # should be [\"abba\", \"radar\"]\n",
        "print()\n",
        "pals2 = palindromes(stringList = [\"wow\", \"this\", \"is\", \"cool\", \"!!!!\"])\n",
        "print(pals2)  # should be [\"wow\", \"!!!!\"]"
      ],
      "metadata": {
        "id": "iPzVDra4yx1H",
        "colab": {
          "base_uri": "https://localhost:8080/"
        },
        "outputId": "91336ac4-cb08-441d-ec06-d90438aeaaa6"
      },
      "execution_count": 189,
      "outputs": [
        {
          "output_type": "stream",
          "name": "stdout",
          "text": [
            "['abba', 'radar']\n",
            "\n",
            "['wow', '!!!!']\n"
          ]
        }
      ]
    },
    {
      "cell_type": "markdown",
      "source": [
        "**Set 2, Problem 7** This problem has two parts:\n",
        "  * The `tripleLetters(inputString)` function takes a string as input and returns a new string in which each letter of the input string appears three times in a row, except for the letter z, which does not appear at all. For example, `tripleLetters(inputString = \"zigzag\")` should return `iiigggaaaggg`. Write this function first and test it.\n",
        "  * Once you've got `tripleLetters` working, write another function called `tripleList(inputList)` that takes a list of strings as input and returns a new list of strings, each of which is the result of calling `tripleLetters` on that string. For example, `tripleList(inputList = [\"zip!\", \"hi\"])` will return the list `[\"iiippp!!!\", \"hhhiii\"]`.\n",
        "  * <font color=\"green\"> **And, add a contract**</font>"
      ],
      "metadata": {
        "id": "qUnMN92S53Zr"
      }
    },
    {
      "cell_type": "code",
      "source": [
        "# We love contracts!\n",
        "def tripleLetters(inputString):\n",
        "  # Write your code here. You'll need to add some additional\n",
        "  # code and add something to the line below so that it returns what you want it to return.\n",
        "  return\n",
        "\n",
        "# Contract for tripleList goes here\n",
        "def tripleList(inputList)\n",
        "  # Write your code here. You'll need to add some additional\n",
        "  # code and add something to the line below so that it returns what you want it to return.\n",
        "  # This function will call tripleLetters for help\n",
        "  return\n",
        "\n",
        "# This is for testing your tripleLetters code\n",
        "zztest = tripleLetters(inputString = \"zigzag\")\n",
        "print(zztest)  # should be \"iiigggaaaggg\"\n",
        "ptest = tripleLetters(inputString = \"pizza\")\n",
        "print(ptest)  # should be \"pppiiiaaa\"\n",
        "\n",
        "# You can test tripleList after you've written it by uncommenting the lines below\n",
        "#bigtest = tripleList(inputList = [\"zip!\", \"hi\"])\n",
        "#print(bigtest)"
      ],
      "metadata": {
        "id": "icOU5S0J54Ji"
      },
      "execution_count": null,
      "outputs": []
    },
    {
      "cell_type": "markdown",
      "source": [
        "### Set 3: Slightly \"bigger\" Programming Problems (7.5 points each)\n",
        "\n",
        "This section contains four slightly more challenging problems for you to choose from. The last one in this section is the most challenging.  <font color = \"green\"> **Please remember to add a contract to any function that you write in this section!** </font>"
      ],
      "metadata": {
        "id": "fFVBtsJvBVSk"
      }
    },
    {
      "cell_type": "markdown",
      "source": [
        "**Set 3, Problem 1** The `longestWord` function takes a list of strings as input and returns the longest string in that list (if there are ties, you can choose to return any string that is longest). Recall that the built-in function `len` takes a string or list as input and returns the length of that string or list."
      ],
      "metadata": {
        "id": "ZxStoaXkaxGH"
      }
    },
    {
      "cell_type": "code",
      "source": [
        "x = len(\"nutella\")\n",
        "print(x)"
      ],
      "metadata": {
        "id": "YhYzshgXj8um"
      },
      "execution_count": null,
      "outputs": []
    },
    {
      "cell_type": "code",
      "source": [
        "# Don't forget what goes here!\n",
        "def longestWord(listOfWords):\n",
        "  # Your code here\n",
        "\n",
        "\n",
        "\n",
        "\n",
        "# This is for testing your code\n",
        "theLongest = longestWord(listOfWords = [\"hi\", \"there\", \"earthlings\", \"we\", \"use\", \"Python\", \"too\"])\n",
        "print(theLongest)  # should be earthlings"
      ],
      "metadata": {
        "id": "QIf73FucBt1J"
      },
      "execution_count": null,
      "outputs": []
    },
    {
      "cell_type": "markdown",
      "source": [
        "**Set 3, Problem 2** This one requires writing two functions, but don't be intimidated -- it involves just a little more work than the problems in Set 2!\n",
        "\n",
        "Y, a new social media platform, is analyzing the \"excitement scores\" of tweets. The excitement score of a string is the number of times that the symbol ! or ? appears in that string. For example, the excitement score of the string `omg!?wow?!` is 4 and the excitement score of `whatever` is 0.\n",
        "\n",
        "Your task is to:\n",
        "\n",
        "1.   Write a function called `score(myString)` that takes a string as input and returns the excitement score of that string.\n",
        "2.   Write a function called `scoreList(listOfStrings)` that takes a list of strings as input and returns a list of scores, one score for each string. This function should use (a.k.a. call) the `score` function above."
      ],
      "metadata": {
        "id": "we7yAOJHCBV2"
      }
    },
    {
      "cell_type": "code",
      "source": [
        "# Contract #1 needed!\n",
        "def score(myString):\n",
        "  # Your code here\n",
        "\n",
        "\n",
        "# Contract #2 please!\n",
        "def scoreList(listOfStrings):\n",
        "  # Your code here, too\n",
        "\n",
        "\n",
        "# This is for testing your code\n",
        "scores = scoreList(listOfStrings = [\"omg!?wow?!\", \"whatever\", \"what???\", \"who?!\"])\n",
        "print(scores)  # should be [4, 0, 3, 2]"
      ],
      "metadata": {
        "id": "dsvmX1urCCAQ"
      },
      "execution_count": null,
      "outputs": []
    },
    {
      "cell_type": "markdown",
      "source": [
        "**Set 3, Problem 3** Random walk with turtles!\n",
        "\n",
        "Imagine a turtle that starts at the origin. At each step, it turns right by a random angle between 0 and 360 degrees. Then it takes 10 steps forward. It repeats this process `numSteps` times and then returns the distance from where it ended up to where it started (the origin). That's one trial. Your first task is to write a function called `trial(numSteps)` that simulates this process and **returns** the distance from the turtle's ending point to its starting point, (0, 0).\n",
        "\n",
        "But, we know that an experiment requires many trials, so your second task is to write a function called `experiment(numSteps, numTrials)` that performs `trial(numSteps)` `numTrials` times. This function returns a list of `numTrials` numbers, which are the distances for each of the `numTrials` trials.\n",
        "\n",
        "The code that we've provided will then draw a histogram from that list, so that we can visualize the distribution of the distances.\n",
        "\n",
        "To find out how to compute the turtle's distance from where it started, you can use `turtle.distance(0, 0)`, which will return the distance from the turtle's location to the origin.\n",
        "\n",
        "\n"
      ],
      "metadata": {
        "id": "eybKD1rxktBt"
      }
    },
    {
      "cell_type": "markdown",
      "source": [
        "Start by running this code cell to import the `turtle` packagem, the `random` package, and the `matplotlib` package for plotting."
      ],
      "metadata": {
        "id": "wtFlFfOOmHs_"
      }
    },
    {
      "cell_type": "code",
      "source": [
        "!pip3 install ColabTurtlePlus\n",
        "import ColabTurtlePlus.Turtle as turtle\n",
        "import random\n",
        "import matplotlib.pyplot as plt"
      ],
      "metadata": {
        "id": "7FYdkL80l__8"
      },
      "execution_count": null,
      "outputs": []
    },
    {
      "cell_type": "code",
      "source": [
        "# Runs one trial of the turtle experiment for numSteps\n",
        "# and returns distance from origin.\n",
        "def trial(numSteps):\n",
        "  # Keep these commands to...\n",
        "  turtle.penup()   # Pick up the turtle's pen\n",
        "  turtle.home()    # Set the turtle at the origin (0, 0)\n",
        "  turtle.pendown() # Put the pen down for drawing\n",
        "  # Add your code here\n",
        "  # Your code should repeat the following numSteps times:\n",
        "  #    Turn right a random angle between 0 and 360\n",
        "  #    Move forward 10 steps\n",
        "  # When that's done, return the distance from the turtle to (0, 0)\n",
        "\n",
        "# Perform the experiment where each of numTrials trials\n",
        "# comprises numSteps steps. Returns the list of distances.\n",
        "def experiment(numSteps, numTrials):\n",
        "  # Add your code here\n",
        "\n",
        "# Test your code\n",
        "turtle.clearscreen()\n",
        "turtle.speed(13)\n",
        "turtle.hideturtle()\n",
        "data = experiment(numSteps = 10, numTrials = 100)\n",
        "plt.hist(data)\n",
        "plt.xlabel(\"Distance from origin\")\n",
        "plt.ylabel(\"Number of trials\")\n",
        "plt.title(\"Turtle random walk experiment\")\n",
        "plt.show()\n",
        "\n"
      ],
      "metadata": {
        "id": "a8YAP2GQpFo8"
      },
      "execution_count": null,
      "outputs": []
    },
    {
      "cell_type": "markdown",
      "source": [
        "**Set 3, Problem 4** This is the most challenging problem in the bunch. Your task is to write a function called `longestRun(DNAstring)` that takes as input a string of DNA bases (e.g., `\"ATAAGAC\"`) and returns a number which represents the longest consecutive run of identical bases. In the string `\"ATAAGAC\"` that number is 2 since the `\"AA\"` is the longest run. In the string `\"CCCAATTAAAACCCCCA\"` the longest run is 5 (it's the 5 C's near the end of this string).\n",
        "\n",
        " You should do it using only concepts that we've taught in class or in the readings so far except for two extra features noted below. For example, do _not_ use `while` loops (we haven't learned them yet and they're not needed here).\n",
        "\n",
        " However, here are two features that you may wish to use...\n",
        "\n",
        "  * If you have a string, like `S = \"nutella\"`, then `S[0]` is a string of length 1 - namely the first symbol in that string (in this example, `\"n\"`)\n",
        "  * `S[1:]` is the string of all the remaining symbols after the first one (in this example `\"utella\"`).\n",
        "\n",
        "Write your `longestRun(DNAstring)` function below.\n"
      ],
      "metadata": {
        "id": "aXVCL6-mcEXp"
      }
    },
    {
      "cell_type": "code",
      "source": [
        "# Takes a DNA string as input and returns the length of the longest run in that DNA.\n",
        "def longestRun(DNAstring):\n",
        "\n",
        "print(longestRun(DNAstring = \"CCCAATTAAAACCCCC\")) # Should be 5\n",
        "print(longestRun(DNAstring = \"ACTGATTAAAAAAACCCC\")) # Should be 7"
      ],
      "metadata": {
        "id": "639dir7QcHIP"
      },
      "execution_count": null,
      "outputs": []
    },
    {
      "cell_type": "markdown",
      "source": [
        "## Want more challenges!? (Totally optional)\n",
        "\n",
        "If you're eager to continue diving deeper, consider doing [Recursion Excursion Number 2](https://colab.research.google.com/drive/1yicTrXQIqadqZzUxOPwEXvWDUke1j9Wm?usp=drive_link). It continues where Recursion Excursion Number 1 left off last week. Do this excursion for the journey, not the (0.42) points."
      ],
      "metadata": {
        "id": "-tXZA9V5qW0C"
      }
    },
    {
      "cell_type": "markdown",
      "source": [
        "## Submit your notebook on Canvas\n",
        "\n",
        "Go to the File menu at the upper-left of this notebook and choose \"Download\". From the pull-down menu that appears there, choose \"Download .ipynb\"\n",
        "Now, you'll find that notebook in your Downloads folder.\n",
        "Login to your Canvas account and find the Assignments menu in the left margin of the page. Click on that and then click on HW 4. From there, you can upload your `HW4.ipynb` notebook."
      ],
      "metadata": {
        "id": "KnYRFipfGGcY"
      }
    }
  ]
}