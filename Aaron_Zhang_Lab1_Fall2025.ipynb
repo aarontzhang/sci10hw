{
  "cells": [
    {
      "cell_type": "markdown",
      "metadata": {
        "id": "nK0wAcXL-0ar"
      },
      "source": [
        "![Alien.png](data:image/png;base64,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)"
      ]
    },
    {
      "cell_type": "code",
      "source": [],
      "metadata": {
        "id": "RmQRlwODYdAf"
      },
      "execution_count": null,
      "outputs": []
    },
    {
      "cell_type": "markdown",
      "metadata": {
        "id": "HuZEN4X_t1OK"
      },
      "source": [
        "## Welcome to SCI 10L Lab 1!\n",
        "\n",
        "In this session, we will have our first introduction to...\n",
        "   * The Google Colab notebook (aka \"Jupyter notebooks\")\n",
        "   * Reading, running, and modifying Python programs\n",
        "\n",
        "\n",
        "**To get started...**\n",
        "  1. Make a folder called \"SCI10\" at the top level of your Google Drive (that is, not inside any other existing folder). Don't put any spaces in that name and use the same capitalization as we have here. The exact name is important.\n",
        "  2. Within that folder, make a subfolder called \"Week1\". Again, the exact same name is important. Please don't put a space between \"Week\" and \"1\".\n",
        "  3. Finally, make a copy of this notebook and move it in your Week1 folder.\n",
        "  4. When you make your copy, you may see that the file name is \"Copy of Lab1_Fall2025.ipynb\". If that's the case, change the name of the file to be \"Lab1_Fall2025.ipynb\".\n",
        "\n",
        "At the end of this lab, you'll submit your own copy this notebook on Canvas. The submission instructions are given at the very end of this notebook.\n"
      ]
    },
    {
      "cell_type": "markdown",
      "metadata": {
        "id": "a60T59mQksLS"
      },
      "source": [
        "## Introduction to the Colab Notebook\n",
        "\n",
        "Colab notebooks are electronic notebooks. The beautiful feature of these notebooks is that they allow you to write text _and_ code - and even run that code - right in the notebook! These notebooks (also known as \"Jupyter notebooks\") are beloved by natural and social scientists. The 2018 Noble laureate in economics, [Paul Romer](https://qz.com/1417145/economics-nobel-laureate-paul-romer-is-a-python-programming-convert), is among the proponents for publishing economics research using these notebooks.\n",
        "\n",
        "Let's start with text...\n",
        "\n",
        "_Double-click_ on this text cell to see how we can write text in the notebook. When you're done making your changes, you can command-click (hold the command button while clicking the mouse) to finish editing.\n",
        "\n",
        "When editing a text cell, we can just type regular text! Here are few things to note:\n",
        "\n",
        "  * A star `*` that is indented by a tab starts a new bulleted item.\n",
        "  * An _underline_ before and after text puts it in italics\n",
        "  * Two asterisks before and after text puts it in boldface\n",
        "\n",
        "## Facts about Prof. Keller\n",
        "\n",
        "   * _Name_: Jason Keller\n",
        "   * _Two favorite things_: Spending time with family and long-distance running\n",
        "   * _Office_: RDSC 359\n",
        "\n",
        "**Part 1** Copy-and-paste the facts above into the text below and modify them so that they are facts about _you_. Change \"your name here!\" to your name, change the favorites to whatever you like, and feel free to add other bullet items.\n",
        "\n",
        "## Facts about your name here!\n"
      ]
    },
    {
      "cell_type": "markdown",
      "metadata": {
        "id": "1QLTB1RnmDNu"
      },
      "source": [
        "## Python Programs!\n",
        "\n",
        "In addition to text cells, notebooks have _code cells_. In a code cell, you can write Python programs. To edit a Python program, just click once inside the cell and you can edit. When you're done editing the code, you don't need to do anything else! You can just run it by hovering your mouse over the cell and clicking on the arrow on the left side of the cell.\n",
        "\n",
        "Let's take a look!\n",
        "\n",
        "But first, pause here to do a quick setup in Colab:\n",
        "  * Go to the `Tools` menu in the menu bar\n",
        "  * Select `Settings`\n",
        "  * In the menu that pops up, scroll down and click on the `Editor` option on the left side of the menu. On the buttons at the bottom, make sure that the two check boxes: `Show line numbers` and `Show indentation guides` are ON.\n",
        "  * Next in `Tools`, choose `Settings` again, and choose `AI Assistance`. On the buttons at the bottom make sure that the first two buttons `Show AI-powered inline completions` and `Consented to use generative AI features` are OFF and that `Hide Generative AI features` is ON.\n",
        "\n"
      ]
    },
    {
      "cell_type": "markdown",
      "metadata": {
        "id": "AiBOSkgW_h4x"
      },
      "source": [
        "A **program** is like a recipe. The recipe has a very special format.\n",
        "\n",
        "As an example, take a look at the code cell below. Then, run that code cell by clicking on the arrow button at the upper left of the cell. You should see the result of running that program underneath it."
      ]
    },
    {
      "cell_type": "code",
      "execution_count": 1,
      "metadata": {
        "id": "eRdLY8kw_2sh",
        "outputId": "7181200b-ffb9-40de-d5f0-b125d6768c04",
        "colab": {
          "base_uri": "https://localhost:8080/"
        }
      },
      "outputs": [
        {
          "output_type": "stream",
          "name": "stdout",
          "text": [
            "Welcome to Codes of Life!\n"
          ]
        }
      ],
      "source": [
        "def welcome():\n",
        "  print(\"Welcome to Codes of Life!\")\n",
        "\n",
        "# Lines that start with hashtag are called \"comments\" - they are for us to read but Python ignores them\n",
        "\n",
        "# Tell Python to follow that recipe\n",
        "welcome()"
      ]
    },
    {
      "cell_type": "markdown",
      "source": [
        "There are a few important things to note here.\n",
        "\n",
        "1. Our program begins at line 1. The special word **`def`** means we are `def`ining that recipe here.\n",
        "2. After the `def` we have the **name** of the recipe. We can use (just about) any name that we want! We chose to call this recipe `welcome`.\n",
        "3. After the name of the recipe we have **`()`**. That seems funny, and we'll see more about that later. For now, we'll just accept that as part of how a recipe definition begins.\n",
        "4. Next, we start a new line and we use a single tab to indent the contents of the recipe. In this case, the recipe has just one line which commands it to print the string `\"Welcome to Codes of Life\"`.\n",
        "5. That's the end of this recipe!\n",
        "\n",
        "On lines 4 and 6 we have comments to the reader. Comments begin with `#` and are ignored by Python. But, they are useful to us as human readers of the code.\n",
        "\n",
        "Line 7 is **not** part of the `welcome` recipe. We can see that because that line is not indented like line 2 is. Instead, line 7 is telling Python to **use** the recipe called `welcome` that we defined above. Using the recipe is known as **calling** the recipe."
      ],
      "metadata": {
        "id": "zHm-PIvMjEuL"
      }
    },
    {
      "cell_type": "markdown",
      "source": [
        "Next, take a look at this recipe. Notice that we start the recipe here on line 1. Lines 2 and 3 are parts of the recipe because they are indented under that recipe's `def`inition. That's the end of the recipe!"
      ],
      "metadata": {
        "id": "g4T8eK1TRo4d"
      }
    },
    {
      "cell_type": "code",
      "execution_count": 2,
      "metadata": {
        "id": "5RjRg74vAEbm",
        "outputId": "5ca82124-2b03-4eb6-d46b-890aee661586",
        "colab": {
          "base_uri": "https://localhost:8080/"
        }
      },
      "outputs": [
        {
          "output_type": "stream",
          "name": "stdout",
          "text": [
            "This recipe is longer than the last one.\n",
            "But not by much!\n"
          ]
        }
      ],
      "source": [
        "def mySecondRecipe():\n",
        "  print(\"This recipe is longer than the last one.\")\n",
        "  print(\"But not by much!\")\n",
        "\n",
        "# Now, we tell Python to follow that recipe\n",
        "mySecondRecipe()"
      ]
    },
    {
      "cell_type": "markdown",
      "source": [
        "Now, run this code cell. You'll see that once we have defined the recipe, we can use (aka \"call\") it as many times as we like!"
      ],
      "metadata": {
        "id": "n1_GqsGMtFCO"
      }
    },
    {
      "cell_type": "code",
      "source": [
        "def mySecondRecipe():\n",
        "  print(\"This recipe is longer than the last one.\")\n",
        "  print(\"But not by much!\")\n",
        "\n",
        "# Now, we tell Python to follow that recipe\n",
        "mySecondRecipe()\n",
        "# Now, use that recipe a second time!\n",
        "mySecondRecipe()"
      ],
      "metadata": {
        "id": "u_lGtWturHah",
        "outputId": "0698e3bb-c5b4-4d13-c632-8ac6db54e7e8",
        "colab": {
          "base_uri": "https://localhost:8080/"
        }
      },
      "execution_count": 3,
      "outputs": [
        {
          "output_type": "stream",
          "name": "stdout",
          "text": [
            "This recipe is longer than the last one.\n",
            "But not by much!\n",
            "This recipe is longer than the last one.\n",
            "But not by much!\n"
          ]
        }
      ]
    },
    {
      "cell_type": "markdown",
      "source": [
        "## Programs, recipes, functions.\n",
        "\n",
        "We'll use the terms \"recipe\", \"program\", and \"function\" interchangeably. \"Recipe\" is a helpful metaphor. \"Program\" and \"function\" are more standard terms."
      ],
      "metadata": {
        "id": "3dXYW7W1rejQ"
      }
    },
    {
      "cell_type": "code",
      "execution_count": 4,
      "metadata": {
        "id": "XCa5btzCH4rq",
        "outputId": "341bdfeb-7909-40b0-df08-ce3e74070d55",
        "colab": {
          "base_uri": "https://localhost:8080/"
        }
      },
      "outputs": [
        {
          "output_type": "stream",
          "name": "stdout",
          "text": [
            "42\n",
            "99999999999999980000000000000001\n",
            "5.859872654\n"
          ]
        }
      ],
      "source": [
        "# Here is a new function (aka recipe)\n",
        "def myFancyCalculator():\n",
        "  print(6*7) # This is a very important number in this course!\n",
        "  print(9999999999999999 * 9999999999999999) # Python is fine with very big numbers\n",
        "  print(2.71828 + 3.141592654) # Some numbers have decimal points\n",
        "\n",
        "# Now we call that function to do its thing.\n",
        "myFancyCalculator()"
      ]
    },
    {
      "cell_type": "markdown",
      "metadata": {
        "id": "sf1RSCL-HK01"
      },
      "source": [
        "The above programs operate on two kinds of data (or **datatypes**): **Strings** and **Numbers**.\n",
        "\n",
        "_Strings_ are letters/symbols with quotation marks on both ends. (You can use single or double quotation marks, as long as you're consistent.)\n",
        "\n",
        "_Numbers_ are, well, numbers!"
      ]
    },
    {
      "cell_type": "markdown",
      "metadata": {
        "id": "0f9DB3cxmNN2"
      },
      "source": [
        "**Part 2**\n",
        "\n",
        "Take a look at the code cell below.\n",
        "Notice again here that the text that starts with a hashtag and shows up in green is a comment. It's not part of the program, it's just a way for you to write notes to the reader of the program.  You're expected to use comments throughout Sci10 -- they can be helpful reminders about what a line of code or a function is doing (and often the comments will get you points to encourage you to use them).\n",
        "\n",
        "Run the code.\n",
        "\n",
        "Now, **modify this code** so that that it prints _your_ name and a random note about you.\n",
        "\n",
        "Finally, run the code again to see that it works!\n"
      ]
    },
    {
      "cell_type": "code",
      "execution_count": 5,
      "metadata": {
        "id": "hjAAaKgLm0JZ",
        "outputId": "faf6de81-28c7-4665-bdee-a2ca57eadb42",
        "colab": {
          "base_uri": "https://localhost:8080/"
        }
      },
      "outputs": [
        {
          "output_type": "stream",
          "name": "stdout",
          "text": [
            "My name is Aaron.\n",
            "A random note about me is that I live in Marks Hall.\n"
          ]
        }
      ],
      "source": [
        "# Anything that starts with a hashtag is just a comment\n",
        "\n",
        "# Here, we are ONLY defining a function\n",
        "def nameAndNote():\n",
        "  print(\"My name is Aaron.\")\n",
        "  print(\"A random note about me is that I live in Marks Hall.\")\n",
        "\n",
        "# And here we are \"calling\" that function, meaning that we're asking Python to follow the instructions in that function.\n",
        "nameAndNote()"
      ]
    },
    {
      "cell_type": "markdown",
      "metadata": {
        "id": "f-HiFal8Mapk"
      },
      "source": [
        "**Part 3**\n",
        "\n",
        "Now, in the new code cell below, copy and paste the `myFancyCalculator` function from above, and then edit the code to make it calculate 134*341 and 22+194. Run your code (click on the arrow) to make sure that it works!\n",
        "\n",
        "\n"
      ]
    },
    {
      "cell_type": "code",
      "execution_count": 9,
      "metadata": {
        "id": "cP7b2uaR8B04",
        "colab": {
          "base_uri": "https://localhost:8080/"
        },
        "outputId": "535db798-a94f-453a-d4bf-4d87462b13f2"
      },
      "outputs": [
        {
          "output_type": "stream",
          "name": "stdout",
          "text": [
            "45694\n",
            "216\n"
          ]
        }
      ],
      "source": [
        "# Your code goes here!\n",
        "def myFancyCalculator():\n",
        "  print(134*341) # This is a very important number in this course!\n",
        "  print(22+194) # Python is fine with very big numbers\n",
        "  #print(2.71828 + 3.141592654) # Some numbers have decimal points\n",
        "\n",
        "myFancyCalculator()"
      ]
    },
    {
      "cell_type": "markdown",
      "metadata": {
        "id": "re7S20EIu2su"
      },
      "source": [
        "##Introducing the List datatype\n",
        "\n",
        "We've seen two datatypes so far, strings and numbers. Let's meet a third **datatype** for the day: **lists**.\n",
        "\n",
        "A list is a collection of items. Those items can be strings, numbers, and even other lists.  Here are a few examples:\n",
        "\n",
        "<pre>\n",
        "[1, 42, 3]   <-- This list contains three numbers\n",
        "\n",
        "[\"hello\", \"world\"] <-- This list contains two strings\n",
        "\n",
        "[1, [42,2], \"yikes\"] <-- This list contains a number, a list of two numbers, and a string\n",
        "\n",
        "[ ] <-- This is an empty list\n",
        "</pre>\n",
        "\n",
        "Here are a few things to notice about lists:\n",
        "  * A list begins with an open bracket `[` and ends with a closed bracket `]`.\n",
        "  * Inside the list, are the items that you wish to put in the list. A comma is used to separate one item from the next.\n",
        "  * White space is useful for readability, but Python doesn't pay attention to it; so, you can have as much space as you want between items, before or after commas, etc.\n",
        "\n"
      ]
    },
    {
      "cell_type": "code",
      "execution_count": 10,
      "metadata": {
        "id": "eG0QYrTdxYKo",
        "outputId": "48d08ed9-6b2b-4b63-e9d0-5cfdb9bb375c",
        "colab": {
          "base_uri": "https://localhost:8080/"
        }
      },
      "outputs": [
        {
          "output_type": "stream",
          "name": "stdout",
          "text": [
            "[1, 2, 3]\n",
            "['hello', 'world']\n",
            "[1, [1, 2], 'yikes']\n",
            "[]\n"
          ]
        }
      ],
      "source": [
        "# Examples of lists\n",
        "def ListExamples():\n",
        "  print([1, 2, 3])\n",
        "  print([\"hello\", \"world\"])\n",
        "  print([1, [1, 2], \"yikes\"])\n",
        "  print([])\n",
        "\n",
        "# Call (that is use) the function that we defined above\n",
        "ListExamples()\n"
      ]
    },
    {
      "cell_type": "markdown",
      "metadata": {
        "id": "CO7lN4YrKRXa"
      },
      "source": [
        "**Part 4**\n",
        "\n",
        "Write your own code!   \n",
        "\n",
        "   1. First, create your own code cell below by hovering underneath this text cell and selecting `+Code`. That will open a new code cell.\n",
        "   1. Second, copy-and-paste the code from the code cell above into your new code cell below. Keep the second print statement (the one that prints `hello` and `world`) and delete the others.\n",
        "   1. Now, change the items in the printed list so that the list contains three or more of your favorite foods."
      ]
    },
    {
      "cell_type": "markdown",
      "source": [
        "The code cell below is defining a recipe called `helloThere(name)`. On lines 5 and 6, we're calling that recipe twice. Run the code cell to see what happens.\n",
        "\n"
      ],
      "metadata": {
        "id": "2CmW1VZCHFXD"
      }
    },
    {
      "cell_type": "code",
      "source": [
        "# Examples of lists\n",
        "def ListExamples():\n",
        "  #print([1, 2, 3])\n",
        "  print([\"pizza\", \"hotpot\",\"tacos\"])\n",
        "  #print([1, [1, 2], \"yikes\"])\n",
        "  #print([])\n",
        "ListExamples()"
      ],
      "metadata": {
        "colab": {
          "base_uri": "https://localhost:8080/"
        },
        "id": "PZIyR5S4ZeHo",
        "outputId": "a811d3d1-25ad-43a6-b1ae-4ba7d37f56da"
      },
      "execution_count": 12,
      "outputs": [
        {
          "output_type": "stream",
          "name": "stdout",
          "text": [
            "['pizza', 'hotpot', 'tacos']\n"
          ]
        }
      ]
    },
    {
      "cell_type": "code",
      "source": [
        "def helloThere(person):\n",
        "  print(\"Hello\", person, \"!\")\n",
        "\n",
        "# Now, we'll call the helloThere recipe twice\n",
        "helloThere(person = \"Colin\")\n",
        "helloThere(person = \"Diana\")\n"
      ],
      "metadata": {
        "id": "tvqmRfBuJesY",
        "outputId": "c9fccecf-5cad-4121-b6cd-efa25be1f4d8",
        "colab": {
          "base_uri": "https://localhost:8080/"
        }
      },
      "execution_count": 13,
      "outputs": [
        {
          "output_type": "stream",
          "name": "stdout",
          "text": [
            "Hello Colin !\n",
            "Hello Diana !\n"
          ]
        }
      ]
    },
    {
      "cell_type": "markdown",
      "source": [
        "What's going on here? Notice that the `helloThere(person)` recipe has `person` in parentheses. That's not a special name - it's just the name that we gave to a box. This is telling Python that when we use (aka \"call\") this recipe, it should expect it will receive something in that box.\n",
        "\n",
        "Notice that when we called `helloThere(person = \"Colin\")` that's telling Python to put the string `\"Colin\"` into `helloThere`'s box called `person`. Then, in the `helloThere` recipe, each time we see `person`, Python looks inside that box and uses its contents."
      ],
      "metadata": {
        "id": "CNOtfUN3J4w1"
      }
    },
    {
      "cell_type": "markdown",
      "source": [
        "**Part 5**\n",
        "\n",
        "On line 6 in the code cell above, call the `helloThere(person)` recipe so that it uses _your_ name."
      ],
      "metadata": {
        "id": "OpRQYxkyKsgO"
      }
    },
    {
      "cell_type": "markdown",
      "source": [
        "**Part 6**\n",
        "\n",
        "The code cell below has a recipe that we've called `product(num1, num2)`. It has **two** boxes where it expects to get input. Notice that on line 4, we're calling the `product` recipe by putting the number 5 into `box1` and the number 10 into `box2`. Your task is to add a line of code on line 5 that calls the `product(num1, num2)` recipe and has it print the number 42. (There are many different combinations of numbers that you can put into `num1` and `num2` to do this."
      ],
      "metadata": {
        "id": "uf-KaN6VMC2z"
      }
    },
    {
      "cell_type": "code",
      "source": [
        "def product(num1, num2):\n",
        "  print(\"The product of\", num1, \"and\", num2, \"is\", num1 * num2)\n",
        "\n",
        "product(num1 = 5, num2 = 10)\n"
      ],
      "metadata": {
        "id": "6hRbrRPcLyf4",
        "outputId": "e05ab102-747c-4da2-f3da-f5898728b030",
        "colab": {
          "base_uri": "https://localhost:8080/"
        }
      },
      "execution_count": 14,
      "outputs": [
        {
          "output_type": "stream",
          "name": "stdout",
          "text": [
            "The product of 5 and 10 is 50\n"
          ]
        }
      ]
    },
    {
      "cell_type": "markdown",
      "source": [
        "The code cell below defines a recipe called `evaluate(word)`. That recipe expects a string to be placed in the box that we've named `word`. The `if`, `elif`, and `else` that you see here is printing one thing **if** the length of the word is less than 5, **else if** its length is exactly 5 it prints something else, **else** (otherwise) it prints a third thing.\n",
        "\n",
        "**Part 7**\n",
        "\n",
        "On line 12, add a line of code to call the `evaluate(word)` recipe. Put something in the `word` box so that `evaluate(word)` will print \"That's a pretty long word!\""
      ],
      "metadata": {
        "id": "Pyroo78LN7en"
      }
    },
    {
      "cell_type": "code",
      "source": [
        "def evaluate(word):\n",
        "  print(\"Your word is\", word)\n",
        "  if len(word) < 5:   # len gives us the length of the string\n",
        "    print(\"That's a relatively short word\")\n",
        "  elif len(word) == 5:\n",
        "    print(\"That's a word of average length\")\n",
        "  else:\n",
        "    print(\"That's a pretty long word!\")\n",
        "\n",
        "evaluate(word = \"hi\")\n",
        "evaluate(word = \"hello\")\n"
      ],
      "metadata": {
        "id": "3D3aq3ppNNVu",
        "outputId": "19236b6c-6500-49f7-bb98-4dfac82b91a4",
        "colab": {
          "base_uri": "https://localhost:8080/"
        }
      },
      "execution_count": 15,
      "outputs": [
        {
          "output_type": "stream",
          "name": "stdout",
          "text": [
            "Your word is hi\n",
            "That's a relatively short word\n",
            "Your word is hello\n",
            "That's a word of average length\n"
          ]
        }
      ]
    },
    {
      "cell_type": "markdown",
      "metadata": {
        "id": "lZQYHaIhMWKs"
      },
      "source": [
        "## Computing and Biology\n",
        "\n",
        "In this course, you'll write your own Python programs to make your own discoveries about biological phenomena. One idea that we'll see frequently is an evolutionary tree, also called a _phylogenetic tree_.\n",
        "\n",
        "Phylogenetic trees are similar in spirit to family trees. Both phylogenetic trees and family trees are branching diagrams that illustrate relationships. Except rather than showing the relationships of individual people, phylogenetic trees show the relationships between different species (or other groups).\n",
        "\n",
        "By examining phylogenetic trees, we can learn a great deal about how different species evolved, similar to tracing family lineages.\n",
        "\n",
        "This next part of the lab will give you a first glimpse of how Python can be used to visualize phylogenetic trees."
      ]
    },
    {
      "cell_type": "markdown",
      "metadata": {
        "id": "DCEYWxJjM19F"
      },
      "source": [
        "### Installing the Biopython package\n",
        "\n",
        "Running the code cell below will install a Python package called `Biopython`. Python has literally thousands of different \"packages\" available for all kinds of different applications, ranging from biology to climate modeling, economic applications, video game design, and many more."
      ]
    },
    {
      "cell_type": "code",
      "execution_count": 16,
      "metadata": {
        "id": "z1TgYkvOM_Fw",
        "outputId": "3e414121-e95a-48f0-8db6-323b02140030",
        "colab": {
          "base_uri": "https://localhost:8080/"
        }
      },
      "outputs": [
        {
          "output_type": "stream",
          "name": "stdout",
          "text": [
            "Collecting Biopython\n",
            "  Downloading biopython-1.85-cp312-cp312-manylinux_2_17_x86_64.manylinux2014_x86_64.whl.metadata (13 kB)\n",
            "Requirement already satisfied: numpy in /usr/local/lib/python3.12/dist-packages (from Biopython) (2.0.2)\n",
            "Downloading biopython-1.85-cp312-cp312-manylinux_2_17_x86_64.manylinux2014_x86_64.whl (3.3 MB)\n",
            "\u001b[2K   \u001b[90m━━━━━━━━━━━━━━━━━━━━━━━━━━━━━━━━━━━━━━━━\u001b[0m \u001b[32m3.3/3.3 MB\u001b[0m \u001b[31m29.9 MB/s\u001b[0m eta \u001b[36m0:00:00\u001b[0m\n",
            "\u001b[?25hInstalling collected packages: Biopython\n",
            "Successfully installed Biopython-1.85\n"
          ]
        }
      ],
      "source": [
        "!pip install Biopython"
      ]
    },
    {
      "cell_type": "markdown",
      "metadata": {
        "id": "K73g5FB5NGw4"
      },
      "source": [
        "### Importing the Phylogenetics part of Biopython\n",
        "\n",
        "The `Biopython` package is large and we just need to use the phylogenetics part of that package. Running the code cell below \"imports\" the Phylo (phylogenetics) part of the `Biopython` package for our use."
      ]
    },
    {
      "cell_type": "code",
      "execution_count": 17,
      "metadata": {
        "id": "Xd4rIxWmQeRZ"
      },
      "outputs": [],
      "source": [
        "from Bio import Phylo"
      ]
    },
    {
      "cell_type": "markdown",
      "metadata": {
        "id": "E_I10BmlQfj7"
      },
      "source": [
        "### Drawing a phylogenetic tree\n",
        "\n",
        "Let us draw a phylogenetic tree consisting of some of the bacterial pathogens included in the [World Health Organization (WHO) 2024 Bacterial Priority Pathogen List](https://https://www.who.int/publications/i/item/9789240093461).\n",
        "\n",
        "Our tree will include 8 bacterial pathogens (_`Mycobacterium tuberculosis`_, _`Streptococcus pneumoniae`_, _`Streptococcus pneumoniae`_, _`Enterococcus faecium`_, _`Staphylococcus aureus`_, _`Haemophilus influenzae`_, _`Neisseria gonorrhoeae`_, _`Acinetobacter baumannii`_, and _`Pseudomonas aeruginosa`_) and also an archaeal microbe (the archaea constitute another domain of life). This archaeon (_`Nitrosopumilus maritimus`_) is not a pathogen, but we will have it in our tree to highlight a couple of concepts related to _reading_ and _interpreting_ the evolutionary relationships captured by a phylogenetic tree. Later in the course, we will take a look at the data and methods used to construct phylogenetic trees.\n",
        "\n",
        "\n"
      ]
    },
    {
      "cell_type": "markdown",
      "metadata": {
        "id": "iaHU_vOdQrVj"
      },
      "source": [
        "\n",
        "Have a look quick at the code cell below! Don't worry about the syntax!\n",
        "\n",
        "*Then, run the code cell to draw the phylogenetic treee.*"
      ]
    },
    {
      "cell_type": "code",
      "source": [
        "from Bio import Phylo\n",
        "import io\n",
        "import matplotlib.pyplot as plt\n",
        "\n",
        "#Strange syntax and strange looking string below in Line 6!\n",
        "tree1=\"(\\'Nitrosopumilus maritimus\\':0.57517,((\\'Mycobacterium tuberculosis\\':0.31554,(\\'Streptococcus pneumoniae\\':0.19539,(\\'Enterococcus faecium\\':0.16092,\\'Staphylococcus aureus\\':0.16092):0.03447):0.12015):0.03460,(\\'Haemophilus influenzae\\':0.25394,(\\'Neisseria gonorrhoeae\\':0.22825,(\\'Acinetobacter baumannii\\':0.14203,\\'Pseudomonas aeruginosa\\':0.14203):0.08622):0.02570):0.09619):0.22503);\"\n",
        "fig = plt.figure(figsize=(14, 5), dpi=100)\n",
        "axes = fig.add_subplot(1, 1, 1)\n",
        "axes.get_yaxis().set_visible(False)\n",
        "Phylo.draw(Phylo.read(io.StringIO(str(tree1)), \"newick\"),axes=axes,do_show=False)\n",
        "plt.show()"
      ],
      "metadata": {
        "id": "kBL8GtYkALal",
        "outputId": "0494665e-559e-433d-a0a0-373b23b1f897",
        "colab": {
          "base_uri": "https://localhost:8080/",
          "height": 465
        }
      },
      "execution_count": 18,
      "outputs": [
        {
          "output_type": "display_data",
          "data": {
            "text/plain": [
              "<Figure size 1400x500 with 1 Axes>"
            ],
            "image/png": "[encoded data removed]"
          },
          "metadata": {}
        }
      ]
    },
    {
      "cell_type": "markdown",
      "metadata": {
        "id": "l6FDqyMPRSp1"
      },
      "source": [
        "### Making sense of this tree\n",
        "\n",
        "There are a number of things to observe in this phylogenetic tree.\n",
        "\n",
        "  * The tips of the tree (on the far right) are called _leaves_. The nine species constitute the leaves of this tree and we use their [scientific names](https://en.wikipedia.org/wiki/Binomial_nomenclature) as the labels.\n",
        "  * The far left of the tree (at branch length 0) is called the _root_ of the tree.\n",
        "  * The x-axis in this plot is labelled \"branch length\". That branch length is the _evolutionary distance_ in some \"units\" (we will see what these _distances_ and _units_ are, later in the course) and these units can be converted to time. For instance, researchers have estimated that bacteria and archae shared a common ancestor about **3.6 billion years ago**!!! The evolutionary distance in the tree from the root to the tip of the leaf of archaeon _Nitrosopumilus maritimus_ is around _0.57_ units. Assuming that the branch lengths in the above tree are proportional to time, this distance of _0.57_ units corresponds to approximately **3.6 billion years**!\n",
        "\n",
        "  * Each branch of the tree corresponds to a continuous line of descent, e.g., a series of populations through time connected by ancestor/descendent relationships.\n",
        "\n",
        "  * Finally, it's important to note that we can't be certain that this phylogenetic tree is completely correct. It's based on using DNA from these species, measuring the differences in the DNA, and using an algorithm that develops a likely evolutionary history."
      ]
    },
    {
      "cell_type": "markdown",
      "metadata": {
        "id": "OjJXeyFiRiN9"
      },
      "source": [
        "### Some questions for you...\n",
        "\n",
        "\n",
        "**Part 8**\n",
        "\n",
        "Based on the phylogenetic tree above, share your thoughts on the questions below.\n",
        "\n",
        "1. Is _`Staphylococcus aureus`_ more closely related to _`Streptococcus pneumoniae`_ or to _`Haemophilus influenzae`_?\n",
        "2. TRUE or FALSE: The most recent common ancestor of _`Neisseria gonorrhoeae`_ and _`Pseudomonas aeruginosa`_ is also an ancestor of _`Haemophilus influenzae`_.\n",
        "3. TRUE or FALSE: The most recent common ancestor of _`Mycobacterium tuberculosis`_ and _`Nitrosopumilus maritimus`_ is also an ancestor of _`Acinetobacter baumannii`_."
      ]
    },
    {
      "cell_type": "markdown",
      "source": [
        "<font color = \"red\"> **Note your answers to the aboves questions here** <font>\n",
        "\n",
        "1. Streptococcus pneumoniae\n",
        "\n",
        "2. False\n",
        "\n",
        "3. True\n"
      ],
      "metadata": {
        "id": "3flNr5T0mfcO"
      }
    },
    {
      "cell_type": "markdown",
      "metadata": {
        "id": "SLRJKv4XBXQR"
      },
      "source": [
        "## All done! Time to submit this lab notebook.\n",
        "\n",
        "Congratulations! You're done. Here's how to submit this notebook on Canvas.\n",
        "\n",
        "   * Go to the File menu at the upper-left of this notebook and choose \"Download\". From the pull-down menu that appears there, choose \"Download .ipynb\" That extension stands for interactive Python notebook.\n",
        "   * Now, you'll find that notebook in your Downloads folder.\n",
        "   * Login to your Canvas account and find the Assignments menu in the left margin of the page. Click on that and you'll see Assignments and Weekly labs. Choose Weekly labs and click on Lab 1. From there, you can upload your Lab1.ipynb notebook."
      ]
    }
  ],
  "metadata": {
    "colab": {
      "provenance": []
    },
    "kernelspec": {
      "display_name": "Python 3",
      "name": "python3"
    },
    "language_info": {
      "name": "python"
    }
  },
  "nbformat": 4,
  "nbformat_minor": 0
}