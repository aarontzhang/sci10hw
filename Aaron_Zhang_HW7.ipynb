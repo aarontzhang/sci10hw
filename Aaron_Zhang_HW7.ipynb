{
  "cells": [
    {
      "cell_type": "markdown",
      "source": [
        "# HW 7: Gene Drives Revisited, Dictionaries, and Chat-CMC\n",
        "\n",
        "## Reading this week 🐶\n",
        "\n",
        "Please read Chapter 9 of the SCI 10 Coding Companion on the topic of dictionaries.\n"
      ],
      "metadata": {
        "id": "Jqk5PDHLTXIz"
      }
    },
    {
      "cell_type": "markdown",
      "source": [
        "## Societal Considerations of Gene Drives\n",
        "\n",
        "Last week, we explored the use of gene drives to combat certain kinds of diseases.\n",
        "\n",
        "Now, we'd like for you to engage with some current work on CRISPR-based gene drives in Southern California. In particular, this is about a proposal to use gene drives to combat mosquito-borne diseases in Southern California.\n",
        "\n",
        "Start by watching these three presentations that were made to help educate SoCal residents about the possible use of gene drives.  You may wish to watch them at 1.5 speed. (In total, this should take around 15 minutes.)\n",
        "  * Video 1: https://tinyurl.com/blossslides1\n",
        "  * Video 2: https://tinyurl.com/blossslides2\n",
        "  * Video 3: https://tinyurl.com/blossslides3"
      ],
      "metadata": {
        "id": "wc7nRuhlmZ0e"
      }
    },
    {
      "cell_type": "markdown",
      "source": [
        "**Part 1**\n",
        "\n",
        "  * What three mosquitio-borne diseases do the videos mention as having been introduced to California?\n",
        "\n",
        "  <font color=\"SteelBlue\">**Zika, Dengue, Yellow Fever.**</font>  \n",
        "\n",
        "  * The second video describes two different genetic engineering technologies. The first is GE Sterile Males and the second is Gene Drives. What is the major advantage described _in that video_ of using Gene Drives over GE Sterile Males? (There may be other advantages not mentioned in that video, but we're eager to probe what they discuss in that video.)\n",
        "\n",
        "  <font color=\"SteelBlue\">**Authorities would only have to release the mosquitoes with gene drives once.**</font>\n",
        "\n",
        "  * The third video discusses two different types gene drives that could be used to combat mosquito-borne diseases. What are those two types of gene drives? In just one or two sentences describe a major difference between those two approaches.\n",
        "\n",
        "  <font color=\"SteelBlue\">**The first type of gene drive is aimed towards eliminating the mosquito population as a whole, whereas the second creates mosquitoes that are resistant to the disease.**</font>\n",
        "\n"
      ],
      "metadata": {
        "id": "PxGClItCmdwp"
      }
    },
    {
      "cell_type": "markdown",
      "source": [
        "**Part 2 (10 Points)**\n",
        "\n",
        "Based on what you've learned about gene drives for mosquito-borne diseases from those three videos (Part 1), write a memo (_about one or two paragraphs_) to the producers of the videos with recommendations of specific additional information that you believe should be addressed to help SoCal citizens make informed decisions about the possible use of gene drives to combat diseases carried by the _Ae. aegypti_ mosquito. Your recommendation should:\n",
        "\n",
        "  * Be the actual word-for-word script of the content that should be included in the video.\n",
        "  * Be new content that is not already covered in those videos.\n",
        "  * Specify which video (1, 2, or 3) and time stamp in that video where the material should be included so that the content flows most naturally in the current narrative.\n",
        "\n",
        "You're welcome to use ideas that we learned in class, research that you do on your own, and/or interact with a generative AI tool on this task. However, you're responsible for the content and correctness, so ultimately be sure that what you contribute is something that you can explain and justify."
      ],
      "metadata": {
        "id": "lVZocXDSuxPz"
      }
    },
    {
      "cell_type": "markdown",
      "source": [
        "<font color=\"SteelBlue\">**To be added at 2:46 in Video 3:\n",
        "We've looked at two different ways gene drive could address the mosquito problem: elimination and modification. Each approach solves different problems, but each comes with trade-offs.\n",
        "The elimination strategy would create only male offspring, eventually removing Aedes aegypti from Southern California entirely. The benefits are clear: no more dengue, no more bites. But there's an ecological risk. Aedes aegypti is invasive, and removing it completely leaves behind an empty ecological niche. That space could be filled by another invasive mosquito, like the Asian Tiger mosquito, which is equally aggressive and also spreads disease.\n",
        "The modification strategy avoids this problem. By making Aedes aegypti unable to transmit diseases, we keep the mosquito population stable. The ecological niche stays filled, preventing other species from moving in. We solve the disease problem directly.\n",
        "The trade-off comes down to this: With elimination, you get rid of bites and disease, but risk replacing one mosquito problem with another. With modification, you keep getting bitten, but you eliminate the disease and avoid the ecological uncertainty. So the real question is, what matters most to your community: stopping the bites entirely, or stopping just the disease?**</font>\n"
      ],
      "metadata": {
        "id": "HVhyZywRwD6O"
      }
    },
    {
      "cell_type": "markdown",
      "source": [
        "## Dictionaries!\n",
        "\n",
        "Please read Chapter 9 in the _Computing Companion_ before continuing. The first bit of the narrative below is a quick review of those concepts that you will use throughout the rest of this notebook.\n",
        "\n",
        "We've seen several Python data types so far: numbers, strings, and lists. More recently, we've also introduced a new type called **dictionaries**.\n",
        "\n",
        "When we think of a dictionary, we usually think of <font color=\"green\">words</font> and their <font color=\"maroon\">definitions</font> as in:\n",
        "  * <font color=\"green\">nutella</font>: <font color=\"maroon\">A delicious food</font>\n",
        "  * <font color=\"green\">snack</font>: <font color=\"maroon\">A small meal</font>\n",
        "  * <font color=\"green\">SCI10</font>: <font color=\"maroon\">A class at CMC</font>\n",
        "\n",
        "The code cell below defines a dictionary in Python. Notice the curly ➰\n",
        " braces `{` and `}`. These curly braces indicate that this is a dictionary (and not a list, string, or anything else).\n",
        "\n",
        "Take a look 🔬 at the structure of what's inside the dictionary. After each word there is a colon, followed by the definition of that word. A comma separates each word and its definition.\n",
        "\n",
        "The _words_ are called **keys** in the dictionary and the _definitions_ are called **values**."
      ],
      "metadata": {
        "id": "Gc5S4hLwRFYX"
      }
    },
    {
      "cell_type": "code",
      "source": [
        "def demo1():\n",
        "  myDictionary = {\"nutella\" : \"A delicious food\", \"snack\" : \"A small meal\", \"SCI10\" : \"A class at CMC\"}\n",
        "  print(myDictionary)\n",
        "  print(len(myDictionary))\n",
        "\n",
        "demo1()"
      ],
      "metadata": {
        "id": "9zqV8Rs4pfqQ",
        "colab": {
          "base_uri": "https://localhost:8080/"
        },
        "outputId": "f40a1cc3-c120-403e-cf77-3e8138f7285a"
      },
      "execution_count": 1,
      "outputs": [
        {
          "output_type": "stream",
          "name": "stdout",
          "text": [
            "{'nutella': 'A delicious food', 'snack': 'A small meal', 'SCI10': 'A class at CMC'}\n",
            "3\n"
          ]
        }
      ]
    },
    {
      "cell_type": "markdown",
      "source": [
        "The example below shows that we can use `in` to determine if a **key** is defined in the dictionary."
      ],
      "metadata": {
        "id": "Zgk8zQLDqySc"
      }
    },
    {
      "cell_type": "code",
      "source": [
        "def demo2():\n",
        "  myDictionary = {\"nutella\" : \"A delicious food\", \"snack\" : \"A small meal\", \"SCI10\" : \"A class at CMC\"}\n",
        "  if \"nutella\" in myDictionary:\n",
        "    print(\"nutella is in the dictionary!\")\n",
        "  else:\n",
        "    print(\"No nutella in the dictionary\")\n",
        "  if \"toblerone\" in myDictionary:\n",
        "    print(\"toblerone is in the dictionary!\")\n",
        "  else:\n",
        "    print(\"No toblerone in the dictionary\")\n",
        "\n",
        "demo2()"
      ],
      "metadata": {
        "id": "NTd5dc-zqjc-",
        "colab": {
          "base_uri": "https://localhost:8080/"
        },
        "outputId": "e6f026b7-fa2e-42dd-c771-f26e35b0ebef"
      },
      "execution_count": 2,
      "outputs": [
        {
          "output_type": "stream",
          "name": "stdout",
          "text": [
            "nutella is in the dictionary!\n",
            "No toblerone in the dictionary\n"
          ]
        }
      ]
    },
    {
      "cell_type": "markdown",
      "source": [
        "For each **key**, we can look up its **value**. Notice the use of square brackets `[` and `]` here. That can be challenging to remember because Python uses `{` and `}` when we define a dictionary, but we'll get used to it!\n",
        "\n",
        "Uh, oh! No \"banana\" 🍌 in the dictionary! Take a look at Python's error message. `KeyError` means that there is no \"banana\" **key** in the dictionary."
      ],
      "metadata": {
        "id": "v-vupzLirX9Q"
      }
    },
    {
      "cell_type": "code",
      "source": [
        "def demo3():\n",
        "  myDictionary = {\"nutella\" : \"A delicious food\", \"snack\" : \"A small meal\", \"SCI10\" : \"A class at CMC\"}\n",
        "\n",
        "  print(\"For key nutella, the value is\", myDictionary[\"nutella\"])\n",
        "  print(\"For key snack, the value is\", myDictionary[\"snack\"])\n",
        "  print(\"For key SCI10, the value is\", myDictionary[\"SCI10\"])\n",
        "  print(\"For key banana, the value is\", myDictionary[\"banana\"])\n",
        "\n",
        "demo3()"
      ],
      "metadata": {
        "id": "mAO9yP3Opu_A",
        "colab": {
          "base_uri": "https://localhost:8080/",
          "height": 358
        },
        "outputId": "8be5e8a3-6d20-4366-c584-cbb9ef3b8387"
      },
      "execution_count": 3,
      "outputs": [
        {
          "output_type": "stream",
          "name": "stdout",
          "text": [
            "For key nutella, the value is A delicious food\n",
            "For key snack, the value is A small meal\n",
            "For key SCI10, the value is A class at CMC\n"
          ]
        },
        {
          "output_type": "error",
          "ename": "KeyError",
          "evalue": "'banana'",
          "traceback": [
            "\u001b[0;31m---------------------------------------------------------------------------\u001b[0m",
            "\u001b[0;31mKeyError\u001b[0m                                  Traceback (most recent call last)",
            "\u001b[0;32m/tmp/ipython-input-318715301.py\u001b[0m in \u001b[0;36m<cell line: 0>\u001b[0;34m()\u001b[0m\n\u001b[1;32m      7\u001b[0m   \u001b[0mprint\u001b[0m\u001b[0;34m(\u001b[0m\u001b[0;34m\"For key banana, the value is\"\u001b[0m\u001b[0;34m,\u001b[0m \u001b[0mmyDictionary\u001b[0m\u001b[0;34m[\u001b[0m\u001b[0;34m\"banana\"\u001b[0m\u001b[0;34m]\u001b[0m\u001b[0;34m)\u001b[0m\u001b[0;34m\u001b[0m\u001b[0;34m\u001b[0m\u001b[0m\n\u001b[1;32m      8\u001b[0m \u001b[0;34m\u001b[0m\u001b[0m\n\u001b[0;32m----> 9\u001b[0;31m \u001b[0mdemo3\u001b[0m\u001b[0;34m(\u001b[0m\u001b[0;34m)\u001b[0m\u001b[0;34m\u001b[0m\u001b[0;34m\u001b[0m\u001b[0m\n\u001b[0m",
            "\u001b[0;32m/tmp/ipython-input-318715301.py\u001b[0m in \u001b[0;36mdemo3\u001b[0;34m()\u001b[0m\n\u001b[1;32m      5\u001b[0m   \u001b[0mprint\u001b[0m\u001b[0;34m(\u001b[0m\u001b[0;34m\"For key snack, the value is\"\u001b[0m\u001b[0;34m,\u001b[0m \u001b[0mmyDictionary\u001b[0m\u001b[0;34m[\u001b[0m\u001b[0;34m\"snack\"\u001b[0m\u001b[0;34m]\u001b[0m\u001b[0;34m)\u001b[0m\u001b[0;34m\u001b[0m\u001b[0;34m\u001b[0m\u001b[0m\n\u001b[1;32m      6\u001b[0m   \u001b[0mprint\u001b[0m\u001b[0;34m(\u001b[0m\u001b[0;34m\"For key SCI10, the value is\"\u001b[0m\u001b[0;34m,\u001b[0m \u001b[0mmyDictionary\u001b[0m\u001b[0;34m[\u001b[0m\u001b[0;34m\"SCI10\"\u001b[0m\u001b[0;34m]\u001b[0m\u001b[0;34m)\u001b[0m\u001b[0;34m\u001b[0m\u001b[0;34m\u001b[0m\u001b[0m\n\u001b[0;32m----> 7\u001b[0;31m   \u001b[0mprint\u001b[0m\u001b[0;34m(\u001b[0m\u001b[0;34m\"For key banana, the value is\"\u001b[0m\u001b[0;34m,\u001b[0m \u001b[0mmyDictionary\u001b[0m\u001b[0;34m[\u001b[0m\u001b[0;34m\"banana\"\u001b[0m\u001b[0;34m]\u001b[0m\u001b[0;34m)\u001b[0m\u001b[0;34m\u001b[0m\u001b[0;34m\u001b[0m\u001b[0m\n\u001b[0m\u001b[1;32m      8\u001b[0m \u001b[0;34m\u001b[0m\u001b[0m\n\u001b[1;32m      9\u001b[0m \u001b[0mdemo3\u001b[0m\u001b[0;34m(\u001b[0m\u001b[0;34m)\u001b[0m\u001b[0;34m\u001b[0m\u001b[0;34m\u001b[0m\u001b[0m\n",
            "\u001b[0;31mKeyError\u001b[0m: 'banana'"
          ]
        }
      ]
    },
    {
      "cell_type": "markdown",
      "source": [
        "### Keys and values don't have to be strings\n",
        "\n",
        "Keys and values don't have to be strings! In the code cell below, the **keys** are strings (some of SCI 10 professors' names) and the values are **numbers** (the mean number of cups of coffee that they drink each day). Yikes, Prof. Emily!!! ☕\n",
        "\n",
        "Notice how the for loop is iterating over the keys in the dictionary. We didn't have to call that variable `key`, we could have called it `profName` or anything else! Similarly, the box named `value` could have been called `cupsOfCoffee`. We just use the variable names `key` and `value` here as a reminder of the fact that dictionaries have **keys** with associated **values**."
      ],
      "metadata": {
        "id": "NGtsN8L4u7Ur"
      }
    },
    {
      "cell_type": "code",
      "source": [
        "def demo4():\n",
        "  cupsPerDay = {\"Nia\" : 3, \"Emily\" : 42, \"Diana\" : 2, \"Shibu\" : 2}\n",
        "  for key in cupsPerDay:\n",
        "    value = cupsPerDay[key]\n",
        "    print(\"Prof\", key, \"drinks\", value, \"cups per day\")\n",
        "\n",
        "demo4()"
      ],
      "metadata": {
        "id": "TGcoBgBEwJcO",
        "colab": {
          "base_uri": "https://localhost:8080/"
        },
        "outputId": "144d117f-7754-45de-b7c2-00970b0253fd"
      },
      "execution_count": 4,
      "outputs": [
        {
          "output_type": "stream",
          "name": "stdout",
          "text": [
            "Prof Nia drinks 3 cups per day\n",
            "Prof Emily drinks 42 cups per day\n",
            "Prof Diana drinks 2 cups per day\n",
            "Prof Shibu drinks 2 cups per day\n"
          ]
        }
      ]
    },
    {
      "cell_type": "markdown",
      "source": [
        "**Part 3**\n",
        "\n",
        "We've seen a function like this before. Take a look at the function and write a contract for what it does. Remember that a contract should specify the (1) type of the input (e.g., \"Takes a list of list of numbers as input\" or \"Takes a list of strings as input\", etc.) and (2) the type _and_ meaning of the output (e.g., \"Returns a number representing the length of the input list\" or \"Returns a dictionary in which the keys are the strings in the input list and the values are the lengths of those keys\", etc.)"
      ],
      "metadata": {
        "id": "Jjm4kQzFCHuy"
      }
    },
    {
      "cell_type": "code",
      "source": [
        "# Takes in a list and returns a dictionary with the word and how many times it appears in the list.\n",
        "def wordCount(wordList):\n",
        "  wordCountDict = {}  # This is an empty dictionary\n",
        "  for word in wordList:\n",
        "    if word not in wordCountDict:\n",
        "      wordCountDict[word] = 1\n",
        "    else:\n",
        "      wordCountDict[word] = wordCountDict[word] + 1\n",
        "  return wordCountDict\n",
        "\n",
        "testList = [\"nutella\", \"coffee\", \"nutella\", \"tea\", \"tea\"]\n",
        "print(wordCount(wordList = testList))"
      ],
      "metadata": {
        "id": "drvoAXm9axA0",
        "colab": {
          "base_uri": "https://localhost:8080/"
        },
        "outputId": "b927811a-eebf-4346-918d-739435a48554"
      },
      "execution_count": 5,
      "outputs": [
        {
          "output_type": "stream",
          "name": "stdout",
          "text": [
            "{'nutella': 2, 'coffee': 1, 'tea': 2}\n"
          ]
        }
      ]
    },
    {
      "cell_type": "markdown",
      "source": [
        "**Part 4**\n",
        "\n",
        "Here's another version of the same function! Notice that the only change here is that the for loop has changed to iterate over _positions_ (aka _indices_) in the `wordList`. You'll need to fix line 4.\n",
        "\n",
        "(Why did we make this change? It will be useful to us a little later on when we write Chat-CMC and need positional information in the list!)"
      ],
      "metadata": {
        "id": "utQ0PVPa1pYv"
      }
    },
    {
      "cell_type": "code",
      "source": [
        "def wordCount(wordList):\n",
        "  wordCountDict = {}  # This is an empty dictionary\n",
        "  for i in list(range(len(wordList))):\n",
        "    word = wordList[i]\n",
        "    if word not in wordCountDict:\n",
        "      wordCountDict[word] = 1\n",
        "    else:\n",
        "      wordCountDict[word] = wordCountDict[word] + 1\n",
        "  return wordCountDict\n",
        "\n",
        "testList = [\"nutella\", \"coffee\", \"nutella\", \"tea\", \"tea\"]\n",
        "print(wordCount(wordList = testList))"
      ],
      "metadata": {
        "id": "rx8onbXa1dJi",
        "colab": {
          "base_uri": "https://localhost:8080/"
        },
        "outputId": "7fe1a18a-4e4e-4df5-f264-9f14c9cd06ab"
      },
      "execution_count": 3,
      "outputs": [
        {
          "output_type": "stream",
          "name": "stdout",
          "text": [
            "{'nutella': 2, 'coffee': 1, 'tea': 2}\n"
          ]
        }
      ]
    },
    {
      "cell_type": "markdown",
      "source": [
        "### DictioNAries meet DNA"
      ],
      "metadata": {
        "id": "7lIzcKnBCWiu"
      }
    },
    {
      "cell_type": "markdown",
      "source": [
        "Below we represent the codon table that you saw when we talked about translation (of codons to amino acids) - now as a dictionary in Python.\n",
        "\n",
        "Notice how when we compute the `len` of the `codonDict`, we get the number of keys in the dictionary. Since there are 4 types of bases that can be in 3 different positions, there are 64 combinations (4 x 4 x 4 = 64)"
      ],
      "metadata": {
        "id": "2UPhomUuciHJ"
      }
    },
    {
      "cell_type": "code",
      "source": [
        "codonDict = {\"UUU\": \"Phe\", \"UUC\": \"Phe\", \"UUA\": \"Leu\", \"UUG\": \"Leu\",\n",
        "              \"CUU\": \"Leu\", \"CUC\": \"Leu\", \"CUA\": \"Leu\", \"CUG\": \"Leu\",\n",
        "              \"AUU\": \"Ile\", \"AUC\": \"Ile\", \"AUA\": \"Ile\", \"AUG\": \"Met\",\n",
        "              \"GUU\": \"Val\", \"GUC\": \"Val\", \"GUA\": \"Val\", \"GUG\": \"Val\",\n",
        "              \"UCU\": \"Ser\", \"UCC\": \"Ser\", \"UCA\": \"Ser\", \"UCG\": \"Ser\",\n",
        "              \"CCU\": \"Pro\", \"CCC\": \"Pro\", \"CCA\": \"Pro\", \"CCG\": \"Pro\",\n",
        "              \"ACU\": \"Thr\", \"ACC\": \"Thr\", \"ACA\": \"Thr\", \"ACG\": \"Thr\",\n",
        "              \"GCU\": \"Ala\", \"GCC\": \"Ala\", \"GCA\": \"Ala\", \"GCG\": \"Ala\",\n",
        "              \"UAU\": \"Tyr\", \"UAC\": \"Tyr\", \"UAA\": \"stop\", \"UAG\": \"stop\",\n",
        "              \"CAU\": \"His\", \"CAC\": \"His\", \"CAA\": \"Gln\", \"CAG\": \"Gln\",\n",
        "              \"AAU\": \"Asn\", \"AAC\": \"Asn\", \"AAA\": \"Lys\", \"AAG\": \"Lys\",\n",
        "              \"GAU\": \"Glu\", \"GAC\": \"Glu\", \"GAA\": \"Asp\", \"GAG\": \"Asp\",\n",
        "              \"UGU\": \"Cys\", \"UGC\": \"Cys\", \"UGA\": \"stop\", \"UGG\": \"Trp\",\n",
        "              \"CGU\": \"Arg\", \"CGC\": \"Arg\", \"CGA\": \"Arg\", \"CGG\": \"Arg\",\n",
        "              \"AGU\": \"Ser\", \"AGC\": \"Ser\", \"AGA\": \"Arg\", \"AGG\": \"Arg\",\n",
        "              \"GGU\": \"Gly\", \"GGC\": \"Gly\", \"GGA\": \"Gly\", \"GGG\": \"Gly\",}\n",
        "\n",
        "print(codonDict)\n",
        "print(len(codonDict))"
      ],
      "metadata": {
        "id": "qclQxpkd_Fe1",
        "colab": {
          "base_uri": "https://localhost:8080/"
        },
        "outputId": "bd80dfb4-aff5-4fed-ed3f-a05bab2adb49"
      },
      "execution_count": 4,
      "outputs": [
        {
          "output_type": "stream",
          "name": "stdout",
          "text": [
            "{'UUU': 'Phe', 'UUC': 'Phe', 'UUA': 'Leu', 'UUG': 'Leu', 'CUU': 'Leu', 'CUC': 'Leu', 'CUA': 'Leu', 'CUG': 'Leu', 'AUU': 'Ile', 'AUC': 'Ile', 'AUA': 'Ile', 'AUG': 'Met', 'GUU': 'Val', 'GUC': 'Val', 'GUA': 'Val', 'GUG': 'Val', 'UCU': 'Ser', 'UCC': 'Ser', 'UCA': 'Ser', 'UCG': 'Ser', 'CCU': 'Pro', 'CCC': 'Pro', 'CCA': 'Pro', 'CCG': 'Pro', 'ACU': 'Thr', 'ACC': 'Thr', 'ACA': 'Thr', 'ACG': 'Thr', 'GCU': 'Ala', 'GCC': 'Ala', 'GCA': 'Ala', 'GCG': 'Ala', 'UAU': 'Tyr', 'UAC': 'Tyr', 'UAA': 'stop', 'UAG': 'stop', 'CAU': 'His', 'CAC': 'His', 'CAA': 'Gln', 'CAG': 'Gln', 'AAU': 'Asn', 'AAC': 'Asn', 'AAA': 'Lys', 'AAG': 'Lys', 'GAU': 'Glu', 'GAC': 'Glu', 'GAA': 'Asp', 'GAG': 'Asp', 'UGU': 'Cys', 'UGC': 'Cys', 'UGA': 'stop', 'UGG': 'Trp', 'CGU': 'Arg', 'CGC': 'Arg', 'CGA': 'Arg', 'CGG': 'Arg', 'AGU': 'Ser', 'AGC': 'Ser', 'AGA': 'Arg', 'AGG': 'Arg', 'GGU': 'Gly', 'GGC': 'Gly', 'GGA': 'Gly', 'GGG': 'Gly'}\n",
            "64\n"
          ]
        }
      ]
    },
    {
      "cell_type": "markdown",
      "source": [
        "But there aren't 64 aminos! There are only 20. This is why the codon table is said to be _degenerate_: multiple codons can encode the same amino acid. You can see that clearly by looking at what was printed when you ran the code cell above. For example, both keys `UUU` and `UUC` code for the value `Phe`.\n",
        "\n",
        "In the code cell below, we are building a new dictionary, called `aminoDict` that has the amino acids as keys and the corresponding _list_ of codons that represent that acid as the values. This is like a reverse translation!\n",
        "\n",
        "Now when we compute the `len` of the dictionary we find that there are 21 keys in the dictionary; 20 for the amino acids and 1 for the stop codon."
      ],
      "metadata": {
        "id": "Hl6swd-jbRVI"
      }
    },
    {
      "cell_type": "markdown",
      "source": [
        "**Note:** We are using the handy feature that things that you've defined in previous code cells can be used in later code cells in the same notebook. We'll do that here and throughout this notebook (and in future notebooks too!). **But...** if it's been awhile since you last ran those prior code cells, Colab may forget about them. So, you will need to go back and run those prior code cells so that you can use them in later cells."
      ],
      "metadata": {
        "id": "MoDzPIp1gjg5"
      }
    },
    {
      "cell_type": "code",
      "source": [
        "aminoDict = {}\n",
        "\n",
        "# codonDict was defined in an earlier code cell and we're using it here.\n",
        "for codon in codonDict:\n",
        "  amino = codonDict[codon]\n",
        "  if amino not in aminoDict:\n",
        "    aminoDict[amino] = [codon]\n",
        "  else:\n",
        "    aminoDict[amino] = aminoDict[amino] + [codon]\n",
        "\n",
        "print(aminoDict)\n",
        "print(\"The length of the dictionary is:\", len(aminoDict)) # 20 aminos + stop"
      ],
      "metadata": {
        "id": "FEa3VVSrCl3H",
        "colab": {
          "base_uri": "https://localhost:8080/"
        },
        "outputId": "0cfeeffc-f2ca-4e21-a4ec-d94713d3307d"
      },
      "execution_count": 5,
      "outputs": [
        {
          "output_type": "stream",
          "name": "stdout",
          "text": [
            "{'Phe': ['UUU', 'UUC'], 'Leu': ['UUA', 'UUG', 'CUU', 'CUC', 'CUA', 'CUG'], 'Ile': ['AUU', 'AUC', 'AUA'], 'Met': ['AUG'], 'Val': ['GUU', 'GUC', 'GUA', 'GUG'], 'Ser': ['UCU', 'UCC', 'UCA', 'UCG', 'AGU', 'AGC'], 'Pro': ['CCU', 'CCC', 'CCA', 'CCG'], 'Thr': ['ACU', 'ACC', 'ACA', 'ACG'], 'Ala': ['GCU', 'GCC', 'GCA', 'GCG'], 'Tyr': ['UAU', 'UAC'], 'stop': ['UAA', 'UAG', 'UGA'], 'His': ['CAU', 'CAC'], 'Gln': ['CAA', 'CAG'], 'Asn': ['AAU', 'AAC'], 'Lys': ['AAA', 'AAG'], 'Glu': ['GAU', 'GAC'], 'Asp': ['GAA', 'GAG'], 'Cys': ['UGU', 'UGC'], 'Trp': ['UGG'], 'Arg': ['CGU', 'CGC', 'CGA', 'CGG', 'AGA', 'AGG'], 'Gly': ['GGU', 'GGC', 'GGA', 'GGG']}\n",
            "The length of the dictionary is: 21\n"
          ]
        }
      ]
    },
    {
      "cell_type": "markdown",
      "source": [
        "**Part 5**\n",
        "\n",
        "Complete the code cell below to create a new dictionary called `numCodonsDict` with amino acids as its keys and the number of codons that encode that amino acid as the values. You can use the `aminoDict` that we made in the code cell above to compute the `len`gth of the list that contains all the codons that code for each amino acid. The code cell below should display something that starts off like this:\n",
        "<pre>\n",
        "{'Phe': 2, 'Leu': 6, 'Ile': 3, 'Met': 1, ...\n",
        "</pre>"
      ],
      "metadata": {
        "id": "CHrYu4ZSRxCF"
      }
    },
    {
      "cell_type": "markdown",
      "source": [
        "Notice that the code that you write here will not be inside a function: There is no `def` followed by a function name. That's fine. Although we _normally_ use functions so that we can use them later by name, it's also fine to have code that is not inside a function - it's just code that is run when we run the code cell. We've actually already done this a lot. For example, in the code cell above, notice that lines 11 and 12 are not inside a function - they are just run when we run the code cell."
      ],
      "metadata": {
        "id": "5tPparGPoNG7"
      }
    },
    {
      "cell_type": "code",
      "source": [
        "numCodonsDict = {}\n",
        "for amino in aminoDict:\n",
        "  numCodonsDict[amino] = len(aminoDict[amino])\n",
        "\n",
        "print(numCodonsDict)"
      ],
      "metadata": {
        "id": "dtLaK1foSUjk",
        "colab": {
          "base_uri": "https://localhost:8080/"
        },
        "outputId": "b4b3dfb6-e9a3-4344-f600-ceb96a6d2f3d"
      },
      "execution_count": 6,
      "outputs": [
        {
          "output_type": "stream",
          "name": "stdout",
          "text": [
            "{'Phe': 2, 'Leu': 6, 'Ile': 3, 'Met': 1, 'Val': 4, 'Ser': 6, 'Pro': 4, 'Thr': 4, 'Ala': 4, 'Tyr': 2, 'stop': 3, 'His': 2, 'Gln': 2, 'Asn': 2, 'Lys': 2, 'Glu': 2, 'Asp': 2, 'Cys': 2, 'Trp': 1, 'Arg': 6, 'Gly': 4}\n"
          ]
        }
      ]
    },
    {
      "cell_type": "markdown",
      "source": [
        "**Part 6**"
      ],
      "metadata": {
        "id": "-K1_V2AvdqFK"
      }
    },
    {
      "cell_type": "markdown",
      "source": [
        "\n",
        "Let's implement the process of translation from mRNA to proteins in Python. Complete the `translate` function below. This function should take a list of codons as input and use the `codonTable` dictionary to look up the amino acid **and return** a string of amino acids (aka, a protein!) with each amino acid separated by a `-`.\n",
        "\n",
        "For example...\n",
        "<pre>\n",
        "translate([\"AUG\", \"UUU\", \"AGA\", \"CGC\", \"UAA\"]))\n",
        "</pre>\n",
        "... returns the string...\n",
        "<pre>\n",
        "\"Met-Phe-Arg-Arg-stop\"\n",
        "</pre>\n",
        "\n"
      ],
      "metadata": {
        "id": "yPOTJ64Tkw8w"
      }
    },
    {
      "cell_type": "markdown",
      "source": [
        "Notice that there is no `-` after the `stop` codon!"
      ],
      "metadata": {
        "id": "vZd_V2JNGmcl"
      }
    },
    {
      "cell_type": "code",
      "source": [
        "def translate(codonList):\n",
        "  output = \"\"\n",
        "\n",
        "  if codonList[0] != \"AUG\":\n",
        "    return \"Sequence does not begin with start codon.\"\n",
        "\n",
        "  # codonList[len(codonList)-1] extracts the codon string in the last location in the list\n",
        "  elif codonList[len(codonList)-1] not in [\"UAA\", \"UAG\", \"UGA\"]:\n",
        "    return \"Sequence does not end with stop codon.\"\n",
        "\n",
        "  else:\n",
        "    for codon in codonList:\n",
        "      amino = codonDict[codon]\n",
        "      if amino == \"stop\":\n",
        "        output = output\n",
        "      else:\n",
        "        output = output + amino + \"-\"\n",
        "\n",
        "    # I'm not sure, is there a better way to do this?\n",
        "    if output[-1] == \"-\":\n",
        "      return output[:-1]\n",
        "    return output\n",
        "\n",
        "print(translate(codonList = [\"AAG\", \"UUU\", \"AGA\"])) # Sequence does not begin with start codon.\n",
        "print(translate(codonList = [\"AUG\", \"UUU\", \"AGA\", \"CGC\", \"ACC\"])) # Sequence does not end with stop codon.\n",
        "print(translate(codonList = [\"AUG\", \"UUU\", \"AGA\", \"CGC\", \"UAA\"])) # Met-Phe-Arg-Arg-stop"
      ],
      "metadata": {
        "id": "-v1El68dTDnk",
        "colab": {
          "base_uri": "https://localhost:8080/"
        },
        "outputId": "a1ebb781-b37d-4d87-e0e9-0ec8edeacd11"
      },
      "execution_count": 20,
      "outputs": [
        {
          "output_type": "stream",
          "name": "stdout",
          "text": [
            "Sequence does not begin with start codon.\n",
            "Sequence does not end with stop codon.\n",
            "Met-Phe-Arg-Arg\n"
          ]
        }
      ]
    },
    {
      "cell_type": "markdown",
      "source": [
        "## Tuples: First cousins of lists!\n",
        "\n",
        "Next, let's see another new datatype called _tuples_. They are _nearly_ identical to lists."
      ],
      "metadata": {
        "id": "hSnC9_mQMzm_"
      }
    },
    {
      "cell_type": "code",
      "source": [
        "def addUp(myTuple):\n",
        "  counter = 0\n",
        "  for item in myTuple:\n",
        "    print(\"The next item is\", item)\n",
        "    counter = counter + item\n",
        "  return counter\n",
        "\n",
        "tupleExample = (10, 20, 42) # A tuple! It looks like a list but uses ( and )\n",
        "sum = addUp(myTuple = tupleExample)\n",
        "print(sum)"
      ],
      "metadata": {
        "id": "i2JwGZEzNQYm",
        "colab": {
          "base_uri": "https://localhost:8080/"
        },
        "outputId": "51a231ec-ec4c-498b-d44b-5487193bba09"
      },
      "execution_count": 21,
      "outputs": [
        {
          "output_type": "stream",
          "name": "stdout",
          "text": [
            "The next item is 10\n",
            "The next item is 20\n",
            "The next item is 42\n",
            "72\n"
          ]
        }
      ]
    },
    {
      "cell_type": "markdown",
      "source": [
        "The main difference between tuples and lists are:\n",
        "  * Tuples use parentheses `(` and `)` rather than brackets `[`, `]`.\n",
        "  * Tuples _can_ be used as the **keys** in dictionaries while lists cannot. (Any data type can be used as  **values** in dictionaries however, including lists, tuples, numbers, strings, and even other dictionaries!)\n",
        "  * (There are a few other differences, but they won't arise in this course.)\n"
      ],
      "metadata": {
        "id": "ArPPT8CqNrro"
      }
    },
    {
      "cell_type": "markdown",
      "source": [
        "Though tuples are created by using parentheses `()`, items within the tuple can still be indexed using brackets `[]` with an index inside those brackets. This is similar to how dictionaries are created using curly brackets `{}` but we can extract values associated with keys using brackets `[]`. Here's an example..."
      ],
      "metadata": {
        "id": "sfJmnKt8zulV"
      }
    },
    {
      "cell_type": "code",
      "source": [
        "myTuple = (\"a\", 42, [\"b\"])\n",
        "print(\"The first item in myTuple is\", myTuple[0])\n",
        "print(\"The second item in myTuple is\", myTuple[1])\n",
        "print(\"The third item in myTuple is\", myTuple[2])"
      ],
      "metadata": {
        "id": "YtH0IyXR0MdA",
        "colab": {
          "base_uri": "https://localhost:8080/"
        },
        "outputId": "a143df86-68d9-4d84-a564-6fd8a3f7bac6"
      },
      "execution_count": 22,
      "outputs": [
        {
          "output_type": "stream",
          "name": "stdout",
          "text": [
            "The first item in myTuple is a\n",
            "The second item in myTuple is 42\n",
            "The third item in myTuple is ['b']\n"
          ]
        }
      ]
    },
    {
      "cell_type": "code",
      "source": [
        "myDict = {\"a\": \"First letter\", \"b\": \"Second letter\"}\n",
        "print(\"The value for the key 'a' is\", myDict[\"a\"])\n",
        "print(\"The value for the key 'b' is\", myDict[\"b\"])"
      ],
      "metadata": {
        "id": "KEM8XFHj0oPG",
        "colab": {
          "base_uri": "https://localhost:8080/"
        },
        "outputId": "7d70f71d-1096-42ba-f24d-418f048dd3a4"
      },
      "execution_count": 23,
      "outputs": [
        {
          "output_type": "stream",
          "name": "stdout",
          "text": [
            "The value for the key 'a' is First letter\n",
            "The value for the key 'b' is Second letter\n"
          ]
        }
      ]
    },
    {
      "cell_type": "markdown",
      "source": [
        "### Tuples and lists as keys in dictionaries\n",
        "\n",
        "Imagine that we'd like to have a dictionary where the keys are pairs, like first name and last name and the values are the lists of foods that this person likes.\n",
        "\n",
        "Try that below, but Python complains..."
      ],
      "metadata": {
        "id": "7aikkT4zOvVu"
      }
    },
    {
      "cell_type": "code",
      "source": [
        "key1 = [\"Colin\", \"Rathbun\"]\n",
        "value1 = [\"cookies\", \"almonds\", \"nutella\"]\n",
        "key2 = [\"Nia\", \"Walker\"]\n",
        "value2 = [\"sushi\", \"hazelnuts\"]\n",
        "# We start with an empty dictionary...\n",
        "foodLikes = {}\n",
        "# ... and try to add key-value pairs\n",
        "foodLikes[key1] = value1\n",
        "foodLikes[key2] = value2\n",
        "print(foodLikes)"
      ],
      "metadata": {
        "id": "csFRJoU6PLFH",
        "colab": {
          "base_uri": "https://localhost:8080/",
          "height": 216
        },
        "outputId": "d0dd772e-2d81-462b-c495-e514e2c94625"
      },
      "execution_count": 24,
      "outputs": [
        {
          "output_type": "error",
          "ename": "TypeError",
          "evalue": "unhashable type: 'list'",
          "traceback": [
            "\u001b[0;31m---------------------------------------------------------------------------\u001b[0m",
            "\u001b[0;31mTypeError\u001b[0m                                 Traceback (most recent call last)",
            "\u001b[0;32m/tmp/ipython-input-195236388.py\u001b[0m in \u001b[0;36m<cell line: 0>\u001b[0;34m()\u001b[0m\n\u001b[1;32m      6\u001b[0m \u001b[0mfoodLikes\u001b[0m \u001b[0;34m=\u001b[0m \u001b[0;34m{\u001b[0m\u001b[0;34m}\u001b[0m\u001b[0;34m\u001b[0m\u001b[0;34m\u001b[0m\u001b[0m\n\u001b[1;32m      7\u001b[0m \u001b[0;31m# ... and try to add key-value pairs\u001b[0m\u001b[0;34m\u001b[0m\u001b[0;34m\u001b[0m\u001b[0m\n\u001b[0;32m----> 8\u001b[0;31m \u001b[0mfoodLikes\u001b[0m\u001b[0;34m[\u001b[0m\u001b[0mkey1\u001b[0m\u001b[0;34m]\u001b[0m \u001b[0;34m=\u001b[0m \u001b[0mvalue1\u001b[0m\u001b[0;34m\u001b[0m\u001b[0;34m\u001b[0m\u001b[0m\n\u001b[0m\u001b[1;32m      9\u001b[0m \u001b[0mfoodLikes\u001b[0m\u001b[0;34m[\u001b[0m\u001b[0mkey2\u001b[0m\u001b[0;34m]\u001b[0m \u001b[0;34m=\u001b[0m \u001b[0mvalue2\u001b[0m\u001b[0;34m\u001b[0m\u001b[0;34m\u001b[0m\u001b[0m\n\u001b[1;32m     10\u001b[0m \u001b[0mprint\u001b[0m\u001b[0;34m(\u001b[0m\u001b[0mfoodLikes\u001b[0m\u001b[0;34m)\u001b[0m\u001b[0;34m\u001b[0m\u001b[0;34m\u001b[0m\u001b[0m\n",
            "\u001b[0;31mTypeError\u001b[0m: unhashable type: 'list'"
          ]
        }
      ]
    },
    {
      "cell_type": "markdown",
      "source": [
        "The error message is telling us that the dictionary doesn't like a list as a key. But, by using a tuple instead, everything is fine. Notice that the values can still be lists!"
      ],
      "metadata": {
        "id": "L1K466PBPwlh"
      }
    },
    {
      "cell_type": "code",
      "source": [
        "key1 = (\"Colin\", \"Rathbun\")\n",
        "value1 = [\"cookies\", \"almonds\", \"nutella\"]\n",
        "key2 = (\"Nia\", \"Walker\")\n",
        "value2 = [\"sushi\", \"hazelnuts\"]\n",
        "# We start with an empty dictionary...\n",
        "foodLikes = {}\n",
        "# ... and try to add key-value pairs\n",
        "foodLikes[key1] = value1\n",
        "foodLikes[key2] = value2\n",
        "print(foodLikes)"
      ],
      "metadata": {
        "id": "Qj9cewnbQNEp",
        "colab": {
          "base_uri": "https://localhost:8080/"
        },
        "outputId": "98055b14-4e3e-4aff-a48d-077049c5562b"
      },
      "execution_count": 25,
      "outputs": [
        {
          "output_type": "stream",
          "name": "stdout",
          "text": [
            "{('Colin', 'Rathbun'): ['cookies', 'almonds', 'nutella'], ('Nia', 'Walker'): ['sushi', 'hazelnuts']}\n"
          ]
        }
      ]
    },
    {
      "cell_type": "markdown",
      "source": [
        "## For loops on for loops! (aka \"Nested 🪆 for loops\")"
      ],
      "metadata": {
        "id": "5a0nWI4612rr"
      }
    },
    {
      "cell_type": "markdown",
      "source": [
        "We've already introduced the idea of nested for loops - one for loop within another for loop.\n",
        "\n",
        "Let's start with a single for loop to remind ourselves of a key concept. In the function in the code cell below, notice that the for loop in line 3 has a block of code that \"belongs to it\" - lines 4 through 9 are indented underneath the for loop. That means that for each `num` in `numList`, Python will perform the instructions in that nested block."
      ],
      "metadata": {
        "id": "xq3eff8RqcQZ"
      }
    },
    {
      "cell_type": "code",
      "source": [
        "def simple(numList):\n",
        "  print(\"Getting started\")\n",
        "  for num in numList:\n",
        "    print(\"  The next number is\", num)\n",
        "    if num > 42:\n",
        "      print(\"  Too large!\")\n",
        "    elif num < 42:\n",
        "      print(\"  Too small!\")\n",
        "    else:\n",
        "      print(\"  Just right!\")\n",
        "  print(\"All done\")\n",
        "\n",
        "simple(numList = [5, 100, 42, 7])\n"
      ],
      "metadata": {
        "id": "IuRGQmRoqvvt",
        "colab": {
          "base_uri": "https://localhost:8080/"
        },
        "outputId": "f7eebce2-86b8-4d47-a448-81dbf1eb4737"
      },
      "execution_count": 26,
      "outputs": [
        {
          "output_type": "stream",
          "name": "stdout",
          "text": [
            "Getting started\n",
            "  The next number is 5\n",
            "  Too small!\n",
            "  The next number is 100\n",
            "  Too large!\n",
            "  The next number is 42\n",
            "  Just right!\n",
            "  The next number is 7\n",
            "  Too small!\n",
            "All done\n"
          ]
        }
      ]
    },
    {
      "cell_type": "markdown",
      "source": [
        "Next, consider the function below. Notice that the for loop in line 3 has a block of code that \"belongs to it\" - that's the block indented below it in lines 4 and 5. So, by the same reasoning as above, for each `base` in `baseList`, Python must complete lines 4 and 5 before coming back to line 3 to consider the next `base`.\n",
        "\n",
        "In this example, the first `base` is `\"thin crust\"`. So, now, Python must complete the block of code in lines 4 and 5 before coming back to the next `base`.\n",
        "\n",
        "To do that, Python starts at line 4. Here, it must loop through each `topping` in `toppingsList`. It goes through them one-by-one. When it's all done going through the toppings, it has fulfilled its obligation. Now, the block of code in lines 4 and 5 is complete and we come back to line 3 to consider the next `base`.\n",
        "\n",
        "It's important to note that nested for loops are not _magic_. Just like we can have if-elif-else statements inside the block of a for loop, we can have another for loop inside that block."
      ],
      "metadata": {
        "id": "Du3KAX-5sGXg"
      }
    },
    {
      "cell_type": "code",
      "source": [
        "def combos(baseList, toppingsList):\n",
        "  print(\"Available combinations:\")\n",
        "  for base in baseList:\n",
        "    for topping in toppingsList:\n",
        "      print(base, \"with\", topping)\n",
        "  print(\"Ciao!\")\n",
        "\n",
        "combos(baseList = [\"thin crust\", \"thick crust\"], toppingsList = [\"mushrooms\", \"basil\", \"tomato\"])"
      ],
      "metadata": {
        "id": "8RJzs4eZsLSx",
        "colab": {
          "base_uri": "https://localhost:8080/"
        },
        "outputId": "b26fa5bf-86d4-4a26-985f-d1cfddadc9cf"
      },
      "execution_count": 27,
      "outputs": [
        {
          "output_type": "stream",
          "name": "stdout",
          "text": [
            "Available combinations:\n",
            "thin crust with mushrooms\n",
            "thin crust with basil\n",
            "thin crust with tomato\n",
            "thick crust with mushrooms\n",
            "thick crust with basil\n",
            "thick crust with tomato\n",
            "Ciao!\n"
          ]
        }
      ]
    },
    {
      "cell_type": "markdown",
      "source": [
        "Next, take a look at a variant of the `combos` function below. Notice that we have a `print` statement in line 4 to print the current `base`. Then, at line 5 we have a second `for` loop for printing all of the toppings. As was the case above, the `base` does not change until the second `for` loop has completed going through the list of `topping`s."
      ],
      "metadata": {
        "id": "LiReW4HXsPe_"
      }
    },
    {
      "cell_type": "code",
      "source": [
        "def combos1(baseList, toppingsList):\n",
        "  print(\"Available combinations\")\n",
        "  for base in baseList:\n",
        "    print(\"Base\", base)\n",
        "    for topping in toppingsList:\n",
        "      print(\" topping\", topping)\n",
        "  print(\"Ciao!\")\n",
        "\n",
        "combos1(baseList = [\"thin crust\", \"thick crust\"], toppingsList = [\"mushrooms\", \"basil\", \"tomato\"])\n"
      ],
      "metadata": {
        "id": "H7SMsVKJr94b",
        "colab": {
          "base_uri": "https://localhost:8080/"
        },
        "outputId": "0d164623-87ff-448d-a5a9-f8ad0268bc40"
      },
      "execution_count": 28,
      "outputs": [
        {
          "output_type": "stream",
          "name": "stdout",
          "text": [
            "Available combinations\n",
            "Base thin crust\n",
            " topping mushrooms\n",
            " topping basil\n",
            " topping tomato\n",
            "Base thick crust\n",
            " topping mushrooms\n",
            " topping basil\n",
            " topping tomato\n",
            "Ciao!\n"
          ]
        }
      ]
    },
    {
      "cell_type": "markdown",
      "source": [
        "**Part 7**\n",
        "\n",
        "The code cell below defines a function that takes a list of DNA sequences (strings) as input and prints all pairs of DNA sequences that have the same length. For the `testList` test input, this function should print:\n",
        "<pre>\n",
        "ATC ATC\n",
        "ATC TTT\n",
        "TTAC TTAC\n",
        "TTAC GGGA\n",
        "GGGA TTAC\n",
        "GGGA GGGA\n",
        "TTT ATC\n",
        "TTT TTT\n",
        "</pre>\n",
        "\n",
        "Fill in the missing code. Recall that `len` is a built-in function that takes a string or list as input and returns its length."
      ],
      "metadata": {
        "id": "JG9GciWTungV"
      }
    },
    {
      "cell_type": "code",
      "source": [
        "def sameLength(DNAstrings):\n",
        "  for DNA1 in DNAstrings:\n",
        "    for DNA2 in DNAstrings:\n",
        "      if len(DNA1) == len(DNA2):\n",
        "        print(DNA1 + \" \" + DNA2)\n",
        "\n",
        "testList = [\"ATC\", \"TTAC\", \"GGGA\", \"TTT\"]\n",
        "sameLength(DNAstrings = testList)"
      ],
      "metadata": {
        "id": "7XvxAQjXt9B8",
        "colab": {
          "base_uri": "https://localhost:8080/"
        },
        "outputId": "452e2a3a-62c6-41dd-963a-1702541a11b8"
      },
      "execution_count": 29,
      "outputs": [
        {
          "output_type": "stream",
          "name": "stdout",
          "text": [
            "ATC ATC\n",
            "ATC TTT\n",
            "TTAC TTAC\n",
            "TTAC GGGA\n",
            "GGGA TTAC\n",
            "GGGA GGGA\n",
            "TTT ATC\n",
            "TTT TTT\n"
          ]
        }
      ]
    },
    {
      "cell_type": "markdown",
      "source": [
        "**Part 8**\n",
        "\n",
        "Next, in the code below, write a new version of `sameLength` called `sameLength1` that **returns** the list of all tuples of two DNA strings that have the same length, _except_ that it should not include a DNA sequence and itself.\n",
        "\n",
        "For the provided `testList`, line 9 should print\n",
        "<pre>\n",
        "[('ATC', 'TTT'), ('TTAC', 'GGGA'), ('GGGA', 'TTAC'), ('TTT', 'ATC')]\n",
        "</pre>"
      ],
      "metadata": {
        "id": "St8Pvk7cuwfR"
      }
    },
    {
      "cell_type": "code",
      "source": [
        "def sameLength1(DNAstrings):\n",
        "  output = []\n",
        "  for DNA1 in testList:\n",
        "    for DNA2 in testList:\n",
        "      if DNA1 == DNA2:\n",
        "        output.append((DNA1, DNA2))\n",
        "\n",
        "  return output\n",
        "\n",
        "\n",
        "testList = [\"ATC\", \"TTAC\", \"GGGA\", \"TTT\"]\n",
        "result = sameLength1(DNAstrings = testList)\n",
        "print(result)"
      ],
      "metadata": {
        "id": "I7DY7CxpuqLu",
        "colab": {
          "base_uri": "https://localhost:8080/"
        },
        "outputId": "f36daa57-abc2-4e9d-d814-7d7d65052eec"
      },
      "execution_count": 34,
      "outputs": [
        {
          "output_type": "stream",
          "name": "stdout",
          "text": [
            "[('ATC', 'ATC'), ('TTAC', 'TTAC'), ('GGGA', 'GGGA'), ('TTT', 'TTT')]\n"
          ]
        }
      ]
    },
    {
      "cell_type": "markdown",
      "source": [
        "## Reading text files\n",
        "\n",
        "Next, copy the `GreenEggsAndHam.txt` and `ShakespeareSonnets.txt` files from the [Week 8 folder](https://drive.google.com/drive/folders/1yxAg4HiVFdJdal6mT9DgchkaFj5HGFHF?usp=drive_link) into *your own* `SCI10 > Week8` folder on Google Drive. Please be sure that you do not change the file names! (Note that we are doing HW7 but it is `Week8` of the course. Be sure that your `SCI10` folder is at the top level of your google drive rather than inside some other folder. Be careful about spelling and spaces. The code below is going to look for the files in your `SCI10` folder and, within that folder, in the `Week8` subfolder.)\n",
        "\n",
        "Then, copy the `wordCount` function from above (Part 3) to the cell below."
      ],
      "metadata": {
        "id": "Fw9vtHEIrJAK"
      }
    },
    {
      "cell_type": "code",
      "source": [
        "from google.colab import drive\n",
        "drive.mount('/content/drive')\n",
        "\n",
        "# This function takes in a filename (in Google Drive)\n",
        "# and returns the list of words in that file.\n",
        "def readFile(filename):\n",
        "  with open(filename, \"r\") as file:\n",
        "    fileContents = file.read()\n",
        "    wordList = fileContents.split()\n",
        "    return wordList\n",
        "\n",
        "# Paste your wordCount function here. Use the version from the code cell\n",
        "# above.\n",
        "\n",
        "def wordCount(wordList):\n",
        "  wordCountDict = {}  # This is an empty dictionary\n",
        "  for word in wordList:\n",
        "    if word not in wordCountDict:\n",
        "      wordCountDict[word] = 1\n",
        "    else:\n",
        "      wordCountDict[word] = wordCountDict[word] + 1\n",
        "  return wordCountDict\n",
        "\n",
        "greenList = readFile(filename = \"/content/drive/My Drive/SCI10/Week8/GreenEggsAndHam.txt\")\n",
        "sonnetList = readFile(filename = \"/content/drive/My Drive/SCI10/Week8/ShakespeareSonnets.txt\")\n",
        "print(\"GreenEggsAndHam.txt has\", len(greenList), \"words\")\n",
        "print(greenList)\n",
        "print()\n",
        "print(\"ShakespeareSonnets.txt has\", len(sonnetList), \"words\")\n",
        "print(sonnetList)\n",
        "print()\n",
        "countGreen = wordCount(wordList = greenList)\n",
        "print(countGreen[\"ham.\"]) # should be 5\n",
        "countSonnet = wordCount(wordList = sonnetList)\n",
        "print(countSonnet[\"we\"])  # should be 13"
      ],
      "metadata": {
        "id": "QWaHLSagrBdD",
        "colab": {
          "base_uri": "https://localhost:8080/"
        },
        "outputId": "72834e4c-8436-46ac-aab2-e72fd24d125b"
      },
      "execution_count": 38,
      "outputs": [
        {
          "output_type": "stream",
          "name": "stdout",
          "text": [
            "Drive already mounted at /content/drive; to attempt to forcibly remount, call drive.mount(\"/content/drive\", force_remount=True).\n",
            "GreenEggsAndHam.txt has 777 words\n",
            "['That', 'Sam-I-am!', 'That', 'Sam-I-am!', 'I', 'do', 'not', 'like', 'that', 'Sam-I-am!', 'Do', 'you', 'like', 'green', 'eggs', 'and', 'ham?', 'I', 'do', 'not', 'like', 'them,', 'Sam-I-am.', 'I', 'do', 'not', 'like', 'green', 'eggs', 'and', 'ham.', 'Would', 'you', 'like', 'them', 'here', 'or', 'there?', 'I', 'would', 'not', 'like', 'them', 'here', 'or', 'there.', 'I', 'would', 'not', 'like', 'them', 'anywhere.', 'I', 'do', 'not', 'like', 'green', 'eggs', 'and', 'ham.', 'I', 'do', 'not', 'like', 'them,', 'Sam-I-am.', 'Would', 'you', 'like', 'them', 'in', 'a', 'house?', 'Would', 'you', 'like', 'them', 'with', 'a', 'mouse?', 'I', 'do', 'not', 'like', 'them', 'in', 'a', 'house.', 'I', 'do', 'not', 'like', 'them', 'with', 'a', 'mouse.', 'I', 'do', 'not', 'like', 'them', 'here', 'or', 'there.', 'I', 'do', 'not', 'like', 'them', 'anywhere.', 'I', 'do', 'not', 'like', 'green', 'eggs', 'and', 'ham.', 'I', 'do', 'not', 'like', 'them,', 'Sam-I-am.', 'Would', 'you', 'eat', 'them', 'in', 'a', 'box?', 'Would', 'you', 'eat', 'them', 'with', 'a', 'fox?', 'Not', 'in', 'a', 'box.', 'Not', 'with', 'a', 'fox.', 'Not', 'in', 'a', 'house.', 'Not', 'with', 'a', 'mouse.', 'I', 'would', 'not', 'eat', 'them', 'here', 'or', 'there.', 'I', 'would', 'not', 'eat', 'them', 'anywhere.', 'I', 'would', 'not', 'eat', 'green', 'eggs', 'and', 'ham.', 'I', 'do', 'not', 'like', 'them,', 'Sam-I-am.', 'Would', 'you?', 'Could', 'you?', 'In', 'a', 'car?', 'Eat', 'them!', 'Eat', 'them!', 'Here', 'they', 'are.', 'I', 'would', 'not,', 'could', 'not,', 'in', 'a', 'car.', 'You', 'may', 'like', 'them.', 'You', 'will', 'see.', 'You', 'may', 'like', 'them', 'in', 'a', 'tree!', 'I', 'would', 'not,', 'could', 'not', 'in', 'a', 'tree.', 'Not', 'in', 'a', 'car!', 'You', 'let', 'me', 'be.', 'I', 'do', 'not', 'like', 'them', 'in', 'a', 'box.', 'I', 'do', 'not', 'like', 'them', 'with', 'a', 'fox.', 'I', 'do', 'not', 'like', 'them', 'in', 'a', 'house.', 'I', 'do', 'not', 'like', 'them', 'with', 'a', 'mouse.', 'I', 'do', 'not', 'like', 'them', 'here', 'or', 'there.', 'I', 'do', 'not', 'like', 'them', 'anywhere.', 'I', 'do', 'not', 'like', 'green', 'eggs', 'and', 'ham.', 'I', 'do', 'not', 'like', 'them,', 'Sam-I-am.', 'A', 'train!', 'A', 'train!', 'A', 'train!', 'A', 'train!', 'Could', 'you,', 'would', 'you,', 'on', 'a', 'train?', 'Not', 'in', 'a', 'train!', 'Not', 'in', 'a', 'tree!', 'Not', 'in', 'a', 'car!', 'Sam!', 'Let', 'me', 'be!', 'I', 'would', 'not,', 'could', 'not,', 'in', 'a', 'box.', 'I', 'could', 'not,', 'would', 'not,', 'with', 'a', 'fox.', 'I', 'will', 'not', 'eat', 'them', 'with', 'a', 'mouse.', 'I', 'will', 'not', 'eat', 'them', 'in', 'a', 'house.', 'I', 'will', 'not', 'eat', 'them', 'here', 'or', 'there.', 'I', 'will', 'not', 'eat', 'them', 'anywhere.', 'I', 'do', 'not', 'like', 'green', 'eggs', 'and', 'spam.', 'I', 'do', 'not', 'like', 'them,', 'Sam-I-am.', 'Say!', 'In', 'the', 'dark?', 'Here', 'in', 'the', 'dark!', 'Would', 'you,', 'could', 'you,', 'in', 'the', 'dark?', 'I', 'would', 'not,', 'could', 'not,', 'in', 'the', 'dark.', 'Would', 'you,', 'could', 'you,', 'in', 'the', 'rain?', 'I', 'would', 'not,', 'could', 'not,', 'in', 'the', 'rain.', 'Not', 'in', 'the', 'dark.', 'Not', 'on', 'a', 'train.', 'Not', 'in', 'a', 'car.', 'Not', 'in', 'a', 'tree.', 'I', 'do', 'not', 'like', 'them,', 'Sam,', 'you', 'see.', 'Not', 'in', 'a', 'house.', 'Not', 'in', 'a', 'box.', 'Not', 'with', 'a', 'mouse.', 'Not', 'with', 'a', 'fox.', 'I', 'will', 'not', 'eat', 'them', 'here', 'or', 'there.', 'I', 'do', 'not', 'like', 'them', 'anywhere!', 'You', 'do', 'not', 'like', 'green', 'eggs', 'and', 'ham?', 'I', 'do', 'not', 'like', 'them,', 'Sam-I-am.', 'Could', 'you,', 'would', 'you,', 'with', 'a', 'goat?', 'I', 'would', 'not,', 'could', 'not,', 'with', 'a', 'goat!', 'Would', 'you,', 'could', 'you,', 'on', 'a', 'boat?', 'I', 'could', 'not,', 'would', 'not,', 'on', 'a', 'boat.', 'I', 'will', 'not,', 'will', 'not,', 'with', 'a', 'goat.', 'I', 'will', 'not', 'eat', 'them', 'in', 'the', 'rain.', 'I', 'will', 'not', 'eat', 'them', 'on', 'a', 'train.', 'Not', 'in', 'the', 'dark!', 'Not', 'in', 'a', 'tree!', 'Not', 'in', 'a', 'car!', 'You', 'let', 'me', 'be!', 'I', 'do', 'not', 'like', 'them', 'in', 'a', 'box.', 'I', 'do', 'not', 'like', 'them', 'with', 'a', 'fox.', 'I', 'will', 'not', 'eat', 'them', 'in', 'a', 'house.', 'I', 'do', 'not', 'like', 'them', 'with', 'a', 'mouse.', 'I', 'do', 'not', 'like', 'them', 'here', 'or', 'there.', 'I', 'do', 'not', 'like', 'them', 'anywhere!', 'I', 'do', 'not', 'like', 'green', 'eggs', 'and', 'ham!', 'I', 'do', 'not', 'like', 'them,', 'Sam-I-am.', 'You', 'do', 'not', 'like', 'them.', 'So', 'you', 'say.', 'Try', 'them!', 'Try', 'them!', 'And', 'you', 'may.', 'Try', 'them', 'and', 'you', 'may,', 'I', 'say.', 'Sam!', 'If', 'you', 'will', 'let', 'me', 'be,', 'I', 'will', 'try', 'them.', 'You', 'will', 'see.', 'Say!', 'I', 'like', 'green', 'eggs', 'and', 'ham!', 'I', 'do!', 'I', 'like', 'them,', 'Sam-I-am!', 'And', 'I', 'would', 'eat', 'them', 'in', 'a', 'boat.', 'And', 'I', 'would', 'eat', 'them', 'with', 'a', 'goat...', 'And', 'I', 'will', 'eat', 'them', 'in', 'the', 'rain.', 'And', 'in', 'the', 'dark.', 'And', 'on', 'a', 'train.', 'And', 'in', 'a', 'car.', 'And', 'in', 'a', 'tree.', 'They', 'are', 'so', 'good,', 'so', 'good,', 'you', 'see!', 'So', 'I', 'will', 'eat', 'them', 'in', 'a', 'box.', 'And', 'I', 'will', 'eat', 'them', 'with', 'a', 'fox.', 'And', 'I', 'will', 'eat', 'them', 'in', 'a', 'house.', 'And', 'I', 'will', 'eat', 'them', 'with', 'a', 'mouse.', 'And', 'I', 'will', 'eat', 'them', 'here', 'and', 'there.', 'Say!', 'I', 'will', 'eat', 'them', 'anywhere!', 'I', 'do', 'so', 'like', 'green', 'eggs', 'and', 'ham!', 'Thank', 'you!', 'Thank', 'you,', 'Sam-I-am!']\n",
            "\n",
            "ShakespeareSonnets.txt has 17670 words\n",
            "['From', 'fairest', 'creatures', 'we', 'desire', 'increase,', 'That', 'thereby', 'beauty’s', 'rose', 'might', 'never', 'die,', 'But', 'as', 'the', 'riper', 'should', 'by', 'time', 'decease,', 'His', 'tender', 'heir', 'might', 'bear', 'his', 'memory:', 'But', 'thou,', 'contracted', 'to', 'thine', 'own', 'bright', 'eyes,', 'Feed’st', 'thy', 'light’s', 'flame', 'with', 'self-substantial', 'fuel,', 'Making', 'a', 'famine', 'where', 'abundance', 'lies,', 'Thyself', 'thy', 'foe,', 'to', 'thy', 'sweet', 'self', 'too', 'cruel:', 'Thou', 'that', 'art', 'now', 'the', 'world’s', 'fresh', 'ornament,', 'And', 'only', 'herald', 'to', 'the', 'gaudy', 'spring,', 'Within', 'thine', 'own', 'bud', 'buriest', 'thy', 'content,', 'And', 'tender', 'churl', 'mak’st', 'waste', 'in', 'niggarding:', 'Pity', 'the', 'world,', 'or', 'else', 'this', 'glutton', 'be,', 'To', 'eat', 'the', 'world’s', 'due,', 'by', 'the', 'grave', 'and', 'thee.', 'II', 'When', 'forty', 'winters', 'shall', 'besiege', 'thy', 'brow,', 'And', 'dig', 'deep', 'trenches', 'in', 'thy', 'beauty’s', 'field,', 'Thy', 'youth’s', 'proud', 'livery', 'so', 'gazed', 'on', 'now,', 'Will', 'be', 'a', 'tatter’d', 'weed', 'of', 'small', 'worth', 'held:', 'Then', 'being', 'asked,', 'where', 'all', 'thy', 'beauty', 'lies,', 'Where', 'all', 'the', 'treasure', 'of', 'thy', 'lusty', 'days;', 'To', 'say,', 'within', 'thine', 'own', 'deep', 'sunken', 'eyes,', 'Were', 'an', 'all-eating', 'shame,', 'and', 'thriftless', 'praise.', 'How', 'much', 'more', 'praise', 'deserv’d', 'thy', 'beauty’s', 'use,', 'If', 'thou', 'couldst', 'answer', '‘This', 'fair', 'child', 'of', 'mine', 'Shall', 'sum', 'my', 'count,', 'and', 'make', 'my', 'old', 'excuse,’', 'Proving', 'his', 'beauty', 'by', 'succession', 'thine!', 'This', 'were', 'to', 'be', 'new', 'made', 'when', 'thou', 'art', 'old,', 'And', 'see', 'thy', 'blood', 'warm', 'when', 'thou', 'feel’st', 'it', 'cold.', 'III', 'Look', 'in', 'thy', 'glass', 'and', 'tell', 'the', 'face', 'thou', 'viewest', 'Now', 'is', 'the', 'time', 'that', 'face', 'should', 'form', 'another;', 'Whose', 'fresh', 'repair', 'if', 'now', 'thou', 'not', 'renewest,', 'Thou', 'dost', 'beguile', 'the', 'world,', 'unbless', 'some', 'mother.', 'For', 'where', 'is', 'she', 'so', 'fair', 'whose', 'unear’d', 'womb', 'Disdains', 'the', 'tillage', 'of', 'thy', 'husbandry?', 'Or', 'who', 'is', 'he', 'so', 'fond', 'will', 'be', 'the', 'tomb,', 'Of', 'his', 'self-love', 'to', 'stop', 'posterity?', 'Thou', 'art', 'thy', 'mother’s', 'glass', 'and', 'she', 'in', 'thee', 'Calls', 'back', 'the', 'lovely', 'April', 'of', 'her', 'prime;', 'So', 'thou', 'through', 'windows', 'of', 'thine', 'age', 'shalt', 'see,', 'Despite', 'of', 'wrinkles', 'this', 'thy', 'golden', 'time.', 'But', 'if', 'thou', 'live,', 'remember’d', 'not', 'to', 'be,', 'Die', 'single', 'and', 'thine', 'image', 'dies', 'with', 'thee.', 'IV', 'Unthrifty', 'loveliness,', 'why', 'dost', 'thou', 'spend', 'Upon', 'thyself', 'thy', 'beauty’s', 'legacy?', 'Nature’s', 'bequest', 'gives', 'nothing,', 'but', 'doth', 'lend,', 'And', 'being', 'frank', 'she', 'lends', 'to', 'those', 'are', 'free:', 'Then,', 'beauteous', 'niggard,', 'why', 'dost', 'thou', 'abuse', 'The', 'bounteous', 'largess', 'given', 'thee', 'to', 'give?', 'Profitless', 'usurer,', 'why', 'dost', 'thou', 'use', 'So', 'great', 'a', 'sum', 'of', 'sums,', 'yet', 'canst', 'not', 'live?', 'For', 'having', 'traffic', 'with', 'thyself', 'alone,', 'Thou', 'of', 'thyself', 'thy', 'sweet', 'self', 'dost', 'deceive:', 'Then', 'how', 'when', 'nature', 'calls', 'thee', 'to', 'be', 'gone,', 'What', 'acceptable', 'audit', 'canst', 'thou', 'leave?', 'Thy', 'unused', 'beauty', 'must', 'be', 'tombed', 'with', 'thee,', 'Which,', 'used,', 'lives', 'th’', 'executor', 'to', 'be.', 'V', 'Those', 'hours,', 'that', 'with', 'gentle', 'work', 'did', 'frame', 'The', 'lovely', 'gaze', 'where', 'every', 'eye', 'doth', 'dwell,', 'Will', 'play', 'the', 'tyrants', 'to', 'the', 'very', 'same', 'And', 'that', 'unfair', 'which', 'fairly', 'doth', 'excel;', 'For', 'never-resting', 'time', 'leads', 'summer', 'on', 'To', 'hideous', 'winter,', 'and', 'confounds', 'him', 'there;', 'Sap', 'checked', 'with', 'frost,', 'and', 'lusty', 'leaves', 'quite', 'gone,', 'Beauty', 'o’er-snowed', 'and', 'bareness', 'every', 'where:', 'Then', 'were', 'not', 'summer’s', 'distillation', 'left,', 'A', 'liquid', 'prisoner', 'pent', 'in', 'walls', 'of', 'glass,', 'Beauty’s', 'effect', 'with', 'beauty', 'were', 'bereft,', 'Nor', 'it,', 'nor', 'no', 'remembrance', 'what', 'it', 'was:', 'But', 'flowers', 'distill’d,', 'though', 'they', 'with', 'winter', 'meet,', 'Leese', 'but', 'their', 'show;', 'their', 'substance', 'still', 'lives', 'sweet.', 'VI', 'Then', 'let', 'not', 'winter’s', 'ragged', 'hand', 'deface,', 'In', 'thee', 'thy', 'summer,', 'ere', 'thou', 'be', 'distill’d:', 'Make', 'sweet', 'some', 'vial;', 'treasure', 'thou', 'some', 'place', 'With', 'beauty’s', 'treasure', 'ere', 'it', 'be', 'self-kill’d.', 'That', 'use', 'is', 'not', 'forbidden', 'usury,', 'Which', 'happies', 'those', 'that', 'pay', 'the', 'willing', 'loan;', 'That’s', 'for', 'thyself', 'to', 'breed', 'another', 'thee,', 'Or', 'ten', 'times', 'happier,', 'be', 'it', 'ten', 'for', 'one;', 'Ten', 'times', 'thyself', 'were', 'happier', 'than', 'thou', 'art,', 'If', 'ten', 'of', 'thine', 'ten', 'times', 'refigur’d', 'thee:', 'Then', 'what', 'could', 'death', 'do', 'if', 'thou', 'shouldst', 'depart,', 'Leaving', 'thee', 'living', 'in', 'posterity?', 'Be', 'not', 'self-will’d,', 'for', 'thou', 'art', 'much', 'too', 'fair', 'To', 'be', 'death’s', 'conquest', 'and', 'make', 'worms', 'thine', 'heir.', 'VII', 'Lo!', 'in', 'the', 'orient', 'when', 'the', 'gracious', 'light', 'Lifts', 'up', 'his', 'burning', 'head,', 'each', 'under', 'eye', 'Doth', 'homage', 'to', 'his', 'new-appearing', 'sight,', 'Serving', 'with', 'looks', 'his', 'sacred', 'majesty;', 'And', 'having', 'climb’d', 'the', 'steep-up', 'heavenly', 'hill,', 'Resembling', 'strong', 'youth', 'in', 'his', 'middle', 'age,', 'Yet', 'mortal', 'looks', 'adore', 'his', 'beauty', 'still,', 'Attending', 'on', 'his', 'golden', 'pilgrimage:', 'But', 'when', 'from', 'highmost', 'pitch,', 'with', 'weary', 'car,', 'Like', 'feeble', 'age,', 'he', 'reeleth', 'from', 'the', 'day,', 'The', 'eyes,', '’fore', 'duteous,', 'now', 'converted', 'are', 'From', 'his', 'low', 'tract,', 'and', 'look', 'another', 'way:', 'So', 'thou,', 'thyself', 'outgoing', 'in', 'thy', 'noon:', 'Unlook’d,', 'on', 'diest', 'unless', 'thou', 'get', 'a', 'son.', 'VIII', 'Music', 'to', 'hear,', 'why', 'hear’st', 'thou', 'music', 'sadly?', 'Sweets', 'with', 'sweets', 'war', 'not,', 'joy', 'delights', 'in', 'joy:', 'Why', 'lov’st', 'thou', 'that', 'which', 'thou', 'receiv’st', 'not', 'gladly,', 'Or', 'else', 'receiv’st', 'with', 'pleasure', 'thine', 'annoy?', 'If', 'the', 'true', 'concord', 'of', 'well-tuned', 'sounds,', 'By', 'unions', 'married,', 'do', 'offend', 'thine', 'ear,', 'They', 'do', 'but', 'sweetly', 'chide', 'thee,', 'who', 'confounds', 'In', 'singleness', 'the', 'parts', 'that', 'thou', 'shouldst', 'bear.', 'Mark', 'how', 'one', 'string,', 'sweet', 'husband', 'to', 'another,', 'Strikes', 'each', 'in', 'each', 'by', 'mutual', 'ordering;', 'Resembling', 'sire', 'and', 'child', 'and', 'happy', 'mother,', 'Who,', 'all', 'in', 'one,', 'one', 'pleasing', 'note', 'do', 'sing:', 'Whose', 'speechless', 'song', 'being', 'many,', 'seeming', 'one,', 'Sings', 'this', 'to', 'thee:', '‘Thou', 'single', 'wilt', 'prove', 'none.’', 'IX', 'Is', 'it', 'for', 'fear', 'to', 'wet', 'a', 'widow’s', 'eye,', 'That', 'thou', 'consum’st', 'thyself', 'in', 'single', 'life?', 'Ah!', 'if', 'thou', 'issueless', 'shalt', 'hap', 'to', 'die,', 'The', 'world', 'will', 'wail', 'thee', 'like', 'a', 'makeless', 'wife;', 'The', 'world', 'will', 'be', 'thy', 'widow', 'and', 'still', 'weep', 'That', 'thou', 'no', 'form', 'of', 'thee', 'hast', 'left', 'behind,', 'When', 'every', 'private', 'widow', 'well', 'may', 'keep', 'By', 'children’s', 'eyes,', 'her', 'husband’s', 'shape', 'in', 'mind:', 'Look!', 'what', 'an', 'unthrift', 'in', 'the', 'world', 'doth', 'spend', 'Shifts', 'but', 'his', 'place,', 'for', 'still', 'the', 'world', 'enjoys', 'it;', 'But', 'beauty’s', 'waste', 'hath', 'in', 'the', 'world', 'an', 'end,', 'And', 'kept', 'unused', 'the', 'user', 'so', 'destroys', 'it.', 'No', 'love', 'toward', 'others', 'in', 'that', 'bosom', 'sits', 'That', 'on', 'himself', 'such', 'murd’rous', 'shame', 'commits.', 'X', 'For', 'shame!', 'deny', 'that', 'thou', 'bear’st', 'love', 'to', 'any,', 'Who', 'for', 'thyself', 'art', 'so', 'unprovident.', 'Grant,', 'if', 'thou', 'wilt,', 'thou', 'art', 'belov’d', 'of', 'many,', 'But', 'that', 'thou', 'none', 'lov’st', 'is', 'most', 'evident:', 'For', 'thou', 'art', 'so', 'possess’d', 'with', 'murderous', 'hate,', 'That', '’gainst', 'thyself', 'thou', 'stick’st', 'not', 'to', 'conspire,', 'Seeking', 'that', 'beauteous', 'roof', 'to', 'ruinate', 'Which', 'to', 'repair', 'should', 'be', 'thy', 'chief', 'desire.', 'O!', 'change', 'thy', 'thought,', 'that', 'I', 'may', 'change', 'my', 'mind:', 'Shall', 'hate', 'be', 'fairer', 'lodg’d', 'than', 'gentle', 'love?', 'Be,', 'as', 'thy', 'presence', 'is,', 'gracious', 'and', 'kind,', 'Or', 'to', 'thyself', 'at', 'least', 'kind-hearted', 'prove:', 'Make', 'thee', 'another', 'self', 'for', 'love', 'of', 'me,', 'That', 'beauty', 'still', 'may', 'live', 'in', 'thine', 'or', 'thee.', 'XI', 'As', 'fast', 'as', 'thou', 'shalt', 'wane,', 'so', 'fast', 'thou', 'grow’st,', 'In', 'one', 'of', 'thine,', 'from', 'that', 'which', 'thou', 'departest;', 'And', 'that', 'fresh', 'blood', 'which', 'youngly', 'thou', 'bestow’st,', 'Thou', 'mayst', 'call', 'thine', 'when', 'thou', 'from', 'youth', 'convertest,', 'Herein', 'lives', 'wisdom,', 'beauty,', 'and', 'increase;', 'Without', 'this', 'folly,', 'age,', 'and', 'cold', 'decay:', 'If', 'all', 'were', 'minded', 'so,', 'the', 'times', 'should', 'cease', 'And', 'threescore', 'year', 'would', 'make', 'the', 'world', 'away.', 'Let', 'those', 'whom', 'nature', 'hath', 'not', 'made', 'for', 'store,', 'Harsh,', 'featureless,', 'and', 'rude,', 'barrenly', 'perish:', 'Look,', 'whom', 'she', 'best', 'endow’d,', 'she', 'gave', 'thee', 'more;', 'Which', 'bounteous', 'gift', 'thou', 'shouldst', 'in', 'bounty', 'cherish:', 'She', 'carv’d', 'thee', 'for', 'her', 'seal,', 'and', 'meant', 'thereby,', 'Thou', 'shouldst', 'print', 'more,', 'not', 'let', 'that', 'copy', 'die.', 'XII', 'When', 'I', 'do', 'count', 'the', 'clock', 'that', 'tells', 'the', 'time,', 'And', 'see', 'the', 'brave', 'day', 'sunk', 'in', 'hideous', 'night;', 'When', 'I', 'behold', 'the', 'violet', 'past', 'prime,', 'And', 'sable', 'curls,', 'all', 'silvered', 'o’er', 'with', 'white;', 'When', 'lofty', 'trees', 'I', 'see', 'barren', 'of', 'leaves,', 'Which', 'erst', 'from', 'heat', 'did', 'canopy', 'the', 'herd,', 'And', 'summer’s', 'green', 'all', 'girded', 'up', 'in', 'sheaves,', 'Borne', 'on', 'the', 'bier', 'with', 'white', 'and', 'bristly', 'beard,', 'Then', 'of', 'thy', 'beauty', 'do', 'I', 'question', 'make,', 'That', 'thou', 'among', 'the', 'wastes', 'of', 'time', 'must', 'go,', 'Since', 'sweets', 'and', 'beauties', 'do', 'themselves', 'forsake', 'And', 'die', 'as', 'fast', 'as', 'they', 'see', 'others', 'grow;', 'And', 'nothing', '’gainst', 'Time’s', 'scythe', 'can', 'make', 'defence', 'Save', 'breed,', 'to', 'brave', 'him', 'when', 'he', 'takes', 'thee', 'hence.', 'XIII', 'O!', 'that', 'you', 'were', 'your', 'self;', 'but,', 'love', 'you', 'are', 'No', 'longer', 'yours,', 'than', 'you', 'yourself', 'here', 'live:', 'Against', 'this', 'coming', 'end', 'you', 'should', 'prepare,', 'And', 'your', 'sweet', 'semblance', 'to', 'some', 'other', 'give:', 'So', 'should', 'that', 'beauty', 'which', 'you', 'hold', 'in', 'lease', 'Find', 'no', 'determination;', 'then', 'you', 'were', 'Yourself', 'again,', 'after', 'yourself’s', 'decease,', 'When', 'your', 'sweet', 'issue', 'your', 'sweet', 'form', 'should', 'bear.', 'Who', 'lets', 'so', 'fair', 'a', 'house', 'fall', 'to', 'decay,', 'Which', 'husbandry', 'in', 'honour', 'might', 'uphold,', 'Against', 'the', 'stormy', 'gusts', 'of', 'winter’s', 'day', 'And', 'barren', 'rage', 'of', 'death’s', 'eternal', 'cold?', 'O!', 'none', 'but', 'unthrifts.', 'Dear', 'my', 'love,', 'you', 'know,', 'You', 'had', 'a', 'father:', 'let', 'your', 'son', 'say', 'so.', 'XIV', 'Not', 'from', 'the', 'stars', 'do', 'I', 'my', 'judgement', 'pluck;', 'And', 'yet', 'methinks', 'I', 'have', 'astronomy,', 'But', 'not', 'to', 'tell', 'of', 'good', 'or', 'evil', 'luck,', 'Of', 'plagues,', 'of', 'dearths,', 'or', 'seasons’', 'quality;', 'Nor', 'can', 'I', 'fortune', 'to', 'brief', 'minutes', 'tell,', 'Pointing', 'to', 'each', 'his', 'thunder,', 'rain', 'and', 'wind,', 'Or', 'say', 'with', 'princes', 'if', 'it', 'shall', 'go', 'well', 'By', 'oft', 'predict', 'that', 'I', 'in', 'heaven', 'find:', 'But', 'from', 'thine', 'eyes', 'my', 'knowledge', 'I', 'derive,', 'And', 'constant', 'stars', 'in', 'them', 'I', 'read', 'such', 'art', 'As', '‘Truth', 'and', 'beauty', 'shall', 'together', 'thrive,', 'If', 'from', 'thyself,', 'to', 'store', 'thou', 'wouldst', 'convert’;', 'Or', 'else', 'of', 'thee', 'this', 'I', 'prognosticate:', '‘Thy', 'end', 'is', 'truth’s', 'and', 'beauty’s', 'doom', 'and', 'date.’', 'XV', 'When', 'I', 'consider', 'everything', 'that', 'grows', 'Holds', 'in', 'perfection', 'but', 'a', 'little', 'moment,', 'That', 'this', 'huge', 'stage', 'presenteth', 'nought', 'but', 'shows', 'Whereon', 'the', 'stars', 'in', 'secret', 'influence', 'comment;', 'When', 'I', 'perceive', 'that', 'men', 'as', 'plants', 'increase,', 'Cheered', 'and', 'checked', 'even', 'by', 'the', 'self-same', 'sky,', 'Vaunt', 'in', 'their', 'youthful', 'sap,', 'at', 'height', 'decrease,', 'And', 'wear', 'their', 'brave', 'state', 'out', 'of', 'memory;', 'Then', 'the', 'conceit', 'of', 'this', 'inconstant', 'stay', 'Sets', 'you', 'most', 'rich', 'in', 'youth', 'before', 'my', 'sight,', 'Where', 'wasteful', 'Time', 'debateth', 'with', 'Decay', 'To', 'change', 'your', 'day', 'of', 'youth', 'to', 'sullied', 'night,', 'And', 'all', 'in', 'war', 'with', 'Time', 'for', 'love', 'of', 'you,', 'As', 'he', 'takes', 'from', 'you,', 'I', 'engraft', 'you', 'new.', 'XVI', 'But', 'wherefore', 'do', 'not', 'you', 'a', 'mightier', 'way', 'Make', 'war', 'upon', 'this', 'bloody', 'tyrant,', 'Time?', 'And', 'fortify', 'yourself', 'in', 'your', 'decay', 'With', 'means', 'more', 'blessed', 'than', 'my', 'barren', 'rhyme?', 'Now', 'stand', 'you', 'on', 'the', 'top', 'of', 'happy', 'hours,', 'And', 'many', 'maiden', 'gardens,', 'yet', 'unset,', 'With', 'virtuous', 'wish', 'would', 'bear', 'you', 'living', 'flowers,', 'Much', 'liker', 'than', 'your', 'painted', 'counterfeit:', 'So', 'should', 'the', 'lines', 'of', 'life', 'that', 'life', 'repair,', 'Which', 'this,', 'Time’s', 'pencil,', 'or', 'my', 'pupil', 'pen,', 'Neither', 'in', 'inward', 'worth', 'nor', 'outward', 'fair,', 'Can', 'make', 'you', 'live', 'yourself', 'in', 'eyes', 'of', 'men.', 'To', 'give', 'away', 'yourself,', 'keeps', 'yourself', 'still,', 'And', 'you', 'must', 'live,', 'drawn', 'by', 'your', 'own', 'sweet', 'skill.', 'XVII', 'Who', 'will', 'believe', 'my', 'verse', 'in', 'time', 'to', 'come,', 'If', 'it', 'were', 'fill’d', 'with', 'your', 'most', 'high', 'deserts?', 'Though', 'yet', 'heaven', 'knows', 'it', 'is', 'but', 'as', 'a', 'tomb', 'Which', 'hides', 'your', 'life,', 'and', 'shows', 'not', 'half', 'your', 'parts.', 'If', 'I', 'could', 'write', 'the', 'beauty', 'of', 'your', 'eyes,', 'And', 'in', 'fresh', 'numbers', 'number', 'all', 'your', 'graces,', 'The', 'age', 'to', 'come', 'would', 'say', '‘This', 'poet', 'lies;', 'Such', 'heavenly', 'touches', 'ne’er', 'touch’d', 'earthly', 'faces.’', 'So', 'should', 'my', 'papers,', 'yellow’d', 'with', 'their', 'age,', 'Be', 'scorn’d,', 'like', 'old', 'men', 'of', 'less', 'truth', 'than', 'tongue,', 'And', 'your', 'true', 'rights', 'be', 'term’d', 'a', 'poet’s', 'rage', 'And', 'stretched', 'metre', 'of', 'an', 'antique', 'song:', 'But', 'were', 'some', 'child', 'of', 'yours', 'alive', 'that', 'time,', 'You', 'should', 'live', 'twice,—in', 'it,', 'and', 'in', 'my', 'rhyme.', 'XVIII', 'Shall', 'I', 'compare', 'thee', 'to', 'a', 'summer’s', 'day?', 'Thou', 'art', 'more', 'lovely', 'and', 'more', 'temperate:', 'Rough', 'winds', 'do', 'shake', 'the', 'darling', 'buds', 'of', 'May,', 'And', 'summer’s', 'lease', 'hath', 'all', 'too', 'short', 'a', 'date:', 'Sometime', 'too', 'hot', 'the', 'eye', 'of', 'heaven', 'shines,', 'And', 'often', 'is', 'his', 'gold', 'complexion', 'dimm’d,', 'And', 'every', 'fair', 'from', 'fair', 'sometime', 'declines,', 'By', 'chance,', 'or', 'nature’s', 'changing', 'course', 'untrimm’d:', 'But', 'thy', 'eternal', 'summer', 'shall', 'not', 'fade,', 'Nor', 'lose', 'possession', 'of', 'that', 'fair', 'thou', 'ow’st,', 'Nor', 'shall', 'death', 'brag', 'thou', 'wander’st', 'in', 'his', 'shade,', 'When', 'in', 'eternal', 'lines', 'to', 'time', 'thou', 'grow’st,', 'So', 'long', 'as', 'men', 'can', 'breathe,', 'or', 'eyes', 'can', 'see,', 'So', 'long', 'lives', 'this,', 'and', 'this', 'gives', 'life', 'to', 'thee.', 'XIX', 'Devouring', 'Time,', 'blunt', 'thou', 'the', 'lion’s', 'paws,', 'And', 'make', 'the', 'earth', 'devour', 'her', 'own', 'sweet', 'brood;', 'Pluck', 'the', 'keen', 'teeth', 'from', 'the', 'fierce', 'tiger’s', 'jaws,', 'And', 'burn', 'the', 'long-liv’d', 'phoenix,', 'in', 'her', 'blood;', 'Make', 'glad', 'and', 'sorry', 'seasons', 'as', 'thou', 'fleets,', 'And', 'do', 'whate’er', 'thou', 'wilt,', 'swift-footed', 'Time,', 'To', 'the', 'wide', 'world', 'and', 'all', 'her', 'fading', 'sweets;', 'But', 'I', 'forbid', 'thee', 'one', 'most', 'heinous', 'crime:', 'O!', 'carve', 'not', 'with', 'thy', 'hours', 'my', 'love’s', 'fair', 'brow,', 'Nor', 'draw', 'no', 'lines', 'there', 'with', 'thine', 'antique', 'pen;', 'Him', 'in', 'thy', 'course', 'untainted', 'do', 'allow', 'For', 'beauty’s', 'pattern', 'to', 'succeeding', 'men.', 'Yet', 'do', 'thy', 'worst,', 'old', 'Time;', 'despite', 'thy', 'wrong,', 'My', 'love', 'shall', 'in', 'my', 'verse', 'ever', 'live', 'young.', 'XX', 'A', 'woman’s', 'face', 'with', 'nature’s', 'own', 'hand', 'painted,', 'Hast', 'thou,', 'the', 'master', 'mistress', 'of', 'my', 'passion;', 'A', 'woman’s', 'gentle', 'heart,', 'but', 'not', 'acquainted', 'With', 'shifting', 'change,', 'as', 'is', 'false', 'women’s', 'fashion:', 'An', 'eye', 'more', 'bright', 'than', 'theirs,', 'less', 'false', 'in', 'rolling,', 'Gilding', 'the', 'object', 'whereupon', 'it', 'gazeth;', 'A', 'man', 'in', 'hue', 'all', '‘hues’', 'in', 'his', 'controlling,', 'Which', 'steals', 'men’s', 'eyes', 'and', 'women’s', 'souls', 'amazeth.', 'And', 'for', 'a', 'woman', 'wert', 'thou', 'first', 'created;', 'Till', 'Nature,', 'as', 'she', 'wrought', 'thee,', 'fell', 'a-doting,', 'And', 'by', 'addition', 'me', 'of', 'thee', 'defeated,', 'By', 'adding', 'one', 'thing', 'to', 'my', 'purpose', 'nothing.', 'But', 'since', 'she', 'prick’d', 'thee', 'out', 'for', 'women’s', 'pleasure,', 'Mine', 'be', 'thy', 'love', 'and', 'thy', 'love’s', 'use', 'their', 'treasure.', 'XXI', 'So', 'is', 'it', 'not', 'with', 'me', 'as', 'with', 'that', 'Muse,', 'Stirr’d', 'by', 'a', 'painted', 'beauty', 'to', 'his', 'verse,', 'Who', 'heaven', 'itself', 'for', 'ornament', 'doth', 'use', 'And', 'every', 'fair', 'with', 'his', 'fair', 'doth', 'rehearse,', 'Making', 'a', 'couplement', 'of', 'proud', 'compare.', 'With', 'sun', 'and', 'moon,', 'with', 'earth', 'and', 'sea’s', 'rich', 'gems,', 'With', 'April’s', 'first-born', 'flowers,', 'and', 'all', 'things', 'rare,', 'That', 'heaven’s', 'air', 'in', 'this', 'huge', 'rondure', 'hems.', 'O!', 'let', 'me,', 'true', 'in', 'love,', 'but', 'truly', 'write,', 'And', 'then', 'believe', 'me,', 'my', 'love', 'is', 'as', 'fair', 'As', 'any', 'mother’s', 'child,', 'though', 'not', 'so', 'bright', 'As', 'those', 'gold', 'candles', 'fix’d', 'in', 'heaven’s', 'air:', 'Let', 'them', 'say', 'more', 'that', 'like', 'of', 'hearsay', 'well;', 'I', 'will', 'not', 'praise', 'that', 'purpose', 'not', 'to', 'sell.', 'XXII', 'My', 'glass', 'shall', 'not', 'persuade', 'me', 'I', 'am', 'old,', 'So', 'long', 'as', 'youth', 'and', 'thou', 'are', 'of', 'one', 'date;', 'But', 'when', 'in', 'thee', 'time’s', 'furrows', 'I', 'behold,', 'Then', 'look', 'I', 'death', 'my', 'days', 'should', 'expiate.', 'For', 'all', 'that', 'beauty', 'that', 'doth', 'cover', 'thee,', 'Is', 'but', 'the', 'seemly', 'raiment', 'of', 'my', 'heart,', 'Which', 'in', 'thy', 'breast', 'doth', 'live,', 'as', 'thine', 'in', 'me:', 'How', 'can', 'I', 'then', 'be', 'elder', 'than', 'thou', 'art?', 'O!', 'therefore', 'love,', 'be', 'of', 'thyself', 'so', 'wary', 'As', 'I,', 'not', 'for', 'myself,', 'but', 'for', 'thee', 'will;', 'Bearing', 'thy', 'heart,', 'which', 'I', 'will', 'keep', 'so', 'chary', 'As', 'tender', 'nurse', 'her', 'babe', 'from', 'faring', 'ill.', 'Presume', 'not', 'on', 'thy', 'heart', 'when', 'mine', 'is', 'slain,', 'Thou', 'gav’st', 'me', 'thine', 'not', 'to', 'give', 'back', 'again.', 'XXIII', 'As', 'an', 'unperfect', 'actor', 'on', 'the', 'stage,', 'Who', 'with', 'his', 'fear', 'is', 'put', 'beside', 'his', 'part,', 'Or', 'some', 'fierce', 'thing', 'replete', 'with', 'too', 'much', 'rage,', 'Whose', 'strength’s', 'abundance', 'weakens', 'his', 'own', 'heart;', 'So', 'I,', 'for', 'fear', 'of', 'trust,', 'forget', 'to', 'say', 'The', 'perfect', 'ceremony', 'of', 'love’s', 'rite,', 'And', 'in', 'mine', 'own', 'love’s', 'strength', 'seem', 'to', 'decay,', 'O’ercharg’d', 'with', 'burthen', 'of', 'mine', 'own', 'love’s', 'might.', 'O!', 'let', 'my', 'looks', 'be', 'then', 'the', 'eloquence', 'And', 'dumb', 'presagers', 'of', 'my', 'speaking', 'breast,', 'Who', 'plead', 'for', 'love,', 'and', 'look', 'for', 'recompense,', 'More', 'than', 'that', 'tongue', 'that', 'more', 'hath', 'more', 'express’d.', 'O!', 'learn', 'to', 'read', 'what', 'silent', 'love', 'hath', 'writ:', 'To', 'hear', 'with', 'eyes', 'belongs', 'to', 'love’s', 'fine', 'wit.', 'XXIV', 'Mine', 'eye', 'hath', 'play’d', 'the', 'painter', 'and', 'hath', 'stell’d,', 'Thy', 'beauty’s', 'form', 'in', 'table', 'of', 'my', 'heart;', 'My', 'body', 'is', 'the', 'frame', 'wherein', '’tis', 'held,', 'And', 'perspective', 'it', 'is', 'best', 'painter’s', 'art.', 'For', 'through', 'the', 'painter', 'must', 'you', 'see', 'his', 'skill,', 'To', 'find', 'where', 'your', 'true', 'image', 'pictur’d', 'lies,', 'Which', 'in', 'my', 'bosom’s', 'shop', 'is', 'hanging', 'still,', 'That', 'hath', 'his', 'windows', 'glazed', 'with', 'thine', 'eyes.', 'Now', 'see', 'what', 'good', 'turns', 'eyes', 'for', 'eyes', 'have', 'done:', 'Mine', 'eyes', 'have', 'drawn', 'thy', 'shape,', 'and', 'thine', 'for', 'me', 'Are', 'windows', 'to', 'my', 'breast,', 'where-through', 'the', 'sun', 'Delights', 'to', 'peep,', 'to', 'gaze', 'therein', 'on', 'thee;', 'Yet', 'eyes', 'this', 'cunning', 'want', 'to', 'grace', 'their', 'art,', 'They', 'draw', 'but', 'what', 'they', 'see,', 'know', 'not', 'the', 'heart.', 'XXV', 'Let', 'those', 'who', 'are', 'in', 'favour', 'with', 'their', 'stars', 'Of', 'public', 'honour', 'and', 'proud', 'titles', 'boast,', 'Whilst', 'I,', 'whom', 'fortune', 'of', 'such', 'triumph', 'bars', 'Unlook’d', 'for', 'joy', 'in', 'that', 'I', 'honour', 'most.', 'Great', 'princes’', 'favourites', 'their', 'fair', 'leaves', 'spread', 'But', 'as', 'the', 'marigold', 'at', 'the', 'sun’s', 'eye,', 'And', 'in', 'themselves', 'their', 'pride', 'lies', 'buried,', 'For', 'at', 'a', 'frown', 'they', 'in', 'their', 'glory', 'die.', 'The', 'painful', 'warrior', 'famoused', 'for', 'fight,', 'After', 'a', 'thousand', 'victories', 'once', 'foil’d,', 'Is', 'from', 'the', 'book', 'of', 'honour', 'razed', 'quite,', 'And', 'all', 'the', 'rest', 'forgot', 'for', 'which', 'he', 'toil’d:', 'Then', 'happy', 'I,', 'that', 'love', 'and', 'am', 'belov’d,', 'Where', 'I', 'may', 'not', 'remove', 'nor', 'be', 'remov’d.', 'XXVI', 'Lord', 'of', 'my', 'love,', 'to', 'whom', 'in', 'vassalage', 'Thy', 'merit', 'hath', 'my', 'duty', 'strongly', 'knit,', 'To', 'thee', 'I', 'send', 'this', 'written', 'embassage,', 'To', 'witness', 'duty,', 'not', 'to', 'show', 'my', 'wit:', 'Duty', 'so', 'great,', 'which', 'wit', 'so', 'poor', 'as', 'mine', 'May', 'make', 'seem', 'bare,', 'in', 'wanting', 'words', 'to', 'show', 'it,', 'But', 'that', 'I', 'hope', 'some', 'good', 'conceit', 'of', 'thine', 'In', 'thy', 'soul’s', 'thought,', 'all', 'naked,', 'will', 'bestow', 'it:', 'Till', 'whatsoever', 'star', 'that', 'guides', 'my', 'moving,', 'Points', 'on', 'me', 'graciously', 'with', 'fair', 'aspect,', 'And', 'puts', 'apparel', 'on', 'my', 'tatter’d', 'loving,', 'To', 'show', 'me', 'worthy', 'of', 'thy', 'sweet', 'respect:', 'Then', 'may', 'I', 'dare', 'to', 'boast', 'how', 'I', 'do', 'love', 'thee;', 'Till', 'then,', 'not', 'show', 'my', 'head', 'where', 'thou', 'mayst', 'prove', 'me.', 'XXVII', 'Weary', 'with', 'toil,', 'I', 'haste', 'me', 'to', 'my', 'bed,', 'The', 'dear', 'respose', 'for', 'limbs', 'with', 'travel', 'tir’d;', 'But', 'then', 'begins', 'a', 'journey', 'in', 'my', 'head', 'To', 'work', 'my', 'mind,', 'when', 'body’s', 'work’s', 'expired:', 'For', 'then', 'my', 'thoughts,', 'from', 'far', 'where', 'I', 'abide,', 'Intend', 'a', 'zealous', 'pilgrimage', 'to', 'thee,', 'And', 'keep', 'my', 'drooping', 'eyelids', 'open', 'wide,', 'Looking', 'on', 'darkness', 'which', 'the', 'blind', 'do', 'see:', 'Save', 'that', 'my', 'soul’s', 'imaginary', 'sight', 'Presents', 'thy', 'shadow', 'to', 'my', 'sightless', 'view,', 'Which,', 'like', 'a', 'jewel', 'hung', 'in', 'ghastly', 'night,', 'Makes', 'black', 'night', 'beauteous,', 'and', 'her', 'old', 'face', 'new.', 'Lo!', 'thus,', 'by', 'day', 'my', 'limbs,', 'by', 'night', 'my', 'mind,', 'For', 'thee,', 'and', 'for', 'myself,', 'no', 'quiet', 'find.', 'XXVIII', 'How', 'can', 'I', 'then', 'return', 'in', 'happy', 'plight,', 'That', 'am', 'debarre’d', 'the', 'benefit', 'of', 'rest?', 'When', 'day’s', 'oppression', 'is', 'not', 'eas’d', 'by', 'night,', 'But', 'day', 'by', 'night', 'and', 'night', 'by', 'day', 'oppress’d,', 'And', 'each,', 'though', 'enemies', 'to', 'either’s', 'reign,', 'Do', 'in', 'consent', 'shake', 'hands', 'to', 'torture', 'me,', 'The', 'one', 'by', 'toil,', 'the', 'other', 'to', 'complain', 'How', 'far', 'I', 'toil,', 'still', 'farther', 'off', 'from', 'thee.', 'I', 'tell', 'the', 'day,', 'to', 'please', 'him', 'thou', 'art', 'bright,', 'And', 'dost', 'him', 'grace', 'when', 'clouds', 'do', 'blot', 'the', 'heaven:', 'So', 'flatter', 'I', 'the', 'swart-complexion’d', 'night,', 'When', 'sparkling', 'stars', 'twire', 'not', 'thou', 'gild’st', 'the', 'even.', 'But', 'day', 'doth', 'daily', 'draw', 'my', 'sorrows', 'longer,', 'And', 'night', 'doth', 'nightly', 'make', 'grief’s', 'length', 'seem', 'stronger.', 'XXIX', 'When', 'in', 'disgrace', 'with', 'fortune', 'and', 'men’s', 'eyes', 'I', 'all', 'alone', 'beweep', 'my', 'outcast', 'state,', 'And', 'trouble', 'deaf', 'heaven', 'with', 'my', 'bootless', 'cries,', 'And', 'look', 'upon', 'myself,', 'and', 'curse', 'my', 'fate,', 'Wishing', 'me', 'like', 'to', 'one', 'more', 'rich', 'in', 'hope,', 'Featur’d', 'like', 'him,', 'like', 'him', 'with', 'friends', 'possess’d,', 'Desiring', 'this', 'man’s', 'art,', 'and', 'that', 'man’s', 'scope,', 'With', 'what', 'I', 'most', 'enjoy', 'contented', 'least;', 'Yet', 'in', 'these', 'thoughts', 'my', 'self', 'almost', 'despising,', 'Haply', 'I', 'think', 'on', 'thee,', 'and', 'then', 'my', 'state,', 'Like', 'to', 'the', 'lark', 'at', 'break', 'of', 'day', 'arising', 'From', 'sullen', 'earth,', 'sings', 'hymns', 'at', 'heaven’s', 'gate;', 'For', 'thy', 'sweet', 'love', 'remember’d', 'such', 'wealth', 'brings', 'That', 'then', 'I', 'scorn', 'to', 'change', 'my', 'state', 'with', 'kings.', 'XXX', 'When', 'to', 'the', 'sessions', 'of', 'sweet', 'silent', 'thought', 'I', 'summon', 'up', 'remembrance', 'of', 'things', 'past,', 'I', 'sigh', 'the', 'lack', 'of', 'many', 'a', 'thing', 'I', 'sought,', 'And', 'with', 'old', 'woes', 'new', 'wail', 'my', 'dear', 'time’s', 'waste:', 'Then', 'can', 'I', 'drown', 'an', 'eye,', 'unused', 'to', 'flow,', 'For', 'precious', 'friends', 'hid', 'in', 'death’s', 'dateless', 'night,', 'And', 'weep', 'afresh', 'love’s', 'long', 'since', 'cancell’d', 'woe,', 'And', 'moan', 'the', 'expense', 'of', 'many', 'a', 'vanish’d', 'sight:', 'Then', 'can', 'I', 'grieve', 'at', 'grievances', 'foregone,', 'And', 'heavily', 'from', 'woe', 'to', 'woe', 'tell', 'o’er', 'The', 'sad', 'account', 'of', 'fore-bemoaned', 'moan,', 'Which', 'I', 'new', 'pay', 'as', 'if', 'not', 'paid', 'before.', 'But', 'if', 'the', 'while', 'I', 'think', 'on', 'thee,', 'dear', 'friend,', 'All', 'losses', 'are', 'restor’d', 'and', 'sorrows', 'end.', 'XXXI', 'Thy', 'bosom', 'is', 'endeared', 'with', 'all', 'hearts,', 'Which', 'I', 'by', 'lacking', 'have', 'supposed', 'dead;', 'And', 'there', 'reigns', 'Love,', 'and', 'all', 'Love’s', 'loving', 'parts,', 'And', 'all', 'those', 'friends', 'which', 'I', 'thought', 'buried.', 'How', 'many', 'a', 'holy', 'and', 'obsequious', 'tear', 'Hath', 'dear', 'religious', 'love', 'stol’n', 'from', 'mine', 'eye,', 'As', 'interest', 'of', 'the', 'dead,', 'which', 'now', 'appear', 'But', 'things', 'remov’d', 'that', 'hidden', 'in', 'thee', 'lie!', 'Thou', 'art', 'the', 'grave', 'where', 'buried', 'love', 'doth', 'live,', 'Hung', 'with', 'the', 'trophies', 'of', 'my', 'lovers', 'gone,', 'Who', 'all', 'their', 'parts', 'of', 'me', 'to', 'thee', 'did', 'give,', 'That', 'due', 'of', 'many', 'now', 'is', 'thine', 'alone:', 'Their', 'images', 'I', 'lov’d,', 'I', 'view', 'in', 'thee,', 'And', 'thou,', 'all', 'they,', 'hast', 'all', 'the', 'all', 'of', 'me.', 'XXXII', 'If', 'thou', 'survive', 'my', 'well-contented', 'day,', 'When', 'that', 'churl', 'Death', 'my', 'bones', 'with', 'dust', 'shall', 'cover', 'And', 'shalt', 'by', 'fortune', 'once', 'more', 're-survey', 'These', 'poor', 'rude', 'lines', 'of', 'thy', 'deceased', 'lover,', 'Compare', 'them', 'with', 'the', 'bett’ring', 'of', 'the', 'time,', 'And', 'though', 'they', 'be', 'outstripp’d', 'by', 'every', 'pen,', 'Reserve', 'them', 'for', 'my', 'love,', 'not', 'for', 'their', 'rhyme,', 'Exceeded', 'by', 'the', 'height', 'of', 'happier', 'men.', 'O!', 'then', 'vouchsafe', 'me', 'but', 'this', 'loving', 'thought:', '‘Had', 'my', 'friend’s', 'Muse', 'grown', 'with', 'this', 'growing', 'age,', 'A', 'dearer', 'birth', 'than', 'this', 'his', 'love', 'had', 'brought,', 'To', 'march', 'in', 'ranks', 'of', 'better', 'equipage:', 'But', 'since', 'he', 'died', 'and', 'poets', 'better', 'prove,', 'Theirs', 'for', 'their', 'style', 'I’ll', 'read,', 'his', 'for', 'his', 'love’.', 'XXXIII', 'Full', 'many', 'a', 'glorious', 'morning', 'have', 'I', 'seen', 'Flatter', 'the', 'mountain', 'tops', 'with', 'sovereign', 'eye,', 'Kissing', 'with', 'golden', 'face', 'the', 'meadows', 'green,', 'Gilding', 'pale', 'streams', 'with', 'heavenly', 'alchemy;', 'Anon', 'permit', 'the', 'basest', 'clouds', 'to', 'ride', 'With', 'ugly', 'rack', 'on', 'his', 'celestial', 'face,', 'And', 'from', 'the', 'forlorn', 'world', 'his', 'visage', 'hide,', 'Stealing', 'unseen', 'to', 'west', 'with', 'this', 'disgrace:', 'Even', 'so', 'my', 'sun', 'one', 'early', 'morn', 'did', 'shine,', 'With', 'all', 'triumphant', 'splendour', 'on', 'my', 'brow;', 'But', 'out!', 'alack!', 'he', 'was', 'but', 'one', 'hour', 'mine,', 'The', 'region', 'cloud', 'hath', 'mask’d', 'him', 'from', 'me', 'now.', 'Yet', 'him', 'for', 'this', 'my', 'love', 'no', 'whit', 'disdaineth;', 'Suns', 'of', 'the', 'world', 'may', 'stain', 'when', 'heaven’s', 'sun', 'staineth.', 'XXXIV', 'Why', 'didst', 'thou', 'promise', 'such', 'a', 'beauteous', 'day,', 'And', 'make', 'me', 'travel', 'forth', 'without', 'my', 'cloak,', 'To', 'let', 'base', 'clouds', 'o’ertake', 'me', 'in', 'my', 'way,', 'Hiding', 'thy', 'bravery', 'in', 'their', 'rotten', 'smoke?', '’Tis', 'not', 'enough', 'that', 'through', 'the', 'cloud', 'thou', 'break,', 'To', 'dry', 'the', 'rain', 'on', 'my', 'storm-beaten', 'face,', 'For', 'no', 'man', 'well', 'of', 'such', 'a', 'salve', 'can', 'speak,', 'That', 'heals', 'the', 'wound,', 'and', 'cures', 'not', 'the', 'disgrace:', 'Nor', 'can', 'thy', 'shame', 'give', 'physic', 'to', 'my', 'grief;', 'Though', 'thou', 'repent,', 'yet', 'I', 'have', 'still', 'the', 'loss:', 'The', 'offender’s', 'sorrow', 'lends', 'but', 'weak', 'relief', 'To', 'him', 'that', 'bears', 'the', 'strong', 'offence’s', 'cross.', 'Ah!', 'but', 'those', 'tears', 'are', 'pearl', 'which', 'thy', 'love', 'sheds,', 'And', 'they', 'are', 'rich', 'and', 'ransom', 'all', 'ill', 'deeds.', 'XXXV', 'No', 'more', 'be', 'griev’d', 'at', 'that', 'which', 'thou', 'hast', 'done:', 'Roses', 'have', 'thorns,', 'and', 'silver', 'fountains', 'mud:', 'Clouds', 'and', 'eclipses', 'stain', 'both', 'moon', 'and', 'sun,', 'And', 'loathsome', 'canker', 'lives', 'in', 'sweetest', 'bud.', 'All', 'men', 'make', 'faults,', 'and', 'even', 'I', 'in', 'this,', 'Authorizing', 'thy', 'trespass', 'with', 'compare,', 'Myself', 'corrupting,', 'salving', 'thy', 'amiss,', 'Excusing', 'thy', 'sins', 'more', 'than', 'thy', 'sins', 'are;', 'For', 'to', 'thy', 'sensual', 'fault', 'I', 'bring', 'in', 'sense;', 'Thy', 'adverse', 'party', 'is', 'thy', 'advocate,', 'And', '’gainst', 'myself', 'a', 'lawful', 'plea', 'commence:', 'Such', 'civil', 'war', 'is', 'in', 'my', 'love', 'and', 'hate,', 'That', 'I', 'an', 'accessary', 'needs', 'must', 'be,', 'To', 'that', 'sweet', 'thief', 'which', 'sourly', 'robs', 'from', 'me.', 'XXXVI', 'Let', 'me', 'confess', 'that', 'we', 'two', 'must', 'be', 'twain,', 'Although', 'our', 'undivided', 'loves', 'are', 'one:', 'So', 'shall', 'those', 'blots', 'that', 'do', 'with', 'me', 'remain,', 'Without', 'thy', 'help,', 'by', 'me', 'be', 'borne', 'alone.', 'In', 'our', 'two', 'loves', 'there', 'is', 'but', 'one', 'respect,', 'Though', 'in', 'our', 'lives', 'a', 'separable', 'spite,', 'Which', 'though', 'it', 'alter', 'not', 'love’s', 'sole', 'effect,', 'Yet', 'doth', 'it', 'steal', 'sweet', 'hours', 'from', 'love’s', 'delight.', 'I', 'may', 'not', 'evermore', 'acknowledge', 'thee,', 'Lest', 'my', 'bewailed', 'guilt', 'should', 'do', 'thee', 'shame,', 'Nor', 'thou', 'with', 'public', 'kindness', 'honour', 'me,', 'Unless', 'thou', 'take', 'that', 'honour', 'from', 'thy', 'name:', 'But', 'do', 'not', 'so,', 'I', 'love', 'thee', 'in', 'such', 'sort,', 'As', 'thou', 'being', 'mine,', 'mine', 'is', 'thy', 'good', 'report.', 'XXXVII', 'As', 'a', 'decrepit', 'father', 'takes', 'delight', 'To', 'see', 'his', 'active', 'child', 'do', 'deeds', 'of', 'youth,', 'So', 'I,', 'made', 'lame', 'by', 'Fortune’s', 'dearest', 'spite,', 'Take', 'all', 'my', 'comfort', 'of', 'thy', 'worth', 'and', 'truth;', 'For', 'whether', 'beauty,', 'birth,', 'or', 'wealth,', 'or', 'wit,', 'Or', 'any', 'of', 'these', 'all,', 'or', 'all,', 'or', 'more,', 'Entitled', 'in', 'thy', 'parts,', 'do', 'crowned', 'sit,', 'I', 'make', 'my', 'love', 'engrafted,', 'to', 'this', 'store:', 'So', 'then', 'I', 'am', 'not', 'lame,', 'poor,', 'nor', 'despis’d,', 'Whilst', 'that', 'this', 'shadow', 'doth', 'such', 'substance', 'give', 'That', 'I', 'in', 'thy', 'abundance', 'am', 'suffic’d,', 'And', 'by', 'a', 'part', 'of', 'all', 'thy', 'glory', 'live.', 'Look', 'what', 'is', 'best,', 'that', 'best', 'I', 'wish', 'in', 'thee:', 'This', 'wish', 'I', 'have;', 'then', 'ten', 'times', 'happy', 'me!', 'XXXVIII', 'How', 'can', 'my', 'muse', 'want', 'subject', 'to', 'invent,', 'While', 'thou', 'dost', 'breathe,', 'that', 'pour’st', 'into', 'my', 'verse', 'Thine', 'own', 'sweet', 'argument,', 'too', 'excellent', 'For', 'every', 'vulgar', 'paper', 'to', 'rehearse?', 'O!', 'give', 'thyself', 'the', 'thanks,', 'if', 'aught', 'in', 'me', 'Worthy', 'perusal', 'stand', 'against', 'thy', 'sight;', 'For', 'who’s', 'so', 'dumb', 'that', 'cannot', 'write', 'to', 'thee,', 'When', 'thou', 'thyself', 'dost', 'give', 'invention', 'light?', 'Be', 'thou', 'the', 'tenth', 'Muse,', 'ten', 'times', 'more', 'in', 'worth', 'Than', 'those', 'old', 'nine', 'which', 'rhymers', 'invocate;', 'And', 'he', 'that', 'calls', 'on', 'thee,', 'let', 'him', 'bring', 'forth', 'Eternal', 'numbers', 'to', 'outlive', 'long', 'date.', 'If', 'my', 'slight', 'muse', 'do', 'please', 'these', 'curious', 'days,', 'The', 'pain', 'be', 'mine,', 'but', 'thine', 'shall', 'be', 'the', 'praise.', 'XXXIX', 'O!', 'how', 'thy', 'worth', 'with', 'manners', 'may', 'I', 'sing,', 'When', 'thou', 'art', 'all', 'the', 'better', 'part', 'of', 'me?', 'What', 'can', 'mine', 'own', 'praise', 'to', 'mine', 'own', 'self', 'bring?', 'And', 'what', 'is’t', 'but', 'mine', 'own', 'when', 'I', 'praise', 'thee?', 'Even', 'for', 'this,', 'let', 'us', 'divided', 'live,', 'And', 'our', 'dear', 'love', 'lose', 'name', 'of', 'single', 'one,', 'That', 'by', 'this', 'separation', 'I', 'may', 'give', 'That', 'due', 'to', 'thee', 'which', 'thou', 'deserv’st', 'alone.', 'O', 'absence!', 'what', 'a', 'torment', 'wouldst', 'thou', 'prove,', 'Were', 'it', 'not', 'thy', 'sour', 'leisure', 'gave', 'sweet', 'leave,', 'To', 'entertain', 'the', 'time', 'with', 'thoughts', 'of', 'love,', 'Which', 'time', 'and', 'thoughts', 'so', 'sweetly', 'doth', 'deceive,', 'And', 'that', 'thou', 'teachest', 'how', 'to', 'make', 'one', 'twain,', 'By', 'praising', 'him', 'here', 'who', 'doth', 'hence', 'remain.', 'XL', 'Take', 'all', 'my', 'loves,', 'my', 'love,', 'yea', 'take', 'them', 'all;', 'What', 'hast', 'thou', 'then', 'more', 'than', 'thou', 'hadst', 'before?', 'No', 'love,', 'my', 'love,', 'that', 'thou', 'mayst', 'true', 'love', 'call;', 'All', 'mine', 'was', 'thine,', 'before', 'thou', 'hadst', 'this', 'more.', 'Then,', 'if', 'for', 'my', 'love,', 'thou', 'my', 'love', 'receivest,', 'I', 'cannot', 'blame', 'thee,', 'for', 'my', 'love', 'thou', 'usest;', 'But', 'yet', 'be', 'blam’d,', 'if', 'thou', 'thyself', 'deceivest', 'By', 'wilful', 'taste', 'of', 'what', 'thyself', 'refusest.', 'I', 'do', 'forgive', 'thy', 'robbery,', 'gentle', 'thief,', 'Although', 'thou', 'steal', 'thee', 'all', 'my', 'poverty:', 'And', 'yet,', 'love', 'knows', 'it', 'is', 'a', 'greater', 'grief', 'To', 'bear', 'love’s', 'wrong,', 'than', 'hate’s', 'known', 'injury.', 'Lascivious', 'grace,', 'in', 'whom', 'all', 'ill', 'well', 'shows,', 'Kill', 'me', 'with', 'spites', 'yet', 'we', 'must', 'not', 'be', 'foes.', 'XLI', 'Those', 'pretty', 'wrongs', 'that', 'liberty', 'commits,', 'When', 'I', 'am', 'sometime', 'absent', 'from', 'thy', 'heart,', 'Thy', 'beauty,', 'and', 'thy', 'years', 'full', 'well', 'befits,', 'For', 'still', 'temptation', 'follows', 'where', 'thou', 'art.', 'Gentle', 'thou', 'art,', 'and', 'therefore', 'to', 'be', 'won,', 'Beauteous', 'thou', 'art,', 'therefore', 'to', 'be', 'assail’d;', 'And', 'when', 'a', 'woman', 'woos,', 'what', 'woman’s', 'son', 'Will', 'sourly', 'leave', 'her', 'till', 'he', 'have', 'prevail’d?', 'Ay', 'me!', 'but', 'yet', 'thou', 'mightst', 'my', 'seat', 'forbear,', 'And', 'chide', 'thy', 'beauty', 'and', 'thy', 'straying', 'youth,', 'Who', 'lead', 'thee', 'in', 'their', 'riot', 'even', 'there', 'Where', 'thou', 'art', 'forced', 'to', 'break', 'a', 'twofold', 'truth:', 'Hers', 'by', 'thy', 'beauty', 'tempting', 'her', 'to', 'thee,', 'Thine', 'by', 'thy', 'beauty', 'being', 'false', 'to', 'me.', 'XLII', 'That', 'thou', 'hast', 'her', 'it', 'is', 'not', 'all', 'my', 'grief,', 'And', 'yet', 'it', 'may', 'be', 'said', 'I', 'loved', 'her', 'dearly;', 'That', 'she', 'hath', 'thee', 'is', 'of', 'my', 'wailing', 'chief,', 'A', 'loss', 'in', 'love', 'that', 'touches', 'me', 'more', 'nearly.', 'Loving', 'offenders', 'thus', 'I', 'will', 'excuse', 'ye:', 'Thou', 'dost', 'love', 'her,', 'because', 'thou', 'know’st', 'I', 'love', 'her;', 'And', 'for', 'my', 'sake', 'even', 'so', 'doth', 'she', 'abuse', 'me,', 'Suffering', 'my', 'friend', 'for', 'my', 'sake', 'to', 'approve', 'her.', 'If', 'I', 'lose', 'thee,', 'my', 'loss', 'is', 'my', 'love’s', 'gain,', 'And', 'losing', 'her,', 'my', 'friend', 'hath', 'found', 'that', 'loss;', 'Both', 'find', 'each', 'other,', 'and', 'I', 'lose', 'both', 'twain,', 'And', 'both', 'for', 'my', 'sake', 'lay', 'on', 'me', 'this', 'cross:', 'But', 'here’s', 'the', 'joy;', 'my', 'friend', 'and', 'I', 'are', 'one;', 'Sweet', 'flattery!', 'then', 'she', 'loves', 'but', 'me', 'alone.', 'XLIII', 'When', 'most', 'I', 'wink,', 'then', 'do', 'mine', 'eyes', 'best', 'see,', 'For', 'all', 'the', 'day', 'they', 'view', 'things', 'unrespected;', 'But', 'when', 'I', 'sleep,', 'in', 'dreams', 'they', 'look', 'on', 'thee,', 'And', 'darkly', 'bright,', 'are', 'bright', 'in', 'dark', 'directed.', 'Then', 'thou,', 'whose', 'shadow', 'shadows', 'doth', 'make', 'bright,', 'How', 'would', 'thy', 'shadow’s', 'form', 'form', 'happy', 'show', 'To', 'the', 'clear', 'day', 'with', 'thy', 'much', 'clearer', 'light,', 'When', 'to', 'unseeing', 'eyes', 'thy', 'shade', 'shines', 'so!', 'How', 'would,', 'I', 'say,', 'mine', 'eyes', 'be', 'blessed', 'made', 'By', 'looking', 'on', 'thee', 'in', 'the', 'living', 'day,', 'When', 'in', 'dead', 'night', 'thy', 'fair', 'imperfect', 'shade', 'Through', 'heavy', 'sleep', 'on', 'sightless', 'eyes', 'doth', 'stay!', 'All', 'days', 'are', 'nights', 'to', 'see', 'till', 'I', 'see', 'thee,', 'And', 'nights', 'bright', 'days', 'when', 'dreams', 'do', 'show', 'thee', 'me.', 'XLIV', 'If', 'the', 'dull', 'substance', 'of', 'my', 'flesh', 'were', 'thought,', 'Injurious', 'distance', 'should', 'not', 'stop', 'my', 'way;', 'For', 'then', 'despite', 'of', 'space', 'I', 'would', 'be', 'brought,', 'From', 'limits', 'far', 'remote,', 'where', 'thou', 'dost', 'stay.', 'No', 'matter', 'then', 'although', 'my', 'foot', 'did', 'stand', 'Upon', 'the', 'farthest', 'earth', 'remov’d', 'from', 'thee;', 'For', 'nimble', 'thought', 'can', 'jump', 'both', 'sea', 'and', 'land,', 'As', 'soon', 'as', 'think', 'the', 'place', 'where', 'he', 'would', 'be.', 'But,', 'ah!', 'thought', 'kills', 'me', 'that', 'I', 'am', 'not', 'thought,', 'To', 'leap', 'large', 'lengths', 'of', 'miles', 'when', 'thou', 'art', 'gone,', 'But', 'that', 'so', 'much', 'of', 'earth', 'and', 'water', 'wrought,', 'I', 'must', 'attend', 'time’s', 'leisure', 'with', 'my', 'moan;', 'Receiving', 'nought', 'by', 'elements', 'so', 'slow', 'But', 'heavy', 'tears,', 'badges', 'of', 'either’s', 'woe.', 'XLV', 'The', 'other', 'two,', 'slight', 'air,', 'and', 'purging', 'fire', 'Are', 'both', 'with', 'thee,', 'wherever', 'I', 'abide;', 'The', 'first', 'my', 'thought,', 'the', 'other', 'my', 'desire,', 'These', 'present-absent', 'with', 'swift', 'motion', 'slide.', 'For', 'when', 'these', 'quicker', 'elements', 'are', 'gone', 'In', 'tender', 'embassy', 'of', 'love', 'to', 'thee,', 'My', 'life,', 'being', 'made', 'of', 'four,', 'with', 'two', 'alone', 'Sinks', 'down', 'to', 'death,', 'oppress’d', 'with', 'melancholy;', 'Until', 'life’s', 'composition', 'be', 'recur’d', 'By', 'those', 'swift', 'messengers', 'return’d', 'from', 'thee,', 'Who', 'even', 'but', 'now', 'come', 'back', 'again,', 'assur’d,', 'Of', 'thy', 'fair', 'health,', 'recounting', 'it', 'to', 'me:', 'This', 'told,', 'I', 'joy;', 'but', 'then', 'no', 'longer', 'glad,', 'I', 'send', 'them', 'back', 'again,', 'and', 'straight', 'grow', 'sad.', 'XLVI', 'Mine', 'eye', 'and', 'heart', 'are', 'at', 'a', 'mortal', 'war,', 'How', 'to', 'divide', 'the', 'conquest', 'of', 'thy', 'sight;', 'Mine', 'eye', 'my', 'heart', 'thy', 'picture’s', 'sight', 'would', 'bar,', 'My', 'heart', 'mine', 'eye', 'the', 'freedom', 'of', 'that', 'right.', 'My', 'heart', 'doth', 'plead', 'that', 'thou', 'in', 'him', 'dost', 'lie,', 'A', 'closet', 'never', 'pierced', 'with', 'crystal', 'eyes;', 'But', 'the', 'defendant', 'doth', 'that', 'plea', 'deny,', 'And', 'says', 'in', 'him', 'thy', 'fair', 'appearance', 'lies.', 'To', 'side', 'this', 'title', 'is', 'impannelled', 'A', 'quest', 'of', 'thoughts,', 'all', 'tenants', 'to', 'the', 'heart;', 'And', 'by', 'their', 'verdict', 'is', 'determined', 'The', 'clear', 'eye’s', 'moiety,', 'and', 'the', 'dear', 'heart’s', 'part:', 'As', 'thus;', 'mine', 'eye’s', 'due', 'is', 'thy', 'outward', 'part,', 'And', 'my', 'heart’s', 'right,', 'thy', 'inward', 'love', 'of', 'heart.', 'XLVII', 'Betwixt', 'mine', 'eye', 'and', 'heart', 'a', 'league', 'is', 'took,', 'And', 'each', 'doth', 'good', 'turns', 'now', 'unto', 'the', 'other:', 'When', 'that', 'mine', 'eye', 'is', 'famish’d', 'for', 'a', 'look,', 'Or', 'heart', 'in', 'love', 'with', 'sighs', 'himself', 'doth', 'smother,', 'With', 'my', 'love’s', 'picture', 'then', 'my', 'eye', 'doth', 'feast,', 'And', 'to', 'the', 'painted', 'banquet', 'bids', 'my', 'heart;', 'Another', 'time', 'mine', 'eye', 'is', 'my', 'heart’s', 'guest,', 'And', 'in', 'his', 'thoughts', 'of', 'love', 'doth', 'share', 'a', 'part:', 'So,', 'either', 'by', 'thy', 'picture', 'or', 'my', 'love,', 'Thyself', 'away,', 'art', 'present', 'still', 'with', 'me;', 'For', 'thou', 'not', 'farther', 'than', 'my', 'thoughts', 'canst', 'move,', 'And', 'I', 'am', 'still', 'with', 'them,', 'and', 'they', 'with', 'thee;', 'Or,', 'if', 'they', 'sleep,', 'thy', 'picture', 'in', 'my', 'sight', 'Awakes', 'my', 'heart,', 'to', 'heart’s', 'and', 'eye’s', 'delight.', 'XLVIII', 'How', 'careful', 'was', 'I', 'when', 'I', 'took', 'my', 'way,', 'Each', 'trifle', 'under', 'truest', 'bars', 'to', 'thrust,', 'That', 'to', 'my', 'use', 'it', 'might', 'unused', 'stay', 'From', 'hands', 'of', 'falsehood,', 'in', 'sure', 'wards', 'of', 'trust!', 'But', 'thou,', 'to', 'whom', 'my', 'jewels', 'trifles', 'are,', 'Most', 'worthy', 'comfort,', 'now', 'my', 'greatest', 'grief,', 'Thou', 'best', 'of', 'dearest,', 'and', 'mine', 'only', 'care,', 'Art', 'left', 'the', 'prey', 'of', 'every', 'vulgar', 'thief.', 'Thee', 'have', 'I', 'not', 'lock’d', 'up', 'in', 'any', 'chest,', 'Save', 'where', 'thou', 'art', 'not,', 'though', 'I', 'feel', 'thou', 'art,', 'Within', 'the', 'gentle', 'closure', 'of', 'my', 'breast,', 'From', 'whence', 'at', 'pleasure', 'thou', 'mayst', 'come', 'and', 'part;', 'And', 'even', 'thence', 'thou', 'wilt', 'be', 'stol’n', 'I', 'fear,', 'For', 'truth', 'proves', 'thievish', 'for', 'a', 'prize', 'so', 'dear.', 'XLIX', 'Against', 'that', 'time,', 'if', 'ever', 'that', 'time', 'come,', 'When', 'I', 'shall', 'see', 'thee', 'frown', 'on', 'my', 'defects,', 'When', 'as', 'thy', 'love', 'hath', 'cast', 'his', 'utmost', 'sum,', 'Call’d', 'to', 'that', 'audit', 'by', 'advis’d', 'respects;', 'Against', 'that', 'time', 'when', 'thou', 'shalt', 'strangely', 'pass,', 'And', 'scarcely', 'greet', 'me', 'with', 'that', 'sun,', 'thine', 'eye,', 'When', 'love,', 'converted', 'from', 'the', 'thing', 'it', 'was,', 'Shall', 'reasons', 'find', 'of', 'settled', 'gravity;', 'Against', 'that', 'time', 'do', 'I', 'ensconce', 'me', 'here,', 'Within', 'the', 'knowledge', 'of', 'mine', 'own', 'desert,', 'And', 'this', 'my', 'hand,', 'against', 'my', 'self', 'uprear,', 'To', 'guard', 'the', 'lawful', 'reasons', 'on', 'thy', 'part:', 'To', 'leave', 'poor', 'me', 'thou', 'hast', 'the', 'strength', 'of', 'laws,', 'Since', 'why', 'to', 'love', 'I', 'can', 'allege', 'no', 'cause.', 'L', 'How', 'heavy', 'do', 'I', 'journey', 'on', 'the', 'way,', 'When', 'what', 'I', 'seek,', 'my', 'weary', 'travel’s', 'end,', 'Doth', 'teach', 'that', 'ease', 'and', 'that', 'repose', 'to', 'say,', '‘Thus', 'far', 'the', 'miles', 'are', 'measured', 'from', 'thy', 'friend!’', 'The', 'beast', 'that', 'bears', 'me,', 'tired', 'with', 'my', 'woe,', 'Plods', 'dully', 'on,', 'to', 'bear', 'that', 'weight', 'in', 'me,', 'As', 'if', 'by', 'some', 'instinct', 'the', 'wretch', 'did', 'know', 'His', 'rider', 'lov’d', 'not', 'speed,', 'being', 'made', 'from', 'thee:', 'The', 'bloody', 'spur', 'cannot', 'provoke', 'him', 'on,', 'That', 'sometimes', 'anger', 'thrusts', 'into', 'his', 'hide,', 'Which', 'heavily', 'he', 'answers', 'with', 'a', 'groan,', 'More', 'sharp', 'to', 'me', 'than', 'spurring', 'to', 'his', 'side;', 'For', 'that', 'same', 'groan', 'doth', 'put', 'this', 'in', 'my', 'mind,', 'My', 'grief', 'lies', 'onward,', 'and', 'my', 'joy', 'behind.', 'LI', 'Thus', 'can', 'my', 'love', 'excuse', 'the', 'slow', 'offence', 'Of', 'my', 'dull', 'bearer', 'when', 'from', 'thee', 'I', 'speed:', 'From', 'where', 'thou', 'art', 'why', 'should', 'I', 'haste', 'me', 'thence?', 'Till', 'I', 'return,', 'of', 'posting', 'is', 'no', 'need.', 'O!', 'what', 'excuse', 'will', 'my', 'poor', 'beast', 'then', 'find,', 'When', 'swift', 'extremity', 'can', 'seem', 'but', 'slow?', 'Then', 'should', 'I', 'spur,', 'though', 'mounted', 'on', 'the', 'wind,', 'In', 'winged', 'speed', 'no', 'motion', 'shall', 'I', 'know,', 'Then', 'can', 'no', 'horse', 'with', 'my', 'desire', 'keep', 'pace;', 'Therefore', 'desire,', 'of', 'perfect’st', 'love', 'being', 'made,', 'Shall', 'neigh', 'no', 'dull', 'flesh', 'in', 'his', 'fiery', 'race,', 'But', 'love,', 'for', 'love,', 'thus', 'shall', 'excuse', 'my', 'jade:', '‘Since', 'from', 'thee', 'going,', 'he', 'went', 'wilful-slow,', 'Towards', 'thee', 'I’ll', 'run,', 'and', 'give', 'him', 'leave', 'to', 'go.’', 'LII', 'So', 'am', 'I', 'as', 'the', 'rich,', 'whose', 'blessed', 'key,', 'Can', 'bring', 'him', 'to', 'his', 'sweet', 'up-locked', 'treasure,', 'The', 'which', 'he', 'will', 'not', 'every', 'hour', 'survey,', 'For', 'blunting', 'the', 'fine', 'point', 'of', 'seldom', 'pleasure.', 'Therefore', 'are', 'feasts', 'so', 'solemn', 'and', 'so', 'rare,', 'Since,', 'seldom', 'coming', 'in', 'that', 'long', 'year', 'set,', 'Like', 'stones', 'of', 'worth', 'they', 'thinly', 'placed', 'are,', 'Or', 'captain', 'jewels', 'in', 'the', 'carcanet.', 'So', 'is', 'the', 'time', 'that', 'keeps', 'you', 'as', 'my', 'chest,', 'Or', 'as', 'the', 'wardrobe', 'which', 'the', 'robe', 'doth', 'hide,', 'To', 'make', 'some', 'special', 'instant', 'special-blest,', 'By', 'new', 'unfolding', 'his', 'imprison’d', 'pride.', 'Blessed', 'are', 'you', 'whose', 'worthiness', 'gives', 'scope,', 'Being', 'had,', 'to', 'triumph;', 'being', 'lacked,', 'to', 'hope.', 'LIII', 'What', 'is', 'your', 'substance,', 'whereof', 'are', 'you', 'made,', 'That', 'millions', 'of', 'strange', 'shadows', 'on', 'you', 'tend?', 'Since', 'every', 'one,', 'hath', 'every', 'one,', 'one', 'shade,', 'And', 'you', 'but', 'one,', 'can', 'every', 'shadow', 'lend.', 'Describe', 'Adonis,', 'and', 'the', 'counterfeit', 'Is', 'poorly', 'imitated', 'after', 'you;', 'On', 'Helen’s', 'cheek', 'all', 'art', 'of', 'beauty', 'set,', 'And', 'you', 'in', 'Grecian', 'tires', 'are', 'painted', 'new:', 'Speak', 'of', 'the', 'spring,', 'and', 'foison', 'of', 'the', 'year,', 'The', 'one', 'doth', 'shadow', 'of', 'your', 'beauty', 'show,', 'The', 'other', 'as', 'your', 'bounty', 'doth', 'appear;', 'And', 'you', 'in', 'every', 'blessed', 'shape', 'we', 'know.', 'In', 'all', 'external', 'grace', 'you', 'have', 'some', 'part,', 'But', 'you', 'like', 'none,', 'none', 'you,', 'for', 'constant', 'heart.', 'LIV', 'O!', 'how', 'much', 'more', 'doth', 'beauty', 'beauteous', 'seem', 'By', 'that', 'sweet', 'ornament', 'which', 'truth', 'doth', 'give.', 'The', 'rose', 'looks', 'fair,', 'but', 'fairer', 'we', 'it', 'deem', 'For', 'that', 'sweet', 'odour,', 'which', 'doth', 'in', 'it', 'live.', 'The', 'canker', 'blooms', 'have', 'full', 'as', 'deep', 'a', 'dye', 'As', 'the', 'perfumed', 'tincture', 'of', 'the', 'roses.', 'Hang', 'on', 'such', 'thorns,', 'and', 'play', 'as', 'wantonly', 'When', 'summer’s', 'breath', 'their', 'masked', 'buds', 'discloses:', 'But,', 'for', 'their', 'virtue', 'only', 'is', 'their', 'show,', 'They', 'live', 'unwoo’d,', 'and', 'unrespected', 'fade;', 'Die', 'to', 'themselves.', 'Sweet', 'roses', 'do', 'not', 'so;', 'Of', 'their', 'sweet', 'deaths,', 'are', 'sweetest', 'odours', 'made:', 'And', 'so', 'of', 'you,', 'beauteous', 'and', 'lovely', 'youth,', 'When', 'that', 'shall', 'vade,', 'by', 'verse', 'distills', 'your', 'truth.', 'LV', 'Not', 'marble,', 'nor', 'the', 'gilded', 'monuments', 'Of', 'princes,', 'shall', 'outlive', 'this', 'powerful', 'rhyme;', 'But', 'you', 'shall', 'shine', 'more', 'bright', 'in', 'these', 'contents', 'Than', 'unswept', 'stone,', 'besmear’d', 'with', 'sluttish', 'time.', 'When', 'wasteful', 'war', 'shall', 'statues', 'overturn,', 'And', 'broils', 'root', 'out', 'the', 'work', 'of', 'masonry,', 'Nor', 'Mars', 'his', 'sword,', 'nor', 'war’s', 'quick', 'fire', 'shall', 'burn', 'The', 'living', 'record', 'of', 'your', 'memory.', '’Gainst', 'death,', 'and', 'all-oblivious', 'enmity', 'Shall', 'you', 'pace', 'forth;', 'your', 'praise', 'shall', 'still', 'find', 'room', 'Even', 'in', 'the', 'eyes', 'of', 'all', 'posterity', 'That', 'wear', 'this', 'world', 'out', 'to', 'the', 'ending', 'doom.', 'So,', 'till', 'the', 'judgment', 'that', 'yourself', 'arise,', 'You', 'live', 'in', 'this,', 'and', 'dwell', 'in', 'lovers’', 'eyes.', 'LVI', 'Sweet', 'love,', 'renew', 'thy', 'force;', 'be', 'it', 'not', 'said', 'Thy', 'edge', 'should', 'blunter', 'be', 'than', 'appetite,', 'Which', 'but', 'to-day', 'by', 'feeding', 'is', 'allay’d,', 'To-morrow', 'sharpened', 'in', 'his', 'former', 'might:', 'So,', 'love,', 'be', 'thou,', 'although', 'to-day', 'thou', 'fill', 'Thy', 'hungry', 'eyes,', 'even', 'till', 'they', 'wink', 'with', 'fulness,', 'To-morrow', 'see', 'again,', 'and', 'do', 'not', 'kill', 'The', 'spirit', 'of', 'love,', 'with', 'a', 'perpetual', 'dulness.', 'Let', 'this', 'sad', 'interim', 'like', 'the', 'ocean', 'be', 'Which', 'parts', 'the', 'shore,', 'where', 'two', 'contracted', 'new', 'Come', 'daily', 'to', 'the', 'banks,', 'that', 'when', 'they', 'see', 'Return', 'of', 'love,', 'more', 'blest', 'may', 'be', 'the', 'view;', 'Or', 'call', 'it', 'winter,', 'which', 'being', 'full', 'of', 'care,', 'Makes', 'summer’s', 'welcome,', 'thrice', 'more', 'wished,', 'more', 'rare.', 'LVII', 'Being', 'your', 'slave', 'what', 'should', 'I', 'do', 'but', 'tend,', 'Upon', 'the', 'hours,', 'and', 'times', 'of', 'your', 'desire?', 'I', 'have', 'no', 'precious', 'time', 'at', 'all', 'to', 'spend;', 'Nor', 'services', 'to', 'do,', 'till', 'you', 'require.', 'Nor', 'dare', 'I', 'chide', 'the', 'world-without-end', 'hour,', 'Whilst', 'I,', 'my', 'sovereign,', 'watch', 'the', 'clock', 'for', 'you,', 'Nor', 'think', 'the', 'bitterness', 'of', 'absence', 'sour,', 'When', 'you', 'have', 'bid', 'your', 'servant', 'once', 'adieu;', 'Nor', 'dare', 'I', 'question', 'with', 'my', 'jealous', 'thought', 'Where', 'you', 'may', 'be,', 'or', 'your', 'affairs', 'suppose,', 'But,', 'like', 'a', 'sad', 'slave,', 'stay', 'and', 'think', 'of', 'nought', 'Save,', 'where', 'you', 'are,', 'how', 'happy', 'you', 'make', 'those.', 'So', 'true', 'a', 'fool', 'is', 'love,', 'that', 'in', 'your', 'will,', 'Though', 'you', 'do', 'anything,', 'he', 'thinks', 'no', 'ill.', 'LVIII', 'That', 'god', 'forbid,', 'that', 'made', 'me', 'first', 'your', 'slave,', 'I', 'should', 'in', 'thought', 'control', 'your', 'times', 'of', 'pleasure,', 'Or', 'at', 'your', 'hand', 'the', 'account', 'of', 'hours', 'to', 'crave,', 'Being', 'your', 'vassal,', 'bound', 'to', 'stay', 'your', 'leisure!', 'O!', 'let', 'me', 'suffer,', 'being', 'at', 'your', 'beck,', 'The', 'imprison’d', 'absence', 'of', 'your', 'liberty;', 'And', 'patience,', 'tame', 'to', 'sufferance,', 'bide', 'each', 'check,', 'Without', 'accusing', 'you', 'of', 'injury.', 'Be', 'where', 'you', 'list,', 'your', 'charter', 'is', 'so', 'strong', 'That', 'you', 'yourself', 'may', 'privilage', 'your', 'time', 'To', 'what', 'you', 'will;', 'to', 'you', 'it', 'doth', 'belong', 'Yourself', 'to', 'pardon', 'of', 'self-doing', 'crime.', 'I', 'am', 'to', 'wait,', 'though', 'waiting', 'so', 'be', 'hell,', 'Not', 'blame', 'your', 'pleasure', 'be', 'it', 'ill', 'or', 'well.', 'LIX', 'If', 'there', 'be', 'nothing', 'new,', 'but', 'that', 'which', 'is', 'Hath', 'been', 'before,', 'how', 'are', 'our', 'brains', 'beguil’d,', 'Which', 'labouring', 'for', 'invention', 'bear', 'amiss', 'The', 'second', 'burthen', 'of', 'a', 'former', 'child!', 'O!', 'that', 'record', 'could', 'with', 'a', 'backward', 'look,', 'Even', 'of', 'five', 'hundred', 'courses', 'of', 'the', 'sun,', 'Show', 'me', 'your', 'image', 'in', 'some', 'antique', 'book,', 'Since', 'mind', 'at', 'first', 'in', 'character', 'was', 'done!', 'That', 'I', 'might', 'see', 'what', 'the', 'old', 'world', 'could', 'say', 'To', 'this', 'composed', 'wonder', 'of', 'your', 'frame;', 'Wh’r', 'we', 'are', 'mended,', 'or', 'wh’r', 'better', 'they,', 'Or', 'whether', 'revolution', 'be', 'the', 'same.', 'O!', 'sure', 'I', 'am', 'the', 'wits', 'of', 'former', 'days,', 'To', 'subjects', 'worse', 'have', 'given', 'admiring', 'praise.', 'LX', 'Like', 'as', 'the', 'waves', 'make', 'towards', 'the', 'pebbled', 'shore,', 'So', 'do', 'our', 'minutes', 'hasten', 'to', 'their', 'end;', 'Each', 'changing', 'place', 'with', 'that', 'which', 'goes', 'before,', 'In', 'sequent', 'toil', 'all', 'forwards', 'do', 'contend.', 'Nativity,', 'once', 'in', 'the', 'main', 'of', 'light,', 'Crawls', 'to', 'maturity,', 'wherewith', 'being', 'crown’d,', 'Crooked', 'eclipses', '’gainst', 'his', 'glory', 'fight,', 'And', 'Time', 'that', 'gave', 'doth', 'now', 'his', 'gift', 'confound.', 'Time', 'doth', 'transfix', 'the', 'flourish', 'set', 'on', 'youth', 'And', 'delves', 'the', 'parallels', 'in', 'beauty’s', 'brow,', 'Feeds', 'on', 'the', 'rarities', 'of', 'nature’s', 'truth,', 'And', 'nothing', 'stands', 'but', 'for', 'his', 'scythe', 'to', 'mow:', 'And', 'yet', 'to', 'times', 'in', 'hope,', 'my', 'verse', 'shall', 'stand.', 'Praising', 'thy', 'worth,', 'despite', 'his', 'cruel', 'hand.', 'LXI', 'Is', 'it', 'thy', 'will,', 'thy', 'image', 'should', 'keep', 'open', 'My', 'heavy', 'eyelids', 'to', 'the', 'weary', 'night?', 'Dost', 'thou', 'desire', 'my', 'slumbers', 'should', 'be', 'broken,', 'While', 'shadows', 'like', 'to', 'thee', 'do', 'mock', 'my', 'sight?', 'Is', 'it', 'thy', 'spirit', 'that', 'thou', 'send’st', 'from', 'thee', 'So', 'far', 'from', 'home', 'into', 'my', 'deeds', 'to', 'pry,', 'To', 'find', 'out', 'shames', 'and', 'idle', 'hours', 'in', 'me,', 'The', 'scope', 'and', 'tenure', 'of', 'thy', 'jealousy?', 'O,', 'no!', 'thy', 'love,', 'though', 'much,', 'is', 'not', 'so', 'great:', 'It', 'is', 'my', 'love', 'that', 'keeps', 'mine', 'eye', 'awake:', 'Mine', 'own', 'true', 'love', 'that', 'doth', 'my', 'rest', 'defeat,', 'To', 'play', 'the', 'watchman', 'ever', 'for', 'thy', 'sake:', 'For', 'thee', 'watch', 'I,', 'whilst', 'thou', 'dost', 'wake', 'elsewhere,', 'From', 'me', 'far', 'off,', 'with', 'others', 'all', 'too', 'near.', 'LXII', 'Sin', 'of', 'self-love', 'possesseth', 'all', 'mine', 'eye', 'And', 'all', 'my', 'soul,', 'and', 'all', 'my', 'every', 'part;', 'And', 'for', 'this', 'sin', 'there', 'is', 'no', 'remedy,', 'It', 'is', 'so', 'grounded', 'inward', 'in', 'my', 'heart.', 'Methinks', 'no', 'face', 'so', 'gracious', 'is', 'as', 'mine,', 'No', 'shape', 'so', 'true,', 'no', 'truth', 'of', 'such', 'account;', 'And', 'for', 'myself', 'mine', 'own', 'worth', 'do', 'define,', 'As', 'I', 'all', 'other', 'in', 'all', 'worths', 'surmount.', 'But', 'when', 'my', 'glass', 'shows', 'me', 'myself', 'indeed', 'Beated', 'and', 'chopp’d', 'with', 'tanned', 'antiquity,', 'Mine', 'own', 'self-love', 'quite', 'contrary', 'I', 'read;', 'Self', 'so', 'self-loving', 'were', 'iniquity.', '’Tis', 'thee,', 'myself,', 'that', 'for', 'myself', 'I', 'praise,', 'Painting', 'my', 'age', 'with', 'beauty', 'of', 'thy', 'days.', 'LXIII', 'Against', 'my', 'love', 'shall', 'be', 'as', 'I', 'am', 'now,', 'With', 'Time’s', 'injurious', 'hand', 'crush’d', 'and', 'o’erworn;', 'When', 'hours', 'have', 'drain’d', 'his', 'blood', 'and', 'fill’d', 'his', 'brow', 'With', 'lines', 'and', 'wrinkles;', 'when', 'his', 'youthful', 'morn', 'Hath', 'travell’d', 'on', 'to', 'age’s', 'steepy', 'night;', 'And', 'all', 'those', 'beauties', 'whereof', 'now', 'he’s', 'king', 'Are', 'vanishing,', 'or', 'vanished', 'out', 'of', 'sight,', 'Stealing', 'away', 'the', 'treasure', 'of', 'his', 'spring;', 'For', 'such', 'a', 'time', 'do', 'I', 'now', 'fortify', 'Against', 'confounding', 'age’s', 'cruel', 'knife,', 'That', 'he', 'shall', 'never', 'cut', 'from', 'memory', 'My', 'sweet', 'love’s', 'beauty,', 'though', 'my', 'lover’s', 'life:', 'His', 'beauty', 'shall', 'in', 'these', 'black', 'lines', 'be', 'seen,', 'And', 'they', 'shall', 'live,', 'and', 'he', 'in', 'them', 'still', 'green.', 'LXIV', 'When', 'I', 'have', 'seen', 'by', 'Time’s', 'fell', 'hand', 'defac’d', 'The', 'rich-proud', 'cost', 'of', 'outworn', 'buried', 'age;', 'When', 'sometime', 'lofty', 'towers', 'I', 'see', 'down-raz’d,', 'And', 'brass', 'eternal', 'slave', 'to', 'mortal', 'rage;', 'When', 'I', 'have', 'seen', 'the', 'hungry', 'ocean', 'gain', 'Advantage', 'on', 'the', 'kingdom', 'of', 'the', 'shore,', 'And', 'the', 'firm', 'soil', 'win', 'of', 'the', 'watery', 'main,', 'Increasing', 'store', 'with', 'loss,', 'and', 'loss', 'with', 'store;', 'When', 'I', 'have', 'seen', 'such', 'interchange', 'of', 'state,', 'Or', 'state', 'itself', 'confounded,', 'to', 'decay;', 'Ruin', 'hath', 'taught', 'me', 'thus', 'to', 'ruminate:', 'That', 'Time', 'will', 'come', 'and', 'take', 'my', 'love', 'away.', 'This', 'thought', 'is', 'as', 'a', 'death', 'which', 'cannot', 'choose', 'But', 'weep', 'to', 'have,', 'that', 'which', 'it', 'fears', 'to', 'lose.', 'LXV', 'Since', 'brass,', 'nor', 'stone,', 'nor', 'earth,', 'nor', 'boundless', 'sea,', 'But', 'sad', 'mortality', 'o’ersways', 'their', 'power,', 'How', 'with', 'this', 'rage', 'shall', 'beauty', 'hold', 'a', 'plea,', 'Whose', 'action', 'is', 'no', 'stronger', 'than', 'a', 'flower?', 'O!', 'how', 'shall', 'summer’s', 'honey', 'breath', 'hold', 'out,', 'Against', 'the', 'wrackful', 'siege', 'of', 'battering', 'days,', 'When', 'rocks', 'impregnable', 'are', 'not', 'so', 'stout,', 'Nor', 'gates', 'of', 'steel', 'so', 'strong', 'but', 'Time', 'decays?', 'O', 'fearful', 'meditation!', 'where,', 'alack,', 'Shall', 'Time’s', 'best', 'jewel', 'from', 'Time’s', 'chest', 'lie', 'hid?', 'Or', 'what', 'strong', 'hand', 'can', 'hold', 'his', 'swift', 'foot', 'back?', 'Or', 'who', 'his', 'spoil', 'of', 'beauty', 'can', 'forbid?', 'O!', 'none,', 'unless', 'this', 'miracle', 'have', 'might,', 'That', 'in', 'black', 'ink', 'my', 'love', 'may', 'still', 'shine', 'bright.', 'LXVI', 'Tired', 'with', 'all', 'these,', 'for', 'restful', 'death', 'I', 'cry:', 'As', 'to', 'behold', 'desert', 'a', 'beggar', 'born,', 'And', 'needy', 'nothing', 'trimm’d', 'in', 'jollity,', 'And', 'purest', 'faith', 'unhappily', 'forsworn,', 'And', 'gilded', 'honour', 'shamefully', 'misplac’d,', 'And', 'maiden', 'virtue', 'rudely', 'strumpeted,', 'And', 'right', 'perfection', 'wrongfully', 'disgrac’d,', 'And', 'strength', 'by', 'limping', 'sway', 'disabled', 'And', 'art', 'made', 'tongue-tied', 'by', 'authority,', 'And', 'folly,', 'doctor-like,', 'controlling', 'skill,', 'And', 'simple', 'truth', 'miscall’d', 'simplicity,', 'And', 'captive', 'good', 'attending', 'captain', 'ill:', 'Tir’d', 'with', 'all', 'these,', 'from', 'these', 'would', 'I', 'be', 'gone,', 'Save', 'that,', 'to', 'die,', 'I', 'leave', 'my', 'love', 'alone.', 'LXVII', 'Ah!', 'wherefore', 'with', 'infection', 'should', 'he', 'live,', 'And', 'with', 'his', 'presence', 'grace', 'impiety,', 'That', 'sin', 'by', 'him', 'advantage', 'should', 'achieve,', 'And', 'lace', 'itself', 'with', 'his', 'society?', 'Why', 'should', 'false', 'painting', 'imitate', 'his', 'cheek,', 'And', 'steel', 'dead', 'seeming', 'of', 'his', 'living', 'hue?', 'Why', 'should', 'poor', 'beauty', 'indirectly', 'seek', 'Roses', 'of', 'shadow,', 'since', 'his', 'rose', 'is', 'true?', 'Why', 'should', 'he', 'live,', 'now', 'Nature', 'bankrupt', 'is,', 'Beggar’d', 'of', 'blood', 'to', 'blush', 'through', 'lively', 'veins?', 'For', 'she', 'hath', 'no', 'exchequer', 'now', 'but', 'his,', 'And', 'proud', 'of', 'many,', 'lives', 'upon', 'his', 'gains.', 'O!', 'him', 'she', 'stores,', 'to', 'show', 'what', 'wealth', 'she', 'had', 'In', 'days', 'long', 'since,', 'before', 'these', 'last', 'so', 'bad.', 'LXVIII', 'Thus', 'is', 'his', 'cheek', 'the', 'map', 'of', 'days', 'outworn,', 'When', 'beauty', 'lived', 'and', 'died', 'as', 'flowers', 'do', 'now,', 'Before', 'these', 'bastard', 'signs', 'of', 'fair', 'were', 'born,', 'Or', 'durst', 'inhabit', 'on', 'a', 'living', 'brow;', 'Before', 'the', 'golden', 'tresses', 'of', 'the', 'dead,', 'The', 'right', 'of', 'sepulchres,', 'were', 'shorn', 'away,', 'To', 'live', 'a', 'second', 'life', 'on', 'second', 'head;', 'Ere', 'beauty’s', 'dead', 'fleece', 'made', 'another', 'gay:', 'In', 'him', 'those', 'holy', 'antique', 'hours', 'are', 'seen,', 'Without', 'all', 'ornament,', 'itself', 'and', 'true,', 'Making', 'no', 'summer', 'of', 'another’s', 'green,', 'Robbing', 'no', 'old', 'to', 'dress', 'his', 'beauty', 'new;', 'And', 'him', 'as', 'for', 'a', 'map', 'doth', 'Nature', 'store,', 'To', 'show', 'false', 'Art', 'what', 'beauty', 'was', 'of', 'yore.', 'LXIX', 'Those', 'parts', 'of', 'thee', 'that', 'the', 'world’s', 'eye', 'doth', 'view', 'Want', 'nothing', 'that', 'the', 'thought', 'of', 'hearts', 'can', 'mend;', 'All', 'tongues,', 'the', 'voice', 'of', 'souls,', 'give', 'thee', 'that', 'due,', 'Uttering', 'bare', 'truth,', 'even', 'so', 'as', 'foes', 'commend.', 'Thy', 'outward', 'thus', 'with', 'outward', 'praise', 'is', 'crown’d;', 'But', 'those', 'same', 'tongues,', 'that', 'give', 'thee', 'so', 'thine', 'own,', 'In', 'other', 'accents', 'do', 'this', 'praise', 'confound', 'By', 'seeing', 'farther', 'than', 'the', 'eye', 'hath', 'shown.', 'They', 'look', 'into', 'the', 'beauty', 'of', 'thy', 'mind,', 'And', 'that', 'in', 'guess', 'they', 'measure', 'by', 'thy', 'deeds;', 'Then', 'churls', 'their', 'thoughts,', 'although', 'their', 'eyes', 'were', 'kind,', 'To', 'thy', 'fair', 'flower', 'add', 'the', 'rank', 'smell', 'of', 'weeds:', 'But', 'why', 'thy', 'odour', 'matcheth', 'not', 'thy', 'show,', 'The', 'soil', 'is', 'this,', 'that', 'thou', 'dost', 'common', 'grow.', 'LXX', 'That', 'thou', 'art', 'blam’d', 'shall', 'not', 'be', 'thy', 'defect,', 'For', 'slander’s', 'mark', 'was', 'ever', 'yet', 'the', 'fair;', 'The', 'ornament', 'of', 'beauty', 'is', 'suspect,', 'A', 'crow', 'that', 'flies', 'in', 'heaven’s', 'sweetest', 'air.', 'So', 'thou', 'be', 'good,', 'slander', 'doth', 'but', 'approve', 'Thy', 'worth', 'the', 'greater', 'being', 'woo’d', 'of', 'time;', 'For', 'canker', 'vice', 'the', 'sweetest', 'buds', 'doth', 'love,', 'And', 'thou', 'present’st', 'a', 'pure', 'unstained', 'prime.', 'Thou', 'hast', 'passed', 'by', 'the', 'ambush', 'of', 'young', 'days', 'Either', 'not', 'assail’d,', 'or', 'victor', 'being', 'charg’d;', 'Yet', 'this', 'thy', 'praise', 'cannot', 'be', 'so', 'thy', 'praise,', 'To', 'tie', 'up', 'envy,', 'evermore', 'enlarg’d,', 'If', 'some', 'suspect', 'of', 'ill', 'mask’d', 'not', 'thy', 'show,', 'Then', 'thou', 'alone', 'kingdoms', 'of', 'hearts', 'shouldst', 'owe.', 'LXXI', 'No', 'longer', 'mourn', 'for', 'me', 'when', 'I', 'am', 'dead', 'Than', 'you', 'shall', 'hear', 'the', 'surly', 'sullen', 'bell', 'Give', 'warning', 'to', 'the', 'world', 'that', 'I', 'am', 'fled', 'From', 'this', 'vile', 'world', 'with', 'vilest', 'worms', 'to', 'dwell:', 'Nay,', 'if', 'you', 'read', 'this', 'line,', 'remember', 'not', 'The', 'hand', 'that', 'writ', 'it,', 'for', 'I', 'love', 'you', 'so,', 'That', 'I', 'in', 'your', 'sweet', 'thoughts', 'would', 'be', 'forgot,', 'If', 'thinking', 'on', 'me', 'then', 'should', 'make', 'you', 'woe.', 'O', 'if,', 'I', 'say,', 'you', 'look', 'upon', 'this', 'verse,', 'When', 'I', 'perhaps', 'compounded', 'am', 'with', 'clay,', 'Do', 'not', 'so', 'much', 'as', 'my', 'poor', 'name', 'rehearse;', 'But', 'let', 'your', 'love', 'even', 'with', 'my', 'life', 'decay;', 'Lest', 'the', 'wise', 'world', 'should', 'look', 'into', 'your', 'moan,', 'And', 'mock', 'you', 'with', 'me', 'after', 'I', 'am', 'gone.', 'LXXII', 'O!', 'lest', 'the', 'world', 'should', 'task', 'you', 'to', 'recite', 'What', 'merit', 'lived', 'in', 'me,', 'that', 'you', 'should', 'love', 'After', 'my', 'death,', 'dear', 'love,', 'forget', 'me', 'quite,', 'For', 'you', 'in', 'me', 'can', 'nothing', 'worthy', 'prove;', 'Unless', 'you', 'would', 'devise', 'some', 'virtuous', 'lie,', 'To', 'do', 'more', 'for', 'me', 'than', 'mine', 'own', 'desert,', 'And', 'hang', 'more', 'praise', 'upon', 'deceased', 'I', 'Than', 'niggard', 'truth', 'would', 'willingly', 'impart:', 'O!', 'lest', 'your', 'true', 'love', 'may', 'seem', 'false', 'in', 'this', 'That', 'you', 'for', 'love', 'speak', 'well', 'of', 'me', 'untrue,', 'My', 'name', 'be', 'buried', 'where', 'my', 'body', 'is,', 'And', 'live', 'no', 'more', 'to', 'shame', 'nor', 'me', 'nor', 'you.', 'For', 'I', 'am', 'shamed', 'by', 'that', 'which', 'I', 'bring', 'forth,', 'And', 'so', 'should', 'you,', 'to', 'love', 'things', 'nothing', 'worth.', 'LXXIII', 'That', 'time', 'of', 'year', 'thou', 'mayst', 'in', 'me', 'behold', 'When', 'yellow', 'leaves,', 'or', 'none,', 'or', 'few,', 'do', 'hang', 'Upon', 'those', 'boughs', 'which', 'shake', 'against', 'the', 'cold,', 'Bare', 'ruin’d', 'choirs,', 'where', 'late', 'the', 'sweet', 'birds', 'sang.', 'In', 'me', 'thou', 'see’st', 'the', 'twilight', 'of', 'such', 'day', 'As', 'after', 'sunset', 'fadeth', 'in', 'the', 'west;', 'Which', 'by', 'and', 'by', 'black', 'night', 'doth', 'take', 'away,', 'Death’s', 'second', 'self,', 'that', 'seals', 'up', 'all', 'in', 'rest.', 'In', 'me', 'thou', 'see’st', 'the', 'glowing', 'of', 'such', 'fire,', 'That', 'on', 'the', 'ashes', 'of', 'his', 'youth', 'doth', 'lie,', 'As', 'the', 'death-bed,', 'whereon', 'it', 'must', 'expire,', 'Consum’d', 'with', 'that', 'which', 'it', 'was', 'nourish’d', 'by.', 'This', 'thou', 'perceiv’st,', 'which', 'makes', 'thy', 'love', 'more', 'strong,', 'To', 'love', 'that', 'well,', 'which', 'thou', 'must', 'leave', 'ere', 'long.', 'LXXIV', 'But', 'be', 'contented:', 'when', 'that', 'fell', 'arrest', 'Without', 'all', 'bail', 'shall', 'carry', 'me', 'away,', 'My', 'life', 'hath', 'in', 'this', 'line', 'some', 'interest,', 'Which', 'for', 'memorial', 'still', 'with', 'thee', 'shall', 'stay.', 'When', 'thou', 'reviewest', 'this,', 'thou', 'dost', 'review', 'The', 'very', 'part', 'was', 'consecrate', 'to', 'thee:', 'The', 'earth', 'can', 'have', 'but', 'earth,', 'which', 'is', 'his', 'due;', 'My', 'spirit', 'is', 'thine,', 'the', 'better', 'part', 'of', 'me:', 'So', 'then', 'thou', 'hast', 'but', 'lost', 'the', 'dregs', 'of', 'life,', 'The', 'prey', 'of', 'worms,', 'my', 'body', 'being', 'dead;', 'The', 'coward', 'conquest', 'of', 'a', 'wretch’s', 'knife,', 'Too', 'base', 'of', 'thee', 'to', 'be', 'remembered.', 'The', 'worth', 'of', 'that', 'is', 'that', 'which', 'it', 'contains,', 'And', 'that', 'is', 'this,', 'and', 'this', 'with', 'thee', 'remains.', 'LXXV', 'So', 'are', 'you', 'to', 'my', 'thoughts', 'as', 'food', 'to', 'life,', 'Or', 'as', 'sweet-season’d', 'showers', 'are', 'to', 'the', 'ground;', 'And', 'for', 'the', 'peace', 'of', 'you', 'I', 'hold', 'such', 'strife', 'As', '’twixt', 'a', 'miser', 'and', 'his', 'wealth', 'is', 'found.', 'Now', 'proud', 'as', 'an', 'enjoyer,', 'and', 'anon', 'Doubting', 'the', 'filching', 'age', 'will', 'steal', 'his', 'treasure;', 'Now', 'counting', 'best', 'to', 'be', 'with', 'you', 'alone,', 'Then', 'better’d', 'that', 'the', 'world', 'may', 'see', 'my', 'pleasure:', 'Sometime', 'all', 'full', 'with', 'feasting', 'on', 'your', 'sight,', 'And', 'by', 'and', 'by', 'clean', 'starved', 'for', 'a', 'look;', 'Possessing', 'or', 'pursuing', 'no', 'delight,', 'Save', 'what', 'is', 'had,', 'or', 'must', 'from', 'you', 'be', 'took.', 'Thus', 'do', 'I', 'pine', 'and', 'surfeit', 'day', 'by', 'day,', 'Or', 'gluttoning', 'on', 'all,', 'or', 'all', 'away.', 'LXXVI', 'Why', 'is', 'my', 'verse', 'so', 'barren', 'of', 'new', 'pride,', 'So', 'far', 'from', 'variation', 'or', 'quick', 'change?', 'Why', 'with', 'the', 'time', 'do', 'I', 'not', 'glance', 'aside', 'To', 'new-found', 'methods,', 'and', 'to', 'compounds', 'strange?', 'Why', 'write', 'I', 'still', 'all', 'one,', 'ever', 'the', 'same,', 'And', 'keep', 'invention', 'in', 'a', 'noted', 'weed,', 'That', 'every', 'word', 'doth', 'almost', 'tell', 'my', 'name,', 'Showing', 'their', 'birth,', 'and', 'where', 'they', 'did', 'proceed?', 'O!', 'know', 'sweet', 'love', 'I', 'always', 'write', 'of', 'you,', 'And', 'you', 'and', 'love', 'are', 'still', 'my', 'argument;', 'So', 'all', 'my', 'best', 'is', 'dressing', 'old', 'words', 'new,', 'Spending', 'again', 'what', 'is', 'already', 'spent:', 'For', 'as', 'the', 'sun', 'is', 'daily', 'new', 'and', 'old,', 'So', 'is', 'my', 'love', 'still', 'telling', 'what', 'is', 'told.', 'LXXVII', 'Thy', 'glass', 'will', 'show', 'thee', 'how', 'thy', 'beauties', 'wear,', 'Thy', 'dial', 'how', 'thy', 'precious', 'minutes', 'waste;', 'These', 'vacant', 'leaves', 'thy', 'mind’s', 'imprint', 'will', 'bear,', 'And', 'of', 'this', 'book,', 'this', 'learning', 'mayst', 'thou', 'taste.', 'The', 'wrinkles', 'which', 'thy', 'glass', 'will', 'truly', 'show', 'Of', 'mouthed', 'graves', 'will', 'give', 'thee', 'memory;', 'Thou', 'by', 'thy', 'dial’s', 'shady', 'stealth', 'mayst', 'know', 'Time’s', 'thievish', 'progress', 'to', 'eternity.', 'Look!', 'what', 'thy', 'memory', 'cannot', 'contain,', 'Commit', 'to', 'these', 'waste', 'blanks,', 'and', 'thou', 'shalt', 'find', 'Those', 'children', 'nursed,', 'deliver’d', 'from', 'thy', 'brain,', 'To', 'take', 'a', 'new', 'acquaintance', 'of', 'thy', 'mind.', 'These', 'offices,', 'so', 'oft', 'as', 'thou', 'wilt', 'look,', 'Shall', 'profit', 'thee', 'and', 'much', 'enrich', 'thy', 'book.', 'LXXVIII', 'So', 'oft', 'have', 'I', 'invoked', 'thee', 'for', 'my', 'Muse,', 'And', 'found', 'such', 'fair', 'assistance', 'in', 'my', 'verse', 'As', 'every', 'alien', 'pen', 'hath', 'got', 'my', 'use', 'And', 'under', 'thee', 'their', 'poesy', 'disperse.', 'Thine', 'eyes,', 'that', 'taught', 'the', 'dumb', 'on', 'high', 'to', 'sing', 'And', 'heavy', 'ignorance', 'aloft', 'to', 'fly,', 'Have', 'added', 'feathers', 'to', 'the', 'learned’s', 'wing', 'And', 'given', 'grace', 'a', 'double', 'majesty.', 'Yet', 'be', 'most', 'proud', 'of', 'that', 'which', 'I', 'compile,', 'Whose', 'influence', 'is', 'thine,', 'and', 'born', 'of', 'thee:', 'In', 'others’', 'works', 'thou', 'dost', 'but', 'mend', 'the', 'style,', 'And', 'arts', 'with', 'thy', 'sweet', 'graces', 'graced', 'be;', 'But', 'thou', 'art', 'all', 'my', 'art,', 'and', 'dost', 'advance', 'As', 'high', 'as', 'learning,', 'my', 'rude', 'ignorance.', 'LXXIX', 'Whilst', 'I', 'alone', 'did', 'call', 'upon', 'thy', 'aid,', 'My', 'verse', 'alone', 'had', 'all', 'thy', 'gentle', 'grace;', 'But', 'now', 'my', 'gracious', 'numbers', 'are', 'decay’d,', 'And', 'my', 'sick', 'Muse', 'doth', 'give', 'an', 'other', 'place.', 'I', 'grant,', 'sweet', 'love,', 'thy', 'lovely', 'argument', 'Deserves', 'the', 'travail', 'of', 'a', 'worthier', 'pen;', 'Yet', 'what', 'of', 'thee', 'thy', 'poet', 'doth', 'invent', 'He', 'robs', 'thee', 'of,', 'and', 'pays', 'it', 'thee', 'again.', 'He', 'lends', 'thee', 'virtue,', 'and', 'he', 'stole', 'that', 'word', 'From', 'thy', 'behaviour;', 'beauty', 'doth', 'he', 'give,', 'And', 'found', 'it', 'in', 'thy', 'cheek:', 'he', 'can', 'afford', 'No', 'praise', 'to', 'thee,', 'but', 'what', 'in', 'thee', 'doth', 'live.', 'Then', 'thank', 'him', 'not', 'for', 'that', 'which', 'he', 'doth', 'say,', 'Since', 'what', 'he', 'owes', 'thee,', 'thou', 'thyself', 'dost', 'pay.', 'LXXX', 'O!', 'how', 'I', 'faint', 'when', 'I', 'of', 'you', 'do', 'write,', 'Knowing', 'a', 'better', 'spirit', 'doth', 'use', 'your', 'name,', 'And', 'in', 'the', 'praise', 'thereof', 'spends', 'all', 'his', 'might,', 'To', 'make', 'me', 'tongue-tied', 'speaking', 'of', 'your', 'fame!', 'But', 'since', 'your', 'wort,', 'wide', 'as', 'the', 'ocean', 'is,', 'The', 'humble', 'as', 'the', 'proudest', 'sail', 'doth', 'bear,', 'My', 'saucy', 'bark,', 'inferior', 'far', 'to', 'his,', 'On', 'your', 'broad', 'main', 'doth', 'wilfully', 'appear.', 'Your', 'shallowest', 'help', 'will', 'hold', 'me', 'up', 'afloat,', 'Whilst', 'he', 'upon', 'your', 'soundless', 'deep', 'doth', 'ride;', 'Or,', 'being', 'wrack’d,', 'I', 'am', 'a', 'worthless', 'boat,', 'He', 'of', 'tall', 'building,', 'and', 'of', 'goodly', 'pride:', 'Then', 'if', 'he', 'thrive', 'and', 'I', 'be', 'cast', 'away,', 'The', 'worst', 'was', 'this:', 'my', 'love', 'was', 'my', 'decay.', 'LXXXI', 'Or', 'I', 'shall', 'live', 'your', 'epitaph', 'to', 'make,', 'Or', 'you', 'survive', 'when', 'I', 'in', 'earth', 'am', 'rotten;', 'From', 'hence', 'your', 'memory', 'death', 'cannot', 'take,', 'Although', 'in', 'me', 'each', 'part', 'will', 'be', 'forgotten.', 'Your', 'name', 'from', 'hence', 'immortal', 'life', 'shall', 'have,', 'Though', 'I,', 'once', 'gone,', 'to', 'all', 'the', 'world', 'must', 'die:', 'The', 'earth', 'can', 'yield', 'me', 'but', 'a', 'common', 'grave,', 'When', 'you', 'entombed', 'in', 'men’s', 'eyes', 'shall', 'lie.', 'Your', 'monument', 'shall', 'be', 'my', 'gentle', 'verse,', 'Which', 'eyes', 'not', 'yet', 'created', 'shall', 'o’er-read;', 'And', 'tongues', 'to', 'be,', 'your', 'being', 'shall', 'rehearse,', 'When', 'all', 'the', 'breathers', 'of', 'this', 'world', 'are', 'dead;', 'You', 'still', 'shall', 'live,', 'such', 'virtue', 'hath', 'my', 'pen,', 'Where', 'breath', 'most', 'breathes,', 'even', 'in', 'the', 'mouths', 'of', 'men.', 'LXXXII', 'I', 'grant', 'thou', 'wert', 'not', 'married', 'to', 'my', 'Muse,', 'And', 'therefore', 'mayst', 'without', 'attaint', 'o’erlook', 'The', 'dedicated', 'words', 'which', 'writers', 'use', 'Of', 'their', 'fair', 'subject,', 'blessing', 'every', 'book.', 'Thou', 'art', 'as', 'fair', 'in', 'knowledge', 'as', 'in', 'hue,', 'Finding', 'thy', 'worth', 'a', 'limit', 'past', 'my', 'praise;', 'And', 'therefore', 'art', 'enforced', 'to', 'seek', 'anew', 'Some', 'fresher', 'stamp', 'of', 'the', 'time-bettering', 'days.', 'And', 'do', 'so,', 'love;', 'yet', 'when', 'they', 'have', 'devis’d,', 'What', 'strained', 'touches', 'rhetoric', 'can', 'lend,', 'Thou', 'truly', 'fair,', 'wert', 'truly', 'sympathiz’d', 'In', 'true', 'plain', 'words,', 'by', 'thy', 'true-telling', 'friend;', 'And', 'their', 'gross', 'painting', 'might', 'be', 'better', 'us’d', 'Where', 'cheeks', 'need', 'blood;', 'in', 'thee', 'it', 'is', 'abus’d.', 'LXXXIII', 'I', 'never', 'saw', 'that', 'you', 'did', 'painting', 'need,', 'And', 'therefore', 'to', 'your', 'fair', 'no', 'painting', 'set;', 'I', 'found,', 'or', 'thought', 'I', 'found,', 'you', 'did', 'exceed', 'That', 'barren', 'tender', 'of', 'a', 'poet’s', 'debt:', 'And', 'therefore', 'have', 'I', 'slept', 'in', 'your', 'report,', 'That', 'you', 'yourself,', 'being', 'extant,', 'well', 'might', 'show', 'How', 'far', 'a', 'modern', 'quill', 'doth', 'come', 'too', 'short,', 'Speaking', 'of', 'worth,', 'what', 'worth', 'in', 'you', 'doth', 'grow.', 'This', 'silence', 'for', 'my', 'sin', 'you', 'did', 'impute,', 'Which', 'shall', 'be', 'most', 'my', 'glory', 'being', 'dumb;', 'For', 'I', 'impair', 'not', 'beauty', 'being', 'mute,', 'When', 'others', 'would', 'give', 'life,', 'and', 'bring', 'a', 'tomb.', 'There', 'lives', 'more', 'life', 'in', 'one', 'of', 'your', 'fair', 'eyes', 'Than', 'both', 'your', 'poets', 'can', 'in', 'praise', 'devise.', 'LXXXIV', 'Who', 'is', 'it', 'that', 'says', 'most,', 'which', 'can', 'say', 'more,', 'Than', 'this', 'rich', 'praise:', 'that', 'you', 'alone', 'are', 'you,', 'In', 'whose', 'confine', 'immured', 'is', 'the', 'store', 'Which', 'should', 'example', 'where', 'your', 'equal', 'grew.', 'Lean', 'penury', 'within', 'that', 'pen', 'doth', 'dwell', 'That', 'to', 'his', 'subject', 'lends', 'not', 'some', 'small', 'glory;', 'But', 'he', 'that', 'writes', 'of', 'you,', 'if', 'he', 'can', 'tell', 'That', 'you', 'are', 'you,', 'so', 'dignifies', 'his', 'story,', 'Let', 'him', 'but', 'copy', 'what', 'in', 'you', 'is', 'writ,', 'Not', 'making', 'worse', 'what', 'nature', 'made', 'so', 'clear,', 'And', 'such', 'a', 'counterpart', 'shall', 'fame', 'his', 'wit,', 'Making', 'his', 'style', 'admired', 'every', 'where.', 'You', 'to', 'your', 'beauteous', 'blessings', 'add', 'a', 'curse,', 'Being', 'fond', 'on', 'praise,', 'which', 'makes', 'your', 'praises', 'worse.', 'LXXXV', 'My', 'tongue-tied', 'Muse', 'in', 'manners', 'holds', 'her', 'still,', 'While', 'comments', 'of', 'your', 'praise', 'richly', 'compil’d,', 'Reserve', 'their', 'character', 'with', 'golden', 'quill,', 'And', 'precious', 'phrase', 'by', 'all', 'the', 'Muses', 'fil’d.', 'I', 'think', 'good', 'thoughts,', 'whilst', 'others', 'write', 'good', 'words,', 'And', 'like', 'unlettered', 'clerk', 'still', 'cry', '‘Amen’', 'To', 'every', 'hymn', 'that', 'able', 'spirit', 'affords,', 'In', 'polish’d', 'form', 'of', 'well-refined', 'pen.', 'Hearing', 'you', 'praised,', 'I', 'say', '‘’tis', 'so,', '’tis', 'true,’', 'And', 'to', 'the', 'most', 'of', 'praise', 'add', 'something', 'more;', 'But', 'that', 'is', 'in', 'my', 'thought,', 'whose', 'love', 'to', 'you,', 'Though', 'words', 'come', 'hindmost,', 'holds', 'his', 'rank', 'before.', 'Then', 'others,', 'for', 'the', 'breath', 'of', 'words', 'respect,', 'Me', 'for', 'my', 'dumb', 'thoughts,', 'speaking', 'in', 'effect.', 'LXXXVI', 'Was', 'it', 'the', 'proud', 'full', 'sail', 'of', 'his', 'great', 'verse,', 'Bound', 'for', 'the', 'prize', 'of', 'all', 'too', 'precious', 'you,', 'That', 'did', 'my', 'ripe', 'thoughts', 'in', 'my', 'brain', 'inhearse,', 'Making', 'their', 'tomb', 'the', 'womb', 'wherein', 'they', 'grew?', 'Was', 'it', 'his', 'spirit,', 'by', 'spirits', 'taught', 'to', 'write,', 'Above', 'a', 'mortal', 'pitch,', 'that', 'struck', 'me', 'dead?', 'No,', 'neither', 'he,', 'nor', 'his', 'compeers', 'by', 'night', 'Giving', 'him', 'aid,', 'my', 'verse', 'astonished.', 'He,', 'nor', 'that', 'affable', 'familiar', 'ghost', 'Which', 'nightly', 'gulls', 'him', 'with', 'intelligence,', 'As', 'victors', 'of', 'my', 'silence', 'cannot', 'boast;', 'I', 'was', 'not', 'sick', 'of', 'any', 'fear', 'from', 'thence:', 'But', 'when', 'your', 'countenance', 'fill’d', 'up', 'his', 'line,', 'Then', 'lacked', 'I', 'matter;', 'that', 'enfeebled', 'mine.', 'LXXXVII', 'Farewell!', 'thou', 'art', 'too', 'dear', 'for', 'my', 'possessing,', 'And', 'like', 'enough', 'thou', 'know’st', 'thy', 'estimate,', 'The', 'charter', 'of', 'thy', 'worth', 'gives', 'thee', 'releasing;', 'My', 'bonds', 'in', 'thee', 'are', 'all', 'determinate.', 'For', 'how', 'do', 'I', 'hold', 'thee', 'but', 'by', 'thy', 'granting?', 'And', 'for', 'that', 'riches', 'where', 'is', 'my', 'deserving?', 'The', 'cause', 'of', 'this', 'fair', 'gift', 'in', 'me', 'is', 'wanting,', 'And', 'so', 'my', 'patent', 'back', 'again', 'is', 'swerving.', 'Thyself', 'thou', 'gav’st,', 'thy', 'own', 'worth', 'then', 'not', 'knowing,', 'Or', 'me', 'to', 'whom', 'thou', 'gav’st', 'it,', 'else', 'mistaking;', 'So', 'thy', 'great', 'gift,', 'upon', 'misprision', 'growing,', 'Comes', 'home', 'again,', 'on', 'better', 'judgement', 'making.', 'Thus', 'have', 'I', 'had', 'thee,', 'as', 'a', 'dream', 'doth', 'flatter,', 'In', 'sleep', 'a', 'king,', 'but', 'waking', 'no', 'such', 'matter.', 'LXXXVIII', 'When', 'thou', 'shalt', 'be', 'dispos’d', 'to', 'set', 'me', 'light,', 'And', 'place', 'my', 'merit', 'in', 'the', 'eye', 'of', 'scorn,', 'Upon', 'thy', 'side,', 'against', 'myself', 'I’ll', 'fight,', 'And', 'prove', 'thee', 'virtuous,', 'though', 'thou', 'art', 'forsworn.', 'With', 'mine', 'own', 'weakness,', 'being', 'best', 'acquainted,', 'Upon', 'thy', 'part', 'I', 'can', 'set', 'down', 'a', 'story', 'Of', 'faults', 'conceal’d,', 'wherein', 'I', 'am', 'attainted;', 'That', 'thou', 'in', 'losing', 'me', 'shalt', 'win', 'much', 'glory:', 'And', 'I', 'by', 'this', 'will', 'be', 'a', 'gainer', 'too;', 'For', 'bending', 'all', 'my', 'loving', 'thoughts', 'on', 'thee,', 'The', 'injuries', 'that', 'to', 'myself', 'I', 'do,', 'Doing', 'thee', 'vantage,', 'double-vantage', 'me.', 'Such', 'is', 'my', 'love,', 'to', 'thee', 'I', 'so', 'belong,', 'That', 'for', 'thy', 'right,', 'myself', 'will', 'bear', 'all', 'wrong.', 'LXXXIX', 'Say', 'that', 'thou', 'didst', 'forsake', 'me', 'for', 'some', 'fault,', 'And', 'I', 'will', 'comment', 'upon', 'that', 'offence:', 'Speak', 'of', 'my', 'lameness,', 'and', 'I', 'straight', 'will', 'halt,', 'Against', 'thy', 'reasons', 'making', 'no', 'defence.', 'Thou', 'canst', 'not', 'love', 'disgrace', 'me', 'half', 'so', 'ill,', 'To', 'set', 'a', 'form', 'upon', 'desired', 'change,', 'As', 'I’ll', 'myself', 'disgrace;', 'knowing', 'thy', 'will,', 'I', 'will', 'acquaintance', 'strangle,', 'and', 'look', 'strange;', 'Be', 'absent', 'from', 'thy', 'walks;', 'and', 'in', 'my', 'tongue', 'Thy', 'sweet', 'beloved', 'name', 'no', 'more', 'shall', 'dwell,', 'Lest', 'I,', 'too', 'much', 'profane,', 'should', 'do', 'it', 'wrong,', 'And', 'haply', 'of', 'our', 'old', 'acquaintance', 'tell.', 'For', 'thee,', 'against', 'my', 'self', 'I’ll', 'vow', 'debate,', 'For', 'I', 'must', 'ne’er', 'love', 'him', 'whom', 'thou', 'dost', 'hate.', 'XC', 'Then', 'hate', 'me', 'when', 'thou', 'wilt;', 'if', 'ever,', 'now;', 'Now,', 'while', 'the', 'world', 'is', 'bent', 'my', 'deeds', 'to', 'cross,', 'Join', 'with', 'the', 'spite', 'of', 'fortune,', 'make', 'me', 'bow,', 'And', 'do', 'not', 'drop', 'in', 'for', 'an', 'after-loss:', 'Ah!', 'do', 'not,', 'when', 'my', 'heart', 'hath', '’scap’d', 'this', 'sorrow,', 'Come', 'in', 'the', 'rearward', 'of', 'a', 'conquer’d', 'woe;', 'Give', 'not', 'a', 'windy', 'night', 'a', 'rainy', 'morrow,', 'To', 'linger', 'out', 'a', 'purpos’d', 'overthrow.', 'If', 'thou', 'wilt', 'leave', 'me,', 'do', 'not', 'leave', 'me', 'last,', 'When', 'other', 'petty', 'griefs', 'have', 'done', 'their', 'spite,', 'But', 'in', 'the', 'onset', 'come:', 'so', 'shall', 'I', 'taste', 'At', 'first', 'the', 'very', 'worst', 'of', 'fortune’s', 'might;', 'And', 'other', 'strains', 'of', 'woe,', 'which', 'now', 'seem', 'woe,', 'Compar’d', 'with', 'loss', 'of', 'thee,', 'will', 'not', 'seem', 'so.', 'XCI', 'Some', 'glory', 'in', 'their', 'birth,', 'some', 'in', 'their', 'skill,', 'Some', 'in', 'their', 'wealth,', 'some', 'in', 'their', 'body’s', 'force,', 'Some', 'in', 'their', 'garments', 'though', 'new-fangled', 'ill;', 'Some', 'in', 'their', 'hawks', 'and', 'hounds,', 'some', 'in', 'their', 'horse;', 'And', 'every', 'humour', 'hath', 'his', 'adjunct', 'pleasure,', 'Wherein', 'it', 'finds', 'a', 'joy', 'above', 'the', 'rest:', 'But', 'these', 'particulars', 'are', 'not', 'my', 'measure,', 'All', 'these', 'I', 'better', 'in', 'one', 'general', 'best.', 'Thy', 'love', 'is', 'better', 'than', 'high', 'birth', 'to', 'me,', 'Richer', 'than', 'wealth,', 'prouder', 'than', 'garments’', 'costs,', 'Of', 'more', 'delight', 'than', 'hawks', 'and', 'horses', 'be;', 'And', 'having', 'thee,', 'of', 'all', 'men’s', 'pride', 'I', 'boast:', 'Wretched', 'in', 'this', 'alone,', 'that', 'thou', 'mayst', 'take', 'All', 'this', 'away,', 'and', 'me', 'most', 'wretched', 'make.', 'XCII', 'But', 'do', 'thy', 'worst', 'to', 'steal', 'thyself', 'away,', 'For', 'term', 'of', 'life', 'thou', 'art', 'assured', 'mine;', 'And', 'life', 'no', 'longer', 'than', 'thy', 'love', 'will', 'stay,', 'For', 'it', 'depends', 'upon', 'that', 'love', 'of', 'thine.', 'Then', 'need', 'I', 'not', 'to', 'fear', 'the', 'worst', 'of', 'wrongs,', 'When', 'in', 'the', 'least', 'of', 'them', 'my', 'life', 'hath', 'end.', 'I', 'see', 'a', 'better', 'state', 'to', 'me', 'belongs', 'Than', 'that', 'which', 'on', 'thy', 'humour', 'doth', 'depend:', 'Thou', 'canst', 'not', 'vex', 'me', 'with', 'inconstant', 'mind,', 'Since', 'that', 'my', 'life', 'on', 'thy', 'revolt', 'doth', 'lie.', 'O!', 'what', 'a', 'happy', 'title', 'do', 'I', 'find,', 'Happy', 'to', 'have', 'thy', 'love,', 'happy', 'to', 'die!', 'But', 'what’s', 'so', 'blessed-fair', 'that', 'fears', 'no', 'blot?', 'Thou', 'mayst', 'be', 'false,', 'and', 'yet', 'I', 'know', 'it', 'not.', 'XCIII', 'So', 'shall', 'I', 'live,', 'supposing', 'thou', 'art', 'true,', 'Like', 'a', 'deceived', 'husband;', 'so', 'love’s', 'face', 'May', 'still', 'seem', 'love', 'to', 'me,', 'though', 'alter’d', 'new;', 'Thy', 'looks', 'with', 'me,', 'thy', 'heart', 'in', 'other', 'place:', 'For', 'there', 'can', 'live', 'no', 'hatred', 'in', 'thine', 'eye,', 'Therefore', 'in', 'that', 'I', 'cannot', 'know', 'thy', 'change.', 'In', 'many’s', 'looks,', 'the', 'false', 'heart’s', 'history', 'Is', 'writ', 'in', 'moods,', 'and', 'frowns,', 'and', 'wrinkles', 'strange.', 'But', 'heaven', 'in', 'thy', 'creation', 'did', 'decree', 'That', 'in', 'thy', 'face', 'sweet', 'love', 'should', 'ever', 'dwell;', 'Whate’er', 'thy', 'thoughts,', 'or', 'thy', 'heart’s', 'workings', 'be,', 'Thy', 'looks', 'should', 'nothing', 'thence,', 'but', 'sweetness', 'tell.', 'How', 'like', 'Eve’s', 'apple', 'doth', 'thy', 'beauty', 'grow,', 'If', 'thy', 'sweet', 'virtue', 'answer', 'not', 'thy', 'show!', 'XCIV', 'They', 'that', 'have', 'power', 'to', 'hurt,', 'and', 'will', 'do', 'none,', 'That', 'do', 'not', 'do', 'the', 'thing', 'they', 'most', 'do', 'show,', 'Who,', 'moving', 'others,', 'are', 'themselves', 'as', 'stone,', 'Unmoved,', 'cold,', 'and', 'to', 'temptation', 'slow;', 'They', 'rightly', 'do', 'inherit', 'heaven’s', 'graces,', 'And', 'husband', 'nature’s', 'riches', 'from', 'expense;', 'They', 'are', 'the', 'lords', 'and', 'owners', 'of', 'their', 'faces,', 'Others,', 'but', 'stewards', 'of', 'their', 'excellence.', 'The', 'summer’s', 'flower', 'is', 'to', 'the', 'summer', 'sweet,', 'Though', 'to', 'itself,', 'it', 'only', 'live', 'and', 'die,', 'But', 'if', 'that', 'flower', 'with', 'base', 'infection', 'meet,', 'The', 'basest', 'weed', 'outbraves', 'his', 'dignity:', 'For', 'sweetest', 'things', 'turn', 'sourest', 'by', 'their', 'deeds;', 'Lilies', 'that', 'fester,', 'smell', 'far', 'worse', 'than', 'weeds.', 'XCV', 'How', 'sweet', 'and', 'lovely', 'dost', 'thou', 'make', 'the', 'shame', 'Which,', 'like', 'a', 'canker', 'in', 'the', 'fragrant', 'rose,', 'Doth', 'spot', 'the', 'beauty', 'of', 'thy', 'budding', 'name!', 'O!', 'in', 'what', 'sweets', 'dost', 'thou', 'thy', 'sins', 'enclose.', 'That', 'tongue', 'that', 'tells', 'the', 'story', 'of', 'thy', 'days,', 'Making', 'lascivious', 'comments', 'on', 'thy', 'sport,', 'Cannot', 'dispraise,', 'but', 'in', 'a', 'kind', 'of', 'praise;', 'Naming', 'thy', 'name,', 'blesses', 'an', 'ill', 'report.', 'O!', 'what', 'a', 'mansion', 'have', 'those', 'vices', 'got', 'Which', 'for', 'their', 'habitation', 'chose', 'out', 'thee,', 'Where', 'beauty’s', 'veil', 'doth', 'cover', 'every', 'blot', 'And', 'all', 'things', 'turns', 'to', 'fair', 'that', 'eyes', 'can', 'see!', 'Take', 'heed,', 'dear', 'heart,', 'of', 'this', 'large', 'privilege;', 'The', 'hardest', 'knife', 'ill-us’d', 'doth', 'lose', 'his', 'edge.', 'XCVI', 'Some', 'say', 'thy', 'fault', 'is', 'youth,', 'some', 'wantonness;', 'Some', 'say', 'thy', 'grace', 'is', 'youth', 'and', 'gentle', 'sport;', 'Both', 'grace', 'and', 'faults', 'are', 'lov’d', 'of', 'more', 'and', 'less:', 'Thou', 'mak’st', 'faults', 'graces', 'that', 'to', 'thee', 'resort.', 'As', 'on', 'the', 'finger', 'of', 'a', 'throned', 'queen', 'The', 'basest', 'jewel', 'will', 'be', 'well', 'esteem’d,', 'So', 'are', 'those', 'errors', 'that', 'in', 'thee', 'are', 'seen', 'To', 'truths', 'translated,', 'and', 'for', 'true', 'things', 'deem’d.', 'How', 'many', 'lambs', 'might', 'the', 'stern', 'wolf', 'betray,', 'If', 'like', 'a', 'lamb', 'he', 'could', 'his', 'looks', 'translate!', 'How', 'many', 'gazers', 'mightst', 'thou', 'lead', 'away,', 'if', 'thou', 'wouldst', 'use', 'the', 'strength', 'of', 'all', 'thy', 'state!', 'But', 'do', 'not', 'so;', 'I', 'love', 'thee', 'in', 'such', 'sort,', 'As,', 'thou', 'being', 'mine,', 'mine', 'is', 'thy', 'good', 'report.', 'XCVII', 'How', 'like', 'a', 'winter', 'hath', 'my', 'absence', 'been', 'From', 'thee,', 'the', 'pleasure', 'of', 'the', 'fleeting', 'year!', 'What', 'freezings', 'have', 'I', 'felt,', 'what', 'dark', 'days', 'seen!', 'What', 'old', 'December’s', 'bareness', 'everywhere!', 'And', 'yet', 'this', 'time', 'removed', 'was', 'summer’s', 'time;', 'The', 'teeming', 'autumn,', 'big', 'with', 'rich', 'increase,', 'Bearing', 'the', 'wanton', 'burden', 'of', 'the', 'prime,', 'Like', 'widow’d', 'wombs', 'after', 'their', 'lords’', 'decease:', 'Yet', 'this', 'abundant', 'issue', 'seem’d', 'to', 'me', 'But', 'hope', 'of', 'orphans,', 'and', 'unfather’d', 'fruit;', 'For', 'summer', 'and', 'his', 'pleasures', 'wait', 'on', 'thee,', 'And,', 'thou', 'away,', 'the', 'very', 'birds', 'are', 'mute:', 'Or,', 'if', 'they', 'sing,', '’tis', 'with', 'so', 'dull', 'a', 'cheer,', 'That', 'leaves', 'look', 'pale,', 'dreading', 'the', 'winter’s', 'near.', 'XCVIII', 'From', 'you', 'have', 'I', 'been', 'absent', 'in', 'the', 'spring,', 'When', 'proud-pied', 'April,', 'dress’d', 'in', 'all', 'his', 'trim,', 'Hath', 'put', 'a', 'spirit', 'of', 'youth', 'in', 'every', 'thing,', 'That', 'heavy', 'Saturn', 'laugh’d', 'and', 'leap’d', 'with', 'him.', 'Yet', 'nor', 'the', 'lays', 'of', 'birds,', 'nor', 'the', 'sweet', 'smell', 'Of', 'different', 'flowers', 'in', 'odour', 'and', 'in', 'hue,', 'Could', 'make', 'me', 'any', 'summer’s', 'story', 'tell,', 'Or', 'from', 'their', 'proud', 'lap', 'pluck', 'them', 'where', 'they', 'grew:', 'Nor', 'did', 'I', 'wonder', 'at', 'the', 'lily’s', 'white,', 'Nor', 'praise', 'the', 'deep', 'vermilion', 'in', 'the', 'rose;', 'They', 'were', 'but', 'sweet,', 'but', 'figures', 'of', 'delight,', 'Drawn', 'after', 'you,', 'you', 'pattern', 'of', 'all', 'those.', 'Yet', 'seem’d', 'it', 'winter', 'still,', 'and', 'you', 'away,', 'As', 'with', 'your', 'shadow', 'I', 'with', 'these', 'did', 'play.', 'XCIX', 'The', 'forward', 'violet', 'thus', 'did', 'I', 'chide:', 'Sweet', 'thief,', 'whence', 'didst', 'thou', 'steal', 'thy', 'sweet', 'that', 'smells,', 'If', 'not', 'from', 'my', 'love’s', 'breath?', 'The', 'purple', 'pride', 'Which', 'on', 'thy', 'soft', 'cheek', 'for', 'complexion', 'dwells', 'In', 'my', 'love’s', 'veins', 'thou', 'hast', 'too', 'grossly', 'dy’d.', 'The', 'lily', 'I', 'condemned', 'for', 'thy', 'hand,', 'And', 'buds', 'of', 'marjoram', 'had', 'stol’n', 'thy', 'hair;', 'The', 'roses', 'fearfully', 'on', 'thorns', 'did', 'stand,', 'One', 'blushing', 'shame,', 'another', 'white', 'despair;', 'A', 'third,', 'nor', 'red', 'nor', 'white,', 'had', 'stol’n', 'of', 'both,', 'And', 'to', 'his', 'robbery', 'had', 'annex’d', 'thy', 'breath;', 'But,', 'for', 'his', 'theft,', 'in', 'pride', 'of', 'all', 'his', 'growth', 'A', 'vengeful', 'canker', 'eat', 'him', 'up', 'to', 'death.', 'More', 'flowers', 'I', 'noted,', 'yet', 'I', 'none', 'could', 'see,', 'But', 'sweet,', 'or', 'colour', 'it', 'had', 'stol’n', 'from', 'thee.', 'C', 'Where', 'art', 'thou', 'Muse', 'that', 'thou', 'forget’st', 'so', 'long,', 'To', 'speak', 'of', 'that', 'which', 'gives', 'thee', 'all', 'thy', 'might?', 'Spend’st', 'thou', 'thy', 'fury', 'on', 'some', 'worthless', 'song,', 'Darkening', 'thy', 'power', 'to', 'lend', 'base', 'subjects', 'light?', 'Return', 'forgetful', 'Muse,', 'and', 'straight', 'redeem,', 'In', 'gentle', 'numbers', 'time', 'so', 'idly', 'spent;', 'Sing', 'to', 'the', 'ear', 'that', 'doth', 'thy', 'lays', 'esteem', 'And', 'gives', 'thy', 'pen', 'both', 'skill', 'and', 'argument.', 'Rise,', 'resty', 'Muse,', 'my', 'love’s', 'sweet', 'face', 'survey,', 'If', 'Time', 'have', 'any', 'wrinkle', 'graven', 'there;', 'If', 'any,', 'be', 'a', 'satire', 'to', 'decay,', 'And', 'make', 'time’s', 'spoils', 'despised', 'every', 'where.', 'Give', 'my', 'love', 'fame', 'faster', 'than', 'Time', 'wastes', 'life,', 'So', 'thou', 'prevent’st', 'his', 'scythe', 'and', 'crooked', 'knife.', 'CI', 'O', 'truant', 'Muse', 'what', 'shall', 'be', 'thy', 'amends', 'For', 'thy', 'neglect', 'of', 'truth', 'in', 'beauty', 'dy’d?', 'Both', 'truth', 'and', 'beauty', 'on', 'my', 'love', 'depends;', 'So', 'dost', 'thou', 'too,', 'and', 'therein', 'dignified.', 'Make', 'answer', 'Muse:', 'wilt', 'thou', 'not', 'haply', 'say,', '‘Truth', 'needs', 'no', 'colour,', 'with', 'his', 'colour', 'fix’d;', 'Beauty', 'no', 'pencil,', 'beauty’s', 'truth', 'to', 'lay;', 'But', 'best', 'is', 'best,', 'if', 'never', 'intermix’d’?', 'Because', 'he', 'needs', 'no', 'praise,', 'wilt', 'thou', 'be', 'dumb?', 'Excuse', 'not', 'silence', 'so,', 'for’t', 'lies', 'in', 'thee', 'To', 'make', 'him', 'much', 'outlive', 'a', 'gilded', 'tomb', 'And', 'to', 'be', 'prais’d', 'of', 'ages', 'yet', 'to', 'be.', 'Then', 'do', 'thy', 'office,', 'Muse;', 'I', 'teach', 'thee', 'how', 'To', 'make', 'him', 'seem', 'long', 'hence', 'as', 'he', 'shows', 'now.', 'CII', 'My', 'love', 'is', 'strengthen’d,', 'though', 'more', 'weak', 'in', 'seeming;', 'I', 'love', 'not', 'less,', 'though', 'less', 'the', 'show', 'appear;', 'That', 'love', 'is', 'merchandiz’d,', 'whose', 'rich', 'esteeming,', 'The', 'owner’s', 'tongue', 'doth', 'publish', 'every', 'where.', 'Our', 'love', 'was', 'new,', 'and', 'then', 'but', 'in', 'the', 'spring,', 'When', 'I', 'was', 'wont', 'to', 'greet', 'it', 'with', 'my', 'lays;', 'As', 'Philomel', 'in', 'summer’s', 'front', 'doth', 'sing,', 'And', 'stops', 'her', 'pipe', 'in', 'growth', 'of', 'riper', 'days:', 'Not', 'that', 'the', 'summer', 'is', 'less', 'pleasant', 'now', 'Than', 'when', 'her', 'mournful', 'hymns', 'did', 'hush', 'the', 'night,', 'But', 'that', 'wild', 'music', 'burthens', 'every', 'bough,', 'And', 'sweets', 'grown', 'common', 'lose', 'their', 'dear', 'delight.', 'Therefore', 'like', 'her,', 'I', 'sometime', 'hold', 'my', 'tongue:', 'Because', 'I', 'would', 'not', 'dull', 'you', 'with', 'my', 'song.', 'CIII', 'Alack!', 'what', 'poverty', 'my', 'Muse', 'brings', 'forth,', 'That', 'having', 'such', 'a', 'scope', 'to', 'show', 'her', 'pride,', 'The', 'argument,', 'all', 'bare,', 'is', 'of', 'more', 'worth', 'Than', 'when', 'it', 'hath', 'my', 'added', 'praise', 'beside!', 'O!', 'blame', 'me', 'not,', 'if', 'I', 'no', 'more', 'can', 'write!', 'Look', 'in', 'your', 'glass,', 'and', 'there', 'appears', 'a', 'face', 'That', 'over-goes', 'my', 'blunt', 'invention', 'quite,', 'Dulling', 'my', 'lines,', 'and', 'doing', 'me', 'disgrace.', 'Were', 'it', 'not', 'sinful', 'then,', 'striving', 'to', 'mend,', 'To', 'mar', 'the', 'subject', 'that', 'before', 'was', 'well?', 'For', 'to', 'no', 'other', 'pass', 'my', 'verses', 'tend', 'Than', 'of', 'your', 'graces', 'and', 'your', 'gifts', 'to', 'tell;', 'And', 'more,', 'much', 'more,', 'than', 'in', 'my', 'verse', 'can', 'sit,', 'Your', 'own', 'glass', 'shows', 'you', 'when', 'you', 'look', 'in', 'it.', 'CIV', 'To', 'me,', 'fair', 'friend,', 'you', 'never', 'can', 'be', 'old,', 'For', 'as', 'you', 'were', 'when', 'first', 'your', 'eye', 'I', 'ey’d,', 'Such', 'seems', 'your', 'beauty', 'still.', 'Three', 'winters', 'cold,', 'Have', 'from', 'the', 'forests', 'shook', 'three', 'summers’', 'pride,', 'Three', 'beauteous', 'springs', 'to', 'yellow', 'autumn', 'turn’d,', 'In', 'process', 'of', 'the', 'seasons', 'have', 'I', 'seen,', 'Three', 'April', 'perfumes', 'in', 'three', 'hot', 'Junes', 'burn’d,', 'Since', 'first', 'I', 'saw', 'you', 'fresh,', 'which', 'yet', 'are', 'green.', 'Ah!', 'yet', 'doth', 'beauty', 'like', 'a', 'dial-hand,', 'Steal', 'from', 'his', 'figure,', 'and', 'no', 'pace', 'perceiv’d;', 'So', 'your', 'sweet', 'hue,', 'which', 'methinks', 'still', 'doth', 'stand,', 'Hath', 'motion,', 'and', 'mine', 'eye', 'may', 'be', 'deceiv’d:', 'For', 'fear', 'of', 'which,', 'hear', 'this', 'thou', 'age', 'unbred:', 'Ere', 'you', 'were', 'born', 'was', 'beauty’s', 'summer', 'dead.', 'CV', 'Let', 'not', 'my', 'love', 'be', 'call’d', 'idolatry,', 'Nor', 'my', 'beloved', 'as', 'an', 'idol', 'show,', 'Since', 'all', 'alike', 'my', 'songs', 'and', 'praises', 'be', 'To', 'one,', 'of', 'one,', 'still', 'such,', 'and', 'ever', 'so.', 'Kind', 'is', 'my', 'love', 'to-day,', 'to-morrow', 'kind,', 'Still', 'constant', 'in', 'a', 'wondrous', 'excellence;', 'Therefore', 'my', 'verse', 'to', 'constancy', 'confin’d,', 'One', 'thing', 'expressing,', 'leaves', 'out', 'difference.', '‘Fair,', 'kind,', 'and', 'true,’', 'is', 'all', 'my', 'argument,', '‘Fair,', 'kind,', 'and', 'true,’', 'varying', 'to', 'other', 'words;', 'And', 'in', 'this', 'change', 'is', 'my', 'invention', 'spent,', 'Three', 'themes', 'in', 'one,', 'which', 'wondrous', 'scope', 'affords.', 'Fair,', 'kind,', 'and', 'true,', 'have', 'often', 'liv’d', 'alone,', 'Which', 'three', 'till', 'now,', 'never', 'kept', 'seat', 'in', 'one.', 'CVI', 'When', 'in', 'the', 'chronicle', 'of', 'wasted', 'time', 'I', 'see', 'descriptions', 'of', 'the', 'fairest', 'wights,', 'And', 'beauty', 'making', 'beautiful', 'old', 'rime,', 'In', 'praise', 'of', 'ladies', 'dead', 'and', 'lovely', 'knights,', 'Then,', 'in', 'the', 'blazon', 'of', 'sweet', 'beauty’s', 'best,', 'Of', 'hand,', 'of', 'foot,', 'of', 'lip,', 'of', 'eye,', 'of', 'brow,', 'I', 'see', 'their', 'antique', 'pen', 'would', 'have', 'express’d', 'Even', 'such', 'a', 'beauty', 'as', 'you', 'master', 'now.', 'So', 'all', 'their', 'praises', 'are', 'but', 'prophecies', 'Of', 'this', 'our', 'time,', 'all', 'you', 'prefiguring;', 'And', 'for', 'they', 'looked', 'but', 'with', 'divining', 'eyes,', 'They', 'had', 'not', 'skill', 'enough', 'your', 'worth', 'to', 'sing:', 'For', 'we,', 'which', 'now', 'behold', 'these', 'present', 'days,', 'Have', 'eyes', 'to', 'wonder,', 'but', 'lack', 'tongues', 'to', 'praise.', 'CVII', 'Not', 'mine', 'own', 'fears,', 'nor', 'the', 'prophetic', 'soul', 'Of', 'the', 'wide', 'world', 'dreaming', 'on', 'things', 'to', 'come,', 'Can', 'yet', 'the', 'lease', 'of', 'my', 'true', 'love', 'control,', 'Supposed', 'as', 'forfeit', 'to', 'a', 'confin’d', 'doom.', 'The', 'mortal', 'moon', 'hath', 'her', 'eclipse', 'endur’d,', 'And', 'the', 'sad', 'augurs', 'mock', 'their', 'own', 'presage;', 'Incertainties', 'now', 'crown', 'themselves', 'assur’d,', 'And', 'peace', 'proclaims', 'olives', 'of', 'endless', 'age.', 'Now', 'with', 'the', 'drops', 'of', 'this', 'most', 'balmy', 'time,', 'My', 'love', 'looks', 'fresh,', 'and', 'Death', 'to', 'me', 'subscribes,', 'Since,', 'spite', 'of', 'him,', 'I’ll', 'live', 'in', 'this', 'poor', 'rime,', 'While', 'he', 'insults', 'o’er', 'dull', 'and', 'speechless', 'tribes:', 'And', 'thou', 'in', 'this', 'shalt', 'find', 'thy', 'monument,', 'When', 'tyrants’', 'crests', 'and', 'tombs', 'of', 'brass', 'are', 'spent.', 'CVIII', 'What’s', 'in', 'the', 'brain,', 'that', 'ink', 'may', 'character,', 'Which', 'hath', 'not', 'figur’d', 'to', 'thee', 'my', 'true', 'spirit?', 'What’s', 'new', 'to', 'speak,', 'what', 'now', 'to', 'register,', 'That', 'may', 'express', 'my', 'love,', 'or', 'thy', 'dear', 'merit?', 'Nothing,', 'sweet', 'boy;', 'but', 'yet,', 'like', 'prayers', 'divine,', 'I', 'must', 'each', 'day', 'say', 'o’er', 'the', 'very', 'same;', 'Counting', 'no', 'old', 'thing', 'old,', 'thou', 'mine,', 'I', 'thine,', 'Even', 'as', 'when', 'first', 'I', 'hallow’d', 'thy', 'fair', 'name.', 'So', 'that', 'eternal', 'love', 'in', 'love’s', 'fresh', 'case,', 'Weighs', 'not', 'the', 'dust', 'and', 'injury', 'of', 'age,', 'Nor', 'gives', 'to', 'necessary', 'wrinkles', 'place,', 'But', 'makes', 'antiquity', 'for', 'aye', 'his', 'page;', 'Finding', 'the', 'first', 'conceit', 'of', 'love', 'there', 'bred,', 'Where', 'time', 'and', 'outward', 'form', 'would', 'show', 'it', 'dead.', 'CIX', 'O!', 'never', 'say', 'that', 'I', 'was', 'false', 'of', 'heart,', 'Though', 'absence', 'seem’d', 'my', 'flame', 'to', 'qualify,', 'As', 'easy', 'might', 'I', 'from', 'my', 'self', 'depart', 'As', 'from', 'my', 'soul', 'which', 'in', 'thy', 'breast', 'doth', 'lie:', 'That', 'is', 'my', 'home', 'of', 'love:', 'if', 'I', 'have', 'rang’d,', 'Like', 'him', 'that', 'travels,', 'I', 'return', 'again;', 'Just', 'to', 'the', 'time,', 'not', 'with', 'the', 'time', 'exchang’d,', 'So', 'that', 'myself', 'bring', 'water', 'for', 'my', 'stain.', 'Never', 'believe', 'though', 'in', 'my', 'nature', 'reign’d,', 'All', 'frailties', 'that', 'besiege', 'all', 'kinds', 'of', 'blood,', 'That', 'it', 'could', 'so', 'preposterously', 'be', 'stain’d,', 'To', 'leave', 'for', 'nothing', 'all', 'thy', 'sum', 'of', 'good;', 'For', 'nothing', 'this', 'wide', 'universe', 'I', 'call,', 'Save', 'thou,', 'my', 'rose,', 'in', 'it', 'thou', 'art', 'my', 'all.', 'CX', 'Alas!', '’tis', 'true,', 'I', 'have', 'gone', 'here', 'and', 'there,', 'And', 'made', 'my', 'self', 'a', 'motley', 'to', 'the', 'view,', 'Gor’d', 'mine', 'own', 'thoughts,', 'sold', 'cheap', 'what', 'is', 'most', 'dear,', 'Made', 'old', 'offences', 'of', 'affections', 'new;', 'Most', 'true', 'it', 'is,', 'that', 'I', 'have', 'look’d', 'on', 'truth', 'Askance', 'and', 'strangely;', 'but,', 'by', 'all', 'above,', 'These', 'blenches', 'gave', 'my', 'heart', 'another', 'youth,', 'And', 'worse', 'essays', 'prov’d', 'thee', 'my', 'best', 'of', 'love.', 'Now', 'all', 'is', 'done,', 'save', 'what', 'shall', 'have', 'no', 'end:', 'Mine', 'appetite', 'I', 'never', 'more', 'will', 'grind', 'On', 'newer', 'proof,', 'to', 'try', 'an', 'older', 'friend,', 'A', 'god', 'in', 'love,', 'to', 'whom', 'I', 'am', 'confin’d.', 'Then', 'give', 'me', 'welcome,', 'next', 'my', 'heaven', 'the', 'best,', 'Even', 'to', 'thy', 'pure', 'and', 'most', 'most', 'loving', 'breast.', 'CXI', 'O!', 'for', 'my', 'sake', 'do', 'you', 'with', 'Fortune', 'chide,', 'The', 'guilty', 'goddess', 'of', 'my', 'harmful', 'deeds,', 'That', 'did', 'not', 'better', 'for', 'my', 'life', 'provide', 'Than', 'public', 'means', 'which', 'public', 'manners', 'breeds.', 'Thence', 'comes', 'it', 'that', 'my', 'name', 'receives', 'a', 'brand,', 'And', 'almost', 'thence', 'my', 'nature', 'is', 'subdu’d', 'To', 'what', 'it', 'works', 'in,', 'like', 'the', 'dyer’s', 'hand:', 'Pity', 'me,', 'then,', 'and', 'wish', 'I', 'were', 'renew’d;', 'Whilst,', 'like', 'a', 'willing', 'patient,', 'I', 'will', 'drink,', 'Potions', 'of', 'eisel', '’gainst', 'my', 'strong', 'infection;', 'No', 'bitterness', 'that', 'I', 'will', 'bitter', 'think,', 'Nor', 'double', 'penance,', 'to', 'correct', 'correction.', 'Pity', 'me', 'then,', 'dear', 'friend,', 'and', 'I', 'assure', 'ye,', 'Even', 'that', 'your', 'pity', 'is', 'enough', 'to', 'cure', 'me.', 'CXII', 'Your', 'love', 'and', 'pity', 'doth', 'the', 'impression', 'fill,', 'Which', 'vulgar', 'scandal', 'stamp’d', 'upon', 'my', 'brow;', 'For', 'what', 'care', 'I', 'who', 'calls', 'me', 'well', 'or', 'ill,', 'So', 'you', 'o’er-green', 'my', 'bad,', 'my', 'good', 'allow?', 'You', 'are', 'my', 'all-the-world,', 'and', 'I', 'must', 'strive', 'To', 'know', 'my', 'shames', 'and', 'praises', 'from', 'your', 'tongue;', 'None', 'else', 'to', 'me,', 'nor', 'I', 'to', 'none', 'alive,', 'That', 'my', 'steel’d', 'sense', 'or', 'changes', 'right', 'or', 'wrong.', 'In', 'so', 'profound', 'abysm', 'I', 'throw', 'all', 'care', 'Of', 'others’', 'voices,', 'that', 'my', 'adder’s', 'sense', 'To', 'critic', 'and', 'to', 'flatterer', 'stopped', 'are.', 'Mark', 'how', 'with', 'my', 'neglect', 'I', 'do', 'dispense:', 'You', 'are', 'so', 'strongly', 'in', 'my', 'purpose', 'bred,', 'That', 'all', 'the', 'world', 'besides', 'methinks', 'are', 'dead.', 'CXIII', 'Since', 'I', 'left', 'you,', 'mine', 'eye', 'is', 'in', 'my', 'mind;', 'And', 'that', 'which', 'governs', 'me', 'to', 'go', 'about', 'Doth', 'part', 'his', 'function', 'and', 'is', 'partly', 'blind,', 'Seems', 'seeing,', 'but', 'effectually', 'is', 'out;', 'For', 'it', 'no', 'form', 'delivers', 'to', 'the', 'heart', 'Of', 'bird,', 'of', 'flower,', 'or', 'shape', 'which', 'it', 'doth', 'latch:', 'Of', 'his', 'quick', 'objects', 'hath', 'the', 'mind', 'no', 'part,', 'Nor', 'his', 'own', 'vision', 'holds', 'what', 'it', 'doth', 'catch;', 'For', 'if', 'it', 'see', 'the', 'rud’st', 'or', 'gentlest', 'sight,', 'The', 'most', 'sweet', 'favour', 'or', 'deformed’st', 'creature,', 'The', 'mountain', 'or', 'the', 'sea,', 'the', 'day', 'or', 'night:', 'The', 'crow,', 'or', 'dove,', 'it', 'shapes', 'them', 'to', 'your', 'feature.', 'Incapable', 'of', 'more,', 'replete', 'with', 'you,', 'My', 'most', 'true', 'mind', 'thus', 'maketh', 'mine', 'untrue.', 'CXIV', 'Or', 'whether', 'doth', 'my', 'mind,', 'being', 'crown’d', 'with', 'you,', 'Drink', 'up', 'the', 'monarch’s', 'plague,', 'this', 'flattery?', 'Or', 'whether', 'shall', 'I', 'say,', 'mine', 'eye', 'saith', 'true,', 'And', 'that', 'your', 'love', 'taught', 'it', 'this', 'alchemy,', 'To', 'make', 'of', 'monsters', 'and', 'things', 'indigest', 'Such', 'cherubins', 'as', 'your', 'sweet', 'self', 'resemble,', 'Creating', 'every', 'bad', 'a', 'perfect', 'best,', 'As', 'fast', 'as', 'objects', 'to', 'his', 'beams', 'assemble?', 'O!', '’tis', 'the', 'first,', '’tis', 'flattery', 'in', 'my', 'seeing,', 'And', 'my', 'great', 'mind', 'most', 'kingly', 'drinks', 'it', 'up:', 'Mine', 'eye', 'well', 'knows', 'what', 'with', 'his', 'gust', 'is', '’greeing,', 'And', 'to', 'his', 'palate', 'doth', 'prepare', 'the', 'cup:', 'If', 'it', 'be', 'poison’d,', '’tis', 'the', 'lesser', 'sin', 'That', 'mine', 'eye', 'loves', 'it', 'and', 'doth', 'first', 'begin.', 'CXV', 'Those', 'lines', 'that', 'I', 'before', 'have', 'writ', 'do', 'lie,', 'Even', 'those', 'that', 'said', 'I', 'could', 'not', 'love', 'you', 'dearer:', 'Yet', 'then', 'my', 'judgment', 'knew', 'no', 'reason', 'why', 'My', 'most', 'full', 'flame', 'should', 'afterwards', 'burn', 'clearer.', 'But', 'reckoning', 'Time,', 'whose', 'million’d', 'accidents', 'Creep', 'in', '’twixt', 'vows,', 'and', 'change', 'decrees', 'of', 'kings,', 'Tan', 'sacred', 'beauty,', 'blunt', 'the', 'sharp’st', 'intents,', 'Divert', 'strong', 'minds', 'to', 'the', 'course', 'of', 'altering', 'things;', 'Alas!', 'why', 'fearing', 'of', 'Time’s', 'tyranny,', 'Might', 'I', 'not', 'then', 'say,', '‘Now', 'I', 'love', 'you', 'best,’', 'When', 'I', 'was', 'certain', 'o’er', 'incertainty,', 'Crowning', 'the', 'present,', 'doubting', 'of', 'the', 'rest?', 'Love', 'is', 'a', 'babe,', 'then', 'might', 'I', 'not', 'say', 'so,', 'To', 'give', 'full', 'growth', 'to', 'that', 'which', 'still', 'doth', 'grow?', 'CXVI', 'Let', 'me', 'not', 'to', 'the', 'marriage', 'of', 'true', 'minds', 'Admit', 'impediments.', 'Love', 'is', 'not', 'love', 'Which', 'alters', 'when', 'it', 'alteration', 'finds,', 'Or', 'bends', 'with', 'the', 'remover', 'to', 'remove:', 'O,', 'no!', 'it', 'is', 'an', 'ever-fixed', 'mark,', 'That', 'looks', 'on', 'tempests', 'and', 'is', 'never', 'shaken;', 'It', 'is', 'the', 'star', 'to', 'every', 'wandering', 'bark,', 'Whose', 'worth’s', 'unknown,', 'although', 'his', 'height', 'be', 'taken.', 'Love’s', 'not', 'Time’s', 'fool,', 'though', 'rosy', 'lips', 'and', 'cheeks', 'Within', 'his', 'bending', 'sickle’s', 'compass', 'come;', 'Love', 'alters', 'not', 'with', 'his', 'brief', 'hours', 'and', 'weeks,', 'But', 'bears', 'it', 'out', 'even', 'to', 'the', 'edge', 'of', 'doom.', 'If', 'this', 'be', 'error', 'and', 'upon', 'me', 'prov’d,', 'I', 'never', 'writ,', 'nor', 'no', 'man', 'ever', 'lov’d.', 'CXVII', 'Accuse', 'me', 'thus:', 'that', 'I', 'have', 'scanted', 'all,', 'Wherein', 'I', 'should', 'your', 'great', 'deserts', 'repay,', 'Forgot', 'upon', 'your', 'dearest', 'love', 'to', 'call,', 'Whereto', 'all', 'bonds', 'do', 'tie', 'me', 'day', 'by', 'day;', 'That', 'I', 'have', 'frequent', 'been', 'with', 'unknown', 'minds,', 'And', 'given', 'to', 'time', 'your', 'own', 'dear-purchas’d', 'right;', 'That', 'I', 'have', 'hoisted', 'sail', 'to', 'all', 'the', 'winds', 'Which', 'should', 'transport', 'me', 'farthest', 'from', 'your', 'sight.', 'Book', 'both', 'my', 'wilfulness', 'and', 'errors', 'down,', 'And', 'on', 'just', 'proof', 'surmise,', 'accumulate;', 'Bring', 'me', 'within', 'the', 'level', 'of', 'your', 'frown,', 'But', 'shoot', 'not', 'at', 'me', 'in', 'your', 'waken’d', 'hate;', 'Since', 'my', 'appeal', 'says', 'I', 'did', 'strive', 'to', 'prove', 'The', 'constancy', 'and', 'virtue', 'of', 'your', 'love.', 'CXVIII', 'Like', 'as,', 'to', 'make', 'our', 'appetite', 'more', 'keen,', 'With', 'eager', 'compounds', 'we', 'our', 'palate', 'urge;', 'As,', 'to', 'prevent', 'our', 'maladies', 'unseen,', 'We', 'sicken', 'to', 'shun', 'sickness', 'when', 'we', 'purge;', 'Even', 'so,', 'being', 'full', 'of', 'your', 'ne’er-cloying', 'sweetness,', 'To', 'bitter', 'sauces', 'did', 'I', 'frame', 'my', 'feeding;', 'And,', 'sick', 'of', 'welfare,', 'found', 'a', 'kind', 'of', 'meetness', 'To', 'be', 'diseas’d,', 'ere', 'that', 'there', 'was', 'true', 'needing.', 'Thus', 'policy', 'in', 'love,', 'to', 'anticipate', 'The', 'ills', 'that', 'were', 'not,', 'grew', 'to', 'faults', 'assur’d,', 'And', 'brought', 'to', 'medicine', 'a', 'healthful', 'state', 'Which,', 'rank', 'of', 'goodness,', 'would', 'by', 'ill', 'be', 'cur’d;', 'But', 'thence', 'I', 'learn', 'and', 'find', 'the', 'lesson', 'true,', 'Drugs', 'poison', 'him', 'that', 'so', 'fell', 'sick', 'of', 'you.', 'CXIX', 'What', 'potions', 'have', 'I', 'drunk', 'of', 'Siren', 'tears,', 'Distill’d', 'from', 'limbecks', 'foul', 'as', 'hell', 'within,', 'Applying', 'fears', 'to', 'hopes,', 'and', 'hopes', 'to', 'fears,', 'Still', 'losing', 'when', 'I', 'saw', 'myself', 'to', 'win!', 'What', 'wretched', 'errors', 'hath', 'my', 'heart', 'committed,', 'Whilst', 'it', 'hath', 'thought', 'itself', 'so', 'blessed', 'never!', 'How', 'have', 'mine', 'eyes', 'out', 'of', 'their', 'spheres', 'been', 'fitted,', 'In', 'the', 'distraction', 'of', 'this', 'madding', 'fever!', 'O', 'benefit', 'of', 'ill!', 'now', 'I', 'find', 'true', 'That', 'better', 'is,', 'by', 'evil', 'still', 'made', 'better;', 'And', 'ruin’d', 'love,', 'when', 'it', 'is', 'built', 'anew,', 'Grows', 'fairer', 'than', 'at', 'first,', 'more', 'strong,', 'far', 'greater.', 'So', 'I', 'return', 'rebuk’d', 'to', 'my', 'content,', 'And', 'gain', 'by', 'ill', 'thrice', 'more', 'than', 'I', 'have', 'spent.', 'CXX', 'That', 'you', 'were', 'once', 'unkind', 'befriends', 'me', 'now,', 'And', 'for', 'that', 'sorrow,', 'which', 'I', 'then', 'did', 'feel,', 'Needs', 'must', 'I', 'under', 'my', 'transgression', 'bow,', 'Unless', 'my', 'nerves', 'were', 'brass', 'or', 'hammer’d', 'steel.', 'For', 'if', 'you', 'were', 'by', 'my', 'unkindness', 'shaken,', 'As', 'I', 'by', 'yours,', 'you’ve', 'pass’d', 'a', 'hell', 'of', 'time;', 'And', 'I,', 'a', 'tyrant,', 'have', 'no', 'leisure', 'taken', 'To', 'weigh', 'how', 'once', 'I', 'suffer’d', 'in', 'your', 'crime.', 'O!', 'that', 'our', 'night', 'of', 'woe', 'might', 'have', 'remember’d', 'My', 'deepest', 'sense,', 'how', 'hard', 'true', 'sorrow', 'hits,', 'And', 'soon', 'to', 'you,', 'as', 'you', 'to', 'me,', 'then', 'tender’d', 'The', 'humble', 'salve,', 'which', 'wounded', 'bosoms', 'fits!', 'But', 'that', 'your', 'trespass', 'now', 'becomes', 'a', 'fee;', 'Mine', 'ransoms', 'yours,', 'and', 'yours', 'must', 'ransom', 'me.', 'CXXI', '’Tis', 'better', 'to', 'be', 'vile', 'than', 'vile', 'esteem’d,', 'When', 'not', 'to', 'be', 'receives', 'reproach', 'of', 'being;', 'And', 'the', 'just', 'pleasure', 'lost,', 'which', 'is', 'so', 'deem’d', 'Not', 'by', 'our', 'feeling,', 'but', 'by', 'others’', 'seeing:', 'For', 'why', 'should', 'others’', 'false', 'adulterate', 'eyes', 'Give', 'salutation', 'to', 'my', 'sportive', 'blood?', 'Or', 'on', 'my', 'frailties', 'why', 'are', 'frailer', 'spies,', 'Which', 'in', 'their', 'wills', 'count', 'bad', 'what', 'I', 'think', 'good?', 'No,', 'I', 'am', 'that', 'I', 'am,', 'and', 'they', 'that', 'level', 'At', 'my', 'abuses', 'reckon', 'up', 'their', 'own:', 'I', 'may', 'be', 'straight', 'though', 'they', 'themselves', 'be', 'bevel;', 'By', 'their', 'rank', 'thoughts,', 'my', 'deeds', 'must', 'not', 'be', 'shown;', 'Unless', 'this', 'general', 'evil', 'they', 'maintain,', 'All', 'men', 'are', 'bad', 'and', 'in', 'their', 'badness', 'reign.', 'CXXII', 'Thy', 'gift,', 'thy', 'tables,', 'are', 'within', 'my', 'brain', 'Full', 'character’d', 'with', 'lasting', 'memory,', 'Which', 'shall', 'above', 'that', 'idle', 'rank', 'remain,', 'Beyond', 'all', 'date;', 'even', 'to', 'eternity:', 'Or,', 'at', 'the', 'least,', 'so', 'long', 'as', 'brain', 'and', 'heart', 'Have', 'faculty', 'by', 'nature', 'to', 'subsist;', 'Till', 'each', 'to', 'raz’d', 'oblivion', 'yield', 'his', 'part', 'Of', 'thee,', 'thy', 'record', 'never', 'can', 'be', 'miss’d.', 'That', 'poor', 'retention', 'could', 'not', 'so', 'much', 'hold,', 'Nor', 'need', 'I', 'tallies', 'thy', 'dear', 'love', 'to', 'score;', 'Therefore', 'to', 'give', 'them', 'from', 'me', 'was', 'I', 'bold,', 'To', 'trust', 'those', 'tables', 'that', 'receive', 'thee', 'more:', 'To', 'keep', 'an', 'adjunct', 'to', 'remember', 'thee', 'Were', 'to', 'import', 'forgetfulness', 'in', 'me.', 'CXXIII', 'No,', 'Time,', 'thou', 'shalt', 'not', 'boast', 'that', 'I', 'do', 'change:', 'Thy', 'pyramids', 'built', 'up', 'with', 'newer', 'might', 'To', 'me', 'are', 'nothing', 'novel,', 'nothing', 'strange;', 'They', 'are', 'but', 'dressings', 'of', 'a', 'former', 'sight.', 'Our', 'dates', 'are', 'brief,', 'and', 'therefore', 'we', 'admire', 'What', 'thou', 'dost', 'foist', 'upon', 'us', 'that', 'is', 'old;', 'And', 'rather', 'make', 'them', 'born', 'to', 'our', 'desire', 'Than', 'think', 'that', 'we', 'before', 'have', 'heard', 'them', 'told.', 'Thy', 'registers', 'and', 'thee', 'I', 'both', 'defy,', 'Not', 'wondering', 'at', 'the', 'present', 'nor', 'the', 'past,', 'For', 'thy', 'records', 'and', 'what', 'we', 'see', 'doth', 'lie,', 'Made', 'more', 'or', 'less', 'by', 'thy', 'continual', 'haste.', 'This', 'I', 'do', 'vow', 'and', 'this', 'shall', 'ever', 'be;', 'I', 'will', 'be', 'true', 'despite', 'thy', 'scythe', 'and', 'thee.', 'CXXIV', 'If', 'my', 'dear', 'love', 'were', 'but', 'the', 'child', 'of', 'state,', 'It', 'might', 'for', 'Fortune’s', 'bastard', 'be', 'unfather’d,', 'As', 'subject', 'to', 'Time’s', 'love', 'or', 'to', 'Time’s', 'hate,', 'Weeds', 'among', 'weeds,', 'or', 'flowers', 'with', 'flowers', 'gather’d.', 'No,', 'it', 'was', 'builded', 'far', 'from', 'accident;', 'It', 'suffers', 'not', 'in', 'smiling', 'pomp,', 'nor', 'falls', 'Under', 'the', 'blow', 'of', 'thralled', 'discontent,', 'Whereto', 'th’', 'inviting', 'time', 'our', 'fashion', 'calls:', 'It', 'fears', 'not', 'policy,', 'that', 'heretic,', 'Which', 'works', 'on', 'leases', 'of', 'short-number’d', 'hours,', 'But', 'all', 'alone', 'stands', 'hugely', 'politic,', 'That', 'it', 'nor', 'grows', 'with', 'heat,', 'nor', 'drowns', 'with', 'showers.', 'To', 'this', 'I', 'witness', 'call', 'the', 'fools', 'of', 'time,', 'Which', 'die', 'for', 'goodness,', 'who', 'have', 'lived', 'for', 'crime.', 'CXXV', 'Were’t', 'aught', 'to', 'me', 'I', 'bore', 'the', 'canopy,', 'With', 'my', 'extern', 'the', 'outward', 'honouring,', 'Or', 'laid', 'great', 'bases', 'for', 'eternity,', 'Which', 'proves', 'more', 'short', 'than', 'waste', 'or', 'ruining?', 'Have', 'I', 'not', 'seen', 'dwellers', 'on', 'form', 'and', 'favour', 'Lose', 'all', 'and', 'more', 'by', 'paying', 'too', 'much', 'rent', 'For', 'compound', 'sweet;', 'forgoing', 'simple', 'savour,', 'Pitiful', 'thrivers,', 'in', 'their', 'gazing', 'spent?', 'No;', 'let', 'me', 'be', 'obsequious', 'in', 'thy', 'heart,', 'And', 'take', 'thou', 'my', 'oblation,', 'poor', 'but', 'free,', 'Which', 'is', 'not', 'mix’d', 'with', 'seconds,', 'knows', 'no', 'art,', 'But', 'mutual', 'render,', 'only', 'me', 'for', 'thee.', 'Hence,', 'thou', 'suborned', 'informer!', 'a', 'true', 'soul', 'When', 'most', 'impeach’d,', 'stands', 'least', 'in', 'thy', 'control.', 'CXXVI', 'O', 'thou,', 'my', 'lovely', 'boy,', 'who', 'in', 'thy', 'power', 'Dost', 'hold', 'Time’s', 'fickle', 'glass,', 'his', 'fickle', 'hour;', 'Who', 'hast', 'by', 'waning', 'grown,', 'and', 'therein', 'show’st', 'Thy', 'lovers', 'withering,', 'as', 'thy', 'sweet', 'self', 'grow’st.', 'If', 'Nature,', 'sovereign', 'mistress', 'over', 'wrack,', 'As', 'thou', 'goest', 'onwards,', 'still', 'will', 'pluck', 'thee', 'back,', 'She', 'keeps', 'thee', 'to', 'this', 'purpose,', 'that', 'her', 'skill', 'May', 'time', 'disgrace', 'and', 'wretched', 'minutes', 'kill.', 'Yet', 'fear', 'her,', 'O', 'thou', 'minion', 'of', 'her', 'pleasure!', 'She', 'may', 'detain,', 'but', 'not', 'still', 'keep,', 'her', 'treasure:', 'Her', 'audit', '(though', 'delayed)', 'answered', 'must', 'be,', 'And', 'her', 'quietus', 'is', 'to', 'render', 'thee.', 'CXXVII', 'In', 'the', 'old', 'age', 'black', 'was', 'not', 'counted', 'fair,', 'Or', 'if', 'it', 'were,', 'it', 'bore', 'not', 'beauty’s', 'name;', 'But', 'now', 'is', 'black', 'beauty’s', 'successive', 'heir,', 'And', 'beauty', 'slander’d', 'with', 'a', 'bastard', 'shame:', 'For', 'since', 'each', 'hand', 'hath', 'put', 'on', 'Nature’s', 'power,', 'Fairing', 'the', 'foul', 'with', 'Art’s', 'false', 'borrowed', 'face,', 'Sweet', 'beauty', 'hath', 'no', 'name,', 'no', 'holy', 'bower,', 'But', 'is', 'profan’d,', 'if', 'not', 'lives', 'in', 'disgrace.', 'Therefore', 'my', 'mistress’', 'eyes', 'are', 'raven', 'black,', 'Her', 'eyes', 'so', 'suited,', 'and', 'they', 'mourners', 'seem', 'At', 'such', 'who,', 'not', 'born', 'fair,', 'no', 'beauty', 'lack,', 'Sland’ring', 'creation', 'with', 'a', 'false', 'esteem:', 'Yet', 'so', 'they', 'mourn', 'becoming', 'of', 'their', 'woe,', 'That', 'every', 'tongue', 'says', 'beauty', 'should', 'look', 'so.', 'CXXVIII', 'How', 'oft', 'when', 'thou,', 'my', 'music,', 'music', 'play’st,', 'Upon', 'that', 'blessed', 'wood', 'whose', 'motion', 'sounds', 'With', 'thy', 'sweet', 'fingers', 'when', 'thou', 'gently', 'sway’st', 'The', 'wiry', 'concord', 'that', 'mine', 'ear', 'confounds,', 'Do', 'I', 'envy', 'those', 'jacks', 'that', 'nimble', 'leap,', 'To', 'kiss', 'the', 'tender', 'inward', 'of', 'thy', 'hand,', 'Whilst', 'my', 'poor', 'lips', 'which', 'should', 'that', 'harvest', 'reap,', 'At', 'the', 'wood’s', 'boldness', 'by', 'thee', 'blushing', 'stand!', 'To', 'be', 'so', 'tickled,', 'they', 'would', 'change', 'their', 'state', 'And', 'situation', 'with', 'those', 'dancing', 'chips,', 'O’er', 'whom', 'thy', 'fingers', 'walk', 'with', 'gentle', 'gait,', 'Making', 'dead', 'wood', 'more', 'bless’d', 'than', 'living', 'lips.', 'Since', 'saucy', 'jacks', 'so', 'happy', 'are', 'in', 'this,', 'Give', 'them', 'thy', 'fingers,', 'me', 'thy', 'lips', 'to', 'kiss.', 'CXXIX', 'The', 'expense', 'of', 'spirit', 'in', 'a', 'waste', 'of', 'shame', 'Is', 'lust', 'in', 'action:', 'and', 'till', 'action,', 'lust', 'Is', 'perjur’d,', 'murderous,', 'bloody,', 'full', 'of', 'blame,', 'Savage,', 'extreme,', 'rude,', 'cruel,', 'not', 'to', 'trust;', 'Enjoy’d', 'no', 'sooner', 'but', 'despised', 'straight;', 'Past', 'reason', 'hunted;', 'and', 'no', 'sooner', 'had,', 'Past', 'reason', 'hated,', 'as', 'a', 'swallow’d', 'bait,', 'On', 'purpose', 'laid', 'to', 'make', 'the', 'taker', 'mad:', 'Mad', 'in', 'pursuit', 'and', 'in', 'possession', 'so;', 'Had,', 'having,', 'and', 'in', 'quest,', 'to', 'have', 'extreme;', 'A', 'bliss', 'in', 'proof,', 'and', 'proved,', 'a', 'very', 'woe;', 'Before,', 'a', 'joy', 'propos’d;', 'behind', 'a', 'dream.', 'All', 'this', 'the', 'world', 'well', 'knows;', 'yet', 'none', 'knows', 'well', 'To', 'shun', 'the', 'heaven', 'that', 'leads', 'men', 'to', 'this', 'hell.', 'CXXX', 'My', 'mistress’', 'eyes', 'are', 'nothing', 'like', 'the', 'sun;', 'Coral', 'is', 'far', 'more', 'red,', 'than', 'her', 'lips', 'red:', 'If', 'snow', 'be', 'white,', 'why', 'then', 'her', 'breasts', 'are', 'dun;', 'If', 'hairs', 'be', 'wires,', 'black', 'wires', 'grow', 'on', 'her', 'head.', 'I', 'have', 'seen', 'roses', 'damask’d,', 'red', 'and', 'white,', 'But', 'no', 'such', 'roses', 'see', 'I', 'in', 'her', 'cheeks;', 'And', 'in', 'some', 'perfumes', 'is', 'there', 'more', 'delight', 'Than', 'in', 'the', 'breath', 'that', 'from', 'my', 'mistress', 'reeks.', 'I', 'love', 'to', 'hear', 'her', 'speak,', 'yet', 'well', 'I', 'know', 'That', 'music', 'hath', 'a', 'far', 'more', 'pleasing', 'sound:', 'I', 'grant', 'I', 'never', 'saw', 'a', 'goddess', 'go;', 'My', 'mistress,', 'when', 'she', 'walks,', 'treads', 'on', 'the', 'ground:', 'And', 'yet', 'by', 'heaven,', 'I', 'think', 'my', 'love', 'as', 'rare,', 'As', 'any', 'she', 'belied', 'with', 'false', 'compare.', 'CXXXI', 'Thou', 'art', 'as', 'tyrannous,', 'so', 'as', 'thou', 'art,', 'As', 'those', 'whose', 'beauties', 'proudly', 'make', 'them', 'cruel;', 'For', 'well', 'thou', 'know’st', 'to', 'my', 'dear', 'doting', 'heart', 'Thou', 'art', 'the', 'fairest', 'and', 'most', 'precious', 'jewel.', 'Yet,', 'in', 'good', 'faith,', 'some', 'say', 'that', 'thee', 'behold,', 'Thy', 'face', 'hath', 'not', 'the', 'power', 'to', 'make', 'love', 'groan;', 'To', 'say', 'they', 'err', 'I', 'dare', 'not', 'be', 'so', 'bold,', 'Although', 'I', 'swear', 'it', 'to', 'myself', 'alone.', 'And', 'to', 'be', 'sure', 'that', 'is', 'not', 'false', 'I', 'swear,', 'A', 'thousand', 'groans,', 'but', 'thinking', 'on', 'thy', 'face,', 'One', 'on', 'another’s', 'neck,', 'do', 'witness', 'bear', 'Thy', 'black', 'is', 'fairest', 'in', 'my', 'judgment’s', 'place.', 'In', 'nothing', 'art', 'thou', 'black', 'save', 'in', 'thy', 'deeds,', 'And', 'thence', 'this', 'slander,', 'as', 'I', 'think,', 'proceeds.', 'CXXXII', 'Thine', 'eyes', 'I', 'love,', 'and', 'they,', 'as', 'pitying', 'me,', 'Knowing', 'thy', 'heart', 'torment', 'me', 'with', 'disdain,', 'Have', 'put', 'on', 'black', 'and', 'loving', 'mourners', 'be,', 'Looking', 'with', 'pretty', 'ruth', 'upon', 'my', 'pain.', 'And', 'truly', 'not', 'the', 'morning', 'sun', 'of', 'heaven', 'Better', 'becomes', 'the', 'grey', 'cheeks', 'of', 'the', 'east,', 'Nor', 'that', 'full', 'star', 'that', 'ushers', 'in', 'the', 'even,', 'Doth', 'half', 'that', 'glory', 'to', 'the', 'sober', 'west,', 'As', 'those', 'two', 'mourning', 'eyes', 'become', 'thy', 'face:', 'O!', 'let', 'it', 'then', 'as', 'well', 'beseem', 'thy', 'heart', 'To', 'mourn', 'for', 'me', 'since', 'mourning', 'doth', 'thee', 'grace,', 'And', 'suit', 'thy', 'pity', 'like', 'in', 'every', 'part.', 'Then', 'will', 'I', 'swear', 'beauty', 'herself', 'is', 'black,', 'And', 'all', 'they', 'foul', 'that', 'thy', 'complexion', 'lack.', 'CXXXIII', 'Beshrew', 'that', 'heart', 'that', 'makes', 'my', 'heart', 'to', 'groan', 'For', 'that', 'deep', 'wound', 'it', 'gives', 'my', 'friend', 'and', 'me!', 'Is’t', 'not', 'enough', 'to', 'torture', 'me', 'alone,', 'But', 'slave', 'to', 'slavery', 'my', 'sweet’st', 'friend', 'must', 'be?', 'Me', 'from', 'myself', 'thy', 'cruel', 'eye', 'hath', 'taken,', 'And', 'my', 'next', 'self', 'thou', 'harder', 'hast', 'engross’d:', 'Of', 'him,', 'myself,', 'and', 'thee', 'I', 'am', 'forsaken;', 'A', 'torment', 'thrice', 'three-fold', 'thus', 'to', 'be', 'cross’d:', 'Prison', 'my', 'heart', 'in', 'thy', 'steel', 'bosom’s', 'ward,', 'But', 'then', 'my', 'friend’s', 'heart', 'let', 'my', 'poor', 'heart', 'bail;', 'Whoe’er', 'keeps', 'me,', 'let', 'my', 'heart', 'be', 'his', 'guard;', 'Thou', 'canst', 'not', 'then', 'use', 'rigour', 'in', 'my', 'jail:', 'And', 'yet', 'thou', 'wilt;', 'for', 'I,', 'being', 'pent', 'in', 'thee,', 'Perforce', 'am', 'thine,', 'and', 'all', 'that', 'is', 'in', 'me.', 'CXXXIV', 'So,', 'now', 'I', 'have', 'confess’d', 'that', 'he', 'is', 'thine,', 'And', 'I', 'my', 'self', 'am', 'mortgag’d', 'to', 'thy', 'will,', 'Myself', 'I’ll', 'forfeit,', 'so', 'that', 'other', 'mine', 'Thou', 'wilt', 'restore', 'to', 'be', 'my', 'comfort', 'still:', 'But', 'thou', 'wilt', 'not,', 'nor', 'he', 'will', 'not', 'be', 'free,', 'For', 'thou', 'art', 'covetous,', 'and', 'he', 'is', 'kind;', 'He', 'learn’d', 'but', 'surety-like', 'to', 'write', 'for', 'me,', 'Under', 'that', 'bond', 'that', 'him', 'as', 'fast', 'doth', 'bind.', 'The', 'statute', 'of', 'thy', 'beauty', 'thou', 'wilt', 'take,', 'Thou', 'usurer,', 'that', 'putt’st', 'forth', 'all', 'to', 'use,', 'And', 'sue', 'a', 'friend', 'came', 'debtor', 'for', 'my', 'sake;', 'So', 'him', 'I', 'lose', 'through', 'my', 'unkind', 'abuse.', 'Him', 'have', 'I', 'lost;', 'thou', 'hast', 'both', 'him', 'and', 'me:', 'He', 'pays', 'the', 'whole,', 'and', 'yet', 'am', 'I', 'not', 'free.', 'CXXXV', 'Whoever', 'hath', 'her', 'wish,', 'thou', 'hast', 'thy', '‘Will,’', 'And', '‘Will’', 'to', 'boot,', 'and', '‘Will’', 'in', 'over-plus;', 'More', 'than', 'enough', 'am', 'I', 'that', 'vex’d', 'thee', 'still,', 'To', 'thy', 'sweet', 'will', 'making', 'addition', 'thus.', 'Wilt', 'thou,', 'whose', 'will', 'is', 'large', 'and', 'spacious,', 'Not', 'once', 'vouchsafe', 'to', 'hide', 'my', 'will', 'in', 'thine?', 'Shall', 'will', 'in', 'others', 'seem', 'right', 'gracious,', 'And', 'in', 'my', 'will', 'no', 'fair', 'acceptance', 'shine?', 'The', 'sea,', 'all', 'water,', 'yet', 'receives', 'rain', 'still,', 'And', 'in', 'abundance', 'addeth', 'to', 'his', 'store;', 'So', 'thou,', 'being', 'rich', 'in', '‘Will,’', 'add', 'to', 'thy', '‘Will’', 'One', 'will', 'of', 'mine,', 'to', 'make', 'thy', 'large', 'will', 'more.', 'Let', 'no', 'unkind', '‘No’', 'fair', 'beseechers', 'kill;', 'Think', 'all', 'but', 'one,', 'and', 'me', 'in', 'that', 'one', '‘Will.’', 'CXXXVI', 'If', 'thy', 'soul', 'check', 'thee', 'that', 'I', 'come', 'so', 'near,', 'Swear', 'to', 'thy', 'blind', 'soul', 'that', 'I', 'was', 'thy', '‘Will’,', 'And', 'will,', 'thy', 'soul', 'knows,', 'is', 'admitted', 'there;', 'Thus', 'far', 'for', 'love,', 'my', 'love-suit,', 'sweet,', 'fulfil.', '‘Will’,', 'will', 'fulfil', 'the', 'treasure', 'of', 'thy', 'love,', 'Ay,', 'fill', 'it', 'full', 'with', 'wills,', 'and', 'my', 'will', 'one.', 'In', 'things', 'of', 'great', 'receipt', 'with', 'ease', 'we', 'prove', 'Among', 'a', 'number', 'one', 'is', 'reckon’d', 'none:', 'Then', 'in', 'the', 'number', 'let', 'me', 'pass', 'untold,', 'Though', 'in', 'thy', 'store’s', 'account', 'I', 'one', 'must', 'be;', 'For', 'nothing', 'hold', 'me,', 'so', 'it', 'please', 'thee', 'hold', 'That', 'nothing', 'me,', 'a', 'something', 'sweet', 'to', 'thee:', 'Make', 'but', 'my', 'name', 'thy', 'love,', 'and', 'love', 'that', 'still,', 'And', 'then', 'thou', 'lov’st', 'me', 'for', 'my', 'name', 'is', '‘Will.’', 'CXXXVII', 'Thou', 'blind', 'fool,', 'Love,', 'what', 'dost', 'thou', 'to', 'mine', 'eyes,', 'That', 'they', 'behold,', 'and', 'see', 'not', 'what', 'they', 'see?', 'They', 'know', 'what', 'beauty', 'is,', 'see', 'where', 'it', 'lies,', 'Yet', 'what', 'the', 'best', 'is', 'take', 'the', 'worst', 'to', 'be.', 'If', 'eyes,', 'corrupt', 'by', 'over-partial', 'looks,', 'Be', 'anchor’d', 'in', 'the', 'bay', 'where', 'all', 'men', 'ride,', 'Why', 'of', 'eyes’', 'falsehood', 'hast', 'thou', 'forged', 'hooks,', 'Whereto', 'the', 'judgment', 'of', 'my', 'heart', 'is', 'tied?', 'Why', 'should', 'my', 'heart', 'think', 'that', 'a', 'several', 'plot,', 'Which', 'my', 'heart', 'knows', 'the', 'wide', 'world’s', 'common', 'place?', 'Or', 'mine', 'eyes,', 'seeing', 'this,', 'say', 'this', 'is', 'not,', 'To', 'put', 'fair', 'truth', 'upon', 'so', 'foul', 'a', 'face?', 'In', 'things', 'right', 'true', 'my', 'heart', 'and', 'eyes', 'have', 'err’d,', 'And', 'to', 'this', 'false', 'plague', 'are', 'they', 'now', 'transferr’d.', 'CXXXVIII', 'When', 'my', 'love', 'swears', 'that', 'she', 'is', 'made', 'of', 'truth,', 'I', 'do', 'believe', 'her', 'though', 'I', 'know', 'she', 'lies,', 'That', 'she', 'might', 'think', 'me', 'some', 'untutor’d', 'youth,', 'Unlearned', 'in', 'the', 'world’s', 'false', 'subtleties.', 'Thus', 'vainly', 'thinking', 'that', 'she', 'thinks', 'me', 'young,', 'Although', 'she', 'knows', 'my', 'days', 'are', 'past', 'the', 'best,', 'Simply', 'I', 'credit', 'her', 'false-speaking', 'tongue:', 'On', 'both', 'sides', 'thus', 'is', 'simple', 'truth', 'suppressed:', 'But', 'wherefore', 'says', 'she', 'not', 'she', 'is', 'unjust?', 'And', 'wherefore', 'say', 'not', 'I', 'that', 'I', 'am', 'old?', 'O!', 'love’s', 'best', 'habit', 'is', 'in', 'seeming', 'trust,', 'And', 'age', 'in', 'love,', 'loves', 'not', 'to', 'have', 'years', 'told:', 'Therefore', 'I', 'lie', 'with', 'her,', 'and', 'she', 'with', 'me,', 'And', 'in', 'our', 'faults', 'by', 'lies', 'we', 'flatter’d', 'be.', 'CXXXIX', 'O!', 'call', 'not', 'me', 'to', 'justify', 'the', 'wrong', 'That', 'thy', 'unkindness', 'lays', 'upon', 'my', 'heart;', 'Wound', 'me', 'not', 'with', 'thine', 'eye,', 'but', 'with', 'thy', 'tongue:', 'Use', 'power', 'with', 'power,', 'and', 'slay', 'me', 'not', 'by', 'art,', 'Tell', 'me', 'thou', 'lov’st', 'elsewhere;', 'but', 'in', 'my', 'sight,', 'Dear', 'heart,', 'forbear', 'to', 'glance', 'thine', 'eye', 'aside:', 'What', 'need’st', 'thou', 'wound', 'with', 'cunning,', 'when', 'thy', 'might', 'Is', 'more', 'than', 'my', 'o’erpress’d', 'defence', 'can', 'bide?', 'Let', 'me', 'excuse', 'thee:', 'ah!', 'my', 'love', 'well', 'knows', 'Her', 'pretty', 'looks', 'have', 'been', 'mine', 'enemies;', 'And', 'therefore', 'from', 'my', 'face', 'she', 'turns', 'my', 'foes,', 'That', 'they', 'elsewhere', 'might', 'dart', 'their', 'injuries:', 'Yet', 'do', 'not', 'so;', 'but', 'since', 'I', 'am', 'near', 'slain,', 'Kill', 'me', 'outright', 'with', 'looks,', 'and', 'rid', 'my', 'pain.', 'CXL', 'Be', 'wise', 'as', 'thou', 'art', 'cruel;', 'do', 'not', 'press', 'My', 'tongue-tied', 'patience', 'with', 'too', 'much', 'disdain;', 'Lest', 'sorrow', 'lend', 'me', 'words,', 'and', 'words', 'express', 'The', 'manner', 'of', 'my', 'pity-wanting', 'pain.', 'If', 'I', 'might', 'teach', 'thee', 'wit,', 'better', 'it', 'were,', 'Though', 'not', 'to', 'love,', 'yet', 'love', 'to', 'tell', 'me', 'so,', 'As', 'testy', 'sick', 'men,', 'when', 'their', 'deaths', 'be', 'near,', 'No', 'news', 'but', 'health', 'from', 'their', 'physicians', 'know.', 'For,', 'if', 'I', 'should', 'despair,', 'I', 'should', 'grow', 'mad,', 'And', 'in', 'my', 'madness', 'might', 'speak', 'ill', 'of', 'thee;', 'Now', 'this', 'ill-wresting', 'world', 'is', 'grown', 'so', 'bad,', 'Mad', 'slanderers', 'by', 'mad', 'ears', 'believed', 'be.', 'That', 'I', 'may', 'not', 'be', 'so,', 'nor', 'thou', 'belied,', 'Bear', 'thine', 'eyes', 'straight,', 'though', 'thy', 'proud', 'heart', 'go', 'wide.', 'CXLI', 'In', 'faith', 'I', 'do', 'not', 'love', 'thee', 'with', 'mine', 'eyes,', 'For', 'they', 'in', 'thee', 'a', 'thousand', 'errors', 'note;', 'But', '’tis', 'my', 'heart', 'that', 'loves', 'what', 'they', 'despise,', 'Who,', 'in', 'despite', 'of', 'view,', 'is', 'pleased', 'to', 'dote.', 'Nor', 'are', 'mine', 'ears', 'with', 'thy', 'tongue’s', 'tune', 'delighted;', 'Nor', 'tender', 'feeling,', 'to', 'base', 'touches', 'prone,', 'Nor', 'taste,', 'nor', 'smell,', 'desire', 'to', 'be', 'invited', 'To', 'any', 'sensual', 'feast', 'with', 'thee', 'alone:', 'But', 'my', 'five', 'wits', 'nor', 'my', 'five', 'senses', 'can', 'Dissuade', 'one', 'foolish', 'heart', 'from', 'serving', 'thee,', 'Who', 'leaves', 'unsway’d', 'the', 'likeness', 'of', 'a', 'man,', 'Thy', 'proud', 'heart’s', 'slave', 'and', 'vassal', 'wretch', 'to', 'be:', 'Only', 'my', 'plague', 'thus', 'far', 'I', 'count', 'my', 'gain,', 'That', 'she', 'that', 'makes', 'me', 'sin', 'awards', 'me', 'pain.', 'CXLII', 'Love', 'is', 'my', 'sin,', 'and', 'thy', 'dear', 'virtue', 'hate,', 'Hate', 'of', 'my', 'sin,', 'grounded', 'on', 'sinful', 'loving:', 'O!', 'but', 'with', 'mine', 'compare', 'thou', 'thine', 'own', 'state,', 'And', 'thou', 'shalt', 'find', 'it', 'merits', 'not', 'reproving;', 'Or,', 'if', 'it', 'do,', 'not', 'from', 'those', 'lips', 'of', 'thine,', 'That', 'have', 'profan’d', 'their', 'scarlet', 'ornaments', 'And', 'seal’d', 'false', 'bonds', 'of', 'love', 'as', 'oft', 'as', 'mine,', 'Robb’d', 'others’', 'beds’', 'revenues', 'of', 'their', 'rents.', 'Be', 'it', 'lawful', 'I', 'love', 'thee,', 'as', 'thou', 'lov’st', 'those', 'Whom', 'thine', 'eyes', 'woo', 'as', 'mine', 'importune', 'thee:', 'Root', 'pity', 'in', 'thy', 'heart,', 'that,', 'when', 'it', 'grows,', 'Thy', 'pity', 'may', 'deserve', 'to', 'pitied', 'be.', 'If', 'thou', 'dost', 'seek', 'to', 'have', 'what', 'thou', 'dost', 'hide,', 'By', 'self-example', 'mayst', 'thou', 'be', 'denied!', 'CXLIII', 'Lo,', 'as', 'a', 'careful', 'housewife', 'runs', 'to', 'catch', 'One', 'of', 'her', 'feather’d', 'creatures', 'broke', 'away,', 'Sets', 'down', 'her', 'babe,', 'and', 'makes', 'all', 'swift', 'dispatch', 'In', 'pursuit', 'of', 'the', 'thing', 'she', 'would', 'have', 'stay;', 'Whilst', 'her', 'neglected', 'child', 'holds', 'her', 'in', 'chase,', 'Cries', 'to', 'catch', 'her', 'whose', 'busy', 'care', 'is', 'bent', 'To', 'follow', 'that', 'which', 'flies', 'before', 'her', 'face,', 'Not', 'prizing', 'her', 'poor', 'infant’s', 'discontent;', 'So', 'runn’st', 'thou', 'after', 'that', 'which', 'flies', 'from', 'thee,', 'Whilst', 'I', 'thy', 'babe', 'chase', 'thee', 'afar', 'behind;', 'But', 'if', 'thou', 'catch', 'thy', 'hope,', 'turn', 'back', 'to', 'me,', 'And', 'play', 'the', 'mother’s', 'part,', 'kiss', 'me,', 'be', 'kind;', 'So', 'will', 'I', 'pray', 'that', 'thou', 'mayst', 'have', 'thy', '‘Will,’', 'If', 'thou', 'turn', 'back', 'and', 'my', 'loud', 'crying', 'still.', 'CXLIV', 'Two', 'loves', 'I', 'have', 'of', 'comfort', 'and', 'despair,', 'Which', 'like', 'two', 'spirits', 'do', 'suggest', 'me', 'still:', 'The', 'better', 'angel', 'is', 'a', 'man', 'right', 'fair,', 'The', 'worser', 'spirit', 'a', 'woman', 'colour’d', 'ill.', 'To', 'win', 'me', 'soon', 'to', 'hell,', 'my', 'female', 'evil,', 'Tempteth', 'my', 'better', 'angel', 'from', 'my', 'side,', 'And', 'would', 'corrupt', 'my', 'saint', 'to', 'be', 'a', 'devil,', 'Wooing', 'his', 'purity', 'with', 'her', 'foul', 'pride.', 'And', 'whether', 'that', 'my', 'angel', 'be', 'turn’d', 'fiend,', 'Suspect', 'I', 'may,', 'yet', 'not', 'directly', 'tell;', 'But', 'being', 'both', 'from', 'me,', 'both', 'to', 'each', 'friend,', 'I', 'guess', 'one', 'angel', 'in', 'another’s', 'hell:', 'Yet', 'this', 'shall', 'I', 'ne’er', 'know,', 'but', 'live', 'in', 'doubt,', 'Till', 'my', 'bad', 'angel', 'fire', 'my', 'good', 'one', 'out.', 'CXLV', 'Those', 'lips', 'that', 'Love’s', 'own', 'hand', 'did', 'make,', 'Breathed', 'forth', 'the', 'sound', 'that', 'said', '‘I', 'hate’,', 'To', 'me', 'that', 'languish’d', 'for', 'her', 'sake:', 'But', 'when', 'she', 'saw', 'my', 'woeful', 'state,', 'Straight', 'in', 'her', 'heart', 'did', 'mercy', 'come,', 'Chiding', 'that', 'tongue', 'that', 'ever', 'sweet', 'Was', 'us’d', 'in', 'giving', 'gentle', 'doom;', 'And', 'taught', 'it', 'thus', 'anew', 'to', 'greet;', '‘I', 'hate’', 'she', 'alter’d', 'with', 'an', 'end,', 'That', 'followed', 'it', 'as', 'gentle', 'day,', 'Doth', 'follow', 'night,', 'who', 'like', 'a', 'fiend', 'From', 'heaven', 'to', 'hell', 'is', 'flown', 'away.', '‘I', 'hate’,', 'from', 'hate', 'away', 'she', 'threw,', 'And', 'sav’d', 'my', 'life,', 'saying', '‘not', 'you’.', 'CXLVI', 'Poor', 'soul,', 'the', 'centre', 'of', 'my', 'sinful', 'earth,', 'My', 'sinful', 'earth', 'these', 'rebel', 'powers', 'array,', 'Why', 'dost', 'thou', 'pine', 'within', 'and', 'suffer', 'dearth,', 'Painting', 'thy', 'outward', 'walls', 'so', 'costly', 'gay?', 'Why', 'so', 'large', 'cost,', 'having', 'so', 'short', 'a', 'lease,', 'Dost', 'thou', 'upon', 'thy', 'fading', 'mansion', 'spend?', 'Shall', 'worms,', 'inheritors', 'of', 'this', 'excess,', 'Eat', 'up', 'thy', 'charge?', 'Is', 'this', 'thy', 'body’s', 'end?', 'Then', 'soul,', 'live', 'thou', 'upon', 'thy', 'servant’s', 'loss,', 'And', 'let', 'that', 'pine', 'to', 'aggravate', 'thy', 'store;', 'Buy', 'terms', 'divine', 'in', 'selling', 'hours', 'of', 'dross;', 'Within', 'be', 'fed,', 'without', 'be', 'rich', 'no', 'more:', 'So', 'shall', 'thou', 'feed', 'on', 'Death,', 'that', 'feeds', 'on', 'men,', 'And', 'Death', 'once', 'dead,', 'there’s', 'no', 'more', 'dying', 'then.', 'CXLVII', 'My', 'love', 'is', 'as', 'a', 'fever', 'longing', 'still,', 'For', 'that', 'which', 'longer', 'nurseth', 'the', 'disease;', 'Feeding', 'on', 'that', 'which', 'doth', 'preserve', 'the', 'ill,', 'The', 'uncertain', 'sickly', 'appetite', 'to', 'please.', 'My', 'reason,', 'the', 'physician', 'to', 'my', 'love,', 'Angry', 'that', 'his', 'prescriptions', 'are', 'not', 'kept,', 'Hath', 'left', 'me,', 'and', 'I', 'desperate', 'now', 'approve', 'Desire', 'is', 'death,', 'which', 'physic', 'did', 'except.', 'Past', 'cure', 'I', 'am,', 'now', 'Reason', 'is', 'past', 'care,', 'And', 'frantic-mad', 'with', 'evermore', 'unrest;', 'My', 'thoughts', 'and', 'my', 'discourse', 'as', 'madmen’s', 'are,', 'At', 'random', 'from', 'the', 'truth', 'vainly', 'express’d;', 'For', 'I', 'have', 'sworn', 'thee', 'fair,', 'and', 'thought', 'thee', 'bright,', 'Who', 'art', 'as', 'black', 'as', 'hell,', 'as', 'dark', 'as', 'night.', 'CXLVIII', 'O', 'me!', 'what', 'eyes', 'hath', 'Love', 'put', 'in', 'my', 'head,', 'Which', 'have', 'no', 'correspondence', 'with', 'true', 'sight;', 'Or,', 'if', 'they', 'have,', 'where', 'is', 'my', 'judgment', 'fled,', 'That', 'censures', 'falsely', 'what', 'they', 'see', 'aright?', 'If', 'that', 'be', 'fair', 'whereon', 'my', 'false', 'eyes', 'dote,', 'What', 'means', 'the', 'world', 'to', 'say', 'it', 'is', 'not', 'so?', 'If', 'it', 'be', 'not,', 'then', 'love', 'doth', 'well', 'denote', 'Love’s', 'eye', 'is', 'not', 'so', 'true', 'as', 'all', 'men’s:', 'no,', 'How', 'can', 'it?', 'O!', 'how', 'can', 'Love’s', 'eye', 'be', 'true,', 'That', 'is', 'so', 'vexed', 'with', 'watching', 'and', 'with', 'tears?', 'No', 'marvel', 'then,', 'though', 'I', 'mistake', 'my', 'view;', 'The', 'sun', 'itself', 'sees', 'not,', 'till', 'heaven', 'clears.', 'O', 'cunning', 'Love!', 'with', 'tears', 'thou', 'keep’st', 'me', 'blind,', 'Lest', 'eyes', 'well-seeing', 'thy', 'foul', 'faults', 'should', 'find.', 'CXLIX', 'Canst', 'thou,', 'O', 'cruel!', 'say', 'I', 'love', 'thee', 'not,', 'When', 'I', 'against', 'myself', 'with', 'thee', 'partake?', 'Do', 'I', 'not', 'think', 'on', 'thee,', 'when', 'I', 'forgot', 'Am', 'of', 'my', 'self,', 'all', 'tyrant,', 'for', 'thy', 'sake?', 'Who', 'hateth', 'thee', 'that', 'I', 'do', 'call', 'my', 'friend,', 'On', 'whom', 'frown’st', 'thou', 'that', 'I', 'do', 'fawn', 'upon,', 'Nay,', 'if', 'thou', 'lour’st', 'on', 'me,', 'do', 'I', 'not', 'spend', 'Revenge', 'upon', 'myself', 'with', 'present', 'moan?', 'What', 'merit', 'do', 'I', 'in', 'my', 'self', 'respect,', 'That', 'is', 'so', 'proud', 'thy', 'service', 'to', 'despise,', 'When', 'all', 'my', 'best', 'doth', 'worship', 'thy', 'defect,', 'Commanded', 'by', 'the', 'motion', 'of', 'thine', 'eyes?', 'But,', 'love,', 'hate', 'on,', 'for', 'now', 'I', 'know', 'thy', 'mind;', 'Those', 'that', 'can', 'see', 'thou', 'lov’st,', 'and', 'I', 'am', 'blind.', 'CL', 'O!', 'from', 'what', 'power', 'hast', 'thou', 'this', 'powerful', 'might,', 'With', 'insufficiency', 'my', 'heart', 'to', 'sway?', 'To', 'make', 'me', 'give', 'the', 'lie', 'to', 'my', 'true', 'sight,', 'And', 'swear', 'that', 'brightness', 'doth', 'not', 'grace', 'the', 'day?', 'Whence', 'hast', 'thou', 'this', 'becoming', 'of', 'things', 'ill,', 'That', 'in', 'the', 'very', 'refuse', 'of', 'thy', 'deeds', 'There', 'is', 'such', 'strength', 'and', 'warrantise', 'of', 'skill,', 'That,', 'in', 'my', 'mind,', 'thy', 'worst', 'all', 'best', 'exceeds?', 'Who', 'taught', 'thee', 'how', 'to', 'make', 'me', 'love', 'thee', 'more,', 'The', 'more', 'I', 'hear', 'and', 'see', 'just', 'cause', 'of', 'hate?', 'O!', 'though', 'I', 'love', 'what', 'others', 'do', 'abhor,', 'With', 'others', 'thou', 'shouldst', 'not', 'abhor', 'my', 'state:', 'If', 'thy', 'unworthiness', 'rais’d', 'love', 'in', 'me,', 'More', 'worthy', 'I', 'to', 'be', 'belov’d', 'of', 'thee.', 'CLI', 'Love', 'is', 'too', 'young', 'to', 'know', 'what', 'conscience', 'is,', 'Yet', 'who', 'knows', 'not', 'conscience', 'is', 'born', 'of', 'love?', 'Then,', 'gentle', 'cheater,', 'urge', 'not', 'my', 'amiss,', 'Lest', 'guilty', 'of', 'my', 'faults', 'thy', 'sweet', 'self', 'prove:', 'For,', 'thou', 'betraying', 'me,', 'I', 'do', 'betray', 'My', 'nobler', 'part', 'to', 'my', 'gross', 'body’s', 'treason;', 'My', 'soul', 'doth', 'tell', 'my', 'body', 'that', 'he', 'may', 'Triumph', 'in', 'love;', 'flesh', 'stays', 'no', 'farther', 'reason,', 'But', 'rising', 'at', 'thy', 'name', 'doth', 'point', 'out', 'thee,', 'As', 'his', 'triumphant', 'prize.', 'Proud', 'of', 'this', 'pride,', 'He', 'is', 'contented', 'thy', 'poor', 'drudge', 'to', 'be,', 'To', 'stand', 'in', 'thy', 'affairs,', 'fall', 'by', 'thy', 'side.', 'No', 'want', 'of', 'conscience', 'hold', 'it', 'that', 'I', 'call', 'Her', '‘love,’', 'for', 'whose', 'dear', 'love', 'I', 'rise', 'and', 'fall.', 'CLII', 'In', 'loving', 'thee', 'thou', 'know’st', 'I', 'am', 'forsworn,', 'But', 'thou', 'art', 'twice', 'forsworn,', 'to', 'me', 'love', 'swearing;', 'In', 'act', 'thy', 'bed-vow', 'broke,', 'and', 'new', 'faith', 'torn,', 'In', 'vowing', 'new', 'hate', 'after', 'new', 'love', 'bearing:', 'But', 'why', 'of', 'two', 'oaths’', 'breach', 'do', 'I', 'accuse', 'thee,', 'When', 'I', 'break', 'twenty?', 'I', 'am', 'perjur’d', 'most;', 'For', 'all', 'my', 'vows', 'are', 'oaths', 'but', 'to', 'misuse', 'thee,', 'And', 'all', 'my', 'honest', 'faith', 'in', 'thee', 'is', 'lost:', 'For', 'I', 'have', 'sworn', 'deep', 'oaths', 'of', 'thy', 'deep', 'kindness,', 'Oaths', 'of', 'thy', 'love,', 'thy', 'truth,', 'thy', 'constancy;', 'And,', 'to', 'enlighten', 'thee,', 'gave', 'eyes', 'to', 'blindness,', 'Or', 'made', 'them', 'swear', 'against', 'the', 'thing', 'they', 'see;', 'For', 'I', 'have', 'sworn', 'thee', 'fair;', 'more', 'perjured', 'I,', 'To', 'swear', 'against', 'the', 'truth', 'so', 'foul', 'a', 'lie.', 'CLIII', 'Cupid', 'laid', 'by', 'his', 'brand', 'and', 'fell', 'asleep:', 'A', 'maid', 'of', 'Dian’s', 'this', 'advantage', 'found,', 'And', 'his', 'love-kindling', 'fire', 'did', 'quickly', 'steep', 'In', 'a', 'cold', 'valley-fountain', 'of', 'that', 'ground;', 'Which', 'borrow’d', 'from', 'this', 'holy', 'fire', 'of', 'Love,', 'A', 'dateless', 'lively', 'heat,', 'still', 'to', 'endure,', 'And', 'grew', 'a', 'seeting', 'bath,', 'which', 'yet', 'men', 'prove', 'Against', 'strange', 'maladies', 'a', 'sovereign', 'cure.', 'But', 'at', 'my', 'mistress’', 'eye', 'Love’s', 'brand', 'new-fired,', 'The', 'boy', 'for', 'trial', 'needs', 'would', 'touch', 'my', 'breast;', 'I,', 'sick', 'withal,', 'the', 'help', 'of', 'bath', 'desired,', 'And', 'thither', 'hied,', 'a', 'sad', 'distemper’d', 'guest,', 'But', 'found', 'no', 'cure,', 'the', 'bath', 'for', 'my', 'help', 'lies', 'Where', 'Cupid', 'got', 'new', 'fire;', 'my', 'mistress’', 'eyes.', 'CLIV', 'The', 'little', 'Love-god', 'lying', 'once', 'asleep,', 'Laid', 'by', 'his', 'side', 'his', 'heart-inflaming', 'brand,', 'Whilst', 'many', 'nymphs', 'that', 'vow’d', 'chaste', 'life', 'to', 'keep', 'Came', 'tripping', 'by;', 'but', 'in', 'her', 'maiden', 'hand', 'The', 'fairest', 'votary', 'took', 'up', 'that', 'fire', 'Which', 'many', 'legions', 'of', 'true', 'hearts', 'had', 'warm’d;', 'And', 'so', 'the', 'general', 'of', 'hot', 'desire', 'Was,', 'sleeping,', 'by', 'a', 'virgin', 'hand', 'disarm’d.', 'This', 'brand', 'she', 'quenched', 'in', 'a', 'cool', 'well', 'by,', 'Which', 'from', 'Love’s', 'fire', 'took', 'heat', 'perpetual,', 'Growing', 'a', 'bath', 'and', 'healthful', 'remedy,', 'For', 'men', 'diseased;', 'but', 'I,', 'my', 'mistress’', 'thrall,', 'Came', 'there', 'for', 'cure', 'and', 'this', 'by', 'that', 'I', 'prove,', 'Love’s', 'fire', 'heats', 'water,', 'water', 'cools', 'not', 'love.']\n",
            "\n",
            "5\n",
            "13\n"
          ]
        }
      ]
    },
    {
      "cell_type": "code",
      "source": [
        "print(countSonnet[\"love\"])\n",
        "print(countGreen[\"eggs\"])\n",
        "#print(countGreen[\"ham\"])\n",
        "print(countGreen[\"ham.\"])\n",
        "\n",
        "for word in countGreen:\n",
        "  if countGreen[word] == 42:\n",
        "    print(word)\n",
        "\n",
        "for word in countSonnet:\n",
        "  if countSonnet[word] == 42:\n",
        "    print(word)\n"
      ],
      "metadata": {
        "colab": {
          "base_uri": "https://localhost:8080/"
        },
        "id": "nirPROFGzoAE",
        "outputId": "5bd3e71f-6d7f-4176-c9b2-1f27a7c12727"
      },
      "execution_count": 42,
      "outputs": [
        {
          "output_type": "stream",
          "name": "stdout",
          "text": [
            "103\n",
            "11\n",
            "5\n",
            "thee,\n"
          ]
        }
      ]
    },
    {
      "cell_type": "markdown",
      "source": [
        "**Part 9** (10 points)\n",
        "\n",
        "Using the above files, the `wordCount` function from Part 3, and any additional code that you need to write (you can start a new code cell to do that), answer the five questions below.\n",
        "\n",
        "\n",
        "1. How many times does <tt>love</tt> appear in _Shakespeare's Sonnets_ ?\n",
        "+ Answer: 103\n",
        "\n",
        "2. How many times does <tt>eggs</tt> appear in _Green Eggs and Ham_ ?\n",
        "+ Answer: 11\n",
        "\n",
        "3. How many times does <tt>ham</tt> appear in _Green Eggs and Ham_ ?\n",
        "+ Answer: 0\n",
        "\n",
        "4. How many times does <tt>ham.</tt> (with a period) appear in _Green Eggs and Ham_ ?\n",
        "+ Answer: 5\n",
        "\n",
        "5. What is a word that appears **exactly 42 times** in one of these files ? (Share the word and the file it was from!) **Note:** This will require writing a few lines of new code, possibly involving a for loop and a conditional statement.\n",
        "+ Answer: thee,"
      ],
      "metadata": {
        "id": "MnG4JPwQscm-"
      }
    },
    {
      "cell_type": "markdown",
      "source": [
        "## Chat-CMC!"
      ],
      "metadata": {
        "id": "ybD-muiqzo20"
      }
    },
    {
      "cell_type": "markdown",
      "source": [
        "Now, we'll use dictionaries to implement a small version of a generative AI tool totally from scratch!\n",
        "\n",
        "Rather than a large language model like Chat-GPT that trains on \"everything out there\", our Chat-CMC system will be trained on text files like _Green Eggs and Ham_ or Shakespeare's Sonnets.\n",
        "\n",
        "To that end, we'll need a function called `learn(wordList)`\n",
        "that takes a list of words from a text file\n",
        "as input and returns a dictionary where each **key** is a word in `wordList` and the value for each key is the _list_ of words that come immediately after that key.\n",
        "\n",
        "For example, suppose that our text file was Prof. Lars' new (still unpublished) _very short novel_  called \"Spam and Poptarts\". Here is the content of that novel as a list of words called `wordList`:\n",
        "\n",
        "```wordList = [\"I\", \"like\", \"spam.\", \"I\", \"love\", \"poptarts!\"]```\n",
        "\n",
        "The `learn` function should create and return the following dictionary:\n",
        "\n",
        "```\n",
        "   {'I': ['like', 'love'],\n",
        "    'like': ['spam.'],\n",
        "    'spam.': ['I'],\n",
        "    'love': ['poptarts!']}\n",
        "```\n",
        "\n",
        "Notice that after `\"I\"` we find `\"like\"` and we find `\"love\"`. So, for the **key** `\"I\"` we have the **value** `['like', 'love']`.\n",
        "\n",
        "Similarly, after the `\"like\"` we find `\"spam.\"`. So, for the **key** `\"like\"` we have the **value** `['spam.']`.\n",
        "\n",
        "Notice that after `\"poptarts!\"` we have nothing. For this reason, when we build this dictionary, we look at every word in the word list _except_ for the last word in the word list.\n",
        "\n",
        "\n",
        "\n"
      ],
      "metadata": {
        "id": "7u5hUrKG0AE3"
      }
    },
    {
      "cell_type": "markdown",
      "source": [
        "**Part 10** (10 points)\n",
        "\n",
        "The `learn(wordList)` function will be very similar to the `wordCount` function above! In fact, you might want to copy-and-paste the `wordCount` function into the code cell below so that you can refer to it as you write the `learn` function. It will be _very_ similar.\n",
        "\n",
        "For the sake of a running example, consider again the sample example\n",
        "<pre>\n",
        "wordList = [\"I\", \"like\", \"spam.\", \"I\", \"love\", \"poptarts!\"]\n",
        "</pre>\n",
        "\n",
        "Here's how the `learn` function will work.\n",
        "+ Start with an empty dictionary called `nextWordDict`. Ultimately, we'll return that dictionary. Those first and last lines of code are provided. This is the \"sandwich\" 🥪 approach of writing the first and last lines of code first.\n",
        "+ Loop over the indices (locations) of the `wordList`, but stop one before the last index. For example, for the `wordList` above, the length is 6, so the last word `\"poptarts!\"` has index 5, so we'll iterate from indices 0 through 4. The word at index 4 is `\"love\"` which is the last word to have a word that follows it.\n",
        "   + Get the word at the current index. Call it `word`. Get the next word at the next index. Call it `nextWord`. (It's a good thing that we're looping over locations/indices! Otherwise, there would be no way to get the next word! The next word is at the index following the current word. Location is everything!)\n",
        "   + If `word` is **not** yet in the `nextWordDict` dictionary, that is, there is no _key_ for that word yet in the dictionary, then we assign a _value_ to that key. That value is **a list**! What list? (This is _very_ much like what we did in the `wordCount` function, but rather than making the value be a number, we're making it a list!)\n",
        "   + Otherwise, if `word` is in `nextWordDict`, that is, we've seen this word before, then there is already a value associated with that key. That value is a list, and we just need to add it to the end of the list.\n",
        "\n"
      ],
      "metadata": {
        "id": "DeDnfEav2zN2"
      }
    },
    {
      "cell_type": "markdown",
      "source": [
        "For our running example of...\n",
        "```\n",
        "wordList = [\"I\", \"like\", \"spam.\", \"I\", \"love\", \"poptarts!\"]\n",
        "```\n",
        "... your code will build up the dictionary like this...\n",
        "```\n",
        "nextWordDict is {'I': ['like']}\n",
        "nextWordDict is {'I': ['like'], 'like': ['spam.']}\n",
        "nextWordDict is {'I': ['like'], 'like': ['spam.'], 'spam.': ['I']}\n",
        "nextWordDict is {'I': ['like', 'love'], 'like': ['spam.'], 'spam.': ['I']}\n",
        "nextWordDict is {'I': ['like', 'love'], 'like': ['spam.'], 'spam.': ['I'], 'love': ['poptarts!']}\n",
        "```"
      ],
      "metadata": {
        "id": "9h3ZtaACeSss"
      }
    },
    {
      "cell_type": "markdown",
      "source": [
        "As another example, if...\n",
        "\n",
        "<pre>\n",
        "wordList = [\"I\", \"like\", \"spam\", \"and\", \"I\", \"like\", \"poptarts\", \"and\", \"I\", \"love\", \"nutella!\"]\n",
        "</pre>\n",
        "\n",
        "... then the value associated with key `\"I\"` would be the list `[\"like\", \"like\", \"love\"]`. Notice that `\"like\"` appears twice there."
      ],
      "metadata": {
        "id": "ip1ynLNDSynA"
      }
    },
    {
      "cell_type": "code",
      "source": [
        "# You might want to copy-and-paste the wordCount function into this cell so that\n",
        "# you can refer to it since the two functions will be quite similar.\n",
        "\n",
        "def wordCount(wordList):\n",
        "  wordCountDict = {}  # This is an empty dictionary\n",
        "  for word in wordList:\n",
        "    if word not in wordCountDict:\n",
        "      wordCountDict[word] = 1\n",
        "    else:\n",
        "      wordCountDict[word] = wordCountDict[word] + 1\n",
        "  return wordCountDict\n",
        "\n",
        "# Takes input of a list of words, and returns dictionary with each word and words following each word.\n",
        "def learn(wordList):\n",
        "  nextWordDict = {}\n",
        "  for i in range(len(wordList)-1):  # This chops off the last word in the wordList\n",
        "    word = wordList[i]\n",
        "    nextWord = wordList[i+1]\n",
        "    if word not in nextWordDict:\n",
        "      nextWordDict[word] = [nextWord]\n",
        "    else:\n",
        "      nextWordDict[word].append(nextWord)\n",
        "  return nextWordDict\n",
        "\n",
        "testList  = [\"I\", \"like\", \"spam.\", \"I\", \"love\", \"poptarts!\"]\n",
        "print(learn(wordList = testList))"
      ],
      "metadata": {
        "id": "csGCK8rw0a24",
        "colab": {
          "base_uri": "https://localhost:8080/"
        },
        "outputId": "15453b19-1560-4330-d3d7-ce861b68705b"
      },
      "execution_count": 43,
      "outputs": [
        {
          "output_type": "stream",
          "name": "stdout",
          "text": [
            "{'I': ['like', 'love'], 'like': ['spam.'], 'spam.': ['I'], 'love': ['poptarts!']}\n"
          ]
        }
      ]
    },
    {
      "cell_type": "markdown",
      "source": [
        "\n",
        "\n",
        "As before, if all goes well, the test above should print:\n",
        "<pre>\n",
        "{'I': ['like', 'love'], 'like': ['spam.'], 'spam.': ['I'], 'love': ['poptarts!']}\n",
        "</pre>"
      ],
      "metadata": {
        "id": "EXhfHlkP7JmU"
      }
    },
    {
      "cell_type": "markdown",
      "source": [
        "**Part 11** (10 points)\n",
        "\n",
        "Now, we're ready to generate text!\n",
        "\n",
        "Start by copy-and-pasting your `learn` function from the code cell above into the code cell below.\n",
        "\n",
        "Then, write the `generate` function. Some guidance and details:\n",
        "+ `generate` will take as input the first word (string) in the text to be generated (we'll call that input `startWord`). It also takes in the dictionary itself - the one learned by the `learn` function, we'll keep calling it `nextWordDict`, and a third input, which is a positive number indicating the number of words to generate. We'll call this `numWords`.\n",
        "\n",
        "With those three inputs, here's how\n",
        "`generate(startWord, nextWordDict, numWords)` will work:\n",
        "* The function maintains a `currentWord` which is the word that it will generate next. This word is initialized to the `startWord`.\n",
        "* For `numWords` iterations:\n",
        "  * Print the `currentWord`. If you use Python's built-in `print` function, then each word will be on its own line. But, if you use the provided `nicePrint` function, then multiple words will be on the same line, which is much nicer to read!\n",
        "  * If the `currentWord` is `in` the dictionary, then the dictionary provides us with the list of possible next words! We choose a next word at random from that list by using `random.choice`. Put that word into a bucket called `nextWord`.\n",
        "  * Otherwise, if the `currentWord` is not in the dictionary, we set the `nextWord` to be the `startWord`.\n",
        "  * As with many of our programs, before the loop iteration ends, be sure to make `currentWord = nextWord`. That way, each \"child word\" becomes the next iteration's \"parent word,\" and so on!\n",
        "\n",
        "Write and test your `generate` function in the code cell below. It should be about 6-8 lines of code.\n",
        "\n",
        "Notice that the generator may stop generating words in \"mid-sentence\" because we've specified exactly how many words to generate. This is OK -- we can ask it to generate more!"
      ],
      "metadata": {
        "id": "bcXZASVXihiZ"
      }
    },
    {
      "cell_type": "code",
      "source": [
        "import random\n",
        "COLUMN = 0      # Global variable used for nice printing\n",
        "NUMCOLUMNS = 50\n",
        "random.seed(46)\n",
        "\n",
        "# Prints nicely!\n",
        "def nicePrint(string):\n",
        "  global COLUMN\n",
        "  if COLUMN + len(string) > NUMCOLUMNS:\n",
        "    print(string) ; COLUMN = 0\n",
        "  else:\n",
        "    print(string, end=\" \") ; COLUMN = COLUMN + len(string) + 1\n",
        "\n",
        "# Copy your learn function here along with its contract.\n",
        "# Takes input of a list of words, and returns dictionary with each word and words following each word.\n",
        "def learn(wordList):\n",
        "  nextWordDict = {}\n",
        "  for i in range(len(wordList)-1):  # This chops off the last word in the wordList\n",
        "    word = wordList[i]\n",
        "    nextWord = wordList[i+1]\n",
        "    if word not in nextWordDict:\n",
        "      nextWordDict[word] = [nextWord]\n",
        "    else:\n",
        "      nextWordDict[word].append(nextWord)\n",
        "  return nextWordDict\n",
        "\n",
        "# Generates numWords of text starting with startWord. Uses the\n",
        "# nextWordDict to get the list of possible next words and then\n",
        "# chooses one of those words using random.choice.\n",
        "def generate(startWord, nextWordDict, numWords):\n",
        "  currentWord = startWord   # getting started with currentWord\n",
        "  nicePrint(currentWord)\n",
        "  for _ in range(numWords):\n",
        "    nextWord = random.choice(nextWordDict[currentWord])\n",
        "    nicePrint(nextWord)\n",
        "    currentWord = nextWord\n",
        "\n",
        "\n",
        "testList = [\"I\", \"like\", \"spam.\", \"I\", \"love\", \"love\", \"poptarts!\", \"love\", \"is\", \"sweet\", \"like\", \"poptarts!\"]\n",
        "\n",
        "nextWordDict = learn(wordList = testList)  # learn!\n",
        "generate(startWord = \"I\", nextWordDict = nextWordDict, numWords = 20)  # generate!"
      ],
      "metadata": {
        "id": "j0jdi6wajcUR",
        "colab": {
          "base_uri": "https://localhost:8080/"
        },
        "outputId": "1cb48cd5-e2ac-4f16-a030-9455317da562"
      },
      "execution_count": 55,
      "outputs": [
        {
          "output_type": "stream",
          "name": "stdout",
          "text": [
            "I like poptarts! love is sweet like spam. I like poptarts!\n",
            "love love love is sweet like spam. I love poptarts!\n"
          ]
        }
      ]
    },
    {
      "cell_type": "markdown",
      "source": [
        "If all goes according to plan, you should get the following output when using a random seed of 46 (and our provided `nicePrint` function):\n",
        "<pre>\n",
        "I like poptarts! love is sweet like spam. I like poptarts!\n",
        "love love love is sweet like spam. I love\n",
        "</pre>"
      ],
      "metadata": {
        "id": "TKIgpfdO13Nr"
      }
    },
    {
      "cell_type": "markdown",
      "source": [
        "**Part 12**\n",
        "\n",
        "Now, let's train-and-generate from our data files! Copy your `learn` and `generate` functions in the cell below. Try it out on both text files. (You can choose which file you want to use by changing which line gets commented in or out when reading the text file.)\n",
        "\n",
        "Once your code is working, you can comment out `random.seed(46)` to see different creations!"
      ],
      "metadata": {
        "id": "vCTo100Z4Vh_"
      }
    },
    {
      "cell_type": "code",
      "source": [
        "from google.colab import drive\n",
        "drive.mount('/content/drive')\n",
        "\n",
        "import random\n",
        "NUMCOLUMNS = 50\n",
        "COLUMN = 0\n",
        "#random.seed(46)\n",
        "\n",
        "# This function takes in a filename (in Google Drive)\n",
        "# and returns the list of words in that file.\n",
        "def readFile(filename):\n",
        "  with open(filename, \"r\") as file:\n",
        "    fileContents = file.read()\n",
        "    wordList = fileContents.split()\n",
        "    return wordList\n",
        "\n",
        "# Prints nicely!\n",
        "def nicePrint(string):\n",
        "  global COLUMN\n",
        "  if COLUMN + len(string) > NUMCOLUMNS:\n",
        "    print(string) ; COLUMN = 0\n",
        "  else:\n",
        "    print(string, end=\" \") ; COLUMN = COLUMN + len(string) + 1\n",
        "\n",
        "# Paste your learn and generate code here!\n",
        "# Takes input of a list of words, and returns dictionary with each word and words following each word.\n",
        "def learn(wordList):\n",
        "  nextWordDict = {}\n",
        "  for i in range(len(wordList)-1):  # This chops off the last word in the wordList\n",
        "    word = wordList[i]\n",
        "    nextWord = wordList[i+1]\n",
        "    if word not in nextWordDict:\n",
        "      nextWordDict[word] = [nextWord]\n",
        "    else:\n",
        "      nextWordDict[word].append(nextWord)\n",
        "  return nextWordDict\n",
        "\n",
        "# Generates numWords of text starting with startWord. Uses the\n",
        "# nextWordDict to get the list of possible next words and then\n",
        "# chooses one of those words using random.choice.\n",
        "def generate(startWord, nextWordDict, numWords):\n",
        "  currentWord = startWord   # getting started with currentWord\n",
        "  nicePrint(currentWord)\n",
        "  for _ in range(numWords):\n",
        "    nextWord = random.choice(nextWordDict[currentWord])\n",
        "    nicePrint(nextWord)\n",
        "    currentWord = nextWord\n",
        "\n",
        "\n",
        "wordList = readFile(filename = \"/content/drive/My Drive/SCI10/Week8/GreenEggsAndHam.txt\")\n",
        "#wordList = readFile(filename = \"/content/drive/My Drive/SCI10/Week8/ShakespeareSonnets.txt\")\n",
        "print(\"Successfully read in the word list!\")\n",
        "\n",
        "nextWordDict = learn(wordList)  # learn!\n",
        "print(\"Successfully finished learning; about to start generating!\\n\")\n",
        "\n",
        "startPos = random.choice(range(len(wordList)-1))  # index of a random word\n",
        "startWord = wordList[startPos]  # the random word to start generating from\n",
        "generate(startWord, nextWordDict, 200)  # generate!"
      ],
      "metadata": {
        "id": "SNWC0qqJWPJX",
        "colab": {
          "base_uri": "https://localhost:8080/"
        },
        "outputId": "6b174df1-8da4-4ce5-f7b1-94ddc1474011"
      },
      "execution_count": 57,
      "outputs": [
        {
          "output_type": "stream",
          "name": "stdout",
          "text": [
            "Drive already mounted at /content/drive; to attempt to forcibly remount, call drive.mount(\"/content/drive\", force_remount=True).\n",
            "Successfully read in the word list!\n",
            "Successfully finished learning; about to start generating!\n",
            "\n",
            "I will not like them, Sam-I-am. Could you? In a tree!\n",
            "Not in a fox. Not in a tree. I do not like green eggs\n",
            "and ham. I could you, would not, in a tree. Not in a\n",
            "box. And I would not like them in a mouse. I do! I do\n",
            "not eat them here or there. I do not like them, Sam-I-am.\n",
            "Would you, could not, could you, on a train! A train!\n",
            "A train! A train! A train! A train! A train! A train!\n",
            "Could you, could not like them, Sam-I-am. A train! A\n",
            "train! Could you, in the dark! Not in a mouse. And in\n",
            "the rain. And in the dark? I do not like them with a\n",
            "car. Not on a goat. I do not like them anywhere. I would\n",
            "not, in the dark. Not in a boat? I will not like green\n",
            "eggs and ham. I could not, would not, would not, in\n",
            "the dark? I will eat them in a house. Not in a fox.\n",
            "I will eat them on a goat. I do not like them with a\n",
            "fox? Not in a tree. I would not, will not like them,\n",
            "Sam-I-am. Could you, "
          ]
        }
      ]
    },
    {
      "cell_type": "markdown",
      "source": [
        "## Chat-CMC-2\n",
        "\n",
        "One of the shortcomings of Chat-CMC is that the text that it generates is not very good! A better model would use **more words as context** when deciding on the next word to generate.\n",
        "\n",
        "<font color=\"#87212e\">Chat-CMC</font> used just one word (the current word) for context. For that reason, it's called a \"first-order\" Markov model.\n",
        "\n",
        "<font color=\"#87212e\">**Chat-CMC-2**</font> will use _two_ words as context -- it's a \"second-order\" Markov model. Of course, you could take this further. An optional bonus problem (see below) allows the user to specify how many words to use as context.\n",
        "\n",
        "For comparison, the current version of ChatGPT purportedly uses a context of somewhere between 4000 and 8000 words. (The details are a trade secret!)\n",
        "<br>\n",
        "<br>\n",
        "\n",
        "**Part 13** (15 points)\n",
        "\n",
        "Start by copying-and-pasting your previous `learn` and `generate` functions into the code cell below. You will make several modifications to these functions to extend the first-order model (Chat-CMC) to the second-order model (Chat-CMC-2).\n",
        "\n",
        "Before we talk about any changes to the functions, here's a quick sidebar/reminder about tuples and dictionaries:\n",
        "* A pair of things in Python is represented as a tuple, which is similar to a list but uses parentheses instead of square brackets:\n",
        "  * Here is a tuple of a pair of words: `(\"I\", \"like\")`\n",
        "  * For comparison, here is a list of a pair of words: `[\"I\", \"like\"]`\n",
        "* Dictionaries <font color=\"LimeGreen\">**can** use tuples as keys</font>, but <font color=\"Red\">**can't** use lists as keys</font>. (Lists _can_ be values, but they can't be keys.)\n",
        "\n",
        "<br/>\n",
        "\n",
        "**_Changes to_** `learn`\n",
        "\n",
        "First, you'll need to implement some changes within the `learn` function so that it can learn what follows a given pair of words (rather than what follows a given word):\n",
        "\n",
        "* The dictionary will now be a dictionary of **pairs** of words. We suggest that you use a name like `wordPair` instead of `word` to remind you of this difference.\n",
        "* The for loop should no longer iterate through `range(len(wordList)-1)`, but rather `range(len(wordList)-2)`. (Why the change? Try explaining it to your partner!)\n",
        "* Rather than using a single word as a key, your keys will now be tuples of two words (e.g., `(\"I\", \"like\")`). Here's a helpful bit of syntax for creating a tuple of two words: `wordPair = (wordList[i], wordList[i+1])`\n",
        "* Lastly, the nature of the value associated with each key will be the same as before -- it's still a list of (single) words that follow the **two words** of the key. The one change to make here concerns the index of each next word within `wordList`. It should no longer be `i+1`, but rather `...` (you fill in the `...`!).\n",
        "\n",
        "<br/>\n",
        "\n",
        "**_Changes to_** `generate`\n",
        "\n",
        "Next, you'll need to implement some changes within the `generate` function so that it can _use_ two-word tuples to pick the next word to generate!\n",
        "\n",
        "+ In the names of function arguments, change `startWord` to `startPair`, which will be a tuple of two words (e.g., `(\"I\", \"like\")`).\n",
        "+ Before the for loop, set `currentPair` to be `startPair`.\n",
        "+ Then, in the for loop:\n",
        "  + Print the _first_ (which index is this?) word of `currentPair`. (Again, we recommend using `nicePrint` for this task.)\n",
        "  + Next, using `currentPair` as a key:\n",
        "    + If that tuple is `in` the dictionary, then set the `nextWord` to be one of the _next_ words in the value held by the dictionary `nextWordDict`. Choose one of those at random with `random.choice`. Then, create the next tuple of two words, `nextPair`, using the \"old\" second word and the new word.\n",
        "      * To give a concrete example: suppose the values for the `currentPair` of `(\"I\", \"like\")` is the list `[\"spam\", \"spam\", \"poptarts\", \"donuts\"]`. Suppose the random choice of `nextWord` is `\"spam\"`. Then, the `nextPair` tuple becomes `(\"like\", \"spam\")`. Notice that `like` becomes the first word in that tuple and `spam` becomes the second word.\n",
        "    + If that tuple is **not** in the dictionary, then set `nextPair` to be the `startPair`.\n",
        "+ Finally, set `currentPair = nextPair` before iterating the loop again.\n",
        "\n",
        "Write your code in the code cell below and then try it out!\n",
        "\n",
        "You should get more reasonable looking output than you observed in the original Chat-CMC."
      ],
      "metadata": {
        "id": "6QudPUk8X_pc"
      }
    },
    {
      "cell_type": "code",
      "source": [
        "from google.colab import drive\n",
        "drive.mount('/content/drive')\n",
        "\n",
        "import random\n",
        "NUMCOLUMNS = 50\n",
        "COLUMN = 0\n",
        "#random.seed(46)\n",
        "\n",
        "# This function takes in a filename (in Google Drive)\n",
        "# and returns the list of words in that file.\n",
        "def readFile(filename):\n",
        "  with open(filename, \"r\") as file:\n",
        "    fileContents = file.read()\n",
        "    wordList = fileContents.split()\n",
        "    return wordList\n",
        "\n",
        "# Prints nicely\n",
        "def nicePrint(string):\n",
        "  global COLUMN\n",
        "  if COLUMN + len(string) > NUMCOLUMNS:\n",
        "    print(string)\n",
        "    COLUMN = 0\n",
        "  else:\n",
        "    print(string, end=\" \")\n",
        "    COLUMN = COLUMN + len(string) + 1\n",
        "\n",
        "# Add (and then edit) your learn and generate code here!\n",
        "# Takes input of a list of words, and returns dictionary with each word and words following each word.\n",
        "def learn(wordList):\n",
        "  nextWordDict = {}\n",
        "  for i in range(len(wordList)-2):  # This chops off the last word in the wordList\n",
        "    wordPair = (wordList[i], wordList[i+1])\n",
        "    nextWord = wordList[i+2]\n",
        "    if wordPair not in nextWordDict:\n",
        "      nextWordDict[wordPair] = [nextWord]\n",
        "    else:\n",
        "      nextWordDict[wordPair].append(nextWord)\n",
        "  return nextWordDict\n",
        "\n",
        "# Generates numWords of text starting with startWord. Uses the\n",
        "# nextWordDict to get the list of possible next words and then\n",
        "# chooses one of those words using random.choice.\n",
        "def generate(startPair, nextWordDict, numWords):\n",
        "  currentPair = startPair   # getting started with currentWord\n",
        "  for _ in range(numWords):\n",
        "    nicePrint(currentPair[0])\n",
        "    if currentPair in nextWordDict:\n",
        "      nextWord = random.choice(nextWordDict[currentPair])\n",
        "      nextPair = (currentPair[1], nextWord)\n",
        "    else:\n",
        "      nextPair = startPair\n",
        "    currentPair = nextPair\n",
        "\n",
        "wordList = readFile(filename = \"/content/drive/My Drive/SCI10/Week8/GreenEggsAndHam.txt\")\n",
        "#wordList = readFile(filename = \"/content/drive/My Drive/SCI10/Week8/ShakespeareSonnets.txt\")\n",
        "print(\"Successfully read in the word list!\")\n",
        "\n",
        "nextWordDict = learn(wordList = wordList)  # learn!\n",
        "print(\"Successfully finished learning; about to start generating!\\n\")\n",
        "\n",
        "startPos = random.choice(range(len(wordList)-2))  # index of a random word\n",
        "startWords = (wordList[startPos], wordList[startPos+1])  # the random words (a tuple!) to start\n",
        "generate(startWords, nextWordDict, 200)  # generate!"
      ],
      "metadata": {
        "id": "eNv0FSyQWVmI",
        "colab": {
          "base_uri": "https://localhost:8080/"
        },
        "outputId": "b58e3e50-97e6-4ead-81db-846f4416b7ac"
      },
      "execution_count": 58,
      "outputs": [
        {
          "output_type": "stream",
          "name": "stdout",
          "text": [
            "Drive already mounted at /content/drive; to attempt to forcibly remount, call drive.mount(\"/content/drive\", force_remount=True).\n",
            "Successfully read in the word list!\n",
            "Successfully finished learning; about to start generating!\n",
            "\n",
            "a mouse? I do not like them with a mouse. I do not like\n",
            "them, Sam-I-am. A train! A train! Could you, would you,\n",
            "with a fox. And I will not eat them in a box. I do not\n",
            "like them with a fox. I will eat them in a boat. I will\n",
            "not eat them in a box. I do not like green eggs and\n",
            "ham! I do not like them, Sam-I-am. Would you? Could\n",
            "you? In a car? Eat them! Eat them! Eat them! Here they\n",
            "are. I would not, could not, with a goat! Would you,\n",
            "could you, in the rain. Not in a tree! I would not,\n",
            "could not, in the dark! Not in a tree! Not in a tree.\n",
            "Not in a house. Not in a car! Sam! Let me be! I do not\n",
            "like them. You will see. You may like them in a house?\n",
            "Would you like them in a box. I do not like them with\n",
            "a fox. I will eat them in a car. Not in a house. Not\n",
            "in a box. I could not, in the rain. I will eat them\n",
            "anywhere! I do not like them with a mouse. "
          ]
        }
      ]
    },
    {
      "cell_type": "markdown",
      "source": [
        "## Totally Optional Bonus Problem: <font color=\"#87212e\">**Chat-CMC-_k_**</font>\n",
        "\n",
        "If you're enjoying this adventure in AI and have a bit of extra time, then consider doing this part.\n",
        "\n",
        "Write your own code for a model that uses _any_ amount of word context! In this case, your `learn` and `generate` and functions should take as input an additional parameter `k` which is a positive number indicating the context. When `k` is equal to 1, this will be just like our original Chat-CMC. When `k` is equal to 2, this will be just like our Chat-CMC-2. But, when `k` is equal to 3, your new system will consider tuples of 3 words, and so forth.\n",
        "\n",
        "You will most likely find that the generated text becomes \"better\" as `k` increases!"
      ],
      "metadata": {
        "id": "8tCfYZ8O41Ae"
      }
    },
    {
      "cell_type": "markdown",
      "source": [
        "### Slicing 🍕\n",
        "\n",
        "A useful Python concept to solve this problem is **slicing** 🍕. We have talked about indexing before to get items in specific locations from lists or tuples. Slicing takes this one step further. We can use a start index and an end index to get the all the items *within* those two locations. For example:"
      ],
      "metadata": {
        "id": "fiC10KOXoyg4"
      }
    },
    {
      "cell_type": "code",
      "source": [
        "myList = [\"a\", \"b\", \"c\", \"d\", \"e\", \"f\", \"g\", \"h\"]\n",
        "startIndex = 1\n",
        "endIndex = 4\n",
        "print(myList[startIndex:endIndex])"
      ],
      "metadata": {
        "colab": {
          "base_uri": "https://localhost:8080/"
        },
        "id": "7dBnhR3PpZWs",
        "outputId": "27ba6235-d78c-4e70-bc1d-e6e465bb1358"
      },
      "execution_count": null,
      "outputs": [
        {
          "output_type": "execute_result",
          "data": {
            "text/plain": [
              "['b', 'c', 'd']"
            ]
          },
          "metadata": {},
          "execution_count": 10
        }
      ]
    },
    {
      "cell_type": "code",
      "source": [
        "myTuple = (\"a\", \"b\", \"c\", \"d\", \"e\", \"f\", \"g\", \"h\")\n",
        "startIndex = 3\n",
        "endIndex = 7\n",
        "print(myTuple[startIndex:endIndex])"
      ],
      "metadata": {
        "colab": {
          "base_uri": "https://localhost:8080/"
        },
        "id": "eyeU2OvspukS",
        "outputId": "cdceb727-16e6-4c49-a680-f3fa38e45ffb"
      },
      "execution_count": null,
      "outputs": [
        {
          "output_type": "execute_result",
          "data": {
            "text/plain": [
              "('d', 'e', 'f', 'g')"
            ]
          },
          "metadata": {},
          "execution_count": 13
        }
      ]
    },
    {
      "cell_type": "markdown",
      "source": [
        "Two things to notice here:\n",
        "* The item at the `endIndex` location is not included in the output. The items *up to* it are.\n",
        "* We use the brackets `[]` for slicing the tuple even though we used parantheses `()` to initialize it.\n",
        "\n",
        "We can get more clever with slicing too. For example, if we want to get all the items remaining in a list after a `startIndex` we could use the `len` of the list as our `endIndex`. We could also omit an `endIndex` entirely and still get the same output.\n"
      ],
      "metadata": {
        "id": "su_Kt6Y7qRdW"
      }
    },
    {
      "cell_type": "code",
      "source": [
        "myList = [\"a\", \"b\", \"c\", \"d\", \"e\", \"f\", \"g\", \"h\"]\n",
        "startIndex = 4\n",
        "endIndex = len(myList)\n",
        "print(myList[startIndex:endIndex])\n",
        "print(myList[startIndex:])"
      ],
      "metadata": {
        "colab": {
          "base_uri": "https://localhost:8080/"
        },
        "id": "hFgN7vPOquvr",
        "outputId": "c5001bd0-e998-446e-d56d-a9e9baedd805"
      },
      "execution_count": null,
      "outputs": [
        {
          "output_type": "stream",
          "name": "stdout",
          "text": [
            "['e', 'f', 'g', 'h']\n",
            "['e', 'f', 'g', 'h']\n"
          ]
        }
      ]
    },
    {
      "cell_type": "markdown",
      "source": [
        "Similarly, if we want to get all the items up to an `endIndex` we could use 0 as the `startIndex` or omit it entirely."
      ],
      "metadata": {
        "id": "kMAACY-rtElQ"
      }
    },
    {
      "cell_type": "code",
      "source": [
        "myTuple = (\"a\", \"b\", \"c\", \"d\", \"e\", \"f\", \"g\", \"h\")\n",
        "endIndex = 3\n",
        "print(myTuple[0:endIndex])\n",
        "print(myTuple[:endIndex])"
      ],
      "metadata": {
        "colab": {
          "base_uri": "https://localhost:8080/"
        },
        "id": "879cwB5Ms3hT",
        "outputId": "0c7c8ba9-a9cc-4a0d-f7a5-a22d59aeebba"
      },
      "execution_count": null,
      "outputs": [
        {
          "output_type": "stream",
          "name": "stdout",
          "text": [
            "('a', 'b', 'c')\n",
            "('a', 'b', 'c')\n"
          ]
        }
      ]
    },
    {
      "cell_type": "markdown",
      "source": [
        "Returning back Chat-CMC-k, we can make use of slicing when creating the tuples that encode the context for each word. Take a look at how you used the `wordList` to create the `wordPair`. You could use slicing to do the same thing!\n",
        "\n",
        "One thing to keep in mind is the change in data type from list to tuple. When we slice things Python keeps the original data type. In the example below, the sliced list is still a list. But we can tell Python to make it a `tuple()` instead too."
      ],
      "metadata": {
        "id": "QkVUXp4Jtkw8"
      }
    },
    {
      "cell_type": "code",
      "source": [
        "myList = [\"a\", \"b\", \"c\", \"d\", \"e\", \"f\", \"g\", \"h\"]\n",
        "startIndex = 2\n",
        "endIndex = 5\n",
        "slicedList = myList[startIndex:endIndex]\n",
        "print(\"Sliced list as a list:  \", slicedList)\n",
        "print(\"Sliced list as a tuple: \", tuple(slicedList))"
      ],
      "metadata": {
        "colab": {
          "base_uri": "https://localhost:8080/"
        },
        "id": "nGgc0TGk0ENl",
        "outputId": "d2758e11-f0c5-4763-e178-19cf96fd4cd5"
      },
      "execution_count": null,
      "outputs": [
        {
          "output_type": "stream",
          "name": "stdout",
          "text": [
            "Sliced list as a list:   ['c', 'd', 'e']\n",
            "Sliced list as a tuple:  ('c', 'd', 'e')\n"
          ]
        }
      ]
    },
    {
      "cell_type": "markdown",
      "source": [
        "With that out of the way, now you can complete the `learn` and `generate` functions below for Chat-CMC-k!"
      ],
      "metadata": {
        "id": "oOGk8Oid1zr6"
      }
    },
    {
      "cell_type": "code",
      "source": [
        "from google.colab import drive  # Allows us read data file from our google drive\n",
        "drive.mount('/content/drive')   # Provides access to files in in our drive\n",
        "\n",
        "import random\n",
        "NUMCOLUMNS = 50\n",
        "COLUMN = 0\n",
        "random.seed(46)\n",
        "\n",
        "# This function takes in a filename (in Google Drive)\n",
        "# and returns the list of words in that file.\n",
        "def readFile(filename):\n",
        "  with open(filename, \"r\") as file:\n",
        "    fileContents = file.read()\n",
        "    wordList = fileContents.split()\n",
        "    return wordList\n",
        "\n",
        "# Prints nicely\n",
        "def nicePrint(string):\n",
        "  global COLUMN\n",
        "  if COLUMN + len(string) > NUMCOLUMNS:\n",
        "    print(string)\n",
        "    COLUMN = 0\n",
        "  else:\n",
        "    print(string, end=\" \")\n",
        "    COLUMN = COLUMN + len(string) + 1\n",
        "\n",
        "# Add (and then edit) your learn and generate code here!\n",
        "# Takes a list of words as input and creates a dictionary with each key being a\n",
        "# unique tuple of *k* words in that list and each corresponding value being the\n",
        "# word(s) that immediately follow(s) that tuple of words in the list.\n",
        "def learn(wordList, k):\n",
        "  nextWordDict = {}                     # This is an empty dictionary\n",
        "  for i in range(len(wordList)-k):      # This chops off the last k words in the wordList\n",
        "\n",
        "  # Write your code here.\n",
        "  # You might want to copy-and-paste the learn function into this cell so that\n",
        "  # you can refer to it since the two functions will be quite similar.\n",
        "\n",
        "\n",
        "  return nextWordDict\n",
        "\n",
        "# Generates numWords of text starting with startTuple. Uses the\n",
        "# nextWordDict to get the list of possible next words and then\n",
        "# chooses one of those words using random.choice.\n",
        "def generate(startTuple, nextWordDict, numWords):\n",
        "  currentTuple = startTuple    # getting started with currentWord\n",
        "\n",
        "  # Below, write the code for your generate function\n",
        "  # You might want to copy-and-paste the generate function from before into this cell so that\n",
        "  # you can refer to it since the two functions will be quite similar.\n",
        "\n",
        "\n",
        "wordList = readFile(filename = \"/content/drive/My Drive/SCI10/Week8/GreenEggsAndHam.txt\")\n",
        "#wordList = readFile(filename = \"/content/drive/My Drive/SCI10/Week8/ShakespeareSonnets.txt\")\n",
        "print(\"Successfully read in the word list!\")\n",
        "\n",
        "k = 5  # number of words to use as key\n",
        "nextWordDict = learn(wordList = wordList, k = k)  # learn!\n",
        "print(\"Successfully finished learning; about to start generating!\\n\")\n",
        "\n",
        "startPos = random.choice(range(len(wordList)-k))  # index of a random word\n",
        "startWords = tuple(wordList[startPos:startPos+k])  # the random words (a tuple!) to start\n",
        "generate(startTuple = startWords, nextWordDict = nextWordDict, numWords = 200)  # generate!"
      ],
      "metadata": {
        "id": "D9HRLDeX2JgF"
      },
      "execution_count": null,
      "outputs": []
    },
    {
      "cell_type": "markdown",
      "source": [
        "## Time to submit!\n",
        "\n",
        "Congratulations! You've just implemented a small version of a generative AI system! 🤖 Please remember to submit your `HW7.ipynb` notebook on Canvas."
      ],
      "metadata": {
        "id": "-SoRl5s8c213"
      }
    }
  ],
  "metadata": {
    "colab": {
      "provenance": []
    },
    "kernelspec": {
      "display_name": "Python 3",
      "name": "python3"
    },
    "language_info": {
      "name": "python"
    }
  },
  "nbformat": 4,
  "nbformat_minor": 0
}