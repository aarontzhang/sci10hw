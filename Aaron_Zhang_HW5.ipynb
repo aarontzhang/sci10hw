{
  "nbformat": 4,
  "nbformat_minor": 0,
  "metadata": {
    "colab": {
      "provenance": [],
      "collapsed_sections": [
        "TIhR-b9O3en0"
      ]
    },
    "kernelspec": {
      "name": "python3",
      "display_name": "Python 3"
    },
    "language_info": {
      "name": "python"
    }
  },
  "cells": [
    {
      "cell_type": "markdown",
      "source": [
        "# Homework 5: Hypothesis Testing, Indexing, and Choose Your Own Adventure\n",
        "\n",
        "Welcome back! 👋\n",
        "\n",
        "## Reading this week in the Computing Companion 🐶\n",
        "\n",
        "Last week's reading was Section 4.4 (Booleans) and Chapter 10 (Hypothesis Testing). This week's reading is Chapter 8 (Indexing).\n",
        "\n",
        "## What's in this homework...\n",
        "\n",
        "This week's homework assignment has three sections:\n",
        "\n",
        "* The first section continues our exploration of statistical 📈 hypothesis testing that we encountered during both lecture and lab.\n",
        "\n",
        "* The second section provides a first opportunity to practice with the concept of indexing. (It's explained here and in Chapter 8) ☝\n",
        "\n",
        "* The third section offers you a short choose-your-own adventure 🎒 to continue practicing Python foundations _or_ dive a bit deeper and discover genes 👖 in real DNA. Both parts require about the same amount of code-writing, but the first option is _review_ and the second option uses what you've learned so far to make a real discovery: Finding genes!\n",
        "\n",
        "Finally, please be sure to include a <font color = \"green\">**contract**</font> for every function that you write. The contract is a comment at the top of the function that explains what the function takes as input and what it returns. This is an important practice when writing code because it allows other people who might be using your code to understand what each function does. We didn't take many points off last week for missing contracts, but our grading rubrics for this week and beyond have points for contracts. 📝 You'll see that we use contracts in the code that we provide in this notebook.\n",
        "\n"
      ],
      "metadata": {
        "id": "BuMpG29-jWkf"
      }
    },
    {
      "cell_type": "markdown",
      "source": [
        "# Section 1: Hypothesis Testing 🔬"
      ],
      "metadata": {
        "id": "0JMsacmzD19w"
      }
    },
    {
      "cell_type": "markdown",
      "source": [
        "## Testing for differences of two means\n"
      ],
      "metadata": {
        "id": "axd-Ia7MuNWn"
      }
    },
    {
      "cell_type": "markdown",
      "source": [
        "The first lab experiment that we've worked on this semester has involved testing for antibiotic resistance in the soil microbiomes at the 5Cs' campuses. The randomization test that we used in lecture this week can be repurposed to allow us to test a variety of null hypotheses about the antibiotic resistance data.\n",
        "\n",
        "In this first part of the homework, you will select a pair of datasets to compare, formulate a scientific question and corresponding null hypothesis, test that hypothesis using the aforementioned randomization test, and then write an interpretation of the test's results (i.e., the *p*-value it produces).\n",
        "\n",
        "First, here are the datasets comprising of the *percentage* of antibiotic-resistant bacteria found at each site:\n",
        "\n",
        "<font color=\"green\">**Section 1, Green Beach**</font>\n",
        "\n",
        "`Sec1_GreenBeach = [6.17, 0.29, 7.24, 0.59, 4.70, 2.42]`\n",
        "\n",
        "<font color=\"blue\">**Section 1, Chicken Coop**</font>\n",
        "\n",
        "`Sec1_ChickenCoop = [0.68, 1.93, 0.88, 9.86, 0.28, 5.80]`\n",
        "\n",
        "<font color=\"green\">**Section 2, Green Beach**</font>\n",
        "\n",
        "`Sec2_GreenBeach = [0.46, 18.87, 0.00, 0.00, 17.75, 0.05]`\n",
        "\n",
        "<font color=\"blue\">**Section 2, RDSC**</font>\n",
        "\n",
        "`Sec2_RDSC = [0.00, 0.00, 0.00, 0.00, 0.00, 0.00]`\n",
        "\n",
        "<font color=\"green\">**Section 3, Bauer Trees**</font>\n",
        "\n",
        "`Sec3_BauerTrees = [1.40, 0.00, 0.18, 0.00, 4.26, 0.02]`\n",
        "\n",
        "<font color=\"blue\">**Section 3, Chicken Coop**</font>\n",
        "\n",
        "`Sec3_ChickenCoop = [0.00, 6.00, 0.06, 0.35, 0.05, 2.61]`\n",
        "\n",
        "<font color=\"green\">**Section 4, Seniors**</font>\n",
        "\n",
        "`Sec4_Seniors = [0.71, 0.00, 0.51, 0.70, 0.26, 0.07]`\n",
        "\n",
        "<font color=\"blue\">**Section 4, Green Beach**</font>\n",
        "\n",
        "`Sec4_GreenBeach = [0.00, 0.00, 5.29, 0.20, 0.04, 7.00]`\n",
        "\n",
        "<font color=\"green\">**Section 5, RDSC West**</font>\n",
        "\n",
        "`Sec5_RDSCWest = [0.09, 0.31, 5.10, 0.00, 0.53, 0.00]`\n",
        "\n",
        "<font color=\"blue\">**Section 5, Green Beach**</font>\n",
        "\n",
        "`Sec5_GreenBeach = [1.30, 0.24, 0.15, 0.00, 3.20, 0.00]`\n",
        "\n",
        "<font color=\"green\">**Section 6, RDSC West**</font>\n",
        "\n",
        "`Sec6_RDSCWest = [53.05, 0.03, 3.06, 4.95, 0.79, 23.85]`\n",
        "\n",
        "<font color=\"blue\">**Section 6, Green Beach**</font>\n",
        "\n",
        "`Sec6_GreenBeach = [0.66, 0.00, 0.00, 2.00, 1.57, 1.81]`\n",
        "\n",
        "<font color=\"green\">**Section 7, Green Beach**</font>\n",
        "\n",
        "`Sec7_GreenBeach = [3.55, 5.00, 0.82, 7.35, 0.00, 0.22]`\n",
        "\n",
        "<font color=\"blue\">**Section 7, Chicken Coop**</font>\n",
        "\n",
        "`Sec7_ChickenCoop = [2.20, 2.75, 4.27, 1.46, 5.43, 1.81]`\n",
        "\n",
        "<font color=\"green\">**Section 8, Construction Site**</font>\n",
        "\n",
        "`Sec8_ConstructionSite = [0.00, 1.68, 0.00, 0.00, 0.00, 0.00]`\n",
        "\n",
        "<font color=\"blue\">**Section 8, Chicken Coop**</font>\n",
        "\n",
        "`Sec8_ChickenCoop = [0.06, 1.04, 0.00, 0.00, 0.00, 2.11]`\n",
        "\n"
      ],
      "metadata": {
        "id": "pfxuERAta9FM"
      }
    },
    {
      "cell_type": "markdown",
      "source": [
        "**Part 1** Choose any two of the above datasets -- it's fine to choose the two datasets from your lab section or two entirely different ones! Then, write the scientific question and the corresponding null hypothesis.\n",
        "\n",
        "<font color=\"SteelBlue\">**The scientific question: Is the average antibiotic resistance higher in the soil samples collected from Green Beach or the Chicken Coop for Section 1?**</font>\n",
        "\n",
        "<font color=\"SteelBlue\">**The null hypothesis: The samples will have equal antibiotic restance.**</font>"
      ],
      "metadata": {
        "id": "g0rksumRVcev"
      }
    },
    {
      "cell_type": "markdown",
      "source": [
        "**Part 2** It's always a good idea to visualize the data before performing a statistical hypothesis test!\n",
        "\n",
        "With that in mind, modify (and run) the code cell below to generate an appropriately-labeled box plot of the two datasets that you chose to examine in Part 1.\n",
        "\n",
        "**You will need to make modifications to lines 15, 17-19, 24-27, and 29.** _Don't forget to change the labels and the title of the plot._"
      ],
      "metadata": {
        "id": "E05yPmjgWFEi"
      }
    },
    {
      "cell_type": "code",
      "source": [
        "import matplotlib.pyplot as plt\n",
        "%config InlineBackend.figure_format='retina'\n",
        "\n",
        "# Takes as input a group list (the groups under consideration), a list of data for those groups,\n",
        "# and a list of the colors for plotting and produces a box plot.\n",
        "def boxPlot(groupList, dataList, colorList):\n",
        "  # create the box plot object\n",
        "  myPlot = plt.boxplot(dataList, patch_artist=True, tick_labels=groupList)\n",
        "  # fill boxes with colors (don't worry about this syntax!)\n",
        "  for patch, color in zip(myPlot['boxes'], colorList):\n",
        "    patch.set_facecolor(color)\n",
        "  # draw the medians as black lines (don't worry about this syntax!)\n",
        "  plt.setp(myPlot['medians'], color='Black')\n",
        "  # set y-axis limits (lower limit, upper limit)\n",
        "  plt.ylim(0, 10)\n",
        "  # create axes labels and title\n",
        "  plt.xlabel('Groups')\n",
        "  plt.ylabel('Percent Resistant')\n",
        "  plt.title('Antibiotic Resistance Green Beach vs. Chicken Coop')\n",
        "\n",
        "# the list of groups (categorical variable) is defined first;\n",
        "# the lists of numerical data (a list of lists!) are given by group;\n",
        "# the list of colors is given by group\n",
        "groups = ['Green Beach', 'Chicken Coop']\n",
        "percent_resistant = [[6.17, 0.29, 7.24, 0.59, 4.70, 2.42],\n",
        "              [0.68, 1.93, 0.88, 9.86, 0.28, 5.80]]\n",
        "colors = ['PaleGreen', 'MediumOrchid']\n",
        "\n",
        "boxPlot(groupList = groups, dataList = percent_resistant, colorList = colors)"
      ],
      "metadata": {
        "id": "UtI_M3DxjYOo",
        "colab": {
          "base_uri": "https://localhost:8080/",
          "height": 471
        },
        "outputId": "b5482008-b38b-4881-e388-5d7092a9da11"
      },
      "execution_count": 2,
      "outputs": [
        {
          "output_type": "display_data",
          "data": {
            "text/plain": [
              "<Figure size 640x480 with 1 Axes>"
            ],
            "image/png": "[encoded data removed]"
          },
          "metadata": {
            "image/png": {
              "width": 562,
              "height": 454
            }
          }
        }
      ]
    },
    {
      "cell_type": "markdown",
      "source": [
        "**Part 3** Next, you'll perform a hypothesis test for the difference of two means using a randomization simulation.\n",
        "\n",
        "Modify the code cell below to perform the hypothesis test using the two datasets that you chose to examine in Part 1.\n",
        "\n",
        "**You will need to make modifications to lines 26-28 and line 31.**"
      ],
      "metadata": {
        "id": "mPCcXZgZjYhD"
      }
    },
    {
      "cell_type": "code",
      "source": [
        "import random\n",
        "import statistics\n",
        "\n",
        "# Takes two datasets, each a list of numbers, as input. In addition,\n",
        "# the number of randomization simulation trials, numTrials, is given.\n",
        "# The function returns a p-value for the hypothesis test.\n",
        "def twoMeansHypTest(dataset1, dataset2, numTrials):\n",
        "  nObs1 = len(dataset1)\n",
        "  obsDiffMean = statistics.mean(dataset1) - statistics.mean(dataset2)\n",
        "  combinedData = dataset1 + dataset2\n",
        "  counter = 0\n",
        "  simDiffMeans = []\n",
        "  for i in range(numTrials):\n",
        "    random.shuffle(combinedData) # Shuffle the data!\n",
        "    # Break up the list into two parts...\n",
        "    sample1 = combinedData[:nObs1] # This gives us the list of items from the start up to (but not including) position nObs1\n",
        "    sample2 = combinedData[nObs1:] # This gives us the list from position nObs1 to the end of the list\n",
        "    sampleDiffMean = statistics.mean(sample1) - statistics.mean(sample2)\n",
        "    simDiffMeans = simDiffMeans + [ sampleDiffMean ]\n",
        "    if abs(sampleDiffMean) >= abs(obsDiffMean):\n",
        "      counter = counter + 1\n",
        "  pvalue = counter/numTrials\n",
        "  return pvalue, obsDiffMean, simDiffMeans\n",
        "\n",
        "Green = [6.17, 0.29, 7.24, 0.59, 4.70, 2.42]\n",
        "Chicken = [0.68, 1.93, 0.88, 9.86, 0.28, 5.80]\n",
        "\n",
        "# run the hypothesis test\n",
        "pvalue, obsResult, simResults = twoMeansHypTest(dataset1 = Green, dataset2 = Chicken, numTrials = 10000)\n",
        "\n",
        "print(\"The p-value is:\", pvalue)"
      ],
      "metadata": {
        "id": "mdoLRGT9-XGq",
        "colab": {
          "base_uri": "https://localhost:8080/"
        },
        "outputId": "ded4ace0-444f-4069-83a4-0fd6d8ea97e3"
      },
      "execution_count": 3,
      "outputs": [
        {
          "output_type": "stream",
          "name": "stdout",
          "text": [
            "The p-value is: 0.8485\n"
          ]
        }
      ]
    },
    {
      "cell_type": "markdown",
      "source": [
        "**Part 4**\n",
        "\n",
        "Based on the *p*-value that you calculated above (as well as the plot that you generated), what can you conclude about the difference in means between your two datasets?\n",
        "   \n",
        "<font color=\"SteelBlue\">**Your conclusion: p-value: 0.8485 - this means that it is likely that the null hypothesis holds true, and that there is likely no difference in antibiotidc resistance.**</font>"
      ],
      "metadata": {
        "id": "XjmyLMJpBQ1L"
      }
    },
    {
      "cell_type": "markdown",
      "source": [
        "## Testing for differences of two proportions\n",
        "\n",
        "[Chow et al. (2005)](https://jamanetwork.com/journals/jamainternalmedicine/fullarticle/486404) studied two common preventative treaments for acute mountain sickness (AMS). Participants in the study were randomly assigned to one of three treatment groups, received the treatment, and then were taken to an elevation of 3800 m for 24 hours. The researchers recorded whether the participants experienced AMS symptoms during their time at elevation. The outcomes of the study are listed below:\n",
        "\n",
        "**Placebo:** 8 <font color=\"Teal\">without</font> AMS symptoms, 12 <font color=\"DeepPink\">with</font> AMS symptoms\n",
        "\n",
        "**Ginkgo biloba:** 6 <font color=\"Teal\">without</font> AMS symptoms, 11 <font color=\"DeepPink\">with</font> AMS symptoms\n",
        "\n",
        "**Acetazolamide:** 14 <font color=\"Teal\">without</font> AMS symptoms, 6 <font color=\"DeepPink\">with</font> AMS symptoms\n",
        "\n"
      ],
      "metadata": {
        "id": "VxmQ_w2D-pVz"
      }
    },
    {
      "cell_type": "markdown",
      "source": [
        "**Part 5** Choose any two of the above datasets. Write your scientific question and the corresponding null hypothesis.\n",
        "\n",
        "<font color=\"SteelBlue\">**The scientific question: Is there a difference between Ginkgo biloba and Acetazolamide in preventing AMS symptoms?**</font>\n",
        "\n",
        "<font color=\"SteelBlue\">**The null hypothesis: There is no difference between Ginkgo biloba and Acetazolamide in preventing AMS symptoms.**</font>"
      ],
      "metadata": {
        "id": "WbNIMLbBBl-O"
      }
    },
    {
      "cell_type": "markdown",
      "source": [
        "**Part 6** It's always a good idea to visualize the data before performing a statistical hypothesis test!\n",
        "\n",
        "With that in mind, modify (and run) the code cell below to generate an appropriately-labeled segmented bar plot of the two datasets that you chose to examine in Part 5.\n",
        "\n",
        "**You will need to make modifications to lines 13, 17-19, 25-29, and 31.**"
      ],
      "metadata": {
        "id": "9hW4xLNxB5ie"
      }
    },
    {
      "cell_type": "code",
      "source": [
        "import matplotlib.pyplot as plt\n",
        "%config InlineBackend.figure_format='retina'\n",
        "\n",
        "# Takes as input a group list (the groups under consideration), a list of categories for the outcomes,\n",
        "# a list of counts for those outcomes, and list of colors for the plot and plots\n",
        "# a segmented bar plot for those data.\n",
        "def segmentedBarPlot(groupList, outcomeList, countList, colorList):\n",
        "  # create the lower portion of the bars (outcome #1)\n",
        "  plt.bar(groupList, countList[0], color=colorList[0])\n",
        "  # create the upper portion of the bars (outcome #2)\n",
        "  plt.bar(groupList, countList[1], bottom=countList[0], color=colorList[1])\n",
        "  # set y-axis limits (lower limit, upper limit)\n",
        "  plt.ylim(0, 25)\n",
        "  # create color legend\n",
        "  plt.legend(outcomeList)\n",
        "  # create axes labels and title\n",
        "  plt.xlabel(\"Treatment group\")\n",
        "  plt.ylabel(\"Count\")\n",
        "  plt.title(\"Ginkgo biloba vs. Acetazolamide in preventing AMS\")\n",
        "\n",
        "# the list of groups (categorical variable #1) is defined first;\n",
        "# the list of outcomes (categorical variable #2) is defined second;\n",
        "# the lists of counts (a list of lists!) are given first by outcome and then by group;\n",
        "# the list of colors is given by outcome\n",
        "groups = [\"Ginkgo biloba\", \"Acetazolamide\"]\n",
        "outcomes = [\"No Symptoms\", \"AMS Symptoms\"]\n",
        "\n",
        "#Placebo: 8 without AMS symptoms, 12 with AMS symptoms\n",
        "#Ginkgo biloba: 6 without AMS symptoms, 11 with AMS symptoms\n",
        "#Acetazolamide: 14 without AMS symptoms, 6 with AMS symptoms\n",
        "\n",
        "counts = [[6, 11], # uninfected: 12 (control) and 8 (vaccine)\n",
        "          [14, 6]]  # infected: 2 (control) and 3 (vaccine)\n",
        "colors = [\"SkyBlue\", \"Tomato\"]\n",
        "\n",
        "segmentedBarPlot(groupList = groups, outcomeList = outcomes, countList = counts, colorList = colors)"
      ],
      "metadata": {
        "id": "oAYI9YXUCHxk",
        "colab": {
          "base_uri": "https://localhost:8080/",
          "height": 471
        },
        "outputId": "3e338c97-9d51-4599-d281-e927167ec40a"
      },
      "execution_count": 7,
      "outputs": [
        {
          "output_type": "display_data",
          "data": {
            "text/plain": [
              "<Figure size 640x480 with 1 Axes>"
            ],
            "image/png": "[encoded data removed]"
          },
          "metadata": {
            "image/png": {
              "width": 562,
              "height": 454
            }
          }
        }
      ]
    },
    {
      "cell_type": "markdown",
      "source": [
        "**Part 7** Next, you'll perform a hypothesis test for the difference of two proportions using a randomization simulation.\n",
        "\n",
        "Modify the code cell below to perform the hypothesis test using the two datasets that you chose to examine in Part 5. Please use the symbol `W` to indicate participants without symptoms and the symbol `A` indicate participants with symptoms.\n",
        "\n",
        "**You will need to make modifications to lines 9, 17, 25-27, and 30.**"
      ],
      "metadata": {
        "id": "9eFeCbYkCIPt"
      }
    },
    {
      "cell_type": "code",
      "source": [
        "import random\n",
        "\n",
        "# Takes two datasets, each a list of \"U\"s and \"I\"s, as input. In addition,\n",
        "# the number of randomization simulation trials, numTrials, is given.\n",
        "# The function returns a p-value for the hypothesis test.\n",
        "def twoPropsHypTest(dataset1, dataset2, numTrials):\n",
        "  nObs1 = len(dataset1)\n",
        "  nObs2 = len(dataset2)\n",
        "  obsDiffProp = dataset1.count(\"A\")/nObs1 - dataset2.count(\"A\")/nObs2\n",
        "  combinedData = dataset1 + dataset2\n",
        "  counter = 0\n",
        "  simDiffProps = []\n",
        "  for i in range(numTrials):\n",
        "    random.shuffle(combinedData)\n",
        "    sample1 = combinedData[:nObs1]\n",
        "    sample2 = combinedData[nObs1:]\n",
        "    sampleDiffProp = sample1.count(\"A\")/nObs1 - sample2.count(\"A\")/nObs2\n",
        "    simDiffProps = simDiffProps + [ sampleDiffProp ]\n",
        "    if abs(sampleDiffProp) >= abs(obsDiffProp):\n",
        "      counter = counter + 1\n",
        "  pvalue = counter/numTrials\n",
        "  return pvalue, obsDiffProp, simDiffProps\n",
        "\n",
        "\n",
        "# data from malaria vaccine trial\n",
        "ginkgo = 6*[\"W\"] + 11*[\"A\"]\n",
        "ace = 14*[\"W\"] + 6*[\"A\"]\n",
        "\n",
        "# run the hypothesis test\n",
        "pvalue, obsResult, simResults = twoPropsHypTest(dataset1 = ginkgo, dataset2 = ace, numTrials = 10000)\n",
        "\n",
        "print(\"The p-value is:\", pvalue)"
      ],
      "metadata": {
        "id": "v8jW5ZJYCMA5",
        "colab": {
          "base_uri": "https://localhost:8080/"
        },
        "outputId": "a8f65360-1b67-46c2-e413-13e70a59ab76"
      },
      "execution_count": 8,
      "outputs": [
        {
          "output_type": "stream",
          "name": "stdout",
          "text": [
            "The p-value is: 0.0488\n"
          ]
        }
      ]
    },
    {
      "cell_type": "markdown",
      "source": [
        "**Part 8**\n",
        "\n",
        "Based on the *p*-value that you calculated above (as well as the plot that you generated), what can you conclude about the difference in proportions between your two datasets?\n",
        "   \n",
        "<font color=\"SteelBlue\">**Your conclusion: p-value: 0.0488 - This p value means it is extremely unlikely that our null hypothesis is true, meaning that it is highly likely that Acetazolamide is more effective at preventing AMS symptoms.**</font>"
      ],
      "metadata": {
        "id": "QYycywXOCOah"
      }
    },
    {
      "cell_type": "markdown",
      "source": [
        "# Section 2: A Short Exploration of Indexing! ☝\n",
        "\n",
        "We now turn to the topic of indexing which is in your reading for this week.\n",
        "\n"
      ],
      "metadata": {
        "id": "g4Qpj3cr25ka"
      }
    },
    {
      "cell_type": "markdown",
      "source": [
        "Recall that both strings and lists are sequences of things. Strings are sequences of symbols and lists are sequences of anything. As such, strings and lists share many things in common. For example, both can be used in `for` loops: We can loop over the symbols in a string and we can loop over the elements in a list. Similarly, we can add two strings together to get a new string and we can add two lists together to get a new list.\n",
        "\n",
        "Recall that in a string, the first symbol is at _index_ (or \"location\") 0. The next symbol is at _index_ 1, and so forth. Here is a string with its indices written above it:\n",
        "<pre>\n",
        "0 1 2 3 4 5 6 <-- indices\n",
        "n u t e l l a <-- symbols of the string\n",
        "</pre>\n",
        "\n",
        "We can pick out the symbol at a given index using the syntax below.\n",
        "\n",
        "Note that all is happy until line 9, where we get an error."
      ],
      "metadata": {
        "id": "h8BhdA6MVXdJ"
      }
    },
    {
      "cell_type": "code",
      "source": [
        "myString = \"nutella\"\n",
        "print(\"Symbol at index 0:\", myString[0])\n",
        "print(\"Symbol at index 1:\", myString[1])\n",
        "print(\"Symbol at index 2:\", myString[2])\n",
        "print(\"Symbol at index 3:\", myString[3])\n",
        "print(\"Symbol at index 4:\", myString[4])\n",
        "print(\"Symbol at index 5:\", myString[5])\n",
        "print(\"Symbol at index 6:\", myString[6])\n",
        "print(\"Symbol at index 7:\", myString[7])"
      ],
      "metadata": {
        "id": "2bs5q2C_4knq",
        "colab": {
          "base_uri": "https://localhost:8080/",
          "height": 305
        },
        "outputId": "772ec17d-f1d6-4af6-d69c-265cb1ac8621"
      },
      "execution_count": 9,
      "outputs": [
        {
          "output_type": "stream",
          "name": "stdout",
          "text": [
            "Symbol at index 0: n\n",
            "Symbol at index 1: u\n",
            "Symbol at index 2: t\n",
            "Symbol at index 3: e\n",
            "Symbol at index 4: l\n",
            "Symbol at index 5: l\n",
            "Symbol at index 6: a\n"
          ]
        },
        {
          "output_type": "error",
          "ename": "IndexError",
          "evalue": "string index out of range",
          "traceback": [
            "\u001b[0;31m---------------------------------------------------------------------------\u001b[0m",
            "\u001b[0;31mIndexError\u001b[0m                                Traceback (most recent call last)",
            "\u001b[0;32m/tmp/ipython-input-2445065106.py\u001b[0m in \u001b[0;36m<cell line: 0>\u001b[0;34m()\u001b[0m\n\u001b[1;32m      7\u001b[0m \u001b[0mprint\u001b[0m\u001b[0;34m(\u001b[0m\u001b[0;34m\"Symbol at index 5:\"\u001b[0m\u001b[0;34m,\u001b[0m \u001b[0mmyString\u001b[0m\u001b[0;34m[\u001b[0m\u001b[0;36m5\u001b[0m\u001b[0;34m]\u001b[0m\u001b[0;34m)\u001b[0m\u001b[0;34m\u001b[0m\u001b[0;34m\u001b[0m\u001b[0m\n\u001b[1;32m      8\u001b[0m \u001b[0mprint\u001b[0m\u001b[0;34m(\u001b[0m\u001b[0;34m\"Symbol at index 6:\"\u001b[0m\u001b[0;34m,\u001b[0m \u001b[0mmyString\u001b[0m\u001b[0;34m[\u001b[0m\u001b[0;36m6\u001b[0m\u001b[0;34m]\u001b[0m\u001b[0;34m)\u001b[0m\u001b[0;34m\u001b[0m\u001b[0;34m\u001b[0m\u001b[0m\n\u001b[0;32m----> 9\u001b[0;31m \u001b[0mprint\u001b[0m\u001b[0;34m(\u001b[0m\u001b[0;34m\"Symbol at index 7:\"\u001b[0m\u001b[0;34m,\u001b[0m \u001b[0mmyString\u001b[0m\u001b[0;34m[\u001b[0m\u001b[0;36m7\u001b[0m\u001b[0;34m]\u001b[0m\u001b[0;34m)\u001b[0m\u001b[0;34m\u001b[0m\u001b[0;34m\u001b[0m\u001b[0m\n\u001b[0m",
            "\u001b[0;31mIndexError\u001b[0m: string index out of range"
          ]
        }
      ]
    },
    {
      "cell_type": "markdown",
      "source": [
        "**Part 9** Why does Python complain when we try to look at `myString[7]` in the example above?\n",
        "\n",
        "<font color = \"blue\">**Nutella only has 7 characters, meaning index 7 is out of range, since python is zero indexed.** </font>"
      ],
      "metadata": {
        "id": "3An5I1Rn5hv1"
      }
    },
    {
      "cell_type": "markdown",
      "source": [
        "### The built-in `len` function\n",
        "\n",
        "Recall that the built-in `len` function takes a string or list as input and returns the length of that string or list."
      ],
      "metadata": {
        "id": "Z8iIqabf5zhO"
      }
    },
    {
      "cell_type": "code",
      "source": [
        "myString = \"nutella\"\n",
        "stringLength = len(myString)\n",
        "print(stringLength)"
      ],
      "metadata": {
        "id": "cmn-dwm35_TT",
        "colab": {
          "base_uri": "https://localhost:8080/"
        },
        "outputId": "e14b3100-f236-4bbd-f91f-8719a048c843"
      },
      "execution_count": 10,
      "outputs": [
        {
          "output_type": "stream",
          "name": "stdout",
          "text": [
            "7\n"
          ]
        }
      ]
    },
    {
      "cell_type": "markdown",
      "source": [
        "### Home on the `range` *🐃*\n",
        "\n",
        "We've seen the built-in `range` function as well. It takes a counting number as input and returns a list of that many numbers. However, it begins at 0, so take a look at what we get..."
      ],
      "metadata": {
        "id": "0Qx5hc-p6NiZ"
      }
    },
    {
      "cell_type": "code",
      "source": [
        "myList = range(7)\n",
        "print(myList)"
      ],
      "metadata": {
        "id": "mZ9M3R2i6cPg",
        "colab": {
          "base_uri": "https://localhost:8080/"
        },
        "outputId": "11bc090c-dc7b-4ad7-e933-7fe52bcb7052"
      },
      "execution_count": 11,
      "outputs": [
        {
          "output_type": "stream",
          "name": "stdout",
          "text": [
            "range(0, 7)\n"
          ]
        }
      ]
    },
    {
      "cell_type": "markdown",
      "source": [
        "**Huh!?!** Python is lazy. 😴 It doesn't want to work too hard. To get it to actually print the contents of the list, we have to tell Python that we want to unpack the range into the actual list:"
      ],
      "metadata": {
        "id": "T5BZL5B56o_B"
      }
    },
    {
      "cell_type": "code",
      "source": [
        "myList = range(7)\n",
        "print(list(myList))"
      ],
      "metadata": {
        "id": "E7gxm5Zi6yeC",
        "colab": {
          "base_uri": "https://localhost:8080/"
        },
        "outputId": "0780573c-aac2-494d-d4a6-39172e4f7ee4"
      },
      "execution_count": 12,
      "outputs": [
        {
          "output_type": "stream",
          "name": "stdout",
          "text": [
            "[0, 1, 2, 3, 4, 5, 6]\n"
          ]
        }
      ]
    },
    {
      "cell_type": "markdown",
      "source": [
        "Alternatively, and this is how we've mostly been doing it in class, we can do it this way..."
      ],
      "metadata": {
        "id": "YUhTQKQzX7yI"
      }
    },
    {
      "cell_type": "code",
      "source": [
        "myList = list(range(7)) # Here, we're making sure that range(7) is in list format.\n",
        "print(myList)"
      ],
      "metadata": {
        "id": "FSZ4ie9sYELk",
        "colab": {
          "base_uri": "https://localhost:8080/"
        },
        "outputId": "e96aa9a7-6b4d-4cfd-c0c5-dea3c49ae7d6"
      },
      "execution_count": 13,
      "outputs": [
        {
          "output_type": "stream",
          "name": "stdout",
          "text": [
            "[0, 1, 2, 3, 4, 5, 6]\n"
          ]
        }
      ]
    },
    {
      "cell_type": "markdown",
      "source": [
        "Now, take a look at the code cell below."
      ],
      "metadata": {
        "id": "9zE7f3EC7Ji1"
      }
    },
    {
      "cell_type": "code",
      "source": [
        "myString = \"nutella\"\n",
        "indices = range(len(myString))\n",
        "print(indices)        # <-- Lazy Python!\n",
        "print(list(indices))  # <-- add list(...) just to get to print"
      ],
      "metadata": {
        "id": "ia7cIv9M7k81",
        "colab": {
          "base_uri": "https://localhost:8080/"
        },
        "outputId": "51770981-c9f3-48a4-939d-865a11e267dc"
      },
      "execution_count": 14,
      "outputs": [
        {
          "output_type": "stream",
          "name": "stdout",
          "text": [
            "range(0, 7)\n",
            "[0, 1, 2, 3, 4, 5, 6]\n"
          ]
        }
      ]
    },
    {
      "cell_type": "markdown",
      "source": [
        "Or, alternatively..."
      ],
      "metadata": {
        "id": "t3ZlA8y7Ygxi"
      }
    },
    {
      "cell_type": "code",
      "source": [
        "myString = \"nutella\"\n",
        "indices = list(range(len(myString)))\n",
        "print(indices)        # Now, indices is an actual list..."
      ],
      "metadata": {
        "colab": {
          "base_uri": "https://localhost:8080/"
        },
        "id": "M5Vt_Bq_Yiaf",
        "outputId": "1912a32a-a8d0-4f67-f942-f55e41708338"
      },
      "execution_count": 15,
      "outputs": [
        {
          "output_type": "stream",
          "name": "stdout",
          "text": [
            "[0, 1, 2, 3, 4, 5, 6]\n"
          ]
        }
      ]
    },
    {
      "cell_type": "markdown",
      "source": [
        "Amazing! Look, we got the list of the indices of the 7 letters of `\"nutella\"`. How? `len(myString)` is the length of `nutella`. That's 7.\n",
        "`list(range(len(myString)))` is, therefore, the list `[0, 1, 2, 3, 4, 5, 6]`.\n",
        "\n",
        "Now, take a look at this code and run it. Since we're not actually interested in the list, we can do this..."
      ],
      "metadata": {
        "id": "j0jKFeYS70qH"
      }
    },
    {
      "cell_type": "code",
      "source": [
        "myString = \"nutella\"\n",
        "for index in range(len(myString)):\n",
        "  print(index, myString[index])"
      ],
      "metadata": {
        "id": "X5-K7rKD63NK",
        "colab": {
          "base_uri": "https://localhost:8080/"
        },
        "outputId": "f128f553-9fc2-4c3c-c6d2-5230ba993806"
      },
      "execution_count": 16,
      "outputs": [
        {
          "output_type": "stream",
          "name": "stdout",
          "text": [
            "0 n\n",
            "1 u\n",
            "2 t\n",
            "3 e\n",
            "4 l\n",
            "5 l\n",
            "6 a\n"
          ]
        }
      ]
    },
    {
      "cell_type": "markdown",
      "source": [
        "Although, this also works and you've seen us do this in class and homeworks (unpacking the `range` into a list)..."
      ],
      "metadata": {
        "id": "P-TOgI4rYy3p"
      }
    },
    {
      "cell_type": "code",
      "source": [
        "myString = \"nutella\"\n",
        "for index in list(range(len(myString))):\n",
        "  print(index, myString[index])"
      ],
      "metadata": {
        "id": "X0qyUD9EY67B",
        "colab": {
          "base_uri": "https://localhost:8080/"
        },
        "outputId": "25df1b72-4c09-465f-a732-188680d441b9"
      },
      "execution_count": 17,
      "outputs": [
        {
          "output_type": "stream",
          "name": "stdout",
          "text": [
            "0 n\n",
            "1 u\n",
            "2 t\n",
            "3 e\n",
            "4 l\n",
            "5 l\n",
            "6 a\n"
          ]
        }
      ]
    },
    {
      "cell_type": "markdown",
      "source": [
        "**Part 10**\n",
        "\n",
        "In your own words, explain:\n",
        "  1. What is the list `list(range(len(myString)))` in this example. <font color = \"blue\"> [0, 1, 2, 3, 4, 5, 6]</font>\n",
        "  2. What values does the variable `index` take as we repeatedly perform the loop in line 2. <font color = \"blue\">0, 1, 2, 3, 4, 5, 6</font>"
      ],
      "metadata": {
        "id": "SclmMum78QhD"
      }
    },
    {
      "cell_type": "markdown",
      "source": [
        "### Why bother with indexing?\n",
        "\n",
        "Imagine that we have two strings, each comprising the DNA sequence of an allele of the same gene. We'd like to determine the number of places where these two alleles differ. For now, we'll assume that the two alleles have the same length, so the only mutations that we're considering are substitutions.\n",
        "\n",
        "For example, consider the two alleles below. We've put indices above them so that you can the location of each base in the string.\n",
        "\n",
        "<pre>\n",
        "0 1 2 3 4 5 <-- indices\n",
        "A T G G C A <-- allele 1\n",
        "A C C G C T <-- allele 2\n",
        "</pre>\n",
        "\n",
        "Notice that these two alleles differ in three places, at indices 1, 2, and 5.\n",
        "\n",
        "So we'd like to write a function that takes two strings of the same length and returns the number of indices at which these strings differ.\n",
        "\n",
        "Stop 🛑 and think about how we would write such a function in Python. Notice that if we start like this...\n",
        "\n",
        "```python\n",
        "def differences(allele1, allele2):\n",
        "  counter = 0\n",
        "  for symbol in allele1:\n",
        "```\n",
        "\n",
        "... we're not going to make any progress! Do you see why?\n",
        "\n",
        "The reason is that this style of looping is looking at the symbols of `allele1` one-by-one, but it doesn't allow us to look at `allele2` _at the same time_ to compare their bases at the same positions.\n",
        "_The problem that we're trying to solve is inherently about indices; we want to compare the two strings at their corresponding indices_. **Whenever a problem is about indices, we need to loop over the list of indices.** That means a loop that iterates using `range(...)`.\n",
        "\n"
      ],
      "metadata": {
        "id": "k4rzbPj-84ql"
      }
    },
    {
      "cell_type": "code",
      "source": [
        "# Takes two strings of the same length as input and returns\n",
        "# the total number of INDICES at which they differ.\n",
        "def differences(allele1, allele2):\n",
        "  counter = 0  # This is where we will keep count of the number INDICES at which allele1 and allele2 differ\n",
        "  for index in range(len(allele1)):       # We're assuming that the two alleles have the same length\n",
        "    if allele1[index] != allele2[index]:  # Check if the two strings have different symbols at the current index\n",
        "      counter = counter + 1\n",
        "  return counter\n",
        "\n",
        "test1 = \"ATGGCA\"\n",
        "test2 = \"ACCGCT\"\n",
        "\n",
        "result = differences(allele1 = test1, allele2 = test2)\n",
        "print(test1, \"and\", test2, \"differ at\", result, \"indices\")"
      ],
      "metadata": {
        "id": "IVC0gYlc--dy",
        "colab": {
          "base_uri": "https://localhost:8080/"
        },
        "collapsed": true,
        "outputId": "8ec56d37-54c3-479e-c928-9b9b15e5811b"
      },
      "execution_count": 18,
      "outputs": [
        {
          "output_type": "stream",
          "name": "stdout",
          "text": [
            "ATGGCA and ACCGCT differ at 3 indices\n"
          ]
        }
      ]
    },
    {
      "cell_type": "markdown",
      "source": [
        "Here's another example of the use of indices.\n",
        "Our one-eyed alien friends have discovered that English is actually quite similar to their own language except that in their own language they only keep the letters at odd indices. To translate from English to OEA (One-Eyed Alienish), we only keep the letters with odd indices. For example `nutella` is translated as `uel` because, when we look at `nutella` and its indices, the letters at odd indices (1, 3, 5) are the only ones that we keep.\n",
        "<pre>\n",
        "0 1 2 3 4 5 6\n",
        "n u t e l l a\n",
        "</pre>\n",
        "To do this, recall that the modulus operator `%` gives the remainder when one counting number is divided by another. Therefore `n % 2` is 0 if `n` is even (no remainder when n divided by 2) and is 1 if `n` is odd (the result of dividing `n` by 2 gives a remainder of 1).\n",
        "\n",
        "Here's our OEA function. We've included some extra `print` functions so that you can see it in action."
      ],
      "metadata": {
        "id": "txzLI2yWBLc6"
      }
    },
    {
      "cell_type": "code",
      "source": [
        "# Takes a string corresponding to an English word as input and returns\n",
        "# a string corresponding to the translation of that string in OEA.\n",
        "def OEA(englishWord):\n",
        "  translation = \"\"\n",
        "  for index in range(len(englishWord)):\n",
        "    print(\"The current index is:\", index)\n",
        "    if index % 2 == 1:\n",
        "      print(\" that index is odd, so we're adding the symbol \", englishWord[index])\n",
        "      translation = translation + englishWord[index]\n",
        "  return translation\n",
        "\n",
        "test = \"nutella\"\n",
        "print(\"I'm about to call OEA for help\")\n",
        "result = OEA(englishWord = test)\n",
        "print(\"The translation of \", test, \"is\", result)"
      ],
      "metadata": {
        "id": "Fc9qQfjzCca1",
        "colab": {
          "base_uri": "https://localhost:8080/"
        },
        "outputId": "08721729-9418-4f71-868a-1b7ccc0df855"
      },
      "execution_count": 19,
      "outputs": [
        {
          "output_type": "stream",
          "name": "stdout",
          "text": [
            "I'm about to call OEA for help\n",
            "The current index is: 0\n",
            "The current index is: 1\n",
            " that index is odd, so we're adding the symbol  u\n",
            "The current index is: 2\n",
            "The current index is: 3\n",
            " that index is odd, so we're adding the symbol  e\n",
            "The current index is: 4\n",
            "The current index is: 5\n",
            " that index is odd, so we're adding the symbol  l\n",
            "The current index is: 6\n",
            "The translation of  nutella is uel\n"
          ]
        }
      ]
    },
    {
      "cell_type": "markdown",
      "source": [
        "**Part 11** Your turn! We want a function called `zip(string1, string2)` that takes two strings of the same length as input and returns a new string that alternates between the symbols of `string1` and `string2`. For example:\n",
        "<pre>\n",
        "zip(\"wow\", \"abc\")\n",
        "</pre>\n",
        "should return `waobwc`. The first symbol comes from `string1`, the next from `string2`, the next from `string1`, and so forth.\n",
        "\n",
        "To do this, we want to iterate over the _indices_ of the strings. Because the two strings have the same length, you can iterate over `range(len(string1))` and that will give you the list of indices. In the case that `string1` is `\"wow\"`, it has length 3, and `range(len(string1))` will be the list `[0, 1, 2]`.\n",
        "\n",
        "Building up a string in this way involves the accumulator paradigm! (Remember 🥪!) We start with a variable -- you choose the name -- that is an empty string.\n",
        "\n",
        "**For** each _index_, we want to get the symbol of `string1` at that index and the symbol of `string2` at that same index. We then add those two symbols to the accumulator.\n",
        "\n",
        "Finally, we return the accumulator, which is the string where we've accumulated our result!\n",
        "\n",
        "Write the `zip(string1, string2)` function in the code cell below."
      ],
      "metadata": {
        "id": "XDoTC6ca84nw"
      }
    },
    {
      "cell_type": "code",
      "source": [
        "# Takes two strings and combines them by adding one index of each in alternating order\n",
        "def zip(string1, string2):\n",
        "  # Your code here\n",
        "  output = \"\"\n",
        "  for i in range(len(string1)):\n",
        "    output += string1[i] + string2[i]\n",
        "  return output\n",
        "\n",
        "\n",
        "\n",
        "\n",
        "\n",
        "\n",
        "\n",
        "print(zip(string1 = \"wow\", string2 = \"abc\"))    # <-- should be waobwc\n",
        "print(zip(string1 = \"ABCD\", string2 = \"wxyz\"))  # <-- should be AwBxCyDz"
      ],
      "metadata": {
        "id": "_tkeillWrYtw",
        "colab": {
          "base_uri": "https://localhost:8080/"
        },
        "outputId": "710b27e7-fce6-45b8-dcb0-b6774be5d4b9"
      },
      "execution_count": 23,
      "outputs": [
        {
          "output_type": "stream",
          "name": "stdout",
          "text": [
            "waobwc\n",
            "AwBxCyDz\n"
          ]
        }
      ]
    },
    {
      "cell_type": "markdown",
      "source": [
        "**Part 12**\n",
        "\n",
        "Returning to DNA, we'd like to have a function that takes two DNA sequences of the same length (e.g., alleles of the same gene that are of the same length) and returns a list of the _indices_ where the two sequences are the same.\n",
        "\n",
        "This is the accumulator pattern again. 🥪 We start with an empty list. We loop over the _indices_ (the two strings are of the same length, so we can use the length of either string to make that list), and each time we find an index where the two strings match, we add that index to the accumulator list. Finally, we return that accumulator list.\n",
        "\n"
      ],
      "metadata": {
        "id": "455bGKYfH-vM"
      }
    },
    {
      "cell_type": "code",
      "source": [
        "# Takes in two strings of DNA and returns the indexes where the sequences are the same\n",
        "def matches(DNA1, DNA2):\n",
        "  # Your code here\n",
        "  output = []\n",
        "  for i in range(len(DNA1)):\n",
        "    if DNA1[i] == DNA2[i]:\n",
        "      output.append(i)\n",
        "  return output\n",
        "\n",
        "\n",
        "\n",
        "\n",
        "\n",
        "\n",
        "\n",
        "test1 = \"ATTCG\"\n",
        "test2 = \"ACTCC\"\n",
        "print(matches(DNA1 = test1, DNA2 = test2))  # <-- should be the list [0, 2, 3]"
      ],
      "metadata": {
        "id": "pA_yhwX4rjsg",
        "colab": {
          "base_uri": "https://localhost:8080/"
        },
        "outputId": "4a78a667-0420-417c-9edb-dacca333e026"
      },
      "execution_count": 26,
      "outputs": [
        {
          "output_type": "stream",
          "name": "stdout",
          "text": [
            "[0, 2, 3]\n"
          ]
        }
      ]
    },
    {
      "cell_type": "markdown",
      "source": [
        "# Section 3: Choose your own adventure 💼\n",
        "\n",
        "This section is a choose-your-own adventure for Python practice. Please choose **one** of these options:\n",
        "\n",
        "  * Option 1 is a _review_ of concepts similar to those that were on the first midterm. There are four problems to do there. If you feel that you would benefit from more review of those kinds of problems, this is a great option!\n",
        "  * Option 2 is a deeper dive that leads you to locate genes in a bacterial genome and discover 💡 what those genes might do!\n",
        "\n",
        "**The total number of lines of code that you'll write for these two parts is almost identical.** Option 2 is a bit more challenging and uses Python to discover genes. If you're feeling that the coding material from Midterm 1 is not quite solid yet, Option 1 can be a good choice. If you're feeling that the coding material on Midterm 1 was quite solid, we encourage you to work on Option 2."
      ],
      "metadata": {
        "id": "_dp1SisB_BtL"
      }
    },
    {
      "cell_type": "markdown",
      "source": [
        "## Option 1: Review of Concepts"
      ],
      "metadata": {
        "id": "TIhR-b9O3en0"
      }
    },
    {
      "cell_type": "markdown",
      "source": [
        "**Option 1, Part 1**\n",
        "\n",
        "Write a function called `replacePeriod(text, replacer)` that takes two strings as input, `text` and `replacer`. It **return**s a new string that is identical to `text` except that each occurrence of a period `.` is replaced by the string in `replacer`. For example...\n",
        "```python\n",
        "print(replacePeriod(\"I am Sam. Sam I am.\", \"!!!\"))\n",
        "```\n",
        "...will print...\n",
        "```python\n",
        "I am Sam!!! Sam I am!!!\n",
        "```\n",
        "Similarly...\n",
        "```python\n",
        "print(replacePeriod(\"Hello. Look. Bye.\", \":^)\"))\n",
        "```\n",
        "...will print...\n",
        "```python\n",
        "Hello:^) Look:^) Bye:^)\n",
        "```"
      ],
      "metadata": {
        "id": "VVqbro7Yp2F3"
      }
    },
    {
      "cell_type": "code",
      "source": [
        "# Option 1, Part 1\n",
        "\n",
        "# Write the contract here\n",
        "def replacePeriod(text, replacer):\n",
        "  # Write your code here.\n",
        "\n",
        "print(replacePeriod(text = \"I am Sam. Sam I am.\", replacer = \"!!!\"))\n",
        "print(replacePeriod(text = \"Hello. Look. Bye.\", replacer = \":^)\"))"
      ],
      "metadata": {
        "id": "5zACtWKR3jrj"
      },
      "execution_count": null,
      "outputs": []
    },
    {
      "cell_type": "markdown",
      "source": [
        "**Option 1, Part 2**\n",
        "\n",
        "In HW4, we saw that a  _palindrome_ is a string that is the same forwards as backwards, such as \"radar\", \"wow\", and \"elle\". It turns out that bacteria have certain regions of their DNA where the DNA is palindromic! (We'll see more about this in a few weeks when we talk about CRISPR.)\n",
        "\n",
        "We also saw how we could use a function that we wrote called `reverse` that takes a string as input and **return**s the reversal of that string, inorder to check whether a given string is a palindrome.\n",
        "\n",
        "Now, we look at palindromes in a DNA setting! Recall that, due to complementarity of the DNA bases (`A` pairs with `T` and `C` pairs with `G`), if we are given the DNA string on one strand, then we can determine the string on the complementary strand using the base pairing rule.\n",
        "\n",
        "Given a DNA string, its _reverse complement_ is obtained by first reversing the string and then identifying its complementary sequence (using the base pairing rule). For instance, the reverse complement of the DNA string `AACGC` is the string `GCGTT`. A DNA string is said to be a _DNA palindrome_ if this string is the same as its reverse complement. For instance, `AACGTT` is a DNA palindrome, while `AACGC` is not a DNA palindrome.\n",
        "\n",
        "Your job is to write two functions:\n",
        "* A function called `complement(DNAstring)` that takes a DNA string and returns the string on the complementary strand (in the same direction)\n",
        "\n",
        "* A function called `saveTheDNAPalindromes(listOfStrings)` that takes a list of DNA strings as input and returns all strings in this list that are DNA palindromes.\n",
        "For example...\n",
        "```python\n",
        "print(saveTheDNAPalindromes([\"AACGTT\", \"CCAA\", \"TATA\"]))\n",
        "```\n",
        "...will give us...\n",
        "```python\n",
        "['AACGTT', 'TATA']\n",
        "```"
      ],
      "metadata": {
        "id": "sczQea0vrHGe"
      }
    },
    {
      "cell_type": "code",
      "source": [
        "# Option 1, Part 2\n",
        "\n",
        "# This provided function takes a string as input and returns the reversal of that string\n",
        "def reverse(string):\n",
        "  return string[::-1]\n",
        "\n",
        "# Write the contract here\n",
        "def complement(DNAstring):\n",
        "  # Write your code here\n",
        "\n",
        "# Write the contract here\n",
        "def saveTheDNAPalindromes(listOfDNAStrings):\n",
        "  # Write your code here\n",
        "\n",
        "# Testing the code\n",
        "print(reverse(string = \"ACTG\"))\n",
        "print(complement(DNAstring = \"ACTG\"))\n",
        "print(saveTheDNAPalindromes(listOfDNAStrings = [\"AACGTT\", \"CCAA\", \"TATA\"]))\n"
      ],
      "metadata": {
        "id": "BMJaFvK-4BlX"
      },
      "execution_count": null,
      "outputs": []
    },
    {
      "cell_type": "markdown",
      "source": [
        "**Option 1, Part 3**\n",
        "\n",
        "This problem revisits the idea of helper and main functions.\n",
        "\n",
        "The `randomWalk` function simulates a SCI 10 professor performing a random walk that starts at 0 and at each iteration takes a step to the left (changes position by -1), stays at the same spot (doesn't change position), _or_ takes a step to the right (changes position by +1). This function returns the final location of the professor at the end of the `numSteps` steps.\n",
        "\n",
        "Your job is to write the `experiment(numTrials, timesteps)` function that performs `numTrials` of that experiment. After each trial, the ending location for that trial is added to a list that accumulates those ending values. That list of ending locations is then plotted by the provided code in lines 22-25. In addition to adding the necessary code in that function, you should also choose appropriate strings for the title, x-axis label, and y-axis label."
      ],
      "metadata": {
        "id": "qPPvDpmtsBv0"
      }
    },
    {
      "cell_type": "code",
      "source": [
        "# Option 1, Part 3\n",
        "import matplotlib.pyplot as plt\n",
        "import random\n",
        "\n",
        "# Provided code that performs one trial of a random walk for\n",
        "# the given number of timesteps. Returns the position of the walker\n",
        "# at the end of the trial.\n",
        "def randomWalk(numSteps):\n",
        "  position = 0\n",
        "  for i in range(numSteps):\n",
        "    direction = random.choice([-1, 0, 1])\n",
        "    position = position + direction\n",
        "  return position\n",
        "\n",
        "# Write the contract here\n",
        "def experiment(numTrials, timesteps):\n",
        "  # Write your code here\n",
        "  # The list that you build here should be called endingLocations since that is\n",
        "  # what is plotted.\n",
        "\n",
        "  plt.title(\"???\")      # Add an appropriate title for the graph\n",
        "  plt.xlabel(\"???\")     # Add an appropriate label for the x-axis\n",
        "  plt.ylabel(\"???\")     # Add an appropriate lavel for the y-axis\n",
        "  plt.hist(endingLocations)             # plot histogram of end locations\n",
        "\n",
        "experiment(numTrials = 1000, timesteps = 10)"
      ],
      "metadata": {
        "id": "QwdEfoaL4y3Q"
      },
      "execution_count": null,
      "outputs": []
    },
    {
      "cell_type": "markdown",
      "source": [
        "**Option 1, Part 4**\n",
        "\n",
        "This part has two functions that you'll need to write.\n",
        "\n",
        "  * The `punctuationScore(string)` function takes a string as input and returns a score for that string. If the string contains a `!`, the score of that string is 42 - no matter what other symbols are in that string or how many `!`'s there are. Otherwise, the score is equal to the total number of periods and question marks in the string (the number `.` and `?` symbols in the string).\n",
        "  * The `scoreWordList(listOfWords)` function takes a list of strings as input and **return**s a list of scores, one score for each corresponding word in the list `listOfWords`. This function should \"call\" the `punctuationScore` function for help!\n",
        "\n",
        "For example, when we run...\n",
        "```python\n",
        "print(punctuationScore(\"nothing here\"))\n",
        "print(punctuationScore(\"I am Sam. Am I Sam?\"))\n",
        "print(punctuationScore(\"omg!?!?!!!!\"))\n",
        "print(scoreWordList([\"nothing here\", \"I am Sam. Am I Sam?\", \"omg!?!?!!!!\", \"hello!?\"]))\n",
        "```\n",
        "... we should get...\n",
        "```python\n",
        "0\n",
        "2\n",
        "42\n",
        "[0, 2, 42, 42]\n",
        "```\n"
      ],
      "metadata": {
        "id": "Ks9FjizetyWj"
      }
    },
    {
      "cell_type": "code",
      "source": [
        "# Option 1, Part 4\n",
        "\n",
        "# Write the contract here\n",
        "def punctuationScore(string):\n",
        "  # Write your code here\n",
        "\n",
        "# Write the contract here\n",
        "def scoreWordList(listOfWords):\n",
        "  # Write your code here\n",
        "\n",
        "print(punctuationScore(string = \"nothing here\"))\n",
        "print(punctuationScore(string = \"I am Sam. Am I Sam?\"))\n",
        "print(punctuationScore(string = \"omg!?!?!!!!\"))\n",
        "print(scoreWordList(listOfWords = [\"nothing here\", \"I am Sam. Am I Sam?\", \"omg!?!?!!!!\", \"hello!?\"]))"
      ],
      "metadata": {
        "id": "jTj3E9IF6_Di"
      },
      "execution_count": null,
      "outputs": []
    },
    {
      "cell_type": "markdown",
      "source": [
        "**Option 1: Part 5**\n",
        "\n",
        "First, recall from your reading in Chapter 8 that you can get a section of a string, called a _slice_, using this notation:"
      ],
      "metadata": {
        "id": "QXrmqoQB0xAa"
      }
    },
    {
      "cell_type": "code",
      "source": [
        "myString = \"Hello earthlings!\"\n",
        "print(myString[0:3]) # the slice of the string from index 0 to index 2 (one before 3)\n",
        "print(myString[2:5]) # the slice of the string from index 2 to index 4 (one before 5)"
      ],
      "metadata": {
        "id": "nPbNo9Sz1N49"
      },
      "execution_count": null,
      "outputs": []
    },
    {
      "cell_type": "markdown",
      "source": [
        "It's very handy that you can never \"get hurt\" slicing! That, is, if you try to slice beyond the end of a string, Python will just give you as much as it can."
      ],
      "metadata": {
        "id": "DspPKBbrAaGt"
      }
    },
    {
      "cell_type": "code",
      "source": [
        "myString = \"nutella\"\n",
        "print(myString[3:100]) # 100 is way beyond that last index, but Python is fine with this."
      ],
      "metadata": {
        "id": "bzgHkiarAg97"
      },
      "execution_count": null,
      "outputs": []
    },
    {
      "cell_type": "markdown",
      "source": [
        "Your task is to write a function called `countStartCodons(DNAstring)` that takes a DNA string as input and **returns** the number of start codons (\"ATG\") in that string."
      ],
      "metadata": {
        "id": "X0wPEyNO8sd6"
      }
    },
    {
      "cell_type": "code",
      "source": [
        "# Write the contract here\n",
        "def countStartCodons(DNAstring):\n",
        "  # Write your code here\n",
        "\n",
        "# The code below will test your function\n",
        "\n",
        "test1 = \"AATGCCCATGA\"\n",
        "result1 = countStartCodons(DNAstring = test1) # Should be 2\n",
        "print(\"The number of start codons in test1 is\", result1)\n",
        "test2 = \"ATGAATGACCATGCCATGGATGA\"\n",
        "result2 = countStartCodons(DNAstring = test2) # Should be 5\n",
        "print(\"The number of start codons in test2 is\", result2)"
      ],
      "metadata": {
        "colab": {
          "base_uri": "https://localhost:8080/"
        },
        "id": "hRKFOxjw1fau",
        "outputId": "9f63fb25-12c3-4809-bcbd-0092a2ca573e"
      },
      "execution_count": null,
      "outputs": [
        {
          "output_type": "stream",
          "name": "stdout",
          "text": [
            "The number of start codons in test1 is 2\n",
            "The number of start codons in test2 is 5\n"
          ]
        }
      ]
    },
    {
      "cell_type": "markdown",
      "source": [
        "## Option 2: Gene 👖 Finding 🔍\n",
        "\n",
        "In this part, you'll write your own code for discovering genes in DNA! You'll then use your program to locate likely genes in _Salmonella typhimirium_, a bacterium that causes typhoid in mice and causes GI infections in humans.\n",
        "\n",
        "Once you've located the likely genes, you'll use the BLAST database from the National Center for Biotechnology Information to determine if those genes are similar to genes in other bacteria that have been studied. This can shed light 💡on the function of the genes that you found and may also indicate where those genes came from (e.g., horizontal gene transfer from another species).\n"
      ],
      "metadata": {
        "id": "Zx3L_qUJ9WbM"
      }
    },
    {
      "cell_type": "markdown",
      "source": [
        "### A quick aside on handy Python features\n",
        "\n",
        "There are two Python features that will be useful here.\n"
      ],
      "metadata": {
        "id": "-FAalg1qwBMM"
      }
    },
    {
      "cell_type": "markdown",
      "source": [
        "\n",
        "First, recall from your reading in Chapter 8 that you can get a section of a string, called a _slice_, using this notation:"
      ],
      "metadata": {
        "id": "Ij38pcPP-iOc"
      }
    },
    {
      "cell_type": "code",
      "source": [
        "myString = \"Hello earthlings!\"\n",
        "print(myString[0:3]) # the slice of the string from index 0 to index 2 (one before 3)\n",
        "print(myString[2:5]) # the slice of the string from index 2 to index 4 (one before 5)"
      ],
      "metadata": {
        "colab": {
          "base_uri": "https://localhost:8080/"
        },
        "id": "i4oCMaDDwFZJ",
        "outputId": "3d021657-9297-4729-e8aa-7f066f408a4b"
      },
      "execution_count": 27,
      "outputs": [
        {
          "output_type": "stream",
          "name": "stdout",
          "text": [
            "Hel\n",
            "llo\n"
          ]
        }
      ]
    },
    {
      "cell_type": "markdown",
      "source": [
        "It's very handy that you can never \"get hurt\" slicing! That, is, if you try to slice beyond the end of a string, Python will just give you as much as it can."
      ],
      "metadata": {
        "id": "8d2XYbuSwJp3"
      }
    },
    {
      "cell_type": "code",
      "source": [
        "myString = \"nutella\"\n",
        "print(myString[3:100]) # 100 is way beyond that last index, but Python is fine with this."
      ],
      "metadata": {
        "colab": {
          "base_uri": "https://localhost:8080/"
        },
        "id": "3sRlUcG2wKPC",
        "outputId": "b3524a0d-fc94-4df7-805f-eb83b1cf0e74"
      },
      "execution_count": 28,
      "outputs": [
        {
          "output_type": "stream",
          "name": "stdout",
          "text": [
            "ella\n"
          ]
        }
      ]
    },
    {
      "cell_type": "markdown",
      "source": [
        "Another useful feature is that the `range` function can be given 3 inputs, indicating the start, the end, and the step. Take a few moments to read through the examples below."
      ],
      "metadata": {
        "id": "jmEMIwX6wQFA"
      }
    },
    {
      "cell_type": "code",
      "source": [
        "print(list(range(3, 10, 2)))\n",
        "print(list(range(42, 100, 5)))"
      ],
      "metadata": {
        "colab": {
          "base_uri": "https://localhost:8080/"
        },
        "id": "1aYYsIP-wTZg",
        "outputId": "3e5f10b1-38d6-455a-8364-42fb229a1d67"
      },
      "execution_count": 29,
      "outputs": [
        {
          "output_type": "stream",
          "name": "stdout",
          "text": [
            "[3, 5, 7, 9]\n",
            "[42, 47, 52, 57, 62, 67, 72, 77, 82, 87, 92, 97]\n"
          ]
        }
      ]
    },
    {
      "cell_type": "code",
      "source": [
        "DNA = \"TAGAAACCCGGG\"\n",
        "print(list(range(0, len(DNA), 3)))"
      ],
      "metadata": {
        "colab": {
          "base_uri": "https://localhost:8080/"
        },
        "id": "eF5mkwu7wWtA",
        "outputId": "000b2e78-07fb-4fab-f036-b7cb2479cac9"
      },
      "execution_count": 30,
      "outputs": [
        {
          "output_type": "stream",
          "name": "stdout",
          "text": [
            "[0, 3, 6, 9]\n"
          ]
        }
      ]
    },
    {
      "cell_type": "code",
      "source": [
        "# Oh so useful for getting codons!\n",
        "for i in range(0, len(DNA), 3):\n",
        "  print(DNA[i:i+3])"
      ],
      "metadata": {
        "id": "pgSpsQzzwaTu",
        "colab": {
          "base_uri": "https://localhost:8080/"
        },
        "outputId": "e3360e60-f96f-4487-ee97-ce8fed7ded82"
      },
      "execution_count": 31,
      "outputs": [
        {
          "output_type": "stream",
          "name": "stdout",
          "text": [
            "TAG\n",
            "AAA\n",
            "CCC\n",
            "GGG\n"
          ]
        }
      ]
    },
    {
      "cell_type": "markdown",
      "source": [
        "### ORFs (they're not aliens!)\n",
        "\n",
        "Throughout this discussion, we'll refer to the concept of an _open reading frame (ORF)_. That's a sequence of DNA that (1) begins with a start codon (ATG), (2) has some number of codons that follow it (remember, each codon is a sequence of exactly three bases), (3) and ends with a stop codon (TAG, TAA, or TGA). (Note that we're looking at codons in DNA rather than in mRNA, so we're seeing T's rather than U's.)\n",
        "\n",
        "For example, consider this sequence with the indices written above. (The stacked 1 0 means 10, etc.)\n",
        "<pre>\n",
        "0 1 2 3 4 5 6 7 8 9 1 1 1 1 1\n",
        "                    0 1 2 3 4\n",
        "A T G A A T G A C T A A C C C\n",
        "</pre>\n",
        "Notice that this sequence begins with a start codon. There is a TGA beginning at index 1, which looks like a stop codon. But it is not \"in frame\" with the start codon because it is not a multiple of 3 bases past the start codon. That is, it's not aligned with the start codon that starts at index 0. Similarly, there is a TGA starting at index 5, but this too is not in frame with the ATG start codon at index 0. The \"in frame\" stop codon in this case is TAA which begins at index 9. So, the open reading frame (ORF) begins at index 0 and and ends at index 11 in this example.\n",
        "\n",
        "Perhaps surprisingly, not every ORF encodes a gene. In random sequences of bases, we may find ORFs by chance. _However_ ORFs that are particularly long are good candidates for genes. This leads us to one strategy for finding genes: Find ORFs that are longer than what you'd expect to find by chance. They are good candidates for being protein-coding genes! 🧬 👖"
      ],
      "metadata": {
        "id": "SaSssENSwe5L"
      }
    },
    {
      "cell_type": "markdown",
      "source": [
        "### Option 2, Part 1: `restOfORF`\n",
        "\n",
        "Recall that an open reading frame (ORF) is the stretch of a DNA sequence between a start codon (with the sequence ATG) and the next in frame stop codon (TAG, TAA, or TGA). Recall that by _in frame_ we mean that it is in a position that is a multiple of 3 bases away.\n",
        "\n",
        "Your first challenge is to write a function that finds the open reading frame given a sequence that begins with the start codon \"ATG\".\n",
        "\n",
        "In the code cell below, write a function called `restOfORF(DNA)` that takes as input a DNA sequence. It assumes that this DNA sequence begins with a start codon \"ATG\". It then finds the next in frame stop codon, and **returns** the ORF from the start to that stop codon. The sequence that is returned should include the start codon but **not** the stop codon. If there is no in frame stop codon, `restOfORF` should assume that the reading frame extends through the end of the sequence and simply return the entire sequence. (This is why we don't include the stop codon in the output.)\n",
        "\n",
        "To this end, you will need to determine if a particular codon is a stop codon. Imagine that you have a string named `codon` and you wish to test if it is a stop codon, that is one of \"TAG\", \"TAA\", or \"TGA\". You could do this:\n",
        "\n",
        "```python\n",
        "if codon == 'TAG' or codon == 'TAA' or codon == 'TGA':\n",
        "   blah, blah, blah\n",
        "```\n",
        "Or, better yet, you could use our handy friend `in` this way:\n",
        "```python\n",
        "if codon in ['TAG', 'TAA', 'TGA']:\n",
        "   blah, blah, blah\n",
        "```\n",
        "Here are some examples of `restOfORF`\n",
        "\n",
        "```python\n",
        "print(restOfORF(\"ATGTGAA\"))\n",
        "'ATG'\n",
        "print(restOfORF(\"ATGAGATAAG\"))\n",
        "'ATGAGA'\n",
        "print(restOfORF(\"ATGAGATAGG\"))\n",
        "'ATGAGA'\n",
        "print(restOfORF(\"ATGAGATAGGGGTAA\"))\n",
        "'ATGAGA'\n",
        "print(restOfORF(\"ATGAAATT\"))\n",
        "'ATGAAATT'\n",
        "```\n",
        "Note that in the last example there is no in frame stop codon, so we got back the whole string.\n",
        "\n",
        "This function will use our beloved accumulator pattern 🥪! _Our solution uses around 8 lines of code._\n"
      ],
      "metadata": {
        "id": "DqrGEjXawm9m"
      }
    },
    {
      "cell_type": "code",
      "source": [
        "# Code cell for the restOfORF function\n",
        "# Returns all codons until stop\n",
        "def restOfORF(DNA):\n",
        "  output = \"\"\n",
        "  for i in range(0,len(DNA), 3): # skip 3\n",
        "    codon = DNA[i:i+3]\n",
        "    if codon in ['TAG', 'TAA', 'TGA']:\n",
        "      return output\n",
        "    output += codon\n",
        "  return output\n",
        "\n",
        "print(restOfORF(DNA = \"ATGTGAA\"))         # should be ATG\n",
        "print(restOfORF(DNA = \"ATGAGATAAG\"))      # should be ATGAGA\n",
        "print(restOfORF(DNA = \"ATGAGATAGG\"))      # should be ATGAGA\n",
        "print(restOfORF(DNA = \"ATGAGATAGGGGTAA\")) # should be ATGAGA\n",
        "print(restOfORF(DNA = \"ATGAAATT\"))        # should be ATGAATT"
      ],
      "metadata": {
        "id": "TX8PhwxSwsID",
        "colab": {
          "base_uri": "https://localhost:8080/"
        },
        "outputId": "87314e0f-ad28-407f-c376-1a40ea3d2ee9"
      },
      "execution_count": 41,
      "outputs": [
        {
          "output_type": "stream",
          "name": "stdout",
          "text": [
            "ATG\n",
            "ATGAGA\n",
            "ATGAGA\n",
            "ATGAGA\n",
            "ATGAAATT\n"
          ]
        }
      ]
    },
    {
      "cell_type": "markdown",
      "source": [
        "### Option 2, Part 2: `oneFrame`\n",
        "\n",
        "Next, write a function called `oneFrame(DNA)` that takes a DNA string as input. It searches the string from left-to-right, beginning at index 0, in steps of three bases (codons!). When it encounters a start codon (\"ATG\"), **it calls `restOfORF`** on the slice of the string beginning at that codon to get back an ORF. That ORF is added to an `output` list. This is repeated until we've traversed the entire DNA string. In the end, we return the `output` list of all of the ORFs that were found.\n",
        "\n",
        "Consider this example sequence:\n",
        "<pre>\n",
        "0 1 2 3 4 5 6 7 8 9 1 1 1 1 1 1 1 1 1 1 2\n",
        "                    0 1 2 3 4 5 6 7 8 9 0\n",
        "A A T G C C A T G T G A A T G C C C T A A\n",
        "</pre>\n",
        "We start at index 0 and see `AAT`. The slice `DNA[0:3]` is not a start codon, so we move on to index 3 and the slice `DNA[3:6]` where we see `GCC`. That's also not a start codon, so we move ahead to index 6 where the next slice of length 3 is `ATG`, a start codon!\n",
        "\n",
        "Here's an example of this function in action. (Remember, we don't include the stop codon in the output.)\n",
        "\n",
        "```python\n",
        "print(oneFrame(\"AATGCCATGTGAATGCCCTAA\"))\n",
        "['ATG', 'ATGCCC']\n",
        "```\n",
        "Note that the first 'ATG' did not not get returned here. This is because that ATG starts at index 1, which not in the frame beginning at index 0 that `oneFrame` is searching. (Later, when we do gene finding, we will search those other frames by additional calls to `oneFrame` in the other two reading frames - one beginning at index 1 and one beginning at index 2).\n",
        "\n",
        "Here's another example of `oneFrame`:\n",
        "```python\n",
        "print(oneFrame(\"ATGCCCATGGGGAAATTTTGACCC\"))\n",
        "['ATGCCCATGGGGAAATTT', 'ATGGGGAAATTT']\n",
        "```\n",
        "\n",
        "_Our solution is around 6 lines of code._"
      ],
      "metadata": {
        "id": "qwPEw5Jmwtdv"
      }
    },
    {
      "cell_type": "code",
      "source": [
        "# Code cell for the oneFrame function\n",
        "# returns all codons until stop\n",
        "def oneFrame(DNA):\n",
        "  output = []\n",
        "  i = 0\n",
        "  while i < len(DNA) - 2:\n",
        "    codon = DNA[i:i+3]\n",
        "    if codon == 'ATG': # find start\n",
        "      output.append(restOfORF(DNA[i:]))\n",
        "    i += 3\n",
        "  return output\n",
        "\n",
        "print(oneFrame(DNA = \"AATGCCATGTGAATGCCCTAA\"))\n",
        "print(oneFrame(DNA = \"ATGCCCATGGGGAAATTTTGACCC\"))"
      ],
      "metadata": {
        "colab": {
          "base_uri": "https://localhost:8080/"
        },
        "id": "gvh4HiMWw3w3",
        "outputId": "ab99f652-2d09-45f1-f44c-ab3cc3c15760"
      },
      "execution_count": 44,
      "outputs": [
        {
          "output_type": "stream",
          "name": "stdout",
          "text": [
            "['ATG', 'ATGCCC']\n",
            "['ATGCCCATGGGGAAATTT', 'ATGGGGAAATTT']\n"
          ]
        }
      ]
    },
    {
      "cell_type": "markdown",
      "source": [
        "### Option 2, Part 3: `findORFsOneStrand`\n",
        "\n",
        "Our next step is to write a function `findORFsOneStrand(DNA)` that will identify all the ORFs in the DNA and return them as a list. If there are none, it should return an empty list.\n",
        "\n",
        "Once again, this task is made easier by making use of functions that we have already written. `findORFsOneStrand` should **call** `oneFrame` in each of the three possible reading frames of the sequence. It should then combine all of the ORFs found in each frame and **return** them. (You can use slicing here! Note that `DNA` is the first reading frame. `DNA[1:]` slices off the first base, so it's shifted to the next reading frame, etc.)\n",
        "\n",
        "```python\n",
        "print(findORFsOneStrand(\"ATGGGATGAATTAACCATGCCCTAA\"))\n",
        "['ATGGGA', 'ATGCCC', 'ATGAAT']\n",
        "print(findORFsOneStrand(\"GGAGTAAGGGGG\"))\n",
        "[]\n",
        "```\n",
        "\n",
        "_This function can be written in one line of code, but you might write as many as four lines of code._"
      ],
      "metadata": {
        "id": "co0vbl0vw-Sj"
      }
    },
    {
      "cell_type": "code",
      "source": [
        "# Write your findORFs(DNA) function here\n",
        "def findORFsOneStrand(DNA):\n",
        "  return oneFrame(DNA) + oneFrame(DNA[1:]) + oneFrame(DNA[2:])\n",
        "\n",
        "print(findORFsOneStrand(DNA = \"ATGGGATGAATTAACCATGCCCTAA\"))\n",
        "print(findORFsOneStrand(DNA = \"GGAGTAAGGGGG\"))"
      ],
      "metadata": {
        "colab": {
          "base_uri": "https://localhost:8080/"
        },
        "id": "j5W_Z1yyxDER",
        "outputId": "48745680-93d4-4c40-dc87-0ed99a01df33"
      },
      "execution_count": 45,
      "outputs": [
        {
          "output_type": "stream",
          "name": "stdout",
          "text": [
            "['ATGGGA', 'ATGCCC', 'ATGAAT']\n",
            "[]\n"
          ]
        }
      ]
    },
    {
      "cell_type": "markdown",
      "source": [
        "### Option 2, Part 4: `reverseComplement`\n",
        "\n",
        "Recall that DNA comes as a pair of strands. Each strand is read in 5' to 3' order. If the top strand is 5' to 3' from left-to-right then the complementary strand will be 5'-to-3' right to left.\n",
        "\n",
        "For example, here are complementary strands with their 5' to 3' orientations indicated.\n",
        "<pre>\n",
        "5' ATGCC 3'\n",
        "3' TACGG 5'\n",
        "</pre>\n",
        "\n",
        "For convenience, we will always represent DNA strings from 5' to 3' left-to-right. So, we would write the top strand in the example above as \"ATGCC\" and the bottom strand as \"GGCAT\".\n",
        "\n",
        "The `reverseComplement` function takes a DNA string in 5' to 3' order and returns its reverse complement in 5' to 3' order. Write the `reverseComplement` function below. _Our solution is around 5 lines of code._\n",
        "\n",
        "\n",
        "For convenience, here is a little syntax trick to reverse a string."
      ],
      "metadata": {
        "id": "KVcU6yDaxIIh"
      }
    },
    {
      "cell_type": "code",
      "source": [
        "myString = \"nutella\"\n",
        "newString = myString[::-1] # Strange syntax returns the reversal of the string!\n",
        "print(newString)"
      ],
      "metadata": {
        "id": "kUbyqRsRKhca",
        "colab": {
          "base_uri": "https://localhost:8080/"
        },
        "outputId": "e4d44c33-c113-48b1-89d5-833415c4839d"
      },
      "execution_count": 46,
      "outputs": [
        {
          "output_type": "stream",
          "name": "stdout",
          "text": [
            "alletun\n"
          ]
        }
      ]
    },
    {
      "cell_type": "code",
      "source": [
        "# This is provided - you wrote it before!\n",
        "def complement(base):\n",
        "  if base == \"A\":\n",
        "    return \"T\"\n",
        "  elif base == \"T\":\n",
        "    return \"A\"\n",
        "  elif base == \"C\":\n",
        "    return \"G\"\n",
        "  else:\n",
        "    return \"C\"\n",
        "\n",
        "# Returns the reversed complements of the DNA sequence\n",
        "def reverseComplement(DNA):\n",
        "  DNAr = DNA[::-1]\n",
        "  output = \"\"\n",
        "  for i in DNAr:\n",
        "    output += complement(i)\n",
        "  return output\n",
        "\n",
        "\n",
        "print(reverseComplement(DNA = \"ATGCC\")) # Should be GGCAT"
      ],
      "metadata": {
        "colab": {
          "base_uri": "https://localhost:8080/"
        },
        "id": "QBR6uN8kxSEu",
        "outputId": "b7abc05f-765a-4867-a081-8c47c250200b"
      },
      "execution_count": 49,
      "outputs": [
        {
          "output_type": "stream",
          "name": "stdout",
          "text": [
            "GGCAT\n"
          ]
        }
      ]
    },
    {
      "cell_type": "markdown",
      "source": [
        "### Option 2, Part 5: `findORFsBothStrands`\n",
        "\n",
        "Next write a function called `findORFsBothStrands(DNA)` that searches both the forward and reverse complement strands for ORFs and returns a list with all the ORFs found.\n",
        "\n",
        "For example:\n",
        "```python\n",
        "print(findORFsBothStrands('ATGAAACAT'))\n",
        "['ATGAAACAT', 'ATGTTTCAT']\n",
        "```\n",
        "\n",
        "_This function can be done in 1-3 lines of code._ We will call `findORFOneStrand` on the forward strand and again on the reverse complement."
      ],
      "metadata": {
        "id": "qpBwdOgpK7Z8"
      }
    },
    {
      "cell_type": "code",
      "source": [
        "# Write your findORFsBothStrands(DNA) function here\n",
        "def findORFsBothStrands(DNA):\n",
        "  return findORFsOneStrand(DNA) + findORFsOneStrand(reverseComplement(DNA))\n",
        "\n",
        "print(findORFsBothStrands(DNA = 'ATGAAACAT'))"
      ],
      "metadata": {
        "colab": {
          "base_uri": "https://localhost:8080/"
        },
        "id": "sGUe-Y3Yxov2",
        "outputId": "d6da551c-0360-463c-cafe-695b28c6da22"
      },
      "execution_count": 51,
      "outputs": [
        {
          "output_type": "stream",
          "name": "stdout",
          "text": [
            "['ATGAAACAT', 'ATGTTTCAT']\n"
          ]
        }
      ]
    },
    {
      "cell_type": "markdown",
      "source": [
        "### Option 2, Part 6: Locating likely genes\n",
        "\n",
        "We're now at our main function, the `geneFinder`! Our `geneFinder(DNA, threshold)` function takes as input a DNA sequence and a number called `threshold` and returns the list of all ORFs in the DNA (on both forward and reverse complement strands) whose length is at least the `threshold` value.\n",
        "\n",
        "_Our solution is around 6 lines of code._"
      ],
      "metadata": {
        "id": "Wu7Atji2xr9F"
      }
    },
    {
      "cell_type": "code",
      "source": [
        "# Contract goes here\n",
        "def geneFinder(DNA, threshold):\n",
        "  output = []\n",
        "  orfs = findORFsBothStrands(DNA)\n",
        "  for i in orfs:\n",
        "    if len(i) >= threshold:\n",
        "      output.append(i)\n",
        "  return output\n",
        "\n",
        "print(geneFinder(DNA = \"ATGAAACAT\", threshold = 9) ) # Should be ['ATGAAACAT', 'ATGTTTCAT']\n",
        "print(geneFinder(DNA = \"ATGTAATTACCCGGGCCCCAT\", threshold = 12)) # Should be ['ATGGGGCCCGGG']"
      ],
      "metadata": {
        "id": "4myP6P9vxvYG",
        "colab": {
          "base_uri": "https://localhost:8080/"
        },
        "outputId": "13601f65-f6e9-4795-eb1f-6ee835b62323"
      },
      "execution_count": 55,
      "outputs": [
        {
          "output_type": "stream",
          "name": "stdout",
          "text": [
            "['ATGAAACAT', 'ATGTTTCAT']\n",
            "['ATGGGGCCCGGG']\n"
          ]
        }
      ]
    },
    {
      "cell_type": "markdown",
      "source": [
        "### Real data!\n",
        "\n",
        "The code frame below defines a variable called `X73525` which contains one strand of part of the _Salmonella typhimirium_ genome. Run it. Then, continue on to test your `geneFinder` on this data below."
      ],
      "metadata": {
        "id": "gycR_rL7x6LB"
      }
    },
    {
      "cell_type": "code",
      "source": [
        "X73525 = \"GGATCCGACAGGGAAAATCGTTGAGCGTTTTACCCCTGAAGTGGCGCCGATTAGCGAAGAACGCGTTATTGATGTCGCACCGCCGTCTTACGCTTCACGCGTTGGCGTCCGTGAACCGCTGATTACCGGTGTGCGCGCGATTGACGGGTTATTGACCTGTGGCGTAGGCCAGCGAATGGGCATTTTTGCCTCCGCAGGATGCGGTAAGACCATGCTGATGCATATGCTGATCGAGCAAACGGAGGCGGATGTCTTTGTTATCGGTCTTATCGGTGAACGAGGCCGTGAGGTCACTGAATTCGTGGATATGTTGCGCGCTTCGCATAAGAAAGAAAAATGCGTGCTGGTTTTTGCCACTTCCGATTTCCCCTCGGTCGATCGCTGCAATGCGGCGCAACTGGCGACAACCGTAGCGGAATATTTTCGCGACCAGGGAAAACGGGTCGTGCTTTTTATCGATTCCATGACCCGTTATGCGCGTGCTTTGCGAGACGTGGCACTGGCGTCGGGAGAGCGTCCGGCTCGTCGAGGTTATCCCGCCTCCGTATTCGATAATTTGCCCCGCTTGCTGGAACGCCCAGGGGCGACCAGCGAGGGAAGCATTACTGCCTTTTATACGGTACTGCTGGAAAGCGAGGAAGAGGCGGACCCGATGGCGGATGAAATTCGCTCTATCCTTGACGGTCACCTGTATCTGAGCAGAAAGCTGGCCGGGCAGGGACATTACCCGGCAATCGATGTACTGAAAAGCGTAAGCCGCGTTTTTGGACAAGTCACGACGCCGACACATGCTGAACAGGCATCTGCCGTGCGTAAATTAATGACGCGTTTGGAAGAGCTCCAGCTTTTCATTGACTTGGGAGAATATCGTCCTGGCGAAAATATCGATAACGATCGGGCGATGCAGATGCGGGATAGCCTGAAAGCCTGGTTATGCCAGCCGGTAGCGCAGTATTCATCCTTTGATGACACGTTGAGCGGTATGAATGCATTCGCTGACCAGAATTAAAGTATTGCAGCGGCGCTGTACGGTATTTCATTCACAGTGTGAGTCGATATTACTTCGCTATCAGGATGAGGACCGCGGGCTGCAGGCCGAGGAGGAGGCGATCCTTGAACAAATAGCGGGTCTGAAATTGTTATTAGATACGCTGCGTGCAGAAAACAGACAGCTCAGTCGTGAGGAAATTTATACGTTATTACGTAAGCAGTCTATTGTTCGCCGGCAGATAAAAGATTTAGAACTCCAGATTATACAAATTCAGGAAAAACGGAGCGAGCTGGAAAAGAAAAGGGAAGAGTTTCAGAAAAAAAGTAAATATTGGTTGCGCAAAGAAGGGAACTATCAACGCTGGATAATCCGTCAGAAAAGATTCTATATCCAGCGAGAGATACAGCAGGAAGAGGCCGAGTCAGAGGAGATAATTTAATGGGCGATGTGTCAGCTGTCAGTTCATCCGGGAACATTTTACTGCCGCAGCAGGATGAGGTTGGCGGTTTATCAGAAGCATTAAAAAAAGCGGTGGAAAAACATAAGACAGAATATTCCGGTGATAAAAAAGATCGCGACTATGGCGATGCTTTCGTAATGCATAAAGAAACGGCTTTACCGTTATTACTGGCGGCATGGCGACATGGCGCGCCAGCGAAATCAGAACATCACAATGGCAACGTTTCTGGTCTGCATCATAACGGAAAAAGCGAACTCAGGATTGCTGAAAAACTGTTGAAAGTCACTGCTGAAAAATCTGTCGGTTTGATCTCTGCGGAGGCCAAAGTAGATAAATCCGCAGCGTTGCTATCGTCTAAAAATAGGCCGTTAGAAAGCGTAAGCGGTAAAAAATTATCTGCTGATTTAAAAGCTGTGGAATCCGTTAGTGAAGTAACCGATAACGCCACGGGAATCTCTGACGATAATATCAAGGCATTGCCTGGGGATAATAAAGCCATCGCGGGCGAAGGCGTTCGTAAAGAGGGCGCGCCGCTGGCGCGGGATGTCGCACCTGCCCGAATGGCCGCAGCCAATACCGGTAAGCCTGAAGATAAAGATCATAAAAAGGTTAAAGATGTTTCTCAGCTTCCGCTGCAACCAACCACTATCGCCGATCTTAGCCAATTAACCGGCGGCGATGAAAAAATGCCTTTAGCGGCGCAATCAAAGCCGATGATGACTATTTTTCCCACTGCCGATGGCGTGAAAGGAGAGGATAGCTCGCTGACTTACCGTTTTCAGCGCTGGGGAAATGACTATTCCGTCAATATTCAGGCGCGGCAAGCAGGGGAGTTTTCGTTAATACCGTCAAATACGCAGGTTGAACATCGTTTGCATGATCAATGGCAAAACGGTAATCCCCAGCGCTGGCACCTGACGCGAGACGATCAACAAAATCCGCAGCAGCAACAGCACAGACAGCAATCTGGCGAGGAGGATGACGCCTGATGTCATTGCGTGTGAGACAGATTGATCGTCGCGAATGGCTATTGGCGCAAACCGCGACAGAATGCCAGCGCCATGGCCGGGAAGCGACGCTGGAATATCCGACGCGACAGGGAATGTGGGTTCGGTTGAGCGATGCAGAAAAACGGTGGTCGGCCTGGATTAAACCTGGGGACTGGCTTGAGCATGTCTCTCCCGCTCTGGCTGGGGCGGCGGTTTCTGCTGGCGCTGAGCACCTGGTCGTTCCCTGGCTTGCTGCAACAGAGCGACCGTTTGAGTTGCCCGTGCCGCATTTGTCCTGTCGGCGTTTATGCGTAGAGAACCCCGTACCGGGAAGCGCGCTGCCGGAAGGGAAATTGTTGCACATTATGAGCGATCGGGGCGGCCTGTGGTTTGAGCATCTTCCTGAACTGCCTGCAGTCGGGGGCGGCAGGCCGAAAATGCTGCGTTGGCCGTTGCGCTTTGTAATCGGTAGCAGTGATACGCAGCGTTCGTTGCTGGGCCGAATCGGGATCGGAGATGTACTCCTGATTCGTACTTCCCGTGCGGAAGTTTATTGCTACGCGAAAAAGTTAGGTCATTTCAACCGTGTTGAAGGGGGAATTATTGTGGAAACGTTAGATATTCAACATATCGAAGAAGAAAATAATACAACTGAAACTGCAGAAACTCTGCCTGGCTTGAATCAATTGCCCGTCAAACTGGAATTTGTTTTGTATCGTAAGAACGTTACCCTCGCCGAACTCGAAGCCATGGGGCAGCAACAGCTATTATCACTGCCGACCAATGCTGAACTTAACGTTGAAATTATGGCGAATGGTGTTTTGCTGGGTAATGGCGAACTGGTACAGATGAATGACACCTTAGGCGTTGAGATCCATGAATGGCTGAGCGAGTCTGGTAATGGGGAATGATATCTCATTAATTGCCTTACTGGCATTTTCCACCCTGTTGCCATTTATTATTGCGTCAGGAACCTGTTTCGTTAAATTTTCTATTGTATTTGTCATGGTGCGTAACGCCCTGGGATTACAGCAGATACCTTCAAATATGACGCTTAACGGCGTCGCATTGCTGCTTTCTATGTTTGTTATGTGGCCCATAATGCATGATGCCTACGTCTATTTTGAGGACGAAGATGTCACCTTTAATGATATTTCATCATTAAGTAAACACGTTGATGAAGGTCTGGATGGTTATCGCGATTATCTGATCAAATATTCAGATCGCGAGTTAGTTCAGTTTTTTGAAAACGCGCAACTGAAGCGTCAGTATGGAGAAGAGACCGAGACGGTAAAGCGTGACAAAGATGAAATTGAAAAACCTTCAATATTTGCGTTATTACCTGCTTATGCGCTGAGCGAAATAAAAAGCGCGTTTAAAATTGGTTTTTATCTTTATTTGCCCTTTGTCGTCGTCGACCTGGTGGTATCCAGCGTGCTACTGGCGCTGGGGATGATGATGATGAGTCCGGTGACGATATCTACACCTATTAAGCTGGTGCTTTTTGTCGCGCTTGATGGCTGGACCTTACTGTCTAAGGGATTGATATTACAGTATATGGACATTGCAACATGACATCATTACGAGACGGGATAGTTAAATGGATGATTTAGTGTTTGCAGGTAATAAGGCGCTCTATCTTGTTTTGATCCTGTCAGGGTGGCCGACGATTGTCGCAACGATTATCGGCCTCCTGGTAGGGTTATTCCAGACGGTAACGCAATTACAGGAACAGACGCTGCCTTTTGGCATTAAATTACTTGGCGTGTGTTTATGCTTGTTTTTACTGTCTGGCTGGTATGGCGAAGTTTTACTCTCTTACGGGCGTCAGGTGATATTCCTGGCGTTGGCTAAGGGGTAAAAAATGTTTTACGCGTTGTACTTTGAAATTCATCACCTGGTTGCGTCTGCGGCGCTAGGGTTTGCTCGCGTGGCGCCGATTTTTTTCTTCCTGCCGTTTTTGAATAGCGGGGTATTAAGCGGTGCGCCGAGAAACGCCATTATCATCCTGGTGGCATTGGGAGTATGGCCGCATGCATTGAACGAGGCGCCGCCGTTTTTATCGGTGGCGATGATCCCGTTAGTTCTGCAAGAAGCGGCGGTAGGCGTCATGCTGGGCTGTCTGCTGTCATGGCCTTTTTGGGTTATGCATGCGCTGGGTTGTATTATCGATAACCAGCGAGGGGCAACGCTAAGTAGTAGTATCGATCCGGCAAACGGTATTGATACCTCGGAAATGGCTAATTTCCTGAATATGTTTGCCGCTGTCGTTTATTTACAAAACGGCGGTCTGGTCACGATGGTTGACGTGTTAAATAAAAGCTATCAGCTATGCGATCCGATGAACGAGTGCACGCCTTCATTACCGCCGCTATTAACGTTTATTAATCAGGTGGCTCAAAACGCCTTGGTTCTGGCCAGTCCGGTGGTATTAGTGCTGTTGCTGTCAGAAGTATTCCTGGGTTTATTGTCGCGCTTTGCTCCGCAAATGAACGCTTTTGCGATTTCACTGACGGTAAAAAGCGGTATTGCCGTTTTAATTATGCTGCTTTATTTCTCTCCGGTACTACCGGACAATGTACTGCGACTCTCTTTCCAGGCCACAGGGTTAAGCAGTTGGTTTTACGAGCGAGGGGCGACGCATGTCCTCGAATAAAACAGAAAAACCGACTAAAAAACGGCTGGAAGACTCCGCTAAAAAAGGCCAGTCATTTAAAAGTAAAGATCTCATTATCGCCTGCCTGACGCTGGGAGGAATTGCCTATCTGGTGTCGTATGGCTCATTTAATGAGTTTATGGGGATAATTAAGATCATTATTGCGGATAATTTTGATCAGAGCATGGCTGACTACAGTTTGGCCGTTTTTGGGATAGGGTTAAAATATCTGATTCCATTTATGCTGCTCTGCTTAGTGTGTTCCGCATTACCGGCGTTATTACAGGCCGGTTTTGTGCTGGCGACAGAAGCATTAAAGCCTAATTTATCGGCGTTAAACCCGGTAGAAGGGGCAAAAAAACTTTTTAGTATGCGCACGGTTAAAGATACGGTCAAAACCCTACTGTATCTCTCATCCTTTGTGGTGGCCGCCATCATTTGCTGGAAGAAATATAAGGTTGAAATCTTTTCTCAGCTAAATGGCAATATTGTAGGTATTGCCGTCATTTGGCGTGAACTTCTCCTCGCATTGGTATTAACTTGCCTTGCTTGCGCATTGATTGTCTTATTATTGGATGCTATTGCGGAATATTTCCTGACCATGAAAGATATGAAAATGGATAAGGAAGAAGTGAAGCGTGAAATGAAGGAGCAGGAAGGGAACCCAGAGGTTAAATCTAAAAGACGTGAAGTTCATATGGAAATTCTGTCTGAACAGGTGAAATCTGATATTGAAAACTCACGCCTGATTGTTGCCAACCCCACGCATATTACGATCGGGATTTATTTTAAACCCGAATTGATGCCGATTCCGATGATCTCGGTGTATGAAACGAATCAGCGCGCACTGGCCGTCCGCGCCTATGCGGAGAAGGTTGGCGTACCTGTGATCGTCGATATCAAACTGGCGCGCAGTCTTTTCAAAACCCATCGCCGTTATGATCTGGTGAGTCTGGAAGAAATTGATGAAGTTTTACGTCTTCTGGTTTGGCTGGAAGAGGTAGAAAACGCGGGCAAAGACGTTATTCAGCCACAAGAAAACGAGGTACGGCATTGAGCCGCGTAAGGCAGTAGCGATGTATTCATTGGGCGTTTTTTGAATGTTCACTAACCACCGTCGGGGTTTAATAACTGCATCAGATAAACGCAGTCGTTAAGTTCTACAAAGTCGGTGACAGATAACAGGAGTAAGTAATGGATTATCAAAATAATGTCAGCGAAGAACGTGTTGCGGAAATGATTTGGGATGCCGTTAGTGAAGGCGCCACGCTAAAAGACGTTCATGGGATCC\""
      ],
      "metadata": {
        "id": "8YBVq1KRx96l"
      },
      "execution_count": 56,
      "outputs": []
    },
    {
      "cell_type": "markdown",
      "source": [
        "This a pretty long DNA sequence. Check how long it is!"
      ],
      "metadata": {
        "id": "dN6uWB_gyDR1"
      }
    },
    {
      "cell_type": "code",
      "source": [
        "print(len(X73525))"
      ],
      "metadata": {
        "id": "WiFeASmvyEbA",
        "colab": {
          "base_uri": "https://localhost:8080/"
        },
        "outputId": "0cdb2558-ee15-482d-844c-869ebd101b23"
      },
      "execution_count": 57,
      "outputs": [
        {
          "output_type": "stream",
          "name": "stdout",
          "text": [
            "6387\n"
          ]
        }
      ]
    },
    {
      "cell_type": "markdown",
      "source": [
        "### Option 2, Part 7: Testing your `geneFinder` on the _Salmonella typhimirium_ X73535 sequence\n",
        "\n",
        "Now, in the code cell below, run your `geneFinder` on the `X73525` sequence with different threshold lengths. When the `threshold` is 100, you'll probably find many ORFs. As it gets longer (try a number of different `threshold` values), you'll find fewer ORFs."
      ],
      "metadata": {
        "id": "f6gbKbxKyMGJ"
      }
    },
    {
      "cell_type": "code",
      "source": [
        "# test1\n",
        "length = 100\n",
        "test = geneFinder(DNA = X73525, threshold = length)\n",
        "print(\"The number of ORFs found of length\", length, \"or more is\", len(test))\n",
        "print(test)\n",
        "\n",
        "print()\n",
        "print()\n",
        "print(\"NOW USING A FOR LOOP...\")\n",
        "\n",
        "lengthList = [100,300,500,700,900,1100]\n",
        "for length in lengthList:\n",
        "  test = geneFinder(DNA = X73525, threshold = length)\n",
        "  print(\"The number of ORFs found of length\", length, \"or more is\", len(test))"
      ],
      "metadata": {
        "id": "QO-49mVVyPV_",
        "colab": {
          "base_uri": "https://localhost:8080/"
        },
        "outputId": "2688d1d4-7b45-4f13-82eb-a8eacbfd145e"
      },
      "execution_count": 58,
      "outputs": [
        {
          "output_type": "stream",
          "name": "stdout",
          "text": [
            "The number of ORFs found of length 100 or more is 96\n",
            "['ATGCGTGCTGGTTTTTGCCACTTCCGATTTCCCCTCGGTCGATCGCTGCAATGCGGCGCAACTGGCGACAACCGTAGCGGAATATTTTCGCGACCAGGGAAAACGGGTCGTGCTTTTTATCGATTCCATGACCCGTTATGCGCGTGCTTTGCGAGACGTGGCACTGGCGTCGGGAGAGCGTCCGGCTCGTCGAGGTTATCCCGCCTCCGTATTCGA', 'ATGTCATTGCGTGTGAGACAGATTGATCGTCGCGAATGGCTATTGGCGCAAACCGCGACAGAATGCCAGCGCCATGGCCGGGAAGCGACGCTGGAATATCCGACGCGACAGGGAATGTGGGTTCGGTTGAGCGATGCAGAAAAACGGTGGTCGGCCTGGATTAAACCTGGGGACTGGCTTGAGCATGTCTCTCCCGCTCTGGCTGGGGCGGCGGTTTCTGCTGGCGCTGAGCACCTGGTCGTTCCCTGGCTTGCTGCAACAGAGCGACCGTTTGAGTTGCCCGTGCCGCATTTGTCCTGTCGGCGTTTATGCGTAGAGAACCCCGTACCGGGAAGCGCGCTGCCGGAAGGGAAATTGTTGCACATTATGAGCGATCGGGGCGGCCTGTGGTTTGAGCATCTTCCTGAACTGCCTGCAGTCGGGGGCGGCAGGCCGAAAATGCTGCGTTGGCCGTTGCGCTTTGTAATCGGTAGCAGTGATACGCAGCGTTCGTTGCTGGGCCGAATCGGGATCGGAGATGTACTCCTGATTCGTACTTCCCGTGCGGAAGTTTATTGCTACGCGAAAAAGTTAGGTCATTTCAACCGTGTTGAAGGGGGAATTATTGTGGAAACGTTAGATATTCAACATATCGAAGAAGAAAATAATACAACTGAAACTGCAGAAACTCTGCCTGGCTTGAATCAATTGCCCGTCAAACTGGAATTTGTTTTGTATCGTAAGAACGTTACCCTCGCCGAACTCGAAGCCATGGGGCAGCAACAGCTATTATCACTGCCGACCAATGCTGAACTTAACGTTGAAATTATGGCGAATGGTGTTTTGCTGGGTAATGGCGAACTGGTACAGATGAATGACACCTTAGGCGTTGAGATCCATGAATGGCTGAGCGAGTCTGGTAATGGGGAA', 'ATGTGGGTTCGGTTGAGCGATGCAGAAAAACGGTGGTCGGCCTGGATTAAACCTGGGGACTGGCTTGAGCATGTCTCTCCCGCTCTGGCTGGGGCGGCGGTTTCTGCTGGCGCTGAGCACCTGGTCGTTCCCTGGCTTGCTGCAACAGAGCGACCGTTTGAGTTGCCCGTGCCGCATTTGTCCTGTCGGCGTTTATGCGTAGAGAACCCCGTACCGGGAAGCGCGCTGCCGGAAGGGAAATTGTTGCACATTATGAGCGATCGGGGCGGCCTGTGGTTTGAGCATCTTCCTGAACTGCCTGCAGTCGGGGGCGGCAGGCCGAAAATGCTGCGTTGGCCGTTGCGCTTTGTAATCGGTAGCAGTGATACGCAGCGTTCGTTGCTGGGCCGAATCGGGATCGGAGATGTACTCCTGATTCGTACTTCCCGTGCGGAAGTTTATTGCTACGCGAAAAAGTTAGGTCATTTCAACCGTGTTGAAGGGGGAATTATTGTGGAAACGTTAGATATTCAACATATCGAAGAAGAAAATAATACAACTGAAACTGCAGAAACTCTGCCTGGCTTGAATCAATTGCCCGTCAAACTGGAATTTGTTTTGTATCGTAAGAACGTTACCCTCGCCGAACTCGAAGCCATGGGGCAGCAACAGCTATTATCACTGCCGACCAATGCTGAACTTAACGTTGAAATTATGGCGAATGGTGTTTTGCTGGGTAATGGCGAACTGGTACAGATGAATGACACCTTAGGCGTTGAGATCCATGAATGGCTGAGCGAGTCTGGTAATGGGGAA', 'ATGAGCGATCGGGGCGGCCTGTGGTTTGAGCATCTTCCTGAACTGCCTGCAGTCGGGGGCGGCAGGCCGAAAATGCTGCGTTGGCCGTTGCGCTTTGTAATCGGTAGCAGTGATACGCAGCGTTCGTTGCTGGGCCGAATCGGGATCGGAGATGTACTCCTGATTCGTACTTCCCGTGCGGAAGTTTATTGCTACGCGAAAAAGTTAGGTCATTTCAACCGTGTTGAAGGGGGAATTATTGTGGAAACGTTAGATATTCAACATATCGAAGAAGAAAATAATACAACTGAAACTGCAGAAACTCTGCCTGGCTTGAATCAATTGCCCGTCAAACTGGAATTTGTTTTGTATCGTAAGAACGTTACCCTCGCCGAACTCGAAGCCATGGGGCAGCAACAGCTATTATCACTGCCGACCAATGCTGAACTTAACGTTGAAATTATGGCGAATGGTGTTTTGCTGGGTAATGGCGAACTGGTACAGATGAATGACACCTTAGGCGTTGAGATCCATGAATGGCTGAGCGAGTCTGGTAATGGGGAA', 'ATGCTGCGTTGGCCGTTGCGCTTTGTAATCGGTAGCAGTGATACGCAGCGTTCGTTGCTGGGCCGAATCGGGATCGGAGATGTACTCCTGATTCGTACTTCCCGTGCGGAAGTTTATTGCTACGCGAAAAAGTTAGGTCATTTCAACCGTGTTGAAGGGGGAATTATTGTGGAAACGTTAGATATTCAACATATCGAAGAAGAAAATAATACAACTGAAACTGCAGAAACTCTGCCTGGCTTGAATCAATTGCCCGTCAAACTGGAATTTGTTTTGTATCGTAAGAACGTTACCCTCGCCGAACTCGAAGCCATGGGGCAGCAACAGCTATTATCACTGCCGACCAATGCTGAACTTAACGTTGAAATTATGGCGAATGGTGTTTTGCTGGGTAATGGCGAACTGGTACAGATGAATGACACCTTAGGCGTTGAGATCCATGAATGGCTGAGCGAGTCTGGTAATGGGGAA', 'ATGGGGCAGCAACAGCTATTATCACTGCCGACCAATGCTGAACTTAACGTTGAAATTATGGCGAATGGTGTTTTGCTGGGTAATGGCGAACTGGTACAGATGAATGACACCTTAGGCGTTGAGATCCATGAATGGCTGAGCGAGTCTGGTAATGGGGAA', 'ATGGCGAATGGTGTTTTGCTGGGTAATGGCGAACTGGTACAGATGAATGACACCTTAGGCGTTGAGATCCATGAATGGCTGAGCGAGTCTGGTAATGGGGAA', 'ATGTCCTCGAATAAAACAGAAAAACCGACTAAAAAACGGCTGGAAGACTCCGCTAAAAAAGGCCAGTCATTTAAAAGTAAAGATCTCATTATCGCCTGCCTGACGCTGGGAGGAATTGCCTATCTGGTGTCGTATGGCTCATTTAATGAGTTTATGGGGATAATTAAGATCATTATTGCGGATAATTTTGATCAGAGCATGGCTGACTACAGTTTGGCCGTTTTTGGGATAGGGTTAAAATATCTGATTCCATTTATGCTGCTCTGCTTAGTGTGTTCCGCATTACCGGCGTTATTACAGGCCGGTTTTGTGCTGGCGACAGAAGCATTAAAGCCTAATTTATCGGCGTTAAACCCGGTAGAAGGGGCAAAAAAACTTTTTAGTATGCGCACGGTTAAAGATACGGTCAAAACCCTACTGTATCTCTCATCCTTTGTGGTGGCCGCCATCATTTGCTGGAAGAAATATAAGGTTGAAATCTTTTCTCAGCTAAATGGCAATATTGTAGGTATTGCCGTCATTTGGCGTGAACTTCTCCTCGCATTGGTATTAACTTGCCTTGCTTGCGCATTGATTGTCTTATTATTGGATGCTATTGCGGAATATTTCCTGACCATGAAAGATATGAAAATGGATAAGGAAGAAGTGAAGCGTGAAATGAAGGAGCAGGAAGGGAACCCAGAGGTTAAATCTAAAAGACGTGAAGTTCATATGGAAATTCTGTCTGAACAGGTGAAATCTGATATTGAAAACTCACGCCTGATTGTTGCCAACCCCACGCATATTACGATCGGGATTTATTTTAAACCCGAATTGATGCCGATTCCGATGATCTCGGTGTATGAAACGAATCAGCGCGCACTGGCCGTCCGCGCCTATGCGGAGAAGGTTGGCGTACCTGTGATCGTCGATATCAAACTGGCGCGCAGTCTTTTCAAAACCCATCGCCGTTATGATCTGGTGAGTCTGGAAGAAATTGATGAAGTTTTACGTCTTCTGGTTTGGCTGGAAGAGGTAGAAAACGCGGGCAAAGACGTTATTCAGCCACAAGAAAACGAGGTACGGCAT', 'ATGGGGATAATTAAGATCATTATTGCGGATAATTTTGATCAGAGCATGGCTGACTACAGTTTGGCCGTTTTTGGGATAGGGTTAAAATATCTGATTCCATTTATGCTGCTCTGCTTAGTGTGTTCCGCATTACCGGCGTTATTACAGGCCGGTTTTGTGCTGGCGACAGAAGCATTAAAGCCTAATTTATCGGCGTTAAACCCGGTAGAAGGGGCAAAAAAACTTTTTAGTATGCGCACGGTTAAAGATACGGTCAAAACCCTACTGTATCTCTCATCCTTTGTGGTGGCCGCCATCATTTGCTGGAAGAAATATAAGGTTGAAATCTTTTCTCAGCTAAATGGCAATATTGTAGGTATTGCCGTCATTTGGCGTGAACTTCTCCTCGCATTGGTATTAACTTGCCTTGCTTGCGCATTGATTGTCTTATTATTGGATGCTATTGCGGAATATTTCCTGACCATGAAAGATATGAAAATGGATAAGGAAGAAGTGAAGCGTGAAATGAAGGAGCAGGAAGGGAACCCAGAGGTTAAATCTAAAAGACGTGAAGTTCATATGGAAATTCTGTCTGAACAGGTGAAATCTGATATTGAAAACTCACGCCTGATTGTTGCCAACCCCACGCATATTACGATCGGGATTTATTTTAAACCCGAATTGATGCCGATTCCGATGATCTCGGTGTATGAAACGAATCAGCGCGCACTGGCCGTCCGCGCCTATGCGGAGAAGGTTGGCGTACCTGTGATCGTCGATATCAAACTGGCGCGCAGTCTTTTCAAAACCCATCGCCGTTATGATCTGGTGAGTCTGGAAGAAATTGATGAAGTTTTACGTCTTCTGGTTTGGCTGGAAGAGGTAGAAAACGCGGGCAAAGACGTTATTCAGCCACAAGAAAACGAGGTACGGCAT', 'ATGGCTGACTACAGTTTGGCCGTTTTTGGGATAGGGTTAAAATATCTGATTCCATTTATGCTGCTCTGCTTAGTGTGTTCCGCATTACCGGCGTTATTACAGGCCGGTTTTGTGCTGGCGACAGAAGCATTAAAGCCTAATTTATCGGCGTTAAACCCGGTAGAAGGGGCAAAAAAACTTTTTAGTATGCGCACGGTTAAAGATACGGTCAAAACCCTACTGTATCTCTCATCCTTTGTGGTGGCCGCCATCATTTGCTGGAAGAAATATAAGGTTGAAATCTTTTCTCAGCTAAATGGCAATATTGTAGGTATTGCCGTCATTTGGCGTGAACTTCTCCTCGCATTGGTATTAACTTGCCTTGCTTGCGCATTGATTGTCTTATTATTGGATGCTATTGCGGAATATTTCCTGACCATGAAAGATATGAAAATGGATAAGGAAGAAGTGAAGCGTGAAATGAAGGAGCAGGAAGGGAACCCAGAGGTTAAATCTAAAAGACGTGAAGTTCATATGGAAATTCTGTCTGAACAGGTGAAATCTGATATTGAAAACTCACGCCTGATTGTTGCCAACCCCACGCATATTACGATCGGGATTTATTTTAAACCCGAATTGATGCCGATTCCGATGATCTCGGTGTATGAAACGAATCAGCGCGCACTGGCCGTCCGCGCCTATGCGGAGAAGGTTGGCGTACCTGTGATCGTCGATATCAAACTGGCGCGCAGTCTTTTCAAAACCCATCGCCGTTATGATCTGGTGAGTCTGGAAGAAATTGATGAAGTTTTACGTCTTCTGGTTTGGCTGGAAGAGGTAGAAAACGCGGGCAAAGACGTTATTCAGCCACAAGAAAACGAGGTACGGCAT', 'ATGCTGCTCTGCTTAGTGTGTTCCGCATTACCGGCGTTATTACAGGCCGGTTTTGTGCTGGCGACAGAAGCATTAAAGCCTAATTTATCGGCGTTAAACCCGGTAGAAGGGGCAAAAAAACTTTTTAGTATGCGCACGGTTAAAGATACGGTCAAAACCCTACTGTATCTCTCATCCTTTGTGGTGGCCGCCATCATTTGCTGGAAGAAATATAAGGTTGAAATCTTTTCTCAGCTAAATGGCAATATTGTAGGTATTGCCGTCATTTGGCGTGAACTTCTCCTCGCATTGGTATTAACTTGCCTTGCTTGCGCATTGATTGTCTTATTATTGGATGCTATTGCGGAATATTTCCTGACCATGAAAGATATGAAAATGGATAAGGAAGAAGTGAAGCGTGAAATGAAGGAGCAGGAAGGGAACCCAGAGGTTAAATCTAAAAGACGTGAAGTTCATATGGAAATTCTGTCTGAACAGGTGAAATCTGATATTGAAAACTCACGCCTGATTGTTGCCAACCCCACGCATATTACGATCGGGATTTATTTTAAACCCGAATTGATGCCGATTCCGATGATCTCGGTGTATGAAACGAATCAGCGCGCACTGGCCGTCCGCGCCTATGCGGAGAAGGTTGGCGTACCTGTGATCGTCGATATCAAACTGGCGCGCAGTCTTTTCAAAACCCATCGCCGTTATGATCTGGTGAGTCTGGAAGAAATTGATGAAGTTTTACGTCTTCTGGTTTGGCTGGAAGAGGTAGAAAACGCGGGCAAAGACGTTATTCAGCCACAAGAAAACGAGGTACGGCAT', 'ATGCGCACGGTTAAAGATACGGTCAAAACCCTACTGTATCTCTCATCCTTTGTGGTGGCCGCCATCATTTGCTGGAAGAAATATAAGGTTGAAATCTTTTCTCAGCTAAATGGCAATATTGTAGGTATTGCCGTCATTTGGCGTGAACTTCTCCTCGCATTGGTATTAACTTGCCTTGCTTGCGCATTGATTGTCTTATTATTGGATGCTATTGCGGAATATTTCCTGACCATGAAAGATATGAAAATGGATAAGGAAGAAGTGAAGCGTGAAATGAAGGAGCAGGAAGGGAACCCAGAGGTTAAATCTAAAAGACGTGAAGTTCATATGGAAATTCTGTCTGAACAGGTGAAATCTGATATTGAAAACTCACGCCTGATTGTTGCCAACCCCACGCATATTACGATCGGGATTTATTTTAAACCCGAATTGATGCCGATTCCGATGATCTCGGTGTATGAAACGAATCAGCGCGCACTGGCCGTCCGCGCCTATGCGGAGAAGGTTGGCGTACCTGTGATCGTCGATATCAAACTGGCGCGCAGTCTTTTCAAAACCCATCGCCGTTATGATCTGGTGAGTCTGGAAGAAATTGATGAAGTTTTACGTCTTCTGGTTTGGCTGGAAGAGGTAGAAAACGCGGGCAAAGACGTTATTCAGCCACAAGAAAACGAGGTACGGCAT', 'ATGAAAGATATGAAAATGGATAAGGAAGAAGTGAAGCGTGAAATGAAGGAGCAGGAAGGGAACCCAGAGGTTAAATCTAAAAGACGTGAAGTTCATATGGAAATTCTGTCTGAACAGGTGAAATCTGATATTGAAAACTCACGCCTGATTGTTGCCAACCCCACGCATATTACGATCGGGATTTATTTTAAACCCGAATTGATGCCGATTCCGATGATCTCGGTGTATGAAACGAATCAGCGCGCACTGGCCGTCCGCGCCTATGCGGAGAAGGTTGGCGTACCTGTGATCGTCGATATCAAACTGGCGCGCAGTCTTTTCAAAACCCATCGCCGTTATGATCTGGTGAGTCTGGAAGAAATTGATGAAGTTTTACGTCTTCTGGTTTGGCTGGAAGAGGTAGAAAACGCGGGCAAAGACGTTATTCAGCCACAAGAAAACGAGGTACGGCAT', 'ATGAAAATGGATAAGGAAGAAGTGAAGCGTGAAATGAAGGAGCAGGAAGGGAACCCAGAGGTTAAATCTAAAAGACGTGAAGTTCATATGGAAATTCTGTCTGAACAGGTGAAATCTGATATTGAAAACTCACGCCTGATTGTTGCCAACCCCACGCATATTACGATCGGGATTTATTTTAAACCCGAATTGATGCCGATTCCGATGATCTCGGTGTATGAAACGAATCAGCGCGCACTGGCCGTCCGCGCCTATGCGGAGAAGGTTGGCGTACCTGTGATCGTCGATATCAAACTGGCGCGCAGTCTTTTCAAAACCCATCGCCGTTATGATCTGGTGAGTCTGGAAGAAATTGATGAAGTTTTACGTCTTCTGGTTTGGCTGGAAGAGGTAGAAAACGCGGGCAAAGACGTTATTCAGCCACAAGAAAACGAGGTACGGCAT', 'ATGGATAAGGAAGAAGTGAAGCGTGAAATGAAGGAGCAGGAAGGGAACCCAGAGGTTAAATCTAAAAGACGTGAAGTTCATATGGAAATTCTGTCTGAACAGGTGAAATCTGATATTGAAAACTCACGCCTGATTGTTGCCAACCCCACGCATATTACGATCGGGATTTATTTTAAACCCGAATTGATGCCGATTCCGATGATCTCGGTGTATGAAACGAATCAGCGCGCACTGGCCGTCCGCGCCTATGCGGAGAAGGTTGGCGTACCTGTGATCGTCGATATCAAACTGGCGCGCAGTCTTTTCAAAACCCATCGCCGTTATGATCTGGTGAGTCTGGAAGAAATTGATGAAGTTTTACGTCTTCTGGTTTGGCTGGAAGAGGTAGAAAACGCGGGCAAAGACGTTATTCAGCCACAAGAAAACGAGGTACGGCAT', 'ATGAAGGAGCAGGAAGGGAACCCAGAGGTTAAATCTAAAAGACGTGAAGTTCATATGGAAATTCTGTCTGAACAGGTGAAATCTGATATTGAAAACTCACGCCTGATTGTTGCCAACCCCACGCATATTACGATCGGGATTTATTTTAAACCCGAATTGATGCCGATTCCGATGATCTCGGTGTATGAAACGAATCAGCGCGCACTGGCCGTCCGCGCCTATGCGGAGAAGGTTGGCGTACCTGTGATCGTCGATATCAAACTGGCGCGCAGTCTTTTCAAAACCCATCGCCGTTATGATCTGGTGAGTCTGGAAGAAATTGATGAAGTTTTACGTCTTCTGGTTTGGCTGGAAGAGGTAGAAAACGCGGGCAAAGACGTTATTCAGCCACAAGAAAACGAGGTACGGCAT', 'ATGGAAATTCTGTCTGAACAGGTGAAATCTGATATTGAAAACTCACGCCTGATTGTTGCCAACCCCACGCATATTACGATCGGGATTTATTTTAAACCCGAATTGATGCCGATTCCGATGATCTCGGTGTATGAAACGAATCAGCGCGCACTGGCCGTCCGCGCCTATGCGGAGAAGGTTGGCGTACCTGTGATCGTCGATATCAAACTGGCGCGCAGTCTTTTCAAAACCCATCGCCGTTATGATCTGGTGAGTCTGGAAGAAATTGATGAAGTTTTACGTCTTCTGGTTTGGCTGGAAGAGGTAGAAAACGCGGGCAAAGACGTTATTCAGCCACAAGAAAACGAGGTACGGCAT', 'ATGCCGATTCCGATGATCTCGGTGTATGAAACGAATCAGCGCGCACTGGCCGTCCGCGCCTATGCGGAGAAGGTTGGCGTACCTGTGATCGTCGATATCAAACTGGCGCGCAGTCTTTTCAAAACCCATCGCCGTTATGATCTGGTGAGTCTGGAAGAAATTGATGAAGTTTTACGTCTTCTGGTTTGGCTGGAAGAGGTAGAAAACGCGGGCAAAGACGTTATTCAGCCACAAGAAAACGAGGTACGGCAT', 'ATGATCTCGGTGTATGAAACGAATCAGCGCGCACTGGCCGTCCGCGCCTATGCGGAGAAGGTTGGCGTACCTGTGATCGTCGATATCAAACTGGCGCGCAGTCTTTTCAAAACCCATCGCCGTTATGATCTGGTGAGTCTGGAAGAAATTGATGAAGTTTTACGTCTTCTGGTTTGGCTGGAAGAGGTAGAAAACGCGGGCAAAGACGTTATTCAGCCACAAGAAAACGAGGTACGGCAT', 'ATGGGCATTTTTGCCTCCGCAGGATGCGGTAAGACCATGCTGATGCATATGCTGATCGAGCAAACGGAGGCGGATGTCTTTGTTATCGGTCTTATCGGTGAACGAGGCCGTGAGGTCACTGAATTCGTGGATATGTTGCGCGCTTCGCATAAGAAAGAAAAATGCGTGCTGGTTTTTGCCACTTCCGATTTCCCCTCGGTCGATCGCTGCAATGCGGCGCAACTGGCGACAACCGTAGCGGAATATTTTCGCGACCAGGGAAAACGGGTCGTGCTTTTTATCGATTCCATGACCCGTTATGCGCGTGCTTTGCGAGACGTGGCACTGGCGTCGGGAGAGCGTCCGGCTCGTCGAGGTTATCCCGCCTCCGTATTCGATAATTTGCCCCGCTTGCTGGAACGCCCAGGGGCGACCAGCGAGGGAAGCATTACTGCCTTTTATACGGTACTGCTGGAAAGCGAGGAAGAGGCGGACCCGATGGCGGATGAAATTCGCTCTATCCTTGACGGTCACCTGTATCTGAGCAGAAAGCTGGCCGGGCAGGGACATTACCCGGCAATCGATGTACTGAAAAGCGTAAGCCGCGTTTTTGGACAAGTCACGACGCCGACACATGCTGAACAGGCATCTGCCGTGCGTAAATTAATGACGCGTTTGGAAGAGCTCCAGCTTTTCATTGACTTGGGAGAATATCGTCCTGGCGAAAATATCGATAACGATCGGGCGATGCAGATGCGGGATAGCCTGAAAGCCTGGTTATGCCAGCCGGTAGCGCAGTATTCATCCTTTGATGACACGTTGAGCGGTATGAATGCATTCGCTGACCAGAAT', 'ATGCTGATGCATATGCTGATCGAGCAAACGGAGGCGGATGTCTTTGTTATCGGTCTTATCGGTGAACGAGGCCGTGAGGTCACTGAATTCGTGGATATGTTGCGCGCTTCGCATAAGAAAGAAAAATGCGTGCTGGTTTTTGCCACTTCCGATTTCCCCTCGGTCGATCGCTGCAATGCGGCGCAACTGGCGACAACCGTAGCGGAATATTTTCGCGACCAGGGAAAACGGGTCGTGCTTTTTATCGATTCCATGACCCGTTATGCGCGTGCTTTGCGAGACGTGGCACTGGCGTCGGGAGAGCGTCCGGCTCGTCGAGGTTATCCCGCCTCCGTATTCGATAATTTGCCCCGCTTGCTGGAACGCCCAGGGGCGACCAGCGAGGGAAGCATTACTGCCTTTTATACGGTACTGCTGGAAAGCGAGGAAGAGGCGGACCCGATGGCGGATGAAATTCGCTCTATCCTTGACGGTCACCTGTATCTGAGCAGAAAGCTGGCCGGGCAGGGACATTACCCGGCAATCGATGTACTGAAAAGCGTAAGCCGCGTTTTTGGACAAGTCACGACGCCGACACATGCTGAACAGGCATCTGCCGTGCGTAAATTAATGACGCGTTTGGAAGAGCTCCAGCTTTTCATTGACTTGGGAGAATATCGTCCTGGCGAAAATATCGATAACGATCGGGCGATGCAGATGCGGGATAGCCTGAAAGCCTGGTTATGCCAGCCGGTAGCGCAGTATTCATCCTTTGATGACACGTTGAGCGGTATGAATGCATTCGCTGACCAGAAT', 'ATGCATATGCTGATCGAGCAAACGGAGGCGGATGTCTTTGTTATCGGTCTTATCGGTGAACGAGGCCGTGAGGTCACTGAATTCGTGGATATGTTGCGCGCTTCGCATAAGAAAGAAAAATGCGTGCTGGTTTTTGCCACTTCCGATTTCCCCTCGGTCGATCGCTGCAATGCGGCGCAACTGGCGACAACCGTAGCGGAATATTTTCGCGACCAGGGAAAACGGGTCGTGCTTTTTATCGATTCCATGACCCGTTATGCGCGTGCTTTGCGAGACGTGGCACTGGCGTCGGGAGAGCGTCCGGCTCGTCGAGGTTATCCCGCCTCCGTATTCGATAATTTGCCCCGCTTGCTGGAACGCCCAGGGGCGACCAGCGAGGGAAGCATTACTGCCTTTTATACGGTACTGCTGGAAAGCGAGGAAGAGGCGGACCCGATGGCGGATGAAATTCGCTCTATCCTTGACGGTCACCTGTATCTGAGCAGAAAGCTGGCCGGGCAGGGACATTACCCGGCAATCGATGTACTGAAAAGCGTAAGCCGCGTTTTTGGACAAGTCACGACGCCGACACATGCTGAACAGGCATCTGCCGTGCGTAAATTAATGACGCGTTTGGAAGAGCTCCAGCTTTTCATTGACTTGGGAGAATATCGTCCTGGCGAAAATATCGATAACGATCGGGCGATGCAGATGCGGGATAGCCTGAAAGCCTGGTTATGCCAGCCGGTAGCGCAGTATTCATCCTTTGATGACACGTTGAGCGGTATGAATGCATTCGCTGACCAGAAT', 'ATGCTGATCGAGCAAACGGAGGCGGATGTCTTTGTTATCGGTCTTATCGGTGAACGAGGCCGTGAGGTCACTGAATTCGTGGATATGTTGCGCGCTTCGCATAAGAAAGAAAAATGCGTGCTGGTTTTTGCCACTTCCGATTTCCCCTCGGTCGATCGCTGCAATGCGGCGCAACTGGCGACAACCGTAGCGGAATATTTTCGCGACCAGGGAAAACGGGTCGTGCTTTTTATCGATTCCATGACCCGTTATGCGCGTGCTTTGCGAGACGTGGCACTGGCGTCGGGAGAGCGTCCGGCTCGTCGAGGTTATCCCGCCTCCGTATTCGATAATTTGCCCCGCTTGCTGGAACGCCCAGGGGCGACCAGCGAGGGAAGCATTACTGCCTTTTATACGGTACTGCTGGAAAGCGAGGAAGAGGCGGACCCGATGGCGGATGAAATTCGCTCTATCCTTGACGGTCACCTGTATCTGAGCAGAAAGCTGGCCGGGCAGGGACATTACCCGGCAATCGATGTACTGAAAAGCGTAAGCCGCGTTTTTGGACAAGTCACGACGCCGACACATGCTGAACAGGCATCTGCCGTGCGTAAATTAATGACGCGTTTGGAAGAGCTCCAGCTTTTCATTGACTTGGGAGAATATCGTCCTGGCGAAAATATCGATAACGATCGGGCGATGCAGATGCGGGATAGCCTGAAAGCCTGGTTATGCCAGCCGGTAGCGCAGTATTCATCCTTTGATGACACGTTGAGCGGTATGAATGCATTCGCTGACCAGAAT', 'ATGTTGCGCGCTTCGCATAAGAAAGAAAAATGCGTGCTGGTTTTTGCCACTTCCGATTTCCCCTCGGTCGATCGCTGCAATGCGGCGCAACTGGCGACAACCGTAGCGGAATATTTTCGCGACCAGGGAAAACGGGTCGTGCTTTTTATCGATTCCATGACCCGTTATGCGCGTGCTTTGCGAGACGTGGCACTGGCGTCGGGAGAGCGTCCGGCTCGTCGAGGTTATCCCGCCTCCGTATTCGATAATTTGCCCCGCTTGCTGGAACGCCCAGGGGCGACCAGCGAGGGAAGCATTACTGCCTTTTATACGGTACTGCTGGAAAGCGAGGAAGAGGCGGACCCGATGGCGGATGAAATTCGCTCTATCCTTGACGGTCACCTGTATCTGAGCAGAAAGCTGGCCGGGCAGGGACATTACCCGGCAATCGATGTACTGAAAAGCGTAAGCCGCGTTTTTGGACAAGTCACGACGCCGACACATGCTGAACAGGCATCTGCCGTGCGTAAATTAATGACGCGTTTGGAAGAGCTCCAGCTTTTCATTGACTTGGGAGAATATCGTCCTGGCGAAAATATCGATAACGATCGGGCGATGCAGATGCGGGATAGCCTGAAAGCCTGGTTATGCCAGCCGGTAGCGCAGTATTCATCCTTTGATGACACGTTGAGCGGTATGAATGCATTCGCTGACCAGAAT', 'ATGACCCGTTATGCGCGTGCTTTGCGAGACGTGGCACTGGCGTCGGGAGAGCGTCCGGCTCGTCGAGGTTATCCCGCCTCCGTATTCGATAATTTGCCCCGCTTGCTGGAACGCCCAGGGGCGACCAGCGAGGGAAGCATTACTGCCTTTTATACGGTACTGCTGGAAAGCGAGGAAGAGGCGGACCCGATGGCGGATGAAATTCGCTCTATCCTTGACGGTCACCTGTATCTGAGCAGAAAGCTGGCCGGGCAGGGACATTACCCGGCAATCGATGTACTGAAAAGCGTAAGCCGCGTTTTTGGACAAGTCACGACGCCGACACATGCTGAACAGGCATCTGCCGTGCGTAAATTAATGACGCGTTTGGAAGAGCTCCAGCTTTTCATTGACTTGGGAGAATATCGTCCTGGCGAAAATATCGATAACGATCGGGCGATGCAGATGCGGGATAGCCTGAAAGCCTGGTTATGCCAGCCGGTAGCGCAGTATTCATCCTTTGATGACACGTTGAGCGGTATGAATGCATTCGCTGACCAGAAT', 'ATGGCGGATGAAATTCGCTCTATCCTTGACGGTCACCTGTATCTGAGCAGAAAGCTGGCCGGGCAGGGACATTACCCGGCAATCGATGTACTGAAAAGCGTAAGCCGCGTTTTTGGACAAGTCACGACGCCGACACATGCTGAACAGGCATCTGCCGTGCGTAAATTAATGACGCGTTTGGAAGAGCTCCAGCTTTTCATTGACTTGGGAGAATATCGTCCTGGCGAAAATATCGATAACGATCGGGCGATGCAGATGCGGGATAGCCTGAAAGCCTGGTTATGCCAGCCGGTAGCGCAGTATTCATCCTTTGATGACACGTTGAGCGGTATGAATGCATTCGCTGACCAGAAT', 'ATGACGCGTTTGGAAGAGCTCCAGCTTTTCATTGACTTGGGAGAATATCGTCCTGGCGAAAATATCGATAACGATCGGGCGATGCAGATGCGGGATAGCCTGAAAGCCTGGTTATGCCAGCCGGTAGCGCAGTATTCATCCTTTGATGACACGTTGAGCGGTATGAATGCATTCGCTGACCAGAAT', 'ATGCAGATGCGGGATAGCCTGAAAGCCTGGTTATGCCAGCCGGTAGCGCAGTATTCATCCTTTGATGACACGTTGAGCGGTATGAATGCATTCGCTGACCAGAAT', 'ATGGGCGATGTGTCAGCTGTCAGTTCATCCGGGAACATTTTACTGCCGCAGCAGGATGAGGTTGGCGGTTTATCAGAAGCATTAAAAAAAGCGGTGGAAAAACATAAGACAGAATATTCCGGTGATAAAAAAGATCGCGACTATGGCGATGCTTTCGTAATGCATAAAGAAACGGCTTTACCGTTATTACTGGCGGCATGGCGACATGGCGCGCCAGCGAAATCAGAACATCACAATGGCAACGTTTCTGGTCTGCATCATAACGGAAAAAGCGAACTCAGGATTGCTGAAAAACTGTTGAAAGTCACTGCTGAAAAATCTGTCGGTTTGATCTCTGCGGAGGCCAAAGTAGATAAATCCGCAGCGTTGCTATCGTCTAAAAATAGGCCGTTAGAAAGCGTAAGCGGTAAAAAATTATCTGCTGATTTAAAAGCTGTGGAATCCGTTAGTGAAGTAACCGATAACGCCACGGGAATCTCTGACGATAATATCAAGGCATTGCCTGGGGATAATAAAGCCATCGCGGGCGAAGGCGTTCGTAAAGAGGGCGCGCCGCTGGCGCGGGATGTCGCACCTGCCCGAATGGCCGCAGCCAATACCGGTAAGCCTGAAGATAAAGATCATAAAAAGGTTAAAGATGTTTCTCAGCTTCCGCTGCAACCAACCACTATCGCCGATCTTAGCCAATTAACCGGCGGCGATGAAAAAATGCCTTTAGCGGCGCAATCAAAGCCGATGATGACTATTTTTCCCACTGCCGATGGCGTGAAAGGAGAGGATAGCTCGCTGACTTACCGTTTTCAGCGCTGGGGAAATGACTATTCCGTCAATATTCAGGCGCGGCAAGCAGGGGAGTTTTCGTTAATACCGTCAAATACGCAGGTTGAACATCGTTTGCATGATCAATGGCAAAACGGTAATCCCCAGCGCTGGCACCTGACGCGAGACGATCAACAAAATCCGCAGCAGCAACAGCACAGACAGCAATCTGGCGAGGAGGATGACGCC', 'ATGCATAAAGAAACGGCTTTACCGTTATTACTGGCGGCATGGCGACATGGCGCGCCAGCGAAATCAGAACATCACAATGGCAACGTTTCTGGTCTGCATCATAACGGAAAAAGCGAACTCAGGATTGCTGAAAAACTGTTGAAAGTCACTGCTGAAAAATCTGTCGGTTTGATCTCTGCGGAGGCCAAAGTAGATAAATCCGCAGCGTTGCTATCGTCTAAAAATAGGCCGTTAGAAAGCGTAAGCGGTAAAAAATTATCTGCTGATTTAAAAGCTGTGGAATCCGTTAGTGAAGTAACCGATAACGCCACGGGAATCTCTGACGATAATATCAAGGCATTGCCTGGGGATAATAAAGCCATCGCGGGCGAAGGCGTTCGTAAAGAGGGCGCGCCGCTGGCGCGGGATGTCGCACCTGCCCGAATGGCCGCAGCCAATACCGGTAAGCCTGAAGATAAAGATCATAAAAAGGTTAAAGATGTTTCTCAGCTTCCGCTGCAACCAACCACTATCGCCGATCTTAGCCAATTAACCGGCGGCGATGAAAAAATGCCTTTAGCGGCGCAATCAAAGCCGATGATGACTATTTTTCCCACTGCCGATGGCGTGAAAGGAGAGGATAGCTCGCTGACTTACCGTTTTCAGCGCTGGGGAAATGACTATTCCGTCAATATTCAGGCGCGGCAAGCAGGGGAGTTTTCGTTAATACCGTCAAATACGCAGGTTGAACATCGTTTGCATGATCAATGGCAAAACGGTAATCCCCAGCGCTGGCACCTGACGCGAGACGATCAACAAAATCCGCAGCAGCAACAGCACAGACAGCAATCTGGCGAGGAGGATGACGCC', 'ATGGCCGCAGCCAATACCGGTAAGCCTGAAGATAAAGATCATAAAAAGGTTAAAGATGTTTCTCAGCTTCCGCTGCAACCAACCACTATCGCCGATCTTAGCCAATTAACCGGCGGCGATGAAAAAATGCCTTTAGCGGCGCAATCAAAGCCGATGATGACTATTTTTCCCACTGCCGATGGCGTGAAAGGAGAGGATAGCTCGCTGACTTACCGTTTTCAGCGCTGGGGAAATGACTATTCCGTCAATATTCAGGCGCGGCAAGCAGGGGAGTTTTCGTTAATACCGTCAAATACGCAGGTTGAACATCGTTTGCATGATCAATGGCAAAACGGTAATCCCCAGCGCTGGCACCTGACGCGAGACGATCAACAAAATCCGCAGCAGCAACAGCACAGACAGCAATCTGGCGAGGAGGATGACGCC', 'ATGCCTTTAGCGGCGCAATCAAAGCCGATGATGACTATTTTTCCCACTGCCGATGGCGTGAAAGGAGAGGATAGCTCGCTGACTTACCGTTTTCAGCGCTGGGGAAATGACTATTCCGTCAATATTCAGGCGCGGCAAGCAGGGGAGTTTTCGTTAATACCGTCAAATACGCAGGTTGAACATCGTTTGCATGATCAATGGCAAAACGGTAATCCCCAGCGCTGGCACCTGACGCGAGACGATCAACAAAATCCGCAGCAGCAACAGCACAGACAGCAATCTGGCGAGGAGGATGACGCC', 'ATGATGACTATTTTTCCCACTGCCGATGGCGTGAAAGGAGAGGATAGCTCGCTGACTTACCGTTTTCAGCGCTGGGGAAATGACTATTCCGTCAATATTCAGGCGCGGCAAGCAGGGGAGTTTTCGTTAATACCGTCAAATACGCAGGTTGAACATCGTTTGCATGATCAATGGCAAAACGGTAATCCCCAGCGCTGGCACCTGACGCGAGACGATCAACAAAATCCGCAGCAGCAACAGCACAGACAGCAATCTGGCGAGGAGGATGACGCC', 'ATGACTATTTTTCCCACTGCCGATGGCGTGAAAGGAGAGGATAGCTCGCTGACTTACCGTTTTCAGCGCTGGGGAAATGACTATTCCGTCAATATTCAGGCGCGGCAAGCAGGGGAGTTTTCGTTAATACCGTCAAATACGCAGGTTGAACATCGTTTGCATGATCAATGGCAAAACGGTAATCCCCAGCGCTGGCACCTGACGCGAGACGATCAACAAAATCCGCAGCAGCAACAGCACAGACAGCAATCTGGCGAGGAGGATGACGCC', 'ATGCAGAAAAACGGTGGTCGGCCTGGATTAAACCTGGGGACTGGCTTGAGCATGTCTCTCCCGCTCTGGCTGGGGCGGCGGTTTCTGCTGGCGCTGAGCACCTGGTCGTTCCCTGGCTTGCTGCAACAGAGCGACCGTTTGAGTTGCCCGTGCCGCATTTGTCCTGTCGGCGTTTATGCG', 'ATGTCTCTCCCGCTCTGGCTGGGGCGGCGGTTTCTGCTGGCGCTGAGCACCTGGTCGTTCCCTGGCTTGCTGCAACAGAGCGACCGTTTGAGTTGCCCGTGCCGCATTTGTCCTGTCGGCGTTTATGCG', 'ATGGGGAATGATATCTCATTAATTGCCTTACTGGCATTTTCCACCCTGTTGCCATTTATTATTGCGTCAGGAACCTGTTTCGTTAAATTTTCTATTGTATTTGTCATGGTGCGTAACGCCCTGGGATTACAGCAGATACCTTCAAATATGACGCTTAACGGCGTCGCATTGCTGCTTTCTATGTTTGTTATGTGGCCCATAATGCATGATGCCTACGTCTATTTTGAGGACGAAGATGTCACCTTTAATGATATTTCATCATTAAGTAAACACGTTGATGAAGGTCTGGATGGTTATCGCGATTATCTGATCAAATATTCAGATCGCGAGTTAGTTCAGTTTTTTGAAAACGCGCAACTGAAGCGTCAGTATGGAGAAGAGACCGAGACGGTAAAGCGTGACAAAGATGAAATTGAAAAACCTTCAATATTTGCGTTATTACCTGCTTATGCGCTGAGCGAAATAAAAAGCGCGTTTAAAATTGGTTTTTATCTTTATTTGCCCTTTGTCGTCGTCGACCTGGTGGTATCCAGCGTGCTACTGGCGCTGGGGATGATGATGATGAGTCCGGTGACGATATCTACACCTATTAAGCTGGTGCTTTTTGTCGCGCTTGATGGCTGGACCTTACTGTCTAAGGGATTGATATTACAGTATATGGACATTGCAACA', 'ATGGTGCGTAACGCCCTGGGATTACAGCAGATACCTTCAAATATGACGCTTAACGGCGTCGCATTGCTGCTTTCTATGTTTGTTATGTGGCCCATAATGCATGATGCCTACGTCTATTTTGAGGACGAAGATGTCACCTTTAATGATATTTCATCATTAAGTAAACACGTTGATGAAGGTCTGGATGGTTATCGCGATTATCTGATCAAATATTCAGATCGCGAGTTAGTTCAGTTTTTTGAAAACGCGCAACTGAAGCGTCAGTATGGAGAAGAGACCGAGACGGTAAAGCGTGACAAAGATGAAATTGAAAAACCTTCAATATTTGCGTTATTACCTGCTTATGCGCTGAGCGAAATAAAAAGCGCGTTTAAAATTGGTTTTTATCTTTATTTGCCCTTTGTCGTCGTCGACCTGGTGGTATCCAGCGTGCTACTGGCGCTGGGGATGATGATGATGAGTCCGGTGACGATATCTACACCTATTAAGCTGGTGCTTTTTGTCGCGCTTGATGGCTGGACCTTACTGTCTAAGGGATTGATATTACAGTATATGGACATTGCAACA', 'ATGACGCTTAACGGCGTCGCATTGCTGCTTTCTATGTTTGTTATGTGGCCCATAATGCATGATGCCTACGTCTATTTTGAGGACGAAGATGTCACCTTTAATGATATTTCATCATTAAGTAAACACGTTGATGAAGGTCTGGATGGTTATCGCGATTATCTGATCAAATATTCAGATCGCGAGTTAGTTCAGTTTTTTGAAAACGCGCAACTGAAGCGTCAGTATGGAGAAGAGACCGAGACGGTAAAGCGTGACAAAGATGAAATTGAAAAACCTTCAATATTTGCGTTATTACCTGCTTATGCGCTGAGCGAAATAAAAAGCGCGTTTAAAATTGGTTTTTATCTTTATTTGCCCTTTGTCGTCGTCGACCTGGTGGTATCCAGCGTGCTACTGGCGCTGGGGATGATGATGATGAGTCCGGTGACGATATCTACACCTATTAAGCTGGTGCTTTTTGTCGCGCTTGATGGCTGGACCTTACTGTCTAAGGGATTGATATTACAGTATATGGACATTGCAACA', 'ATGTTTGTTATGTGGCCCATAATGCATGATGCCTACGTCTATTTTGAGGACGAAGATGTCACCTTTAATGATATTTCATCATTAAGTAAACACGTTGATGAAGGTCTGGATGGTTATCGCGATTATCTGATCAAATATTCAGATCGCGAGTTAGTTCAGTTTTTTGAAAACGCGCAACTGAAGCGTCAGTATGGAGAAGAGACCGAGACGGTAAAGCGTGACAAAGATGAAATTGAAAAACCTTCAATATTTGCGTTATTACCTGCTTATGCGCTGAGCGAAATAAAAAGCGCGTTTAAAATTGGTTTTTATCTTTATTTGCCCTTTGTCGTCGTCGACCTGGTGGTATCCAGCGTGCTACTGGCGCTGGGGATGATGATGATGAGTCCGGTGACGATATCTACACCTATTAAGCTGGTGCTTTTTGTCGCGCTTGATGGCTGGACCTTACTGTCTAAGGGATTGATATTACAGTATATGGACATTGCAACA', 'ATGTGGCCCATAATGCATGATGCCTACGTCTATTTTGAGGACGAAGATGTCACCTTTAATGATATTTCATCATTAAGTAAACACGTTGATGAAGGTCTGGATGGTTATCGCGATTATCTGATCAAATATTCAGATCGCGAGTTAGTTCAGTTTTTTGAAAACGCGCAACTGAAGCGTCAGTATGGAGAAGAGACCGAGACGGTAAAGCGTGACAAAGATGAAATTGAAAAACCTTCAATATTTGCGTTATTACCTGCTTATGCGCTGAGCGAAATAAAAAGCGCGTTTAAAATTGGTTTTTATCTTTATTTGCCCTTTGTCGTCGTCGACCTGGTGGTATCCAGCGTGCTACTGGCGCTGGGGATGATGATGATGAGTCCGGTGACGATATCTACACCTATTAAGCTGGTGCTTTTTGTCGCGCTTGATGGCTGGACCTTACTGTCTAAGGGATTGATATTACAGTATATGGACATTGCAACA', 'ATGCATGATGCCTACGTCTATTTTGAGGACGAAGATGTCACCTTTAATGATATTTCATCATTAAGTAAACACGTTGATGAAGGTCTGGATGGTTATCGCGATTATCTGATCAAATATTCAGATCGCGAGTTAGTTCAGTTTTTTGAAAACGCGCAACTGAAGCGTCAGTATGGAGAAGAGACCGAGACGGTAAAGCGTGACAAAGATGAAATTGAAAAACCTTCAATATTTGCGTTATTACCTGCTTATGCGCTGAGCGAAATAAAAAGCGCGTTTAAAATTGGTTTTTATCTTTATTTGCCCTTTGTCGTCGTCGACCTGGTGGTATCCAGCGTGCTACTGGCGCTGGGGATGATGATGATGAGTCCGGTGACGATATCTACACCTATTAAGCTGGTGCTTTTTGTCGCGCTTGATGGCTGGACCTTACTGTCTAAGGGATTGATATTACAGTATATGGACATTGCAACA', 'ATGATGATGATGAGTCCGGTGACGATATCTACACCTATTAAGCTGGTGCTTTTTGTCGCGCTTGATGGCTGGACCTTACTGTCTAAGGGATTGATATTACAGTATATGGACATTGCAACA', 'ATGATGATGAGTCCGGTGACGATATCTACACCTATTAAGCTGGTGCTTTTTGTCGCGCTTGATGGCTGGACCTTACTGTCTAAGGGATTGATATTACAGTATATGGACATTGCAACA', 'ATGATGAGTCCGGTGACGATATCTACACCTATTAAGCTGGTGCTTTTTGTCGCGCTTGATGGCTGGACCTTACTGTCTAAGGGATTGATATTACAGTATATGGACATTGCAACA', 'ATGAGTCCGGTGACGATATCTACACCTATTAAGCTGGTGCTTTTTGTCGCGCTTGATGGCTGGACCTTACTGTCTAAGGGATTGATATTACAGTATATGGACATTGCAACA', 'ATGGCCGCATGCATTGAACGAGGCGCCGCCGTTTTTATCGGTGGCGATGATCCCGTTAGTTCTGCAAGAAGCGGCGGTAGGCGTCATGCTGGGCTGTCTGCTGTCATGGCCTTTTTGGGTTATGCATGCGCTGGGTTGTATTATCGA', 'ATGTCTTTGTTATCGGTCTTATCGGTGAACGAGGCCGTGAGGTCACTGAATTCGTGGATATGTTGCGCGCTTCGCATAAGAAAGAAAAATGCGTGCTGGTTTTTGCCACTTCCGATTTCCCCTCGGTCGATCGCTGCAATGCGGCGCAACTGGCGACAACCG', 'ATGCGCGTGCTTTGCGAGACGTGGCACTGGCGTCGGGAGAGCGTCCGGCTCGTCGAGGTTATCCCGCCTCCGTATTCGATAATTTGCCCCGCTTGCTGGAACGCCCAGGGGCGACCAGCGAGGGAAGCATTACTGCCTTTTATACGGTACTGCTGGAAAGCGAGGAAGAGGCGGACCCGATGGCGGATGAAATTCGCTCTATCCTTGACGGTCACCTGTATC', 'ATGCATTCGCTGACCAGAATTAAAGTATTGCAGCGGCGCTGTACGGTATTTCATTCACAGTGTGAGTCGATATTACTTCGCTATCAGGATGAGGACCGCGGGCTGCAGGCCGAGGAGGAGGCGATCCTTGAACAAATAGCGGGTCTGAAATTGTTATTAGATACGCTGCGTGCAGAAAACAGACAGCTCAGTCGTGAGGAAATTTATACGTTATTACGTAAGCAGTCTATTGTTCGCCGGCAGATAAAAGATTTAGAACTCCAGATTATACAAATTCAGGAAAAACGGAGCGAGCTGGAAAAGAAAAGGGAAGAGTTTCAGAAAAAAAGTAAATATTGGTTGCGCAAAGAAGGGAACTATCAACGCTGGATAATCCGTCAGAAAAGATTCTATATCCAGCGAGAGATACAGCAGGAAGAGGCCGAGTCAGAGGAGATAATT', 'ATGTCGCACCTGCCCGAATGGCCGCAGCCAATACCGGTAAGCCTGAAGATAAAGATCATAAAAAGGTTAAAGATGTTTCTCAGCTTCCGCTGCAACCAACCACTATCGCCGATCTTAGCCAAT', 'ATGGCTATTGGCGCAAACCGCGACAGAATGCCAGCGCCATGGCCGGGAAGCGACGCTGGAATATCCGACGCGACAGGGAATGTGGGTTCGGTTGAGCGATGCAGAAAAACGGTGGTCGGCCTGGAT', 'ATGGATGATTTAGTGTTTGCAGGTAATAAGGCGCTCTATCTTGTTTTGATCCTGTCAGGGTGGCCGACGATTGTCGCAACGATTATCGGCCTCCTGGTAGGGTTATTCCAGACGGTAACGCAATTACAGGAACAGACGCTGCCTTTTGGCATTAAATTACTTGGCGTGTGTTTATGCTTGTTTTTACTGTCTGGCTGGTATGGCGAAGTTTTACTCTCTTACGGGCGTCAGGTGATATTCCTGGCGTTGGCTAAGGGG', 'ATGTTTTACGCGTTGTACTTTGAAATTCATCACCTGGTTGCGTCTGCGGCGCTAGGGTTTGCTCGCGTGGCGCCGATTTTTTTCTTCCTGCCGTTTTTGAATAGCGGGGTATTAAGCGGTGCGCCGAGAAACGCCATTATCATCCTGGTGGCATTGGGAGTATGGCCGCATGCATTGAACGAGGCGCCGCCGTTTTTATCGGTGGCGATGATCCCGTTAGTTCTGCAAGAAGCGGCGGTAGGCGTCATGCTGGGCTGTCTGCTGTCATGGCCTTTTTGGGTTATGCATGCGCTGGGTTGTATTATCGATAACCAGCGAGGGGCAACGCTAAGTAGTAGTATCGATCCGGCAAACGGTATTGATACCTCGGAAATGGCTAATTTCCTGAATATGTTTGCCGCTGTCGTTTATTTACAAAACGGCGGTCTGGTCACGATGGTTGACGTGTTAAATAAAAGCTATCAGCTATGCGATCCGATGAACGAGTGCACGCCTTCATTACCGCCGCTATTAACGTTTATTAATCAGGTGGCTCAAAACGCCTTGGTTCTGGCCAGTCCGGTGGTATTAGTGCTGTTGCTGTCAGAAGTATTCCTGGGTTTATTGTCGCGCTTTGCTCCGCAAATGAACGCTTTTGCGATTTCACTGACGGTAAAAAGCGGTATTGCCGTTTTAATTATGCTGCTTTATTTCTCTCCGGTACTACCGGACAATGTACTGCGACTCTCTTTCCAGGCCACAGGGTTAAGCAGTTGGTTTTACGAGCGAGGGGCGACGCATGTCCTCGAA', 'ATGATCCCGTTAGTTCTGCAAGAAGCGGCGGTAGGCGTCATGCTGGGCTGTCTGCTGTCATGGCCTTTTTGGGTTATGCATGCGCTGGGTTGTATTATCGATAACCAGCGAGGGGCAACGCTAAGTAGTAGTATCGATCCGGCAAACGGTATTGATACCTCGGAAATGGCTAATTTCCTGAATATGTTTGCCGCTGTCGTTTATTTACAAAACGGCGGTCTGGTCACGATGGTTGACGTGTTAAATAAAAGCTATCAGCTATGCGATCCGATGAACGAGTGCACGCCTTCATTACCGCCGCTATTAACGTTTATTAATCAGGTGGCTCAAAACGCCTTGGTTCTGGCCAGTCCGGTGGTATTAGTGCTGTTGCTGTCAGAAGTATTCCTGGGTTTATTGTCGCGCTTTGCTCCGCAAATGAACGCTTTTGCGATTTCACTGACGGTAAAAAGCGGTATTGCCGTTTTAATTATGCTGCTTTATTTCTCTCCGGTACTACCGGACAATGTACTGCGACTCTCTTTCCAGGCCACAGGGTTAAGCAGTTGGTTTTACGAGCGAGGGGCGACGCATGTCCTCGAA', 'ATGCTGGGCTGTCTGCTGTCATGGCCTTTTTGGGTTATGCATGCGCTGGGTTGTATTATCGATAACCAGCGAGGGGCAACGCTAAGTAGTAGTATCGATCCGGCAAACGGTATTGATACCTCGGAAATGGCTAATTTCCTGAATATGTTTGCCGCTGTCGTTTATTTACAAAACGGCGGTCTGGTCACGATGGTTGACGTGTTAAATAAAAGCTATCAGCTATGCGATCCGATGAACGAGTGCACGCCTTCATTACCGCCGCTATTAACGTTTATTAATCAGGTGGCTCAAAACGCCTTGGTTCTGGCCAGTCCGGTGGTATTAGTGCTGTTGCTGTCAGAAGTATTCCTGGGTTTATTGTCGCGCTTTGCTCCGCAAATGAACGCTTTTGCGATTTCACTGACGGTAAAAAGCGGTATTGCCGTTTTAATTATGCTGCTTTATTTCTCTCCGGTACTACCGGACAATGTACTGCGACTCTCTTTCCAGGCCACAGGGTTAAGCAGTTGGTTTTACGAGCGAGGGGCGACGCATGTCCTCGAA', 'ATGCATGCGCTGGGTTGTATTATCGATAACCAGCGAGGGGCAACGCTAAGTAGTAGTATCGATCCGGCAAACGGTATTGATACCTCGGAAATGGCTAATTTCCTGAATATGTTTGCCGCTGTCGTTTATTTACAAAACGGCGGTCTGGTCACGATGGTTGACGTGTTAAATAAAAGCTATCAGCTATGCGATCCGATGAACGAGTGCACGCCTTCATTACCGCCGCTATTAACGTTTATTAATCAGGTGGCTCAAAACGCCTTGGTTCTGGCCAGTCCGGTGGTATTAGTGCTGTTGCTGTCAGAAGTATTCCTGGGTTTATTGTCGCGCTTTGCTCCGCAAATGAACGCTTTTGCGATTTCACTGACGGTAAAAAGCGGTATTGCCGTTTTAATTATGCTGCTTTATTTCTCTCCGGTACTACCGGACAATGTACTGCGACTCTCTTTCCAGGCCACAGGGTTAAGCAGTTGGTTTTACGAGCGAGGGGCGACGCATGTCCTCGAA', 'ATGGCTAATTTCCTGAATATGTTTGCCGCTGTCGTTTATTTACAAAACGGCGGTCTGGTCACGATGGTTGACGTGTTAAATAAAAGCTATCAGCTATGCGATCCGATGAACGAGTGCACGCCTTCATTACCGCCGCTATTAACGTTTATTAATCAGGTGGCTCAAAACGCCTTGGTTCTGGCCAGTCCGGTGGTATTAGTGCTGTTGCTGTCAGAAGTATTCCTGGGTTTATTGTCGCGCTTTGCTCCGCAAATGAACGCTTTTGCGATTTCACTGACGGTAAAAAGCGGTATTGCCGTTTTAATTATGCTGCTTTATTTCTCTCCGGTACTACCGGACAATGTACTGCGACTCTCTTTCCAGGCCACAGGGTTAAGCAGTTGGTTTTACGAGCGAGGGGCGACGCATGTCCTCGAA', 'ATGTTTGCCGCTGTCGTTTATTTACAAAACGGCGGTCTGGTCACGATGGTTGACGTGTTAAATAAAAGCTATCAGCTATGCGATCCGATGAACGAGTGCACGCCTTCATTACCGCCGCTATTAACGTTTATTAATCAGGTGGCTCAAAACGCCTTGGTTCTGGCCAGTCCGGTGGTATTAGTGCTGTTGCTGTCAGAAGTATTCCTGGGTTTATTGTCGCGCTTTGCTCCGCAAATGAACGCTTTTGCGATTTCACTGACGGTAAAAAGCGGTATTGCCGTTTTAATTATGCTGCTTTATTTCTCTCCGGTACTACCGGACAATGTACTGCGACTCTCTTTCCAGGCCACAGGGTTAAGCAGTTGGTTTTACGAGCGAGGGGCGACGCATGTCCTCGAA', 'ATGGTTGACGTGTTAAATAAAAGCTATCAGCTATGCGATCCGATGAACGAGTGCACGCCTTCATTACCGCCGCTATTAACGTTTATTAATCAGGTGGCTCAAAACGCCTTGGTTCTGGCCAGTCCGGTGGTATTAGTGCTGTTGCTGTCAGAAGTATTCCTGGGTTTATTGTCGCGCTTTGCTCCGCAAATGAACGCTTTTGCGATTTCACTGACGGTAAAAAGCGGTATTGCCGTTTTAATTATGCTGCTTTATTTCTCTCCGGTACTACCGGACAATGTACTGCGACTCTCTTTCCAGGCCACAGGGTTAAGCAGTTGGTTTTACGAGCGAGGGGCGACGCATGTCCTCGAA', 'ATGAACGAGTGCACGCCTTCATTACCGCCGCTATTAACGTTTATTAATCAGGTGGCTCAAAACGCCTTGGTTCTGGCCAGTCCGGTGGTATTAGTGCTGTTGCTGTCAGAAGTATTCCTGGGTTTATTGTCGCGCTTTGCTCCGCAAATGAACGCTTTTGCGATTTCACTGACGGTAAAAAGCGGTATTGCCGTTTTAATTATGCTGCTTTATTTCTCTCCGGTACTACCGGACAATGTACTGCGACTCTCTTTCCAGGCCACAGGGTTAAGCAGTTGGTTTTACGAGCGAGGGGCGACGCATGTCCTCGAA', 'ATGAACGCTTTTGCGATTTCACTGACGGTAAAAAGCGGTATTGCCGTTTTAATTATGCTGCTTTATTTCTCTCCGGTACTACCGGACAATGTACTGCGACTCTCTTTCCAGGCCACAGGGTTAAGCAGTTGGTTTTACGAGCGAGGGGCGACGCATGTCCTCGAA', 'ATGCTGCTTTATTTCTCTCCGGTACTACCGGACAATGTACTGCGACTCTCTTTCCAGGCCACAGGGTTAAGCAGTTGGTTTTACGAGCGAGGGGCGACGCATGTCCTCGAA', 'ATGGGTTTTGAAAAGACTGCGCGCCAGTTTGATATCGACGATCACAGGTACGCCAACCTTCTCCGCATAGGCGCGGACGGCCAGTGCGCGCTGATTCGTTTCATACACCGAGATCATCGGAATCGGCATCAATTCGGGTTTAAAATAAATCCCGATCGTAATATGCGTGGGGTTGGCAACAATCAGGCG', 'ATGAACTTCACGTCTTTTAGATTTAACCTCTGGGTTCCCTTCCTGCTCCTTCATTTCACGCTTCACTTCTTCCTTATCCATTTTCATATCTTTCATGGTCAGGAAATATTCCGCAATAGCATCCAA', 'ATGTCCATATACTGTAATATCAATCCCTTAGACAGTAAGGTCCAGCCATCAAGCGCGACAAAAAGCACCAGCTTAATAGGTGTAGATATCGTCACCGGACTCATCATCATCATCCCCAGCGCCAGTAGCACGCTGGATACCACCAGGTCGACGACGACAAAGGGCAAA', 'ATGGGCCACATAACAAACATAGAAAGCAGCAATGCGACGCCGTTAAGCGTCATATTTGAAGGTATCTGCTGTAATCCCAGGGCGTTACGCACCATGACAAATACAATAGAAAATTTAACGAAACAGGTTCCTGACGCAATAATAAATGGCAACAGGGTGGAAAATGCCAGTAAGGCAATTAATGAGATATCATTCCCCATTACCAGACTCGCTCAGCCATTCATGGATCTCAACGCC', 'ATGACAAATACAATAGAAAATTTAACGAAACAGGTTCCTGACGCAATAATAAATGGCAACAGGGTGGAAAATGCCAGTAAGGCAATTAATGAGATATCATTCCCCATTACCAGACTCGCTCAGCCATTCATGGATCTCAACGCC', 'ATGCGGCACGGGCAACTCAAACGGTCGCTCTGTTGCAGCAAGCCAGGGAACGACCAGGTGCTCAGCGCCAGCAGAAACCGCCGCCCCAGCCAGAGCGGGAGAGACATGCTCAAGCCAGTCCCCAGGTTTAATCCAGGCCGACCACCGTTTTTCTGCATCGCTCAACCGAACCCACATTCCCTGTCGCGTCGGATATTCCAGCGTCGCTTCCCGGCCATGGCGCTGGCATTCTGTCGCGGTTTGCGCCAA', 'ATGCTCAAGCCAGTCCCCAGGTTTAATCCAGGCCGACCACCGTTTTTCTGCATCGCTCAACCGAACCCACATTCCCTGTCGCGTCGGATATTCCAGCGTCGCTTCCCGGCCATGGCGCTGGCATTCTGTCGCGGTTTGCGCCAA', 'ATGGCTTTATTATCCCCAGGCAATGCCTTGATATTATCGTCAGAGATTCCCGTGGCGTTATCGGTTACTTCACTAACGGATTCCACAGCTTTTAAATCAGCAGATAATTTTTTACCGCTTACGCTTTCTAACGGCCTATTTTTAGACGATAGCAACGCTGCGGATTTATCTACTTTGGCCTCCGCAGAGATCAAACCGACAGATTTTTCAGCAGTGACTTTCAACAGTTTTTCAGCAATCCTGAGTTCGCTTTTTCCGTTA', 'ATGTTCCCGGATGAACTGACAGCTGACACATCGCCCATTAAATTATCTCCTCTGACTCGGCCTCTTCCTGCTGTATCTCTCGCTGGATATAGAATCTTTTCTGACGGATTATCCAGCGTTGATAGTTCCCTTCTTTGCGCAACCAATATTTACTTTTTTTCTGAAACTCTTCCCTTTTCTTTTCCAGCTCGCTCCGTTTTTCCTGAATTTGTA', 'ATGAAAAGCTGGAGCTCTTCCAAACGCGTCATTAATTTACGCACGGCAGATGCCTGTTCAGCATGTGTCGGCGTCGTGACTTGTCCAAAAACGCGGCTTACGCTTTTCAGTACATCGATTGCCGGG', 'ATGGAATCGATAAAAAGCACGACCCGTTTTCCCTGGTCGCGAAAATATTCCGCTACGGTTGTCGCCAGTTGCGCCGCATTGCAGCGATCGACCGAGGGGAAATCGGAAGTGGCAAAAACCAGCACGCATTTTTCTTTCTTATGCGAAGCGCGCAACATATCCACGAATTCAGTGACCTCACGGCCTCGTTCACCGATAAGACCGATAACAAAGACATCCGCCTCCGTTTGCTCGATCAGCATATGCATCAGCATGGTCTTACCGCATCCTGCGGAGGCAAAAATGCCCATTCGCTGGCCTACGCCACAGGTCAATAACCCGTCAATCGCGCGCACACCGGTAATCAGCGGTTCACGGACGCCAACGCGTGAAGCG', 'ATGGTCTTACCGCATCCTGCGGAGGCAAAAATGCCCATTCGCTGGCCTACGCCACAGGTCAATAACCCGTCAATCGCGCGCACACCGGTAATCAGCGGTTCACGGACGCCAACGCGTGAAGCG', 'ATGGTCAGGAAATATTCCGCAATAGCATCCAATAATAAGACAATCAATGCGCAAGCAAGGCAAGTTAATACCAATGCGAGGAGAAGTTCACGCCAAATGACGGCAATACCTACAATATTGCCATTTAGC', 'ATGATGGCGGCCACCACAAAGGATGAGAGATACAGTAGGGTTTTGACCGTATCTTTAACCGTGCGCATACTAAAAAGTTTTTTTGCCCCTTCTACCGGGTTTAACGCCGATAAATTAGGCTTTAATGCTTCTGTCGCCAGCACAAAACCGGCCTGTAATAACGCCGGTAATGCGGAACACACTAAGCAGAGCAGCATAAATGGAATCAGATATTTTAACCCTATCCCAAAAACGGCCAAACTG', 'ATGGCGGCCACCACAAAGGATGAGAGATACAGTAGGGTTTTGACCGTATCTTTAACCGTGCGCATACTAAAAAGTTTTTTTGCCCCTTCTACCGGGTTTAACGCCGATAAATTAGGCTTTAATGCTTCTGTCGCCAGCACAAAACCGGCCTGTAATAACGCCGGTAATGCGGAACACACTAAGCAGAGCAGCATAAATGGAATCAGATATTTTAACCCTATCCCAAAAACGGCCAAACTG', 'ATGAGATCTTTACTTTTAAATGACTGGCCTTTTTTAGCGGAGTCTTCCAGCCGTTTTTTAGTCGGTTTTTCTGTTTTATTCGAGGACATGCGTCGCCCCTCGCTCGTAAAACCAACTGCT', 'ATGGCAACAGGGTGGAAAATGCCAGTAAGGCAATTAATGAGATATCATTCCCCATTACCAGACTCGCTCAGCCATTCATGGATCTCAACGCCTAAGGTGTCATTCATCTGTACCAGTTCGCCATTACCCAGCAAAACACCATTCGCCATAATTTCAACGTTAAGTTCAGCATTGGTCGGCAGTGATAATAGCTGTTGCTGCCCCATGGCTTCGAGTTCGGCGAGGGTAACGTTCTTACGATACAAAACAAATTCCAGTTTGACGGGCAAT', 'ATGCCAGTAAGGCAATTAATGAGATATCATTCCCCATTACCAGACTCGCTCAGCCATTCATGGATCTCAACGCCTAAGGTGTCATTCATCTGTACCAGTTCGCCATTACCCAGCAAAACACCATTCGCCATAATTTCAACGTTAAGTTCAGCATTGGTCGGCAGTGATAATAGCTGTTGCTGCCCCATGGCTTCGAGTTCGGCGAGGGTAACGTTCTTACGATACAAAACAAATTCCAGTTTGACGGGCAAT', 'ATGAGATATCATTCCCCATTACCAGACTCGCTCAGCCATTCATGGATCTCAACGCCTAAGGTGTCATTCATCTGTACCAGTTCGCCATTACCCAGCAAAACACCATTCGCCATAATTTCAACGTTAAGTTCAGCATTGGTCGGCAGTGATAATAGCTGTTGCTGCCCCATGGCTTCGAGTTCGGCGAGGGTAACGTTCTTACGATACAAAACAAATTCCAGTTTGACGGGCAAT', 'ATGTGCAACAATTTCCCTTCCGGCAGCGCGCTTCCCGGTACGGGGTTCTCTACGCATAAACGCCGACAGGACAAATGCGGCACGGGCAACTCAAACGGTCGCTCTGTTGCAGCAAGCCAGGGAACGACCAGGTGCTCAGCGCCAGCAGAAACCGCCGCCCCAGCCAGAGCGGGAGAGACATGCTCAAGCCAGTCCCCAGGTTTAATCCAGGCCGACCACCGTTTTTCTGCATCGCTCAACCGAACCCACATTCCCTGTCGCGTCGGATATTCCAGCGTCGCTTCCCGGCCATGGCGCTGGCATTCTGTCGCGGTTTGCGCCAATAGCCATTCGCGACGATCAATCTGTCTCACACGCAATGACATCAGGCGTCATCCTCCTCGCCAGATTGCTGTCTGTGCTGTTGCTGCTGCGGATTTTGTTGATCGTCTCGCGTCAGGTGCCAGCGCTGGGGATTACCGTTTTGCCATTGATCATGCAAACGATGTTCAACCTGCGTATTTGACGGTATTAACGAAAACTCCCCTGCTTGCCGCGCCTGAATAT', 'ATGCCGCCAGTAATAACGGTAAAGCCGTTTCTTTATGCATTACGAAAGCATCGCCATAGTCGCGATCTTTTTTATCACCGGAATATTCTGTCTTATGTTTTTCCACCGCTTTTTTTAATGCTTCTGATAAACCGCCAACCTCATCCTGCTGCGGCAGTAAAATGTTCCCGGATGAAC', 'ATGAAATACCGTACAGCGCCGCTGCAATACTTTAATTCTGGTCAGCGAATGCATTCATACCGCTCAACGTGTCATCAAAGGATGAATACTGCGCTACCGGCTGGCATAACCAGGCTTTCAGGCTATCCCGCATCTGCATCGCCCGATCGTTATCGATATTTTCGCCAGGACGATATTCTCCCAAGTCAA', 'ATGCATTCATACCGCTCAACGTGTCATCAAAGGATGAATACTGCGCTACCGGCTGGCATAACCAGGCTTTCAGGCTATCCCGCATCTGCATCGCCCGATCGTTATCGATATTTTCGCCAGGACGATATTCTCCCAAGTCAA', 'ATGAATACTGCGCTACCGGCTGGCATAACCAGGCTTTCAGGCTATCCCGCATCTGCATCGCCCGATCGTTATCGATATTTTCGCCAGGACGATATTCTCCCAAGTCAA', 'ATGACGCCTACCGCCGCTTCTTGCAGAACTAACGGGATCATCGCCACCGATAAAAACGGCGGCGCCTCGTTCAATGCATGCGGCCATACTCCCAATGCCACCAGGATGATAATGGCGTTTCTCGGCGCACCGCTTAATACCCCGCTATTCAAAAACGGCAGGAAGAAAAAAATCGGCGCCACGCGAGCAAACCCTAGCGCCGCAGACGCAACCAGG', 'ATGATAATGGCGTTTCTCGGCGCACCGCTTAATACCCCGCTATTCAAAAACGGCAGGAAGAAAAAAATCGGCGCCACGCGAGCAAACCCTAGCGCCGCAGACGCAACCAGG', 'ATGGCGTTTCTCGGCGCACCGCTTAATACCCCGCTATTCAAAAACGGCAGGAAGAAAAAAATCGGCGCCACGCGAGCAAACCCTAGCGCCGCAGACGCAACCAGG', 'ATGCCAAAAGGCAGCGTCTGTTCCTGTAATTGCGTTACCGTCTGGAATAACCCTACCAGGAGGCCGATAATCGTTGCGACAATCGTCGGCCACCCTGACAGGATCAAAACAAGA', 'ATGACATCAGGCGTCATCCTCCTCGCCAGATTGCTGTCTGTGCTGTTGCTGCTGCGGATTTTGTTGATCGTCTCGCGTCAGGTGCCAGCGCTGGGGATTACCGTTTTGCCATTGATCATGCAAACGATGTTCAACCTGCGTATT', 'ATGATCTTTATCTTCAGGCTTACCGGTATTGGCTGCGGCCATTCGGGCAGGTGCGACATCCCGCGCCAGCGGCGCGCCCTCTTTACGAACGCCTTCGCCCGCGATGGCTTTATTATCCCCAGGCAATGCCTTGATATTATCGTCAGAGATTCCCGTGGCGTTATCGGTTACTTCACTAACGGATTCCACAGCTTT', 'ATGTGTCGGCGTCGTGACTTGTCCAAAAACGCGGCTTACGCTTTTCAGTACATCGATTGCCGGGTAATGTCCCTGCCCGGCCAGCTTTCTGCTCAGATACAGGTGACCGTCAAGGATAGAGCGAATTTCATCCGCCATCGGGTCCGCCTCTTCCTCGCTTTCCAGCAGTACCGTATAAAAGGCAGTAATGCTTCCCTCGCTGGTCGCCCCTGGGCGTTCCAGCAAGCGGGGCAAATTATCGAATACGGAGGCGGGATAACCTCGACGAGCCGGACGCTCTCCCGACGCCAGTGCCACGTCTCGCAAAGCACGCGCATAACGGGTCATGGAATCGATAAAAAGCACGACCCGTTTTCCCTGGTCGCGAAAATATTCCGCTACGGTTGTCGCCAGTTGCGCCGCATTGCAGCGATCGACCGAGGGGAAATCGGAAGTGGCAAAAACCAGCACGCATTTTTCTTTCTTATGCGAAGCGCGCAACATATCCACGAATTCAGTGACCTCACGGCCTCGTTCACCGATAAGACCGATAACAAAGACATCCGCCTCCGTTTGCTCGATCAGCATATGCATCAGCATGGTCTTACCGCATCCTGCGGAGGCAAAAATGCCCATTCGCTGGCCTACGCCACAGGTCAA', 'ATGTCCCTGCCCGGCCAGCTTTCTGCTCAGATACAGGTGACCGTCAAGGATAGAGCGAATTTCATCCGCCATCGGGTCCGCCTCTTCCTCGCTTTCCAGCAGTACCGTATAAAAGGCAGTAATGCTTCCCTCGCTGGTCGCCCCTGGGCGTTCCAGCAAGCGGGGCAAATTATCGAATACGGAGGCGGGATAACCTCGACGAGCCGGACGCTCTCCCGACGCCAGTGCCACGTCTCGCAAAGCACGCGCATAACGGGTCATGGAATCGATAAAAAGCACGACCCGTTTTCCCTGGTCGCGAAAATATTCCGCTACGGTTGTCGCCAGTTGCGCCGCATTGCAGCGATCGACCGAGGGGAAATCGGAAGTGGCAAAAACCAGCACGCATTTTTCTTTCTTATGCGAAGCGCGCAACATATCCACGAATTCAGTGACCTCACGGCCTCGTTCACCGATAAGACCGATAACAAAGACATCCGCCTCCGTTTGCTCGATCAGCATATGCATCAGCATGGTCTTACCGCATCCTGCGGAGGCAAAAATGCCCATTCGCTGGCCTACGCCACAGGTCAA', 'ATGCGAAGCGCGCAACATATCCACGAATTCAGTGACCTCACGGCCTCGTTCACCGATAAGACCGATAACAAAGACATCCGCCTCCGTTTGCTCGATCAGCATATGCATCAGCATGGTCTTACCGCATCCTGCGGAGGCAAAAATGCCCATTCGCTGGCCTACGCCACAGGTCAA']\n",
            "\n",
            "\n",
            "NOW USING A FOR LOOP...\n",
            "The number of ORFs found of length 100 or more is 96\n",
            "The number of ORFs found of length 300 or more is 44\n",
            "The number of ORFs found of length 500 or more is 26\n",
            "The number of ORFs found of length 700 or more is 13\n",
            "The number of ORFs found of length 900 or more is 4\n",
            "The number of ORFs found of length 1100 or more is 0\n"
          ]
        }
      ]
    },
    {
      "cell_type": "markdown",
      "source": [
        "How many ORFs did you find of length...\n",
        "  * 100 or more: <font color = \"blue\">96 ORFs</font>\n",
        "  * 300 or more: <font color = \"blue\">44 ORFs</font>\n",
        "  * 500 or more: <font color = \"blue\">26 ORFs</font>\n",
        "  * 700 or more: <font color = \"blue\">13 ORFs</font>\n",
        "  * 900 or more: <font color = \"blue\">4 ORFs</font>\n",
        "  * 1100 or more: <font color = \"blue\">0 ORFs</font>\n"
      ],
      "metadata": {
        "id": "lhiAn8DAySbG"
      }
    },
    {
      "cell_type": "markdown",
      "source": [
        "### Option 2, Part 8: Discovery!\n",
        "\n",
        "Take a quick look at the code cell below. It has a list called `aminos` of the 20 amino acids (one symbol per amino) and the stop codon `|`. The second list, called `codons` is the list of all codons. This pair of lists serves as a codon translation table! The function `codonToAmino` takes a codon as input and uses these tables to return the corresponding amino acid (or stop codon symbol).\n",
        "Finally, the function `ORFToProtein` takes an ORF as input (such as an ORF found by your `geneFinder` function) and returns the sequence of amino acids (the protein) that correspond to it.\n",
        "\n",
        "Take a few minutes to look at how this works. It uses techniques that you know and love ♥."
      ],
      "metadata": {
        "id": "0_dHp7ab0rD6"
      }
    },
    {
      "cell_type": "code",
      "source": [
        "aminos = ['F','L','I','M','V','S','P','T','A','Y',\n",
        "      '|','H','Q','N','K','D','E','C','W','R',\n",
        "      'G']\n",
        "\n",
        "codons = [['TTT', 'TTC'],\n",
        "          ['TTA', 'TTG', 'CTT', 'CTC', 'CTA', 'CTG'],\n",
        "          ['ATT', 'ATC', 'ATA'],\n",
        "          ['ATG'],\n",
        "          ['GTT', 'GTC', 'GTA', 'GTG'],\n",
        "          ['TCT', 'TCC', 'TCA', 'TCG', 'AGT', 'AGC'],\n",
        "          ['CCT', 'CCC', 'CCA', 'CCG'],\n",
        "          ['ACT', 'ACC', 'ACA', 'ACG'],\n",
        "          ['GCT', 'GCC', 'GCA', 'GCG'],\n",
        "          ['TAT', 'TAC'],\n",
        "          ['TAA', 'TAG', 'TGA'],\n",
        "          ['CAT', 'CAC'],\n",
        "          ['CAA', 'CAG'],\n",
        "          ['AAT', 'AAC'],\n",
        "          ['AAA', 'AAG'],\n",
        "          ['GAT', 'GAC'],\n",
        "          ['GAA', 'GAG'],\n",
        "          ['TGT', 'TGC'],\n",
        "          ['TGG'],\n",
        "          ['CGT', 'CGC', 'CGA', 'CGG', 'AGA', 'AGG'],\n",
        "          ['GGT', 'GGC', 'GGA', 'GGG']]\n",
        "\n",
        "def codonToAmino(codon):\n",
        "  for i in range(len(codons)):\n",
        "    if codon in codons[i]:\n",
        "      return aminos[i]\n",
        "  return \"\"\n",
        "\n",
        "def ORFToProtein(ORF):\n",
        "  protein = \"\"\n",
        "  for i in range(0, len(ORF), 3):\n",
        "    codon = ORF[i:i+3]\n",
        "    if len(codon) < 3:\n",
        "      return protein\n",
        "    else:\n",
        "      protein = protein + codonToAmino(codon = codon)\n",
        "  return protein\n",
        "\n",
        "# Test it\n",
        "print(ORFToProtein(ORF = \"ATGCCCAAATAG\")) # We left the stop codon on here so that you can see the | when we translate"
      ],
      "metadata": {
        "id": "GPtLiwbo0tLE",
        "colab": {
          "base_uri": "https://localhost:8080/"
        },
        "outputId": "0afba7be-ad89-4a25-b9e1-f3b11431ff0c"
      },
      "execution_count": 59,
      "outputs": [
        {
          "output_type": "stream",
          "name": "stdout",
          "text": [
            "MPK|\n"
          ]
        }
      ]
    },
    {
      "cell_type": "markdown",
      "source": [
        "Now, we'll call your `geneFinder` on the _Salmonella typhimirium_ sequence `X73525` with a large threshold of 1000. That's quite long and likely to be a gene rather than a random ORF. (How did we choose 1000? There's more on that below if you're interested.)\n",
        "\n",
        "Run the code cell below to find all of the ORFs in the `X73525` sequence and convert them to protein sequences."
      ],
      "metadata": {
        "id": "qG3jP6hw03UR"
      }
    },
    {
      "cell_type": "code",
      "source": [
        "orfList = geneFinder(DNA = X73525, threshold = 1000)\n",
        "print(\"Found \", len(orfList), \"ORFs\")\n",
        "for orf in orfList:\n",
        "  print(ORFToProtein(ORF = orf))"
      ],
      "metadata": {
        "colab": {
          "base_uri": "https://localhost:8080/"
        },
        "id": "tE0t7_SB2fQt",
        "outputId": "2d537ff1-7006-4a2a-8212-93add0b39903"
      },
      "execution_count": 60,
      "outputs": [
        {
          "output_type": "stream",
          "name": "stdout",
          "text": [
            "Found  2 ORFs\n",
            "MSSNKTEKPTKKRLEDSAKKGQSFKSKDLIIACLTLGGIAYLVSYGSFNEFMGIIKIIIADNFDQSMADYSLAVFGIGLKYLIPFMLLCLVCSALPALLQAGFVLATEALKPNLSALNPVEGAKKLFSMRTVKDTVKTLLYLSSFVVAAIICWKKYKVEIFSQLNGNIVGIAVIWRELLLALVLTCLACALIVLLLDAIAEYFLTMKDMKMDKEEVKREMKEQEGNPEVKSKRREVHMEILSEQVKSDIENSRLIVANPTHITIGIYFKPELMPIPMISVYETNQRALAVRAYAEKVGVPVIVDIKLARSLFKTHRRYDLVSLEEIDEVLRLLVWLEEVENAGKDVIQPQENEVRH\n",
            "MGDVSAVSSSGNILLPQQDEVGGLSEALKKAVEKHKTEYSGDKKDRDYGDAFVMHKETALPLLLAAWRHGAPAKSEHHNGNVSGLHHNGKSELRIAEKLLKVTAEKSVGLISAEAKVDKSAALLSSKNRPLESVSGKKLSADLKAVESVSEVTDNATGISDDNIKALPGDNKAIAGEGVRKEGAPLARDVAPARMAAANTGKPEDKDHKKVKDVSQLPLQPTTIADLSQLTGGDEKMPLAAQSKPMMTIFPTADGVKGEDSSLTYRFQRWGNDYSVNIQARQAGEFSLIPSNTQVEHRLHDQWQNGNPQRWHLTRDDQQNPQQQQHRQQSGEEDDA\n"
          ]
        }
      ]
    },
    {
      "cell_type": "markdown",
      "source": [
        "Finally, we'll discover what these genes do.\n",
        "\n",
        "   1. First, open a browser window at go to the [BLAST](https://blast.ncbi.nlm.nih.gov/Blast.cgi?PROGRAM=blastp&PAGE_TYPE=BlastSearch&BLAST_SPEC=&LINK_LOC=blasttab&LAST_PAGE=blastp) database operated by the National Institutes of Health.\n",
        "   2. Next, copy the first protein sequence above into the big white box at the upper left of the BLAST page.\n",
        "   3. Go to the bottom of that page and click \"BLAST\".\n",
        "   4. This is a **HUGE** database, so it may take about 30 seconds for the database to respond.\n",
        "   5. When BLAST is done, it will take you to a new page. Scroll down to the section labeled \"Sequences producing significant alignments\". You'll see all of the similar genes that BLAST found. Just look at the first one. In the first column, it will tell you something about the gene and the species in which it was found.\n",
        "\n",
        "Try this for the second sequence as well. Then, you can use a web search to learn just a bit about what comes up in that description.\n",
        "\n",
        "<font color = \"blue\">Both results were matched to SPI-1 Type III secretion system proteins, which is Salmonella. Salmonella is a bacteria that causes food poisoning and is commonl found in uncooked chicken and eggs.   </font>"
      ],
      "metadata": {
        "id": "BMLsMekq4JWz"
      }
    },
    {
      "cell_type": "markdown",
      "source": [
        "### **Optional:** How did we choose 1000?\n",
        "\n",
        "This may be a great place to 🛑\n",
        "\n",
        "However, if you're keen to go even deeper, the next short bit explores the question:\n",
        "\"How do we decide what length is large enough for an ORF to be a candidate gene?\"\n",
        "\n",
        "To help answer that question, we'll use another _randomized experiment_! (We've gotten quite used to using randomization to make discoveries, compute _p_-values, etc.)\n",
        "\n",
        "Specifically, we'll scramble our DNA and find the longest ORF (on both strands) in that random scramble. By repeating this process a sufficiently large number of times (e.g., 100 times), we can get a sense of the longest ORF we would find in random sequences. We can then choose our threshold for gene finding to be \"somewhat longer\" than that threshold.\n",
        "\n",
        "To that end, the code provided below randomly scrambles a given DNA sequence. Try it out!"
      ],
      "metadata": {
        "id": "Pe6Y3ne18O4g"
      }
    },
    {
      "cell_type": "code",
      "source": [
        "import random\n",
        "\n",
        "# Takes a list of symbols as input and returns a string that is the concatenation of those symbols\n",
        "def collapse(L):\n",
        "   output = \"\"      # This is our initial output string\n",
        "   for s in L:      # for each string in the list...\n",
        "      output = output + s    #... construct a new output string\n",
        "   return output    # ... and return the final output string\n",
        "\n",
        "# Include a contract comment\n",
        "def scramble(DNA):\n",
        "  DNAlist = list(DNA)               # Expand the DNA string into a list\n",
        "  random.shuffle(DNAlist)           # Shuffle/scramble the bases in the list\n",
        "  backToString = collapse(L = DNAlist)  # Turn the list back into a string\n",
        "  return backToString\n",
        "\n",
        "# Test scramble multiple times!\n",
        "print(scramble(DNA = \"AAATTTCCCGGG\"))\n"
      ],
      "metadata": {
        "id": "7-WNz9V_8pvP"
      },
      "execution_count": null,
      "outputs": []
    },
    {
      "cell_type": "markdown",
      "source": [
        "First, you'll need a simple helper function, which we'll call `maxLength`, that takes a list of strings as input and returns the length of the longest string in that list."
      ],
      "metadata": {
        "id": "wpKRTPmB8q70"
      }
    },
    {
      "cell_type": "code",
      "source": [
        "def maxLength(myList):\n",
        "  maxL = 0\n",
        "  for string in myList:\n",
        "    if len(string) > maxL:\n",
        "      maxL = len(string)\n",
        "  return maxL\n",
        "\n",
        "print(maxLength(myList = [\"yum\", \"nutella\", \"alien\", \"sci10\"]))"
      ],
      "metadata": {
        "colab": {
          "base_uri": "https://localhost:8080/"
        },
        "id": "c7Q958AW83hS",
        "outputId": "ccbbdb54-9ce2-4749-8f29-aa3eb17b29f0"
      },
      "execution_count": null,
      "outputs": [
        {
          "output_type": "stream",
          "name": "stdout",
          "text": [
            "7\n"
          ]
        }
      ]
    },
    {
      "cell_type": "markdown",
      "source": [
        "Now, you'll write a function called `longestORFScramble` that takes as input a `DNA` string and a number of `trials`. This function performs `numTrials` iterations of this process:\n",
        "   * Keep track of the length of the longest ORF seen so far (it starts at 0)\n",
        "   * Scramble the DNA (using the provided `scramble` function)\n",
        "   * Get the list of ORFs on both strands of that DNA sequence (using `findORFsBothStrands`)\n",
        "   * Find the length of the longest ORF in that list (using the `maxLength`)\n",
        "   * If that length is longer than the length of the longest ORF seen so far, update the length of the longest ORF seen so far\n",
        "   * Return the length of the longest ORF seen over all of the trials"
      ],
      "metadata": {
        "id": "HTPN7Z6X8-ra"
      }
    },
    {
      "cell_type": "code",
      "source": [
        "# Contract here\n",
        "def longestORFScramble(DNA, numTrials):\n",
        "  # Your code here\n",
        "\n",
        "longestORFScramble(DNA = X73525, numTrials = 100)"
      ],
      "metadata": {
        "colab": {
          "base_uri": "https://localhost:8080/"
        },
        "id": "Zu6sUjPs9DBu",
        "outputId": "f7742cb4-7d9a-4552-ee0c-c0e43423af60"
      },
      "execution_count": null,
      "outputs": [
        {
          "output_type": "execute_result",
          "data": {
            "text/plain": [
              "732"
            ]
          },
          "metadata": {},
          "execution_count": 26
        }
      ]
    },
    {
      "cell_type": "markdown",
      "source": [
        "The number that you got tells us how long a longest random ORF might be. We chose a threshold of 1000 when we looked for genes above because it is \"somewhat larger\" than this number. This still begs the question of what \"somewhat longer\" should be, but we now have some intuition about how these randomization experiments can guide us in choosing threshold values."
      ],
      "metadata": {
        "id": "x8CXTpRq9K2T"
      }
    },
    {
      "cell_type": "markdown",
      "source": [
        "## Time to submit!\n",
        "\n",
        "Congratulations! We've come a long way in these first five homework assignments. You've now seen almost all of the Python features that we'll need for the rest of the semester. From now on, we'll be using these Python tools to gain deeper insights into biological phenomena."
      ],
      "metadata": {
        "id": "_0b5psV-Pn0x"
      }
    }
  ]
}