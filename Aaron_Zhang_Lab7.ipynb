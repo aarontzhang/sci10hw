{
  "nbformat": 4,
  "nbformat_minor": 0,
  "metadata": {
    "colab": {
      "provenance": []
    },
    "kernelspec": {
      "name": "python3",
      "display_name": "Python 3"
    },
    "language_info": {
      "name": "python"
    }
  },
  "cells": [
    {
      "cell_type": "markdown",
      "source": [
        "## Lab 7 Python Skills\n",
        "\n",
        "This notebook previews the new Python content this week which you'll explore further in your reading in the SCI 10 Computing Companion (Sections 5.4 and 5.5 and Chapter 8)."
      ],
      "metadata": {
        "id": "rLtFshGsDlYI"
      }
    },
    {
      "cell_type": "markdown",
      "source": [
        "### Indexing"
      ],
      "metadata": {
        "id": "ssNbQL9bEq6K"
      }
    },
    {
      "cell_type": "markdown",
      "source": [
        "In Homework 5 and in our reading, we've seen examples of problems where we need to loop over indices. A common example is the situation where we want to count the number of positions where two strings (of the same length) differ. For example, \"nut\" and \"rut\" differ in only one position but \"ciao\" and \"chow\" differ in three positions.\n",
        "\n",
        "\"Positions\" or \"locations\" are just another way of saying \"indices\". So, problems that use those words are an immediate signal that we need to iterate over indices. This is one place where we use `list(range(len(...)))` where the `...` is the string or list whose indices we need.\n",
        "\n",
        "As a reminder, here's a function called `differences` that takes two strings of the same length and returns the number of locations/positions/indices where they differ.\n",
        "\n",
        "Notice that this function uses the accumulator sandwich paradigm: We start with a `counter` equal to 0 which is where we will accumulate the count. That's the top bun. The bottom bun returns that `counter`. In between the top and bottom, we use a loop to accumulate our `counter` value."
      ],
      "metadata": {
        "id": "uAeOvcII9L9h"
      }
    },
    {
      "cell_type": "code",
      "source": [
        "# Takes two strings of the same length as input and returns\n",
        "# the total number of INDICES at which they differ.\n",
        "def differences(string1, string2):\n",
        "  counter = 0  # This is where we will keep count of the number INDICES at which the two strings differ\n",
        "  for index in range(len(string1)):       # We're assuming that the two strings have the same length\n",
        "    if string1[index] != string2[index]:  # Check if the two strings have different symbols at the current index\n",
        "      counter = counter + 1\n",
        "  return counter\n",
        "\n",
        "test1 = \"ciao\"\n",
        "test2 = \"chow\"\n",
        "\n",
        "result = differences(string1 = test1, string2 = test2)\n",
        "print(test1, \"and\", test2, \"differ at\", result, \"indices\")"
      ],
      "metadata": {
        "colab": {
          "base_uri": "https://localhost:8080/"
        },
        "id": "z5xBAaAa-0aw",
        "outputId": "33dca3c9-b9f8-4ed4-f90d-2ae96df8e212"
      },
      "execution_count": null,
      "outputs": [
        {
          "output_type": "stream",
          "name": "stdout",
          "text": [
            "ciao and chow differ at 3 indices\n"
          ]
        }
      ]
    },
    {
      "cell_type": "markdown",
      "source": [
        "**Part 1**\n",
        "\n",
        "In the code cell below, write a function called `match(string1, string2)` that takes two strings of equal length as input and returns a new string of the same length as those two strings. At every location where `string1` and `string2` match, the symbol in the new string is that symbol. But, at each position where they mismatch, the new string contains a `!` symbol. For example when `string1` is `\"nutella\"` and `string2` is `\"niteowl\"`, the returned string should be `\"n!te!!!\"`.\n",
        "\n",
        "Your function will use the accumulator sandwich paradigm again. But, this time we're accummulating an output string, so that string starts empty. Inside the loop, you'll accumulate symbols by adding the appropriate symbol to the end of that string. At the end, you'll return that string."
      ],
      "metadata": {
        "id": "apzUC-Q2_wLq"
      }
    },
    {
      "cell_type": "code",
      "source": [
        "# Takes two strings of the same length as input and returns a new string of that\n",
        "# same length that, at each position, contains the matching symbol where the two\n",
        "# input strings match and a ! whereever they don't match.\n",
        "def match(string1, string2):\n",
        "  outputString = \"\"\n",
        "  for index in range(len(string1)):\n",
        "    if string1[index] == string2[index]:\n",
        "      outputString += string1[index]\n",
        "    else:\n",
        "      outputString += \"!\"\n",
        "\n",
        "\n",
        "\n",
        "  return outputString\n",
        "\n",
        "test1 = \"nutella\"\n",
        "test2 = \"niteowl\"\n",
        "print(match(string1 = test1, string2 = test2))"
      ],
      "metadata": {
        "id": "mVDj3MGIBf-z",
        "colab": {
          "base_uri": "https://localhost:8080/"
        },
        "outputId": "b57a4c99-9726-4c0e-fef8-ef50b38d0baf"
      },
      "execution_count": null,
      "outputs": [
        {
          "output_type": "stream",
          "name": "stdout",
          "text": [
            "n!te!!!\n"
          ]
        }
      ]
    },
    {
      "cell_type": "markdown",
      "source": [
        "### `while` loops"
      ],
      "metadata": {
        "id": "Rb6Wgj1x_kPt"
      }
    },
    {
      "cell_type": "markdown",
      "source": [
        "We've seen that `for` loops are great when we want to repeat some process. The number of repetitions is given by the length of the string or list over which we are looping.\n",
        "\n",
        "For example, imagine that we want to simulate a random walk in which we start at the origin and, at each step we either go left, stay where we are, or go right. The following `randomWalk(numSteps)` function simulates this process `numSteps` times and **returns** the ending position at the end. Run it a few times!"
      ],
      "metadata": {
        "id": "NjdGadLKNrJE"
      }
    },
    {
      "cell_type": "code",
      "execution_count": null,
      "metadata": {
        "id": "vXHA7jaZDaUb",
        "colab": {
          "base_uri": "https://localhost:8080/"
        },
        "outputId": "bb4bd772-ca17-457c-f9c3-64efc0dbcb8d"
      },
      "outputs": [
        {
          "output_type": "stream",
          "name": "stdout",
          "text": [
            "Random walk of 100 steps ends at location -16\n"
          ]
        }
      ],
      "source": [
        "import random\n",
        "\n",
        "# Takes a number numSteps as input and simulates a random walk of numSteps steps,\n",
        "# returning the ending position.\n",
        "def randomWalk(numSteps):\n",
        "  position = 0\n",
        "  for iteration in list(range(numSteps)):\n",
        "    step = random.choice([-1, 0, 1])\n",
        "    position = position + step\n",
        "  return position\n",
        "\n",
        "endingLocation = randomWalk(numSteps = 100)\n",
        "print(\"Random walk of 100 steps ends at location\", endingLocation)\n"
      ]
    },
    {
      "cell_type": "markdown",
      "source": [
        "Now, imagine that we want to have a function called `randomWalk1(distance)` that takes a number `distance` as input and performs a random walk (again, starting at location 0), until the position is `distance` away from the starting point. That is, until the `position` is either `-distance` or `distance`. Said another away, until `abs(position)` is equal to `distance` (`abs` is the absolute value).\n",
        "\n",
        "Now, we don't know in advance how many times to loop. So, a `for` loop is useless here. Instead, we use a new kind of loop - a `while` loop. Here's the code. Take a close look at how it works and then run it several times to see the results."
      ],
      "metadata": {
        "id": "Vts3zKQePuZI"
      }
    },
    {
      "cell_type": "code",
      "source": [
        "import random\n",
        "\n",
        "# Takes a number distance as input and simulates a random walk until the\n",
        "# position is distance away from the starting location. Returns the number\n",
        "# of steps taken to reach that distance\n",
        "def randomWalk1(distance):\n",
        "  position = 0\n",
        "  steps = 0\n",
        "  while abs(position) < distance:\n",
        "    step = random.choice([-1, 0, 1])\n",
        "    position = position + step\n",
        "    steps = steps + 1\n",
        "  return steps\n",
        "\n",
        "numberSteps = randomWalk1(distance = 10)\n",
        "print(\"Random walk took this many steps to reach a distance of 10:\", numberSteps)"
      ],
      "metadata": {
        "colab": {
          "base_uri": "https://localhost:8080/"
        },
        "id": "Q1ltsdS2QbIg",
        "outputId": "d3c900bd-51bc-41b3-f734-735b1c500ee5"
      },
      "execution_count": null,
      "outputs": [
        {
          "output_type": "stream",
          "name": "stdout",
          "text": [
            "Random walk took this many steps to reach a distance of 10: 140\n"
          ]
        }
      ]
    },
    {
      "cell_type": "markdown",
      "source": [
        "In general, a while loop works like this...\n",
        "\n",
        "<pre>\n",
        "while TEST:\n",
        "  Blah\n",
        "  blah\n",
        "  blah\n",
        "</pre>\n",
        "\n",
        "The TEST is a **Boolean** expression - it's simply an expression that is either True or False. For example `abs(location) < distance` in the example above is a valid TEST since it's either True or False. (In general, comparing two things with `==` or `<`, `<=`, `!=`, etc. will be an expression that is True or False.)\n",
        "\n",
        "When Python sees the TEST, it evaluates it to determine if it is True or False. If it is False, the loop is done and the program continues to the next line after the body of the loop (the next line that is not indented under the `while` loop). But, if the TEST is True, Python follows the instructions indented within the `while` loop. Then, it comes back to the `while` loop and performs the TEST again."
      ],
      "metadata": {
        "id": "qmU3XrE1TE6W"
      }
    },
    {
      "cell_type": "markdown",
      "source": [
        "**Part 2**\n",
        "\n",
        "Here's another example. Read the docstring to see what this function should be doing and add the missing code where you see the `???`on line 8.\n",
        "\n",
        "Then, run the function multiple times to see what kind of output you get."
      ],
      "metadata": {
        "id": "yBf5dHwqsjGZ"
      }
    },
    {
      "cell_type": "code",
      "source": [
        "import random\n",
        "\n",
        "# Flips a fair until we get the first head \"H\" and\n",
        "# returns the number of flips until we got that first head\n",
        "def flipCoins():\n",
        "  flip = random.choice([\"H\", \"T\"])\n",
        "  counter = 1\n",
        "  while not flip == \"H\":\n",
        "    flip = random.choice([\"H\", \"T\"])\n",
        "    counter += 1 # This is shorthand for counter = counter + 1\n",
        "  return counter\n",
        "\n",
        "numFlips = flipCoins()\n",
        "print(\"The number of flips until the first head was\", numFlips)"
      ],
      "metadata": {
        "colab": {
          "base_uri": "https://localhost:8080/"
        },
        "id": "wZN8d17csjqu",
        "outputId": "08615bab-09f0-4fae-d155-23a88e93f897"
      },
      "execution_count": null,
      "outputs": [
        {
          "output_type": "stream",
          "name": "stdout",
          "text": [
            "The number of flips until the first head was 7\n"
          ]
        }
      ]
    },
    {
      "cell_type": "markdown",
      "source": [
        "**Part 3**\n",
        "\n",
        "This problem explores exponential growth again! Imagine that we start with a population of size `popSize` and that our growth rate is `r` (which we'll assume is greater than 0). Then, at each generation, our `popSize` is multiplied by `1+r`. Given a carrying capacity of `K`, we'd like to know how many generations it will take for the population to reach (or first exceed) the carrying capacity.\n",
        "\n",
        "Your task is to _use a while loop_ to write a function called `reach(popSize, r, K)` that takes an initial `popSize`, growth rate `r`, and carrying capacity `K`, and returns the number of generations until the population has reached or exceeded `K` as it grows exponentially with a growth rate of `r`.\n",
        "\n",
        "By the way, notice that this function can also be used to determine how long it will take for the balance in your bank account to reach a certain value (`K`) if it grows at a percentage rate of `r`. Recall that in the exponential growth model, the size of the next population is equal to the size of the current population + `r` times the size of the current population."
      ],
      "metadata": {
        "id": "3zij1Um6TW1x"
      }
    },
    {
      "cell_type": "code",
      "source": [
        "# Takes an initial popSize, exponential growth rate r, and carrying capacity K\n",
        "# and returns the number of generations that are required for the population\n",
        "# to first reach or exceed K.\n",
        "def reach(popSize, r, K):\n",
        "  gens = 0\n",
        "  while popSize < K:\n",
        "    popSize = popSize * (1 + r)\n",
        "    gens +=1\n",
        "  return gens\n",
        "\n",
        "\n",
        "# One bacterium on a plate; growth rate 0.5, how many divisions to reach 1000 bacteria?\n",
        "# You should get 18 for this.\n",
        "test1 = reach(popSize = 1, r = 0.5, K = 1000) #\n",
        "print(test1)"
      ],
      "metadata": {
        "id": "zLdwdHzmTc_Y",
        "colab": {
          "base_uri": "https://localhost:8080/"
        },
        "outputId": "3a706bcc-291e-4a35-c68b-bcc409e95647"
      },
      "execution_count": null,
      "outputs": [
        {
          "output_type": "stream",
          "name": "stdout",
          "text": [
            "18\n"
          ]
        }
      ]
    },
    {
      "cell_type": "markdown",
      "source": [
        "**Part 4**\n",
        "\n",
        "Imagine that you open a bank account with an initial balance of $\\$100$. The annual interest rate is 5%, compounded annually. Use your `reach` function above to determine how many years it will take for the bank account to first reach or exceed $\\$200$. Add a code cell below to make a call to the `reach` function to determine this value and a `print` statement that prints that value."
      ],
      "metadata": {
        "id": "xNN5aVZFUC9u"
      }
    },
    {
      "cell_type": "code",
      "source": [
        "print (reach(popSize = 100, r = 0.05, K = 200))"
      ],
      "metadata": {
        "colab": {
          "base_uri": "https://localhost:8080/"
        },
        "id": "cRJ0o4yqyDN8",
        "outputId": "b472f5f8-68ed-46b0-bb8d-8ca13b4364b2"
      },
      "execution_count": null,
      "outputs": [
        {
          "output_type": "stream",
          "name": "stdout",
          "text": [
            "15\n"
          ]
        }
      ]
    },
    {
      "cell_type": "markdown",
      "source": [
        "### Nested for loops\n",
        "\n",
        "Finally, let's take a sneak peak at the topic of nested for loops. But, first, take a look at the function below. Read it and pause to predict what it will print. Then run it to confirm your prediction."
      ],
      "metadata": {
        "id": "ZWXQIEQpC0rl"
      }
    },
    {
      "cell_type": "code",
      "source": [
        "def combos(flavors, toppings):\n",
        "  for flavor in flavors:\n",
        "    print(\"Flavor is\", flavor)\n",
        "  for toppings in toppings:\n",
        "    print(\"Topping is\", toppings)\n",
        "\n",
        "test1 = [\"chocolate\", \"vanilla\"]\n",
        "test2 = [\"peanuts\", \"raisins\", \"sprinkles\"]\n",
        "combos(flavors = test1, toppings = test2)"
      ],
      "metadata": {
        "id": "wJaOBE2nD4Pb",
        "colab": {
          "base_uri": "https://localhost:8080/"
        },
        "outputId": "9910463b-80db-41cf-a8cb-b7bd682f3bab"
      },
      "execution_count": null,
      "outputs": [
        {
          "output_type": "stream",
          "name": "stdout",
          "text": [
            "Flavor is chocolate\n",
            "Flavor is vanilla\n",
            "Topping is peanuts\n",
            "Topping is raisins\n",
            "Topping is sprinkles\n"
          ]
        }
      ]
    },
    {
      "cell_type": "markdown",
      "source": [
        "Now, take a look at this _very similar_ function. Read it, try to predict what it does, and then run it to check."
      ],
      "metadata": {
        "id": "SEKA9gbKEjI4"
      }
    },
    {
      "cell_type": "code",
      "source": [
        "def combos1(flavors, toppings):\n",
        "  for flavor in flavors:\n",
        "    print(\"Flavor is\", flavor)\n",
        "    for topping in toppings:\n",
        "      print(\" Topping is\", topping)\n",
        "\n",
        "test1 = [\"chocolate\", \"vanilla\"]\n",
        "test2 = [\"peanuts\", \"raisins\", \"sprinkles\"]\n",
        "combos1(flavors = test1, toppings = test2)"
      ],
      "metadata": {
        "id": "zDEmFWJgEtsa",
        "colab": {
          "base_uri": "https://localhost:8080/"
        },
        "outputId": "26148f48-0a5d-4884-c01f-8d279064dbb8"
      },
      "execution_count": null,
      "outputs": [
        {
          "output_type": "stream",
          "name": "stdout",
          "text": [
            "Flavor is chocolate\n",
            " Topping is peanuts\n",
            " Topping is raisins\n",
            " Topping is sprinkles\n",
            "Flavor is vanilla\n",
            " Topping is peanuts\n",
            " Topping is raisins\n",
            " Topping is sprinkles\n"
          ]
        }
      ]
    },
    {
      "cell_type": "markdown",
      "source": [
        "What's going on here!? Notice that in `combos1`, lines 3, 4, and 5 are all inside the indented block that is \"owned\" by the for loop on line 2.\n",
        "\n",
        "Therefore, for each flavor, **all** of the code in the indented block of lines 3, 4, and 5. The first time through the loop in line 2, the `flavor` box holds `\"chocolate\"`.\n",
        "\n",
        "Now, we enter the indented block. On line 3 we print `\"chocolate\"`. Now, the loop in line 4 needs to do its thing. It goes through each of three toppings and prints them out. When it's completely done, the indented block at lines 3, 4, and 5 is complete. Now, we come back to line 2 and continue where we left off - namely, we now put `\"vanilla\"` into the flavor box. At that point, we enter the indented block again and do all of that stuff over again!"
      ],
      "metadata": {
        "id": "k7vUSW1aE6sF"
      }
    },
    {
      "cell_type": "markdown",
      "source": [
        "**Part 5**\n",
        "\n",
        "You've been hired by **42 Choices** (which claims to be twice as good as its competitor). They want to have a function called `combos2` which is like the `combos1` function above but with two additional features:\n",
        "   * It prints the combination of flavor and topping on the same line together witht the word `\"with\"` between them\n",
        "   * If the flavor and topping are the same, then it's not printed.\n",
        "\n",
        "For example...\n",
        "<pre>\n",
        "test1 = [\"chocolate\", \"vanilla\"]\n",
        "test2 = [\"peanuts\", \"raisins\", \"sprinkles\"]\n",
        "combos2(flavors = test1, toppings = test2)\n",
        "</pre>\n",
        "... should print\n",
        "<pre>\n",
        "chocolate with peanuts\n",
        "chocolate with raisins\n",
        "chocolate with sprinkles\n",
        "vanilla with peanuts\n",
        "vanilla with raisins\n",
        "vanilla with sprinkles\n",
        "</pre>\n",
        "\n",
        "In the code cell below...\n",
        "   * Write the contract for this function\n",
        "   * Write the code"
      ],
      "metadata": {
        "id": "ijyCXj1hGZoT"
      }
    },
    {
      "cell_type": "code",
      "source": [
        "# Write the contract here\n",
        "def combos2(flavors, toppings):\n",
        "  # Write your code here\n",
        "  for i in flavors:\n",
        "    for x in toppings:\n",
        "      if i == x:\n",
        "        print (\"\")\n",
        "      else:\n",
        "        print (i + \" with \" + x)\n",
        "\n",
        "\n",
        "test1 = [\"chocolate\", \"vanilla\"]\n",
        "test2 = [\"peanuts\", \"raisins\", \"sprinkles\"]\n",
        "\n",
        "# student tests\n",
        "test3 = [\"chocolate\", \"vanilla\"]\n",
        "test4 = [\"raisins\", \"chocolate\"]\n",
        "combos2(flavors = test1, toppings = test2)\n",
        "\n",
        "combos2(flavors = test3, toppings = test4)"
      ],
      "metadata": {
        "id": "HQlYUoOnIog1",
        "colab": {
          "base_uri": "https://localhost:8080/"
        },
        "outputId": "f2a1f3dd-8954-4253-835d-d196bb8f3cfd"
      },
      "execution_count": 41,
      "outputs": [
        {
          "output_type": "stream",
          "name": "stdout",
          "text": [
            "chocolate with peanuts\n",
            "chocolate with raisins\n",
            "chocolate with sprinkles\n",
            "vanilla with peanuts\n",
            "vanilla with raisins\n",
            "vanilla with sprinkles\n",
            "chocolate with raisins\n",
            "\n",
            "vanilla with raisins\n",
            "vanilla with chocolate\n"
          ]
        }
      ]
    },
    {
      "cell_type": "markdown",
      "source": [
        "## That's it for this notebook!\n",
        "\n",
        "Please submit this Lab7 notebook on Canvas."
      ],
      "metadata": {
        "id": "1ZsQP-AtL4Ea"
      }
    }
  ]
}